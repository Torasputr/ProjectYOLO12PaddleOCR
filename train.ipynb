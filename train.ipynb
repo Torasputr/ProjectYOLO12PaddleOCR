{
 "cells": [
  {
   "cell_type": "markdown",
   "id": "85e644be",
   "metadata": {},
   "source": [
    "**INITIALIZE LIBRARY**"
   ]
  },
  {
   "cell_type": "code",
   "execution_count": 1,
   "id": "f69711b3",
   "metadata": {},
   "outputs": [
    {
     "name": "stderr",
     "output_type": "stream",
     "text": [
      "c:\\Users\\USER\\anaconda3\\envs\\anpr\\lib\\site-packages\\paddle\\utils\\cpp_extension\\extension_utils.py:711: UserWarning: No ccache found. Please be aware that recompiling all source files may be required. You can download and install ccache from: https://github.com/ccache/ccache/blob/master/doc/INSTALL.md\n",
      "  warnings.warn(warning_message)\n"
     ]
    }
   ],
   "source": [
    "from ultralytics import YOLO\n",
    "import cv2\n",
    "from collections import deque, Counter\n",
    "import re\n",
    "from paddleocr import PaddleOCR"
   ]
  },
  {
   "cell_type": "markdown",
   "id": "e92c1782",
   "metadata": {},
   "source": [
    "**DOWNLOAD WEIGHT**"
   ]
  },
  {
   "cell_type": "code",
   "execution_count": 2,
   "id": "0299c2ce",
   "metadata": {},
   "outputs": [],
   "source": [
    "model = YOLO(\"./yolo12n.pt\")"
   ]
  },
  {
   "cell_type": "markdown",
   "id": "09f2a49a",
   "metadata": {},
   "source": [
    "**TRAIN MODEL**"
   ]
  },
  {
   "cell_type": "code",
   "execution_count": null,
   "id": "6c6ddae0",
   "metadata": {},
   "outputs": [
    {
     "name": "stdout",
     "output_type": "stream",
     "text": [
      "New https://pypi.org/project/ultralytics/8.3.114 available  Update with 'pip install -U ultralytics'\n",
      "Ultralytics 8.3.107  Python-3.9.21 torch-2.8.0.dev20250410+cu128 CUDA:0 (NVIDIA GeForce RTX 5070, 12227MiB)\n",
      "\u001b[34m\u001b[1mengine\\trainer: \u001b[0mtask=detect, mode=train, model=./yolo12n.pt, data=./dataset/data.yaml, epochs=100, time=None, patience=30, batch=16, imgsz=640, save=True, save_period=-1, cache=False, device=0, workers=8, project=None, name=yolo-anpr5, exist_ok=False, pretrained=True, optimizer=AdamW, verbose=True, seed=0, deterministic=True, single_cls=False, rect=False, cos_lr=True, close_mosaic=10, resume=False, amp=True, fraction=1.0, profile=False, freeze=None, multi_scale=False, overlap_mask=True, mask_ratio=4, dropout=0.0, val=True, split=val, save_json=False, conf=None, iou=0.7, max_det=300, half=False, dnn=False, plots=True, source=None, vid_stride=1, stream_buffer=False, visualize=False, augment=False, agnostic_nms=False, classes=None, retina_masks=False, embed=None, show=False, save_frames=False, save_txt=False, save_conf=False, save_crop=False, show_labels=True, show_conf=True, show_boxes=True, line_width=None, format=torchscript, keras=False, optimize=False, int8=False, dynamic=False, simplify=True, opset=None, workspace=None, nms=False, lr0=0.001, lrf=0.01, momentum=0.937, weight_decay=0.0005, warmup_epochs=3.0, warmup_momentum=0.8, warmup_bias_lr=0.1, box=7.5, cls=0.5, dfl=1.5, pose=12.0, kobj=1.0, nbs=64, hsv_h=0.015, hsv_s=0.7, hsv_v=0.4, degrees=0.0, translate=0.1, scale=0.5, shear=0.0, perspective=0.0, flipud=0.0, fliplr=0.3, bgr=0.0, mosaic=0.5, mixup=0.0, copy_paste=0.0, copy_paste_mode=flip, auto_augment=randaugment, erasing=0.4, crop_fraction=1.0, cfg=None, tracker=botsort.yaml, save_dir=runs\\detect\\yolo-anpr5\n",
      "Overriding model.yaml nc=80 with nc=1\n",
      "\n",
      "                   from  n    params  module                                       arguments                     \n",
      "  0                  -1  1       464  ultralytics.nn.modules.conv.Conv             [3, 16, 3, 2]                 \n",
      "  1                  -1  1      4672  ultralytics.nn.modules.conv.Conv             [16, 32, 3, 2]                \n",
      "  2                  -1  1      6640  ultralytics.nn.modules.block.C3k2            [32, 64, 1, False, 0.25]      \n",
      "  3                  -1  1     36992  ultralytics.nn.modules.conv.Conv             [64, 64, 3, 2]                \n",
      "  4                  -1  1     26080  ultralytics.nn.modules.block.C3k2            [64, 128, 1, False, 0.25]     \n",
      "  5                  -1  1    147712  ultralytics.nn.modules.conv.Conv             [128, 128, 3, 2]              \n",
      "  6                  -1  2    180864  ultralytics.nn.modules.block.A2C2f           [128, 128, 2, True, 4]        \n",
      "  7                  -1  1    295424  ultralytics.nn.modules.conv.Conv             [128, 256, 3, 2]              \n",
      "  8                  -1  2    689408  ultralytics.nn.modules.block.A2C2f           [256, 256, 2, True, 1]        \n",
      "  9                  -1  1         0  torch.nn.modules.upsampling.Upsample         [None, 2, 'nearest']          \n",
      " 10             [-1, 6]  1         0  ultralytics.nn.modules.conv.Concat           [1]                           \n",
      " 11                  -1  1     86912  ultralytics.nn.modules.block.A2C2f           [384, 128, 1, False, -1]      \n",
      " 12                  -1  1         0  torch.nn.modules.upsampling.Upsample         [None, 2, 'nearest']          \n",
      " 13             [-1, 4]  1         0  ultralytics.nn.modules.conv.Concat           [1]                           \n",
      " 14                  -1  1     24000  ultralytics.nn.modules.block.A2C2f           [256, 64, 1, False, -1]       \n",
      " 15                  -1  1     36992  ultralytics.nn.modules.conv.Conv             [64, 64, 3, 2]                \n",
      " 16            [-1, 11]  1         0  ultralytics.nn.modules.conv.Concat           [1]                           \n",
      " 17                  -1  1     74624  ultralytics.nn.modules.block.A2C2f           [192, 128, 1, False, -1]      \n",
      " 18                  -1  1    147712  ultralytics.nn.modules.conv.Conv             [128, 128, 3, 2]              \n",
      " 19             [-1, 8]  1         0  ultralytics.nn.modules.conv.Concat           [1]                           \n",
      " 20                  -1  1    378880  ultralytics.nn.modules.block.C3k2            [384, 256, 1, True]           \n",
      " 21        [14, 17, 20]  1    430867  ultralytics.nn.modules.head.Detect           [1, [64, 128, 256]]           \n",
      "YOLOv12n summary: 272 layers, 2,568,243 parameters, 2,568,227 gradients, 6.5 GFLOPs\n",
      "\n",
      "Transferred 640/691 items from pretrained weights\n",
      "\u001b[34m\u001b[1mTensorBoard: \u001b[0mStart with 'tensorboard --logdir runs\\detect\\yolo-anpr5', view at http://localhost:6006/\n",
      "Freezing layer 'model.21.dfl.conv.weight'\n",
      "\u001b[34m\u001b[1mAMP: \u001b[0mrunning Automatic Mixed Precision (AMP) checks...\n",
      "\u001b[34m\u001b[1mAMP: \u001b[0mchecks passed \n"
     ]
    },
    {
     "name": "stderr",
     "output_type": "stream",
     "text": [
      "\u001b[34m\u001b[1mtrain: \u001b[0mScanning C:\\suniB\\S2\\Semester8\\DeepLearning\\Project\\TrainingYOLO12PaddleOCR\\dataset\\train\\labels... 471 images, 0 backgrounds, 0 corrupt: 100%|██████████| 471/471 [00:00<00:00, 927.47it/s]"
     ]
    },
    {
     "name": "stdout",
     "output_type": "stream",
     "text": [
      "\u001b[34m\u001b[1mtrain: \u001b[0mNew cache created: C:\\suniB\\S2\\Semester8\\DeepLearning\\Project\\TrainingYOLO12PaddleOCR\\dataset\\train\\labels.cache\n"
     ]
    },
    {
     "name": "stderr",
     "output_type": "stream",
     "text": [
      "\n"
     ]
    },
    {
     "name": "stdout",
     "output_type": "stream",
     "text": [
      "\u001b[34m\u001b[1malbumentations: \u001b[0mBlur(p=0.01, blur_limit=(3, 7)), MedianBlur(p=0.01, blur_limit=(3, 7)), ToGray(p=0.01, num_output_channels=3, method='weighted_average'), CLAHE(p=0.01, clip_limit=(1.0, 4.0), tile_grid_size=(8, 8))\n"
     ]
    },
    {
     "name": "stderr",
     "output_type": "stream",
     "text": [
      "\u001b[34m\u001b[1mval: \u001b[0mScanning C:\\suniB\\S2\\Semester8\\DeepLearning\\Project\\TrainingYOLO12PaddleOCR\\dataset\\valid\\labels... 131 images, 0 backgrounds, 0 corrupt: 100%|██████████| 131/131 [00:00<00:00, 572.22it/s]"
     ]
    },
    {
     "name": "stdout",
     "output_type": "stream",
     "text": [
      "\u001b[34m\u001b[1mval: \u001b[0mNew cache created: C:\\suniB\\S2\\Semester8\\DeepLearning\\Project\\TrainingYOLO12PaddleOCR\\dataset\\valid\\labels.cache\n"
     ]
    },
    {
     "name": "stderr",
     "output_type": "stream",
     "text": [
      "\n"
     ]
    },
    {
     "name": "stdout",
     "output_type": "stream",
     "text": [
      "Plotting labels to runs\\detect\\yolo-anpr5\\labels.jpg... \n",
      "\u001b[34m\u001b[1moptimizer:\u001b[0m AdamW(lr=0.001, momentum=0.937) with parameter groups 113 weight(decay=0.0), 120 weight(decay=0.0005), 119 bias(decay=0.0)\n",
      "\u001b[34m\u001b[1mTensorBoard: \u001b[0mmodel graph visualization added \n",
      "Image sizes 640 train, 640 val\n",
      "Using 8 dataloader workers\n",
      "Logging results to \u001b[1mruns\\detect\\yolo-anpr5\u001b[0m\n",
      "Starting training for 100 epochs...\n",
      "\n",
      "      Epoch    GPU_mem   box_loss   cls_loss   dfl_loss  Instances       Size\n"
     ]
    },
    {
     "name": "stderr",
     "output_type": "stream",
     "text": [
      "      1/100      3.43G     0.9885      2.098      1.409         17        640: 100%|██████████| 30/30 [00:06<00:00,  4.80it/s]\n",
      "                 Class     Images  Instances      Box(P          R      mAP50  mAP50-95): 100%|██████████| 5/5 [00:00<00:00,  5.70it/s]"
     ]
    },
    {
     "name": "stdout",
     "output_type": "stream",
     "text": [
      "                   all        131        153    0.00415      0.451      0.192      0.139\n"
     ]
    },
    {
     "name": "stderr",
     "output_type": "stream",
     "text": [
      "\n"
     ]
    },
    {
     "name": "stdout",
     "output_type": "stream",
     "text": [
      "\n",
      "      Epoch    GPU_mem   box_loss   cls_loss   dfl_loss  Instances       Size\n"
     ]
    },
    {
     "name": "stderr",
     "output_type": "stream",
     "text": [
      "      2/100       3.7G     0.8559     0.9901      1.286         13        640: 100%|██████████| 30/30 [00:04<00:00,  6.30it/s]\n",
      "                 Class     Images  Instances      Box(P          R      mAP50  mAP50-95): 100%|██████████| 5/5 [00:00<00:00,  6.77it/s]"
     ]
    },
    {
     "name": "stdout",
     "output_type": "stream",
     "text": [
      "                   all        131        153      0.959      0.154      0.548      0.329\n"
     ]
    },
    {
     "name": "stderr",
     "output_type": "stream",
     "text": [
      "\n"
     ]
    },
    {
     "name": "stdout",
     "output_type": "stream",
     "text": [
      "\n",
      "      Epoch    GPU_mem   box_loss   cls_loss   dfl_loss  Instances       Size\n"
     ]
    },
    {
     "name": "stderr",
     "output_type": "stream",
     "text": [
      "      3/100      3.72G     0.9049     0.9304       1.33         13        640: 100%|██████████| 30/30 [00:04<00:00,  6.45it/s]\n",
      "                 Class     Images  Instances      Box(P          R      mAP50  mAP50-95): 100%|██████████| 5/5 [00:00<00:00,  7.08it/s]"
     ]
    },
    {
     "name": "stdout",
     "output_type": "stream",
     "text": [
      "                   all        131        153      0.728      0.392        0.5      0.325\n"
     ]
    },
    {
     "name": "stderr",
     "output_type": "stream",
     "text": [
      "\n"
     ]
    },
    {
     "name": "stdout",
     "output_type": "stream",
     "text": [
      "\n",
      "      Epoch    GPU_mem   box_loss   cls_loss   dfl_loss  Instances       Size\n"
     ]
    },
    {
     "name": "stderr",
     "output_type": "stream",
     "text": [
      "      4/100      3.73G     0.8437     0.8605      1.289         15        640: 100%|██████████| 30/30 [00:04<00:00,  6.56it/s]\n",
      "                 Class     Images  Instances      Box(P          R      mAP50  mAP50-95): 100%|██████████| 5/5 [00:00<00:00,  6.96it/s]"
     ]
    },
    {
     "name": "stdout",
     "output_type": "stream",
     "text": [
      "                   all        131        153      0.663      0.569      0.569      0.387\n"
     ]
    },
    {
     "name": "stderr",
     "output_type": "stream",
     "text": [
      "\n"
     ]
    },
    {
     "name": "stdout",
     "output_type": "stream",
     "text": [
      "\n",
      "      Epoch    GPU_mem   box_loss   cls_loss   dfl_loss  Instances       Size\n"
     ]
    },
    {
     "name": "stderr",
     "output_type": "stream",
     "text": [
      "      5/100      3.73G     0.8425     0.7773       1.28         11        640: 100%|██████████| 30/30 [00:04<00:00,  7.25it/s]\n",
      "                 Class     Images  Instances      Box(P          R      mAP50  mAP50-95): 100%|██████████| 5/5 [00:00<00:00,  7.65it/s]"
     ]
    },
    {
     "name": "stdout",
     "output_type": "stream",
     "text": [
      "                   all        131        153      0.741      0.673      0.723      0.486\n"
     ]
    },
    {
     "name": "stderr",
     "output_type": "stream",
     "text": [
      "\n"
     ]
    },
    {
     "name": "stdout",
     "output_type": "stream",
     "text": [
      "\n",
      "      Epoch    GPU_mem   box_loss   cls_loss   dfl_loss  Instances       Size\n"
     ]
    },
    {
     "name": "stderr",
     "output_type": "stream",
     "text": [
      "      6/100      3.73G     0.8445     0.7997      1.263         14        640: 100%|██████████| 30/30 [00:04<00:00,  7.43it/s]\n",
      "                 Class     Images  Instances      Box(P          R      mAP50  mAP50-95): 100%|██████████| 5/5 [00:00<00:00,  7.30it/s]"
     ]
    },
    {
     "name": "stdout",
     "output_type": "stream",
     "text": [
      "                   all        131        153      0.809      0.739      0.813      0.579\n"
     ]
    },
    {
     "name": "stderr",
     "output_type": "stream",
     "text": [
      "\n"
     ]
    },
    {
     "name": "stdout",
     "output_type": "stream",
     "text": [
      "\n",
      "      Epoch    GPU_mem   box_loss   cls_loss   dfl_loss  Instances       Size\n"
     ]
    },
    {
     "name": "stderr",
     "output_type": "stream",
     "text": [
      "      7/100      3.73G     0.8041     0.7291      1.234         18        640: 100%|██████████| 30/30 [00:04<00:00,  6.69it/s]\n",
      "                 Class     Images  Instances      Box(P          R      mAP50  mAP50-95): 100%|██████████| 5/5 [00:00<00:00,  7.76it/s]"
     ]
    },
    {
     "name": "stdout",
     "output_type": "stream",
     "text": [
      "                   all        131        153      0.704      0.732      0.798       0.54\n"
     ]
    },
    {
     "name": "stderr",
     "output_type": "stream",
     "text": [
      "\n"
     ]
    },
    {
     "name": "stdout",
     "output_type": "stream",
     "text": [
      "\n",
      "      Epoch    GPU_mem   box_loss   cls_loss   dfl_loss  Instances       Size\n"
     ]
    },
    {
     "name": "stderr",
     "output_type": "stream",
     "text": [
      "      8/100      3.73G     0.7903      0.713       1.25         11        640: 100%|██████████| 30/30 [00:04<00:00,  6.94it/s]\n",
      "                 Class     Images  Instances      Box(P          R      mAP50  mAP50-95): 100%|██████████| 5/5 [00:00<00:00,  7.58it/s]"
     ]
    },
    {
     "name": "stdout",
     "output_type": "stream",
     "text": [
      "                   all        131        153       0.71      0.739      0.782      0.504\n"
     ]
    },
    {
     "name": "stderr",
     "output_type": "stream",
     "text": [
      "\n"
     ]
    },
    {
     "name": "stdout",
     "output_type": "stream",
     "text": [
      "\n",
      "      Epoch    GPU_mem   box_loss   cls_loss   dfl_loss  Instances       Size\n"
     ]
    },
    {
     "name": "stderr",
     "output_type": "stream",
     "text": [
      "      9/100      3.73G     0.8551     0.7404       1.27         17        640: 100%|██████████| 30/30 [00:04<00:00,  7.05it/s]\n",
      "                 Class     Images  Instances      Box(P          R      mAP50  mAP50-95): 100%|██████████| 5/5 [00:00<00:00,  7.34it/s]"
     ]
    },
    {
     "name": "stdout",
     "output_type": "stream",
     "text": [
      "                   all        131        153      0.813      0.825      0.886      0.598\n"
     ]
    },
    {
     "name": "stderr",
     "output_type": "stream",
     "text": [
      "\n"
     ]
    },
    {
     "name": "stdout",
     "output_type": "stream",
     "text": [
      "\n",
      "      Epoch    GPU_mem   box_loss   cls_loss   dfl_loss  Instances       Size\n"
     ]
    },
    {
     "name": "stderr",
     "output_type": "stream",
     "text": [
      "     10/100      3.73G     0.7686     0.6786      1.231         10        640: 100%|██████████| 30/30 [00:04<00:00,  7.05it/s]\n",
      "                 Class     Images  Instances      Box(P          R      mAP50  mAP50-95): 100%|██████████| 5/5 [00:00<00:00,  7.24it/s]"
     ]
    },
    {
     "name": "stdout",
     "output_type": "stream",
     "text": [
      "                   all        131        153      0.839      0.715      0.825      0.576\n"
     ]
    },
    {
     "name": "stderr",
     "output_type": "stream",
     "text": [
      "\n"
     ]
    },
    {
     "name": "stdout",
     "output_type": "stream",
     "text": [
      "\n",
      "      Epoch    GPU_mem   box_loss   cls_loss   dfl_loss  Instances       Size\n"
     ]
    },
    {
     "name": "stderr",
     "output_type": "stream",
     "text": [
      "     11/100      3.73G     0.7549     0.6616      1.214         15        640: 100%|██████████| 30/30 [00:04<00:00,  7.05it/s]\n",
      "                 Class     Images  Instances      Box(P          R      mAP50  mAP50-95): 100%|██████████| 5/5 [00:00<00:00,  7.89it/s]"
     ]
    },
    {
     "name": "stdout",
     "output_type": "stream",
     "text": [
      "                   all        131        153       0.88      0.863      0.886      0.641\n"
     ]
    },
    {
     "name": "stderr",
     "output_type": "stream",
     "text": [
      "\n"
     ]
    },
    {
     "name": "stdout",
     "output_type": "stream",
     "text": [
      "\n",
      "      Epoch    GPU_mem   box_loss   cls_loss   dfl_loss  Instances       Size\n"
     ]
    },
    {
     "name": "stderr",
     "output_type": "stream",
     "text": [
      "     12/100      3.73G     0.7664      0.675      1.241         12        640: 100%|██████████| 30/30 [00:04<00:00,  7.09it/s]\n",
      "                 Class     Images  Instances      Box(P          R      mAP50  mAP50-95): 100%|██████████| 5/5 [00:00<00:00,  7.65it/s]"
     ]
    },
    {
     "name": "stdout",
     "output_type": "stream",
     "text": [
      "                   all        131        153      0.891      0.853      0.914       0.63\n"
     ]
    },
    {
     "name": "stderr",
     "output_type": "stream",
     "text": [
      "\n"
     ]
    },
    {
     "name": "stdout",
     "output_type": "stream",
     "text": [
      "\n",
      "      Epoch    GPU_mem   box_loss   cls_loss   dfl_loss  Instances       Size\n"
     ]
    },
    {
     "name": "stderr",
     "output_type": "stream",
     "text": [
      "     13/100      3.73G     0.7507     0.6359      1.193         14        640: 100%|██████████| 30/30 [00:04<00:00,  7.33it/s]\n",
      "                 Class     Images  Instances      Box(P          R      mAP50  mAP50-95): 100%|██████████| 5/5 [00:00<00:00,  7.79it/s]"
     ]
    },
    {
     "name": "stdout",
     "output_type": "stream",
     "text": [
      "                   all        131        153      0.846      0.869      0.893      0.673\n"
     ]
    },
    {
     "name": "stderr",
     "output_type": "stream",
     "text": [
      "\n"
     ]
    },
    {
     "name": "stdout",
     "output_type": "stream",
     "text": [
      "\n",
      "      Epoch    GPU_mem   box_loss   cls_loss   dfl_loss  Instances       Size\n"
     ]
    },
    {
     "name": "stderr",
     "output_type": "stream",
     "text": [
      "     14/100      3.73G      0.723     0.6127      1.208         14        640: 100%|██████████| 30/30 [00:04<00:00,  7.34it/s]\n",
      "                 Class     Images  Instances      Box(P          R      mAP50  mAP50-95): 100%|██████████| 5/5 [00:00<00:00,  7.65it/s]"
     ]
    },
    {
     "name": "stdout",
     "output_type": "stream",
     "text": [
      "                   all        131        153      0.859      0.915      0.909      0.643\n"
     ]
    },
    {
     "name": "stderr",
     "output_type": "stream",
     "text": [
      "\n"
     ]
    },
    {
     "name": "stdout",
     "output_type": "stream",
     "text": [
      "\n",
      "      Epoch    GPU_mem   box_loss   cls_loss   dfl_loss  Instances       Size\n"
     ]
    },
    {
     "name": "stderr",
     "output_type": "stream",
     "text": [
      "     15/100      3.73G      0.739     0.5908      1.197         20        640: 100%|██████████| 30/30 [00:04<00:00,  7.14it/s]\n",
      "                 Class     Images  Instances      Box(P          R      mAP50  mAP50-95): 100%|██████████| 5/5 [00:00<00:00,  7.03it/s]"
     ]
    },
    {
     "name": "stdout",
     "output_type": "stream",
     "text": [
      "                   all        131        153       0.87      0.871      0.911      0.678\n"
     ]
    },
    {
     "name": "stderr",
     "output_type": "stream",
     "text": [
      "\n"
     ]
    },
    {
     "name": "stdout",
     "output_type": "stream",
     "text": [
      "\n",
      "      Epoch    GPU_mem   box_loss   cls_loss   dfl_loss  Instances       Size\n"
     ]
    },
    {
     "name": "stderr",
     "output_type": "stream",
     "text": [
      "     16/100      3.73G     0.7099     0.5847       1.16         10        640: 100%|██████████| 30/30 [00:04<00:00,  7.19it/s]\n",
      "                 Class     Images  Instances      Box(P          R      mAP50  mAP50-95): 100%|██████████| 5/5 [00:00<00:00,  7.39it/s]"
     ]
    },
    {
     "name": "stdout",
     "output_type": "stream",
     "text": [
      "                   all        131        153      0.894      0.895       0.92      0.665\n"
     ]
    },
    {
     "name": "stderr",
     "output_type": "stream",
     "text": [
      "\n"
     ]
    },
    {
     "name": "stdout",
     "output_type": "stream",
     "text": [
      "\n",
      "      Epoch    GPU_mem   box_loss   cls_loss   dfl_loss  Instances       Size\n"
     ]
    },
    {
     "name": "stderr",
     "output_type": "stream",
     "text": [
      "     17/100      3.73G     0.7377     0.5859      1.183         11        640: 100%|██████████| 30/30 [00:04<00:00,  7.05it/s]\n",
      "                 Class     Images  Instances      Box(P          R      mAP50  mAP50-95): 100%|██████████| 5/5 [00:00<00:00,  7.73it/s]"
     ]
    },
    {
     "name": "stdout",
     "output_type": "stream",
     "text": [
      "                   all        131        153      0.913      0.837       0.92      0.689\n"
     ]
    },
    {
     "name": "stderr",
     "output_type": "stream",
     "text": [
      "\n"
     ]
    },
    {
     "name": "stdout",
     "output_type": "stream",
     "text": [
      "\n",
      "      Epoch    GPU_mem   box_loss   cls_loss   dfl_loss  Instances       Size\n"
     ]
    },
    {
     "name": "stderr",
     "output_type": "stream",
     "text": [
      "     18/100      3.73G     0.7232     0.5714      1.175         27        640: 100%|██████████| 30/30 [00:04<00:00,  6.92it/s]\n",
      "                 Class     Images  Instances      Box(P          R      mAP50  mAP50-95): 100%|██████████| 5/5 [00:00<00:00,  7.30it/s]"
     ]
    },
    {
     "name": "stdout",
     "output_type": "stream",
     "text": [
      "                   all        131        153       0.95      0.869      0.942      0.699\n"
     ]
    },
    {
     "name": "stderr",
     "output_type": "stream",
     "text": [
      "\n"
     ]
    },
    {
     "name": "stdout",
     "output_type": "stream",
     "text": [
      "\n",
      "      Epoch    GPU_mem   box_loss   cls_loss   dfl_loss  Instances       Size\n"
     ]
    },
    {
     "name": "stderr",
     "output_type": "stream",
     "text": [
      "     19/100      3.73G     0.7208     0.5642      1.159         20        640: 100%|██████████| 30/30 [00:04<00:00,  7.08it/s]\n",
      "                 Class     Images  Instances      Box(P          R      mAP50  mAP50-95): 100%|██████████| 5/5 [00:00<00:00,  7.43it/s]"
     ]
    },
    {
     "name": "stdout",
     "output_type": "stream",
     "text": [
      "                   all        131        153      0.961      0.843      0.931      0.706\n"
     ]
    },
    {
     "name": "stderr",
     "output_type": "stream",
     "text": [
      "\n"
     ]
    },
    {
     "name": "stdout",
     "output_type": "stream",
     "text": [
      "\n",
      "      Epoch    GPU_mem   box_loss   cls_loss   dfl_loss  Instances       Size\n"
     ]
    },
    {
     "name": "stderr",
     "output_type": "stream",
     "text": [
      "     20/100      3.73G      0.655     0.5296      1.166         15        640: 100%|██████████| 30/30 [00:04<00:00,  6.99it/s]\n",
      "                 Class     Images  Instances      Box(P          R      mAP50  mAP50-95): 100%|██████████| 5/5 [00:00<00:00,  7.46it/s]"
     ]
    },
    {
     "name": "stdout",
     "output_type": "stream",
     "text": [
      "                   all        131        153      0.889      0.839      0.912      0.701\n"
     ]
    },
    {
     "name": "stderr",
     "output_type": "stream",
     "text": [
      "\n"
     ]
    },
    {
     "name": "stdout",
     "output_type": "stream",
     "text": [
      "\n",
      "      Epoch    GPU_mem   box_loss   cls_loss   dfl_loss  Instances       Size\n"
     ]
    },
    {
     "name": "stderr",
     "output_type": "stream",
     "text": [
      "     21/100      3.73G     0.6588     0.5326      1.168         10        640: 100%|██████████| 30/30 [00:04<00:00,  7.25it/s]\n",
      "                 Class     Images  Instances      Box(P          R      mAP50  mAP50-95): 100%|██████████| 5/5 [00:00<00:00,  8.02it/s]"
     ]
    },
    {
     "name": "stdout",
     "output_type": "stream",
     "text": [
      "                   all        131        153      0.821      0.908      0.907      0.679\n"
     ]
    },
    {
     "name": "stderr",
     "output_type": "stream",
     "text": [
      "\n"
     ]
    },
    {
     "name": "stdout",
     "output_type": "stream",
     "text": [
      "\n",
      "      Epoch    GPU_mem   box_loss   cls_loss   dfl_loss  Instances       Size\n"
     ]
    },
    {
     "name": "stderr",
     "output_type": "stream",
     "text": [
      "     22/100      3.73G     0.6539     0.5365      1.153         10        640: 100%|██████████| 30/30 [00:04<00:00,  7.14it/s]\n",
      "                 Class     Images  Instances      Box(P          R      mAP50  mAP50-95): 100%|██████████| 5/5 [00:00<00:00,  7.54it/s]"
     ]
    },
    {
     "name": "stdout",
     "output_type": "stream",
     "text": [
      "                   all        131        153      0.945      0.892      0.929      0.712\n"
     ]
    },
    {
     "name": "stderr",
     "output_type": "stream",
     "text": [
      "\n"
     ]
    },
    {
     "name": "stdout",
     "output_type": "stream",
     "text": [
      "\n",
      "      Epoch    GPU_mem   box_loss   cls_loss   dfl_loss  Instances       Size\n"
     ]
    },
    {
     "name": "stderr",
     "output_type": "stream",
     "text": [
      "     23/100      3.73G     0.6796     0.5416      1.147         15        640: 100%|██████████| 30/30 [00:04<00:00,  7.36it/s]\n",
      "                 Class     Images  Instances      Box(P          R      mAP50  mAP50-95): 100%|██████████| 5/5 [00:00<00:00,  7.32it/s]"
     ]
    },
    {
     "name": "stdout",
     "output_type": "stream",
     "text": [
      "                   all        131        153      0.891      0.858      0.904      0.687\n"
     ]
    },
    {
     "name": "stderr",
     "output_type": "stream",
     "text": [
      "\n"
     ]
    },
    {
     "name": "stdout",
     "output_type": "stream",
     "text": [
      "\n",
      "      Epoch    GPU_mem   box_loss   cls_loss   dfl_loss  Instances       Size\n"
     ]
    },
    {
     "name": "stderr",
     "output_type": "stream",
     "text": [
      "     24/100      3.74G     0.6454     0.5301      1.158         15        640: 100%|██████████| 30/30 [00:04<00:00,  7.18it/s]\n",
      "                 Class     Images  Instances      Box(P          R      mAP50  mAP50-95): 100%|██████████| 5/5 [00:00<00:00,  8.03it/s]"
     ]
    },
    {
     "name": "stdout",
     "output_type": "stream",
     "text": [
      "                   all        131        153      0.917      0.872      0.917      0.718\n"
     ]
    },
    {
     "name": "stderr",
     "output_type": "stream",
     "text": [
      "\n"
     ]
    },
    {
     "name": "stdout",
     "output_type": "stream",
     "text": [
      "\n",
      "      Epoch    GPU_mem   box_loss   cls_loss   dfl_loss  Instances       Size\n"
     ]
    },
    {
     "name": "stderr",
     "output_type": "stream",
     "text": [
      "     25/100      3.74G     0.6525     0.5154      1.132         10        640: 100%|██████████| 30/30 [00:04<00:00,  7.21it/s]\n",
      "                 Class     Images  Instances      Box(P          R      mAP50  mAP50-95): 100%|██████████| 5/5 [00:00<00:00,  7.94it/s]"
     ]
    },
    {
     "name": "stdout",
     "output_type": "stream",
     "text": [
      "                   all        131        153      0.926      0.894      0.945      0.718\n"
     ]
    },
    {
     "name": "stderr",
     "output_type": "stream",
     "text": [
      "\n"
     ]
    },
    {
     "name": "stdout",
     "output_type": "stream",
     "text": [
      "\n",
      "      Epoch    GPU_mem   box_loss   cls_loss   dfl_loss  Instances       Size\n"
     ]
    },
    {
     "name": "stderr",
     "output_type": "stream",
     "text": [
      "     26/100      3.74G      0.676     0.4987      1.142         12        640: 100%|██████████| 30/30 [00:04<00:00,  7.17it/s]\n",
      "                 Class     Images  Instances      Box(P          R      mAP50  mAP50-95): 100%|██████████| 5/5 [00:00<00:00,  7.56it/s]"
     ]
    },
    {
     "name": "stdout",
     "output_type": "stream",
     "text": [
      "                   all        131        153      0.825      0.892      0.911      0.714\n"
     ]
    },
    {
     "name": "stderr",
     "output_type": "stream",
     "text": [
      "\n"
     ]
    },
    {
     "name": "stdout",
     "output_type": "stream",
     "text": [
      "\n",
      "      Epoch    GPU_mem   box_loss   cls_loss   dfl_loss  Instances       Size\n"
     ]
    },
    {
     "name": "stderr",
     "output_type": "stream",
     "text": [
      "     27/100      3.74G     0.6957     0.5298      1.151         18        640: 100%|██████████| 30/30 [00:04<00:00,  7.38it/s]\n",
      "                 Class     Images  Instances      Box(P          R      mAP50  mAP50-95): 100%|██████████| 5/5 [00:00<00:00,  7.59it/s]"
     ]
    },
    {
     "name": "stdout",
     "output_type": "stream",
     "text": [
      "                   all        131        153      0.927      0.889      0.922      0.699\n"
     ]
    },
    {
     "name": "stderr",
     "output_type": "stream",
     "text": [
      "\n"
     ]
    },
    {
     "name": "stdout",
     "output_type": "stream",
     "text": [
      "\n",
      "      Epoch    GPU_mem   box_loss   cls_loss   dfl_loss  Instances       Size\n"
     ]
    },
    {
     "name": "stderr",
     "output_type": "stream",
     "text": [
      "     28/100      3.74G     0.6761     0.5234      1.117         15        640: 100%|██████████| 30/30 [00:04<00:00,  6.71it/s]\n",
      "                 Class     Images  Instances      Box(P          R      mAP50  mAP50-95): 100%|██████████| 5/5 [00:00<00:00,  7.30it/s]"
     ]
    },
    {
     "name": "stdout",
     "output_type": "stream",
     "text": [
      "                   all        131        153       0.95      0.869      0.935       0.71\n"
     ]
    },
    {
     "name": "stderr",
     "output_type": "stream",
     "text": [
      "\n"
     ]
    },
    {
     "name": "stdout",
     "output_type": "stream",
     "text": [
      "\n",
      "      Epoch    GPU_mem   box_loss   cls_loss   dfl_loss  Instances       Size\n"
     ]
    },
    {
     "name": "stderr",
     "output_type": "stream",
     "text": [
      "     29/100      3.74G     0.6539     0.4897      1.136         22        640: 100%|██████████| 30/30 [00:04<00:00,  6.06it/s]\n",
      "                 Class     Images  Instances      Box(P          R      mAP50  mAP50-95): 100%|██████████| 5/5 [00:00<00:00,  7.05it/s]"
     ]
    },
    {
     "name": "stdout",
     "output_type": "stream",
     "text": [
      "                   all        131        153      0.873      0.856      0.917      0.699\n"
     ]
    },
    {
     "name": "stderr",
     "output_type": "stream",
     "text": [
      "\n"
     ]
    },
    {
     "name": "stdout",
     "output_type": "stream",
     "text": [
      "\n",
      "      Epoch    GPU_mem   box_loss   cls_loss   dfl_loss  Instances       Size\n"
     ]
    },
    {
     "name": "stderr",
     "output_type": "stream",
     "text": [
      "     30/100      3.74G     0.6263     0.4845      1.146         10        640: 100%|██████████| 30/30 [00:04<00:00,  7.07it/s]\n",
      "                 Class     Images  Instances      Box(P          R      mAP50  mAP50-95): 100%|██████████| 5/5 [00:00<00:00,  7.89it/s]"
     ]
    },
    {
     "name": "stdout",
     "output_type": "stream",
     "text": [
      "                   all        131        153      0.888      0.929      0.936      0.733\n"
     ]
    },
    {
     "name": "stderr",
     "output_type": "stream",
     "text": [
      "\n"
     ]
    },
    {
     "name": "stdout",
     "output_type": "stream",
     "text": [
      "\n",
      "      Epoch    GPU_mem   box_loss   cls_loss   dfl_loss  Instances       Size\n"
     ]
    },
    {
     "name": "stderr",
     "output_type": "stream",
     "text": [
      "     31/100      3.74G      0.622      0.479      1.131         12        640: 100%|██████████| 30/30 [00:04<00:00,  7.15it/s]\n",
      "                 Class     Images  Instances      Box(P          R      mAP50  mAP50-95): 100%|██████████| 5/5 [00:00<00:00,  7.78it/s]"
     ]
    },
    {
     "name": "stdout",
     "output_type": "stream",
     "text": [
      "                   all        131        153      0.896      0.901      0.925      0.704\n"
     ]
    },
    {
     "name": "stderr",
     "output_type": "stream",
     "text": [
      "\n"
     ]
    },
    {
     "name": "stdout",
     "output_type": "stream",
     "text": [
      "\n",
      "      Epoch    GPU_mem   box_loss   cls_loss   dfl_loss  Instances       Size\n"
     ]
    },
    {
     "name": "stderr",
     "output_type": "stream",
     "text": [
      "     32/100      3.74G     0.6542     0.4749      1.119         22        640: 100%|██████████| 30/30 [00:04<00:00,  7.28it/s]\n",
      "                 Class     Images  Instances      Box(P          R      mAP50  mAP50-95): 100%|██████████| 5/5 [00:00<00:00,  7.54it/s]"
     ]
    },
    {
     "name": "stdout",
     "output_type": "stream",
     "text": [
      "                   all        131        153      0.886      0.882      0.925      0.708\n"
     ]
    },
    {
     "name": "stderr",
     "output_type": "stream",
     "text": [
      "\n"
     ]
    },
    {
     "name": "stdout",
     "output_type": "stream",
     "text": [
      "\n",
      "      Epoch    GPU_mem   box_loss   cls_loss   dfl_loss  Instances       Size\n"
     ]
    },
    {
     "name": "stderr",
     "output_type": "stream",
     "text": [
      "     33/100      3.74G     0.6095     0.4611      1.117         12        640: 100%|██████████| 30/30 [00:04<00:00,  7.26it/s]\n",
      "                 Class     Images  Instances      Box(P          R      mAP50  mAP50-95): 100%|██████████| 5/5 [00:00<00:00,  7.07it/s]"
     ]
    },
    {
     "name": "stdout",
     "output_type": "stream",
     "text": [
      "                   all        131        153      0.897      0.909      0.935      0.724\n"
     ]
    },
    {
     "name": "stderr",
     "output_type": "stream",
     "text": [
      "\n"
     ]
    },
    {
     "name": "stdout",
     "output_type": "stream",
     "text": [
      "\n",
      "      Epoch    GPU_mem   box_loss   cls_loss   dfl_loss  Instances       Size\n"
     ]
    },
    {
     "name": "stderr",
     "output_type": "stream",
     "text": [
      "     34/100      3.74G     0.5989     0.4556      1.096          9        640: 100%|██████████| 30/30 [00:04<00:00,  6.22it/s]\n",
      "                 Class     Images  Instances      Box(P          R      mAP50  mAP50-95): 100%|██████████| 5/5 [00:00<00:00,  6.13it/s]"
     ]
    },
    {
     "name": "stdout",
     "output_type": "stream",
     "text": [
      "                   all        131        153      0.925      0.908      0.943      0.742\n"
     ]
    },
    {
     "name": "stderr",
     "output_type": "stream",
     "text": [
      "\n"
     ]
    },
    {
     "name": "stdout",
     "output_type": "stream",
     "text": [
      "\n",
      "      Epoch    GPU_mem   box_loss   cls_loss   dfl_loss  Instances       Size\n"
     ]
    },
    {
     "name": "stderr",
     "output_type": "stream",
     "text": [
      "     35/100      3.74G     0.5978     0.4369       1.11         15        640: 100%|██████████| 30/30 [00:05<00:00,  5.98it/s]\n",
      "                 Class     Images  Instances      Box(P          R      mAP50  mAP50-95): 100%|██████████| 5/5 [00:00<00:00,  6.60it/s]"
     ]
    },
    {
     "name": "stdout",
     "output_type": "stream",
     "text": [
      "                   all        131        153      0.946      0.919       0.95      0.741\n"
     ]
    },
    {
     "name": "stderr",
     "output_type": "stream",
     "text": [
      "\n"
     ]
    },
    {
     "name": "stdout",
     "output_type": "stream",
     "text": [
      "\n",
      "      Epoch    GPU_mem   box_loss   cls_loss   dfl_loss  Instances       Size\n"
     ]
    },
    {
     "name": "stderr",
     "output_type": "stream",
     "text": [
      "     36/100      3.74G     0.6275     0.4747      1.096         24        640: 100%|██████████| 30/30 [00:04<00:00,  6.33it/s]\n",
      "                 Class     Images  Instances      Box(P          R      mAP50  mAP50-95): 100%|██████████| 5/5 [00:00<00:00,  7.12it/s]"
     ]
    },
    {
     "name": "stdout",
     "output_type": "stream",
     "text": [
      "                   all        131        153      0.931      0.888      0.939       0.74\n"
     ]
    },
    {
     "name": "stderr",
     "output_type": "stream",
     "text": [
      "\n"
     ]
    },
    {
     "name": "stdout",
     "output_type": "stream",
     "text": [
      "\n",
      "      Epoch    GPU_mem   box_loss   cls_loss   dfl_loss  Instances       Size\n"
     ]
    },
    {
     "name": "stderr",
     "output_type": "stream",
     "text": [
      "     37/100      3.74G     0.6245     0.4547      1.131         19        640: 100%|██████████| 30/30 [00:04<00:00,  6.74it/s]\n",
      "                 Class     Images  Instances      Box(P          R      mAP50  mAP50-95): 100%|██████████| 5/5 [00:00<00:00,  7.08it/s]"
     ]
    },
    {
     "name": "stdout",
     "output_type": "stream",
     "text": [
      "                   all        131        153      0.909      0.935      0.952      0.776\n"
     ]
    },
    {
     "name": "stderr",
     "output_type": "stream",
     "text": [
      "\n"
     ]
    },
    {
     "name": "stdout",
     "output_type": "stream",
     "text": [
      "\n",
      "      Epoch    GPU_mem   box_loss   cls_loss   dfl_loss  Instances       Size\n"
     ]
    },
    {
     "name": "stderr",
     "output_type": "stream",
     "text": [
      "     38/100      3.74G     0.6009     0.4446      1.086         13        640: 100%|██████████| 30/30 [00:04<00:00,  6.31it/s]\n",
      "                 Class     Images  Instances      Box(P          R      mAP50  mAP50-95): 100%|██████████| 5/5 [00:00<00:00,  6.76it/s]"
     ]
    },
    {
     "name": "stdout",
     "output_type": "stream",
     "text": [
      "                   all        131        153      0.932      0.882      0.933      0.747\n"
     ]
    },
    {
     "name": "stderr",
     "output_type": "stream",
     "text": [
      "\n"
     ]
    },
    {
     "name": "stdout",
     "output_type": "stream",
     "text": [
      "\n",
      "      Epoch    GPU_mem   box_loss   cls_loss   dfl_loss  Instances       Size\n"
     ]
    },
    {
     "name": "stderr",
     "output_type": "stream",
     "text": [
      "     39/100      3.74G      0.597     0.4444      1.098          8        640: 100%|██████████| 30/30 [00:04<00:00,  6.65it/s]\n",
      "                 Class     Images  Instances      Box(P          R      mAP50  mAP50-95): 100%|██████████| 5/5 [00:00<00:00,  6.71it/s]"
     ]
    },
    {
     "name": "stdout",
     "output_type": "stream",
     "text": [
      "                   all        131        153      0.941      0.876      0.931      0.735\n"
     ]
    },
    {
     "name": "stderr",
     "output_type": "stream",
     "text": [
      "\n"
     ]
    },
    {
     "name": "stdout",
     "output_type": "stream",
     "text": [
      "\n",
      "      Epoch    GPU_mem   box_loss   cls_loss   dfl_loss  Instances       Size\n"
     ]
    },
    {
     "name": "stderr",
     "output_type": "stream",
     "text": [
      "     40/100      3.74G     0.5838     0.4528      1.104         13        640: 100%|██████████| 30/30 [00:04<00:00,  6.23it/s]\n",
      "                 Class     Images  Instances      Box(P          R      mAP50  mAP50-95): 100%|██████████| 5/5 [00:00<00:00,  6.56it/s]"
     ]
    },
    {
     "name": "stdout",
     "output_type": "stream",
     "text": [
      "                   all        131        153      0.934      0.902      0.945      0.758\n"
     ]
    },
    {
     "name": "stderr",
     "output_type": "stream",
     "text": [
      "\n"
     ]
    },
    {
     "name": "stdout",
     "output_type": "stream",
     "text": [
      "\n",
      "      Epoch    GPU_mem   box_loss   cls_loss   dfl_loss  Instances       Size\n"
     ]
    },
    {
     "name": "stderr",
     "output_type": "stream",
     "text": [
      "     41/100      3.74G     0.5973     0.4301      1.073         22        640: 100%|██████████| 30/30 [00:04<00:00,  6.60it/s]\n",
      "                 Class     Images  Instances      Box(P          R      mAP50  mAP50-95): 100%|██████████| 5/5 [00:00<00:00,  6.78it/s]"
     ]
    },
    {
     "name": "stdout",
     "output_type": "stream",
     "text": [
      "                   all        131        153      0.957      0.877      0.946      0.754\n"
     ]
    },
    {
     "name": "stderr",
     "output_type": "stream",
     "text": [
      "\n"
     ]
    },
    {
     "name": "stdout",
     "output_type": "stream",
     "text": [
      "\n",
      "      Epoch    GPU_mem   box_loss   cls_loss   dfl_loss  Instances       Size\n"
     ]
    },
    {
     "name": "stderr",
     "output_type": "stream",
     "text": [
      "     42/100      3.74G     0.5777     0.4241      1.075         13        640: 100%|██████████| 30/30 [00:04<00:00,  6.69it/s]\n",
      "                 Class     Images  Instances      Box(P          R      mAP50  mAP50-95): 100%|██████████| 5/5 [00:00<00:00,  6.91it/s]"
     ]
    },
    {
     "name": "stdout",
     "output_type": "stream",
     "text": [
      "                   all        131        153      0.933      0.917      0.953      0.754\n"
     ]
    },
    {
     "name": "stderr",
     "output_type": "stream",
     "text": [
      "\n"
     ]
    },
    {
     "name": "stdout",
     "output_type": "stream",
     "text": [
      "\n",
      "      Epoch    GPU_mem   box_loss   cls_loss   dfl_loss  Instances       Size\n"
     ]
    },
    {
     "name": "stderr",
     "output_type": "stream",
     "text": [
      "     43/100      3.74G     0.5946     0.4354      1.084         17        640: 100%|██████████| 30/30 [00:04<00:00,  6.92it/s]\n",
      "                 Class     Images  Instances      Box(P          R      mAP50  mAP50-95): 100%|██████████| 5/5 [00:00<00:00,  6.79it/s]"
     ]
    },
    {
     "name": "stdout",
     "output_type": "stream",
     "text": [
      "                   all        131        153      0.939      0.941      0.963       0.78\n"
     ]
    },
    {
     "name": "stderr",
     "output_type": "stream",
     "text": [
      "\n"
     ]
    },
    {
     "name": "stdout",
     "output_type": "stream",
     "text": [
      "\n",
      "      Epoch    GPU_mem   box_loss   cls_loss   dfl_loss  Instances       Size\n"
     ]
    },
    {
     "name": "stderr",
     "output_type": "stream",
     "text": [
      "     44/100      3.74G      0.555     0.3981      1.078         11        640: 100%|██████████| 30/30 [00:04<00:00,  6.45it/s]\n",
      "                 Class     Images  Instances      Box(P          R      mAP50  mAP50-95): 100%|██████████| 5/5 [00:00<00:00,  7.22it/s]"
     ]
    },
    {
     "name": "stdout",
     "output_type": "stream",
     "text": [
      "                   all        131        153      0.922       0.93      0.956      0.766\n"
     ]
    },
    {
     "name": "stderr",
     "output_type": "stream",
     "text": [
      "\n"
     ]
    },
    {
     "name": "stdout",
     "output_type": "stream",
     "text": [
      "\n",
      "      Epoch    GPU_mem   box_loss   cls_loss   dfl_loss  Instances       Size\n"
     ]
    },
    {
     "name": "stderr",
     "output_type": "stream",
     "text": [
      "     45/100      3.74G     0.5729     0.4087      1.082         12        640: 100%|██████████| 30/30 [00:04<00:00,  6.47it/s]\n",
      "                 Class     Images  Instances      Box(P          R      mAP50  mAP50-95): 100%|██████████| 5/5 [00:00<00:00,  7.29it/s]"
     ]
    },
    {
     "name": "stdout",
     "output_type": "stream",
     "text": [
      "                   all        131        153      0.959      0.907      0.958      0.761\n"
     ]
    },
    {
     "name": "stderr",
     "output_type": "stream",
     "text": [
      "\n"
     ]
    },
    {
     "name": "stdout",
     "output_type": "stream",
     "text": [
      "\n",
      "      Epoch    GPU_mem   box_loss   cls_loss   dfl_loss  Instances       Size\n"
     ]
    },
    {
     "name": "stderr",
     "output_type": "stream",
     "text": [
      "     46/100      3.74G      0.572     0.4315      1.079         13        640: 100%|██████████| 30/30 [00:04<00:00,  6.48it/s]\n",
      "                 Class     Images  Instances      Box(P          R      mAP50  mAP50-95): 100%|██████████| 5/5 [00:00<00:00,  7.24it/s]"
     ]
    },
    {
     "name": "stdout",
     "output_type": "stream",
     "text": [
      "                   all        131        153      0.946      0.913      0.955      0.747\n"
     ]
    },
    {
     "name": "stderr",
     "output_type": "stream",
     "text": [
      "\n"
     ]
    },
    {
     "name": "stdout",
     "output_type": "stream",
     "text": [
      "\n",
      "      Epoch    GPU_mem   box_loss   cls_loss   dfl_loss  Instances       Size\n"
     ]
    },
    {
     "name": "stderr",
     "output_type": "stream",
     "text": [
      "     47/100      3.74G     0.5919     0.4235      1.083         16        640: 100%|██████████| 30/30 [00:04<00:00,  6.66it/s]\n",
      "                 Class     Images  Instances      Box(P          R      mAP50  mAP50-95): 100%|██████████| 5/5 [00:00<00:00,  7.03it/s]"
     ]
    },
    {
     "name": "stdout",
     "output_type": "stream",
     "text": [
      "                   all        131        153      0.944      0.902      0.933      0.752\n"
     ]
    },
    {
     "name": "stderr",
     "output_type": "stream",
     "text": [
      "\n"
     ]
    },
    {
     "name": "stdout",
     "output_type": "stream",
     "text": [
      "\n",
      "      Epoch    GPU_mem   box_loss   cls_loss   dfl_loss  Instances       Size\n"
     ]
    },
    {
     "name": "stderr",
     "output_type": "stream",
     "text": [
      "     48/100      3.74G     0.5567     0.4064      1.072         18        640: 100%|██████████| 30/30 [00:04<00:00,  7.16it/s]\n",
      "                 Class     Images  Instances      Box(P          R      mAP50  mAP50-95): 100%|██████████| 5/5 [00:00<00:00,  7.02it/s]"
     ]
    },
    {
     "name": "stdout",
     "output_type": "stream",
     "text": [
      "                   all        131        153      0.972      0.915      0.957      0.769\n"
     ]
    },
    {
     "name": "stderr",
     "output_type": "stream",
     "text": [
      "\n"
     ]
    },
    {
     "name": "stdout",
     "output_type": "stream",
     "text": [
      "\n",
      "      Epoch    GPU_mem   box_loss   cls_loss   dfl_loss  Instances       Size\n"
     ]
    },
    {
     "name": "stderr",
     "output_type": "stream",
     "text": [
      "     49/100      3.74G     0.5547      0.403      1.076         16        640: 100%|██████████| 30/30 [00:04<00:00,  6.46it/s]\n",
      "                 Class     Images  Instances      Box(P          R      mAP50  mAP50-95): 100%|██████████| 5/5 [00:00<00:00,  7.20it/s]"
     ]
    },
    {
     "name": "stdout",
     "output_type": "stream",
     "text": [
      "                   all        131        153      0.971      0.895      0.961      0.785\n"
     ]
    },
    {
     "name": "stderr",
     "output_type": "stream",
     "text": [
      "\n"
     ]
    },
    {
     "name": "stdout",
     "output_type": "stream",
     "text": [
      "\n",
      "      Epoch    GPU_mem   box_loss   cls_loss   dfl_loss  Instances       Size\n"
     ]
    },
    {
     "name": "stderr",
     "output_type": "stream",
     "text": [
      "     50/100      3.74G      0.545     0.3908      1.065         23        640: 100%|██████████| 30/30 [00:04<00:00,  6.44it/s]\n",
      "                 Class     Images  Instances      Box(P          R      mAP50  mAP50-95): 100%|██████████| 5/5 [00:00<00:00,  5.63it/s]"
     ]
    },
    {
     "name": "stdout",
     "output_type": "stream",
     "text": [
      "                   all        131        153      0.968      0.876       0.94      0.778\n"
     ]
    },
    {
     "name": "stderr",
     "output_type": "stream",
     "text": [
      "\n"
     ]
    },
    {
     "name": "stdout",
     "output_type": "stream",
     "text": [
      "\n",
      "      Epoch    GPU_mem   box_loss   cls_loss   dfl_loss  Instances       Size\n"
     ]
    },
    {
     "name": "stderr",
     "output_type": "stream",
     "text": [
      "     51/100      3.74G     0.5405     0.3927      1.077          8        640: 100%|██████████| 30/30 [00:04<00:00,  6.62it/s]\n",
      "                 Class     Images  Instances      Box(P          R      mAP50  mAP50-95): 100%|██████████| 5/5 [00:00<00:00,  7.42it/s]"
     ]
    },
    {
     "name": "stdout",
     "output_type": "stream",
     "text": [
      "                   all        131        153      0.925      0.948      0.955      0.744\n"
     ]
    },
    {
     "name": "stderr",
     "output_type": "stream",
     "text": [
      "\n"
     ]
    },
    {
     "name": "stdout",
     "output_type": "stream",
     "text": [
      "\n",
      "      Epoch    GPU_mem   box_loss   cls_loss   dfl_loss  Instances       Size\n"
     ]
    },
    {
     "name": "stderr",
     "output_type": "stream",
     "text": [
      "     52/100      3.74G     0.5636     0.4003      1.056         19        640: 100%|██████████| 30/30 [00:04<00:00,  6.79it/s]\n",
      "                 Class     Images  Instances      Box(P          R      mAP50  mAP50-95): 100%|██████████| 5/5 [00:00<00:00,  6.82it/s]"
     ]
    },
    {
     "name": "stdout",
     "output_type": "stream",
     "text": [
      "                   all        131        153      0.962      0.902      0.956       0.77\n"
     ]
    },
    {
     "name": "stderr",
     "output_type": "stream",
     "text": [
      "\n"
     ]
    },
    {
     "name": "stdout",
     "output_type": "stream",
     "text": [
      "\n",
      "      Epoch    GPU_mem   box_loss   cls_loss   dfl_loss  Instances       Size\n"
     ]
    },
    {
     "name": "stderr",
     "output_type": "stream",
     "text": [
      "     53/100      3.74G      0.525     0.3801      1.066         13        640: 100%|██████████| 30/30 [00:04<00:00,  6.92it/s]\n",
      "                 Class     Images  Instances      Box(P          R      mAP50  mAP50-95): 100%|██████████| 5/5 [00:00<00:00,  7.36it/s]"
     ]
    },
    {
     "name": "stdout",
     "output_type": "stream",
     "text": [
      "                   all        131        153      0.959      0.889      0.955      0.771\n"
     ]
    },
    {
     "name": "stderr",
     "output_type": "stream",
     "text": [
      "\n"
     ]
    },
    {
     "name": "stdout",
     "output_type": "stream",
     "text": [
      "\n",
      "      Epoch    GPU_mem   box_loss   cls_loss   dfl_loss  Instances       Size\n"
     ]
    },
    {
     "name": "stderr",
     "output_type": "stream",
     "text": [
      "     54/100      3.74G     0.5765     0.4064      1.052         13        640: 100%|██████████| 30/30 [00:04<00:00,  6.76it/s]\n",
      "                 Class     Images  Instances      Box(P          R      mAP50  mAP50-95): 100%|██████████| 5/5 [00:00<00:00,  7.37it/s]"
     ]
    },
    {
     "name": "stdout",
     "output_type": "stream",
     "text": [
      "                   all        131        153      0.958      0.888       0.95      0.766\n"
     ]
    },
    {
     "name": "stderr",
     "output_type": "stream",
     "text": [
      "\n"
     ]
    },
    {
     "name": "stdout",
     "output_type": "stream",
     "text": [
      "\n",
      "      Epoch    GPU_mem   box_loss   cls_loss   dfl_loss  Instances       Size\n"
     ]
    },
    {
     "name": "stderr",
     "output_type": "stream",
     "text": [
      "     55/100      3.74G     0.5329     0.3771      1.058         10        640: 100%|██████████| 30/30 [00:04<00:00,  6.61it/s]\n",
      "                 Class     Images  Instances      Box(P          R      mAP50  mAP50-95): 100%|██████████| 5/5 [00:00<00:00,  6.98it/s]"
     ]
    },
    {
     "name": "stdout",
     "output_type": "stream",
     "text": [
      "                   all        131        153      0.926      0.897      0.955      0.778\n"
     ]
    },
    {
     "name": "stderr",
     "output_type": "stream",
     "text": [
      "\n"
     ]
    },
    {
     "name": "stdout",
     "output_type": "stream",
     "text": [
      "\n",
      "      Epoch    GPU_mem   box_loss   cls_loss   dfl_loss  Instances       Size\n"
     ]
    },
    {
     "name": "stderr",
     "output_type": "stream",
     "text": [
      "     56/100      3.74G     0.5431     0.3834       1.07         16        640: 100%|██████████| 30/30 [00:04<00:00,  6.69it/s]\n",
      "                 Class     Images  Instances      Box(P          R      mAP50  mAP50-95): 100%|██████████| 5/5 [00:00<00:00,  7.16it/s]"
     ]
    },
    {
     "name": "stdout",
     "output_type": "stream",
     "text": [
      "                   all        131        153      0.973      0.876      0.962      0.786\n"
     ]
    },
    {
     "name": "stderr",
     "output_type": "stream",
     "text": [
      "\n"
     ]
    },
    {
     "name": "stdout",
     "output_type": "stream",
     "text": [
      "\n",
      "      Epoch    GPU_mem   box_loss   cls_loss   dfl_loss  Instances       Size\n"
     ]
    },
    {
     "name": "stderr",
     "output_type": "stream",
     "text": [
      "     57/100      3.74G     0.5194      0.372      1.066         13        640: 100%|██████████| 30/30 [00:04<00:00,  7.03it/s]\n",
      "                 Class     Images  Instances      Box(P          R      mAP50  mAP50-95): 100%|██████████| 5/5 [00:00<00:00,  6.64it/s]"
     ]
    },
    {
     "name": "stdout",
     "output_type": "stream",
     "text": [
      "                   all        131        153      0.978      0.915      0.961      0.791\n"
     ]
    },
    {
     "name": "stderr",
     "output_type": "stream",
     "text": [
      "\n"
     ]
    },
    {
     "name": "stdout",
     "output_type": "stream",
     "text": [
      "\n",
      "      Epoch    GPU_mem   box_loss   cls_loss   dfl_loss  Instances       Size\n"
     ]
    },
    {
     "name": "stderr",
     "output_type": "stream",
     "text": [
      "     58/100      3.74G     0.5321     0.3662       1.06         27        640: 100%|██████████| 30/30 [00:04<00:00,  6.74it/s]\n",
      "                 Class     Images  Instances      Box(P          R      mAP50  mAP50-95): 100%|██████████| 5/5 [00:00<00:00,  6.25it/s]"
     ]
    },
    {
     "name": "stdout",
     "output_type": "stream",
     "text": [
      "                   all        131        153      0.976      0.928      0.961      0.787\n"
     ]
    },
    {
     "name": "stderr",
     "output_type": "stream",
     "text": [
      "\n"
     ]
    },
    {
     "name": "stdout",
     "output_type": "stream",
     "text": [
      "\n",
      "      Epoch    GPU_mem   box_loss   cls_loss   dfl_loss  Instances       Size\n"
     ]
    },
    {
     "name": "stderr",
     "output_type": "stream",
     "text": [
      "     59/100      3.74G     0.5035     0.3596      1.057         20        640: 100%|██████████| 30/30 [00:04<00:00,  6.78it/s]\n",
      "                 Class     Images  Instances      Box(P          R      mAP50  mAP50-95): 100%|██████████| 5/5 [00:00<00:00,  6.21it/s]"
     ]
    },
    {
     "name": "stdout",
     "output_type": "stream",
     "text": [
      "                   all        131        153      0.959      0.908       0.96      0.786\n"
     ]
    },
    {
     "name": "stderr",
     "output_type": "stream",
     "text": [
      "\n"
     ]
    },
    {
     "name": "stdout",
     "output_type": "stream",
     "text": [
      "\n",
      "      Epoch    GPU_mem   box_loss   cls_loss   dfl_loss  Instances       Size\n"
     ]
    },
    {
     "name": "stderr",
     "output_type": "stream",
     "text": [
      "     60/100      3.74G     0.5212     0.3542      1.027         11        640: 100%|██████████| 30/30 [00:04<00:00,  6.85it/s]\n",
      "                 Class     Images  Instances      Box(P          R      mAP50  mAP50-95): 100%|██████████| 5/5 [00:00<00:00,  7.10it/s]"
     ]
    },
    {
     "name": "stdout",
     "output_type": "stream",
     "text": [
      "                   all        131        153      0.952      0.908      0.955      0.772\n"
     ]
    },
    {
     "name": "stderr",
     "output_type": "stream",
     "text": [
      "\n"
     ]
    },
    {
     "name": "stdout",
     "output_type": "stream",
     "text": [
      "\n",
      "      Epoch    GPU_mem   box_loss   cls_loss   dfl_loss  Instances       Size\n"
     ]
    },
    {
     "name": "stderr",
     "output_type": "stream",
     "text": [
      "     61/100      3.74G     0.5088     0.3438      1.042         13        640: 100%|██████████| 30/30 [00:04<00:00,  6.81it/s]\n",
      "                 Class     Images  Instances      Box(P          R      mAP50  mAP50-95): 100%|██████████| 5/5 [00:00<00:00,  7.10it/s]"
     ]
    },
    {
     "name": "stdout",
     "output_type": "stream",
     "text": [
      "                   all        131        153      0.966      0.921      0.963      0.778\n"
     ]
    },
    {
     "name": "stderr",
     "output_type": "stream",
     "text": [
      "\n"
     ]
    },
    {
     "name": "stdout",
     "output_type": "stream",
     "text": [
      "\n",
      "      Epoch    GPU_mem   box_loss   cls_loss   dfl_loss  Instances       Size\n"
     ]
    },
    {
     "name": "stderr",
     "output_type": "stream",
     "text": [
      "     62/100      3.74G     0.4953     0.3523      1.033         13        640: 100%|██████████| 30/30 [00:04<00:00,  6.42it/s]\n",
      "                 Class     Images  Instances      Box(P          R      mAP50  mAP50-95): 100%|██████████| 5/5 [00:00<00:00,  7.10it/s]"
     ]
    },
    {
     "name": "stdout",
     "output_type": "stream",
     "text": [
      "                   all        131        153      0.954       0.95      0.967      0.779\n"
     ]
    },
    {
     "name": "stderr",
     "output_type": "stream",
     "text": [
      "\n"
     ]
    },
    {
     "name": "stdout",
     "output_type": "stream",
     "text": [
      "\n",
      "      Epoch    GPU_mem   box_loss   cls_loss   dfl_loss  Instances       Size\n"
     ]
    },
    {
     "name": "stderr",
     "output_type": "stream",
     "text": [
      "     63/100      3.74G     0.5252     0.3518      1.051         22        640: 100%|██████████| 30/30 [00:04<00:00,  6.63it/s]\n",
      "                 Class     Images  Instances      Box(P          R      mAP50  mAP50-95): 100%|██████████| 5/5 [00:00<00:00,  7.51it/s]"
     ]
    },
    {
     "name": "stdout",
     "output_type": "stream",
     "text": [
      "                   all        131        153      0.973      0.932      0.969      0.783\n"
     ]
    },
    {
     "name": "stderr",
     "output_type": "stream",
     "text": [
      "\n"
     ]
    },
    {
     "name": "stdout",
     "output_type": "stream",
     "text": [
      "\n",
      "      Epoch    GPU_mem   box_loss   cls_loss   dfl_loss  Instances       Size\n"
     ]
    },
    {
     "name": "stderr",
     "output_type": "stream",
     "text": [
      "     64/100      3.74G     0.5076     0.3481      1.025         13        640: 100%|██████████| 30/30 [00:04<00:00,  6.41it/s]\n",
      "                 Class     Images  Instances      Box(P          R      mAP50  mAP50-95): 100%|██████████| 5/5 [00:00<00:00,  6.65it/s]"
     ]
    },
    {
     "name": "stdout",
     "output_type": "stream",
     "text": [
      "                   all        131        153      0.967      0.928      0.966      0.791\n"
     ]
    },
    {
     "name": "stderr",
     "output_type": "stream",
     "text": [
      "\n"
     ]
    },
    {
     "name": "stdout",
     "output_type": "stream",
     "text": [
      "\n",
      "      Epoch    GPU_mem   box_loss   cls_loss   dfl_loss  Instances       Size\n"
     ]
    },
    {
     "name": "stderr",
     "output_type": "stream",
     "text": [
      "     65/100      3.74G     0.4939     0.3454      1.032         18        640: 100%|██████████| 30/30 [00:04<00:00,  6.31it/s]\n",
      "                 Class     Images  Instances      Box(P          R      mAP50  mAP50-95): 100%|██████████| 5/5 [00:00<00:00,  6.89it/s]"
     ]
    },
    {
     "name": "stdout",
     "output_type": "stream",
     "text": [
      "                   all        131        153      0.946      0.948      0.964      0.792\n"
     ]
    },
    {
     "name": "stderr",
     "output_type": "stream",
     "text": [
      "\n"
     ]
    },
    {
     "name": "stdout",
     "output_type": "stream",
     "text": [
      "\n",
      "      Epoch    GPU_mem   box_loss   cls_loss   dfl_loss  Instances       Size\n"
     ]
    },
    {
     "name": "stderr",
     "output_type": "stream",
     "text": [
      "     66/100      3.74G     0.4804     0.3313      1.028         15        640: 100%|██████████| 30/30 [00:04<00:00,  6.48it/s]\n",
      "                 Class     Images  Instances      Box(P          R      mAP50  mAP50-95): 100%|██████████| 5/5 [00:00<00:00,  6.54it/s]"
     ]
    },
    {
     "name": "stdout",
     "output_type": "stream",
     "text": [
      "                   all        131        153      0.959      0.913       0.96      0.772\n"
     ]
    },
    {
     "name": "stderr",
     "output_type": "stream",
     "text": [
      "\n"
     ]
    },
    {
     "name": "stdout",
     "output_type": "stream",
     "text": [
      "\n",
      "      Epoch    GPU_mem   box_loss   cls_loss   dfl_loss  Instances       Size\n"
     ]
    },
    {
     "name": "stderr",
     "output_type": "stream",
     "text": [
      "     67/100      3.74G      0.493     0.3329      1.044         14        640: 100%|██████████| 30/30 [00:04<00:00,  6.51it/s]\n",
      "                 Class     Images  Instances      Box(P          R      mAP50  mAP50-95): 100%|██████████| 5/5 [00:00<00:00,  6.38it/s]"
     ]
    },
    {
     "name": "stdout",
     "output_type": "stream",
     "text": [
      "                   all        131        153      0.972      0.914      0.961      0.777\n"
     ]
    },
    {
     "name": "stderr",
     "output_type": "stream",
     "text": [
      "\n"
     ]
    },
    {
     "name": "stdout",
     "output_type": "stream",
     "text": [
      "\n",
      "      Epoch    GPU_mem   box_loss   cls_loss   dfl_loss  Instances       Size\n"
     ]
    },
    {
     "name": "stderr",
     "output_type": "stream",
     "text": [
      "     68/100      3.74G     0.4931     0.3347      1.016         13        640: 100%|██████████| 30/30 [00:04<00:00,  6.43it/s]\n",
      "                 Class     Images  Instances      Box(P          R      mAP50  mAP50-95): 100%|██████████| 5/5 [00:00<00:00,  6.24it/s]"
     ]
    },
    {
     "name": "stdout",
     "output_type": "stream",
     "text": [
      "                   all        131        153      0.971      0.908      0.956      0.782\n"
     ]
    },
    {
     "name": "stderr",
     "output_type": "stream",
     "text": [
      "\n"
     ]
    },
    {
     "name": "stdout",
     "output_type": "stream",
     "text": [
      "\n",
      "      Epoch    GPU_mem   box_loss   cls_loss   dfl_loss  Instances       Size\n"
     ]
    },
    {
     "name": "stderr",
     "output_type": "stream",
     "text": [
      "     69/100      3.74G     0.5182     0.3719      1.037         21        640: 100%|██████████| 30/30 [00:04<00:00,  6.46it/s]\n",
      "                 Class     Images  Instances      Box(P          R      mAP50  mAP50-95): 100%|██████████| 5/5 [00:00<00:00,  6.33it/s]"
     ]
    },
    {
     "name": "stdout",
     "output_type": "stream",
     "text": [
      "                   all        131        153      0.969      0.889      0.947      0.786\n"
     ]
    },
    {
     "name": "stderr",
     "output_type": "stream",
     "text": [
      "\n"
     ]
    },
    {
     "name": "stdout",
     "output_type": "stream",
     "text": [
      "\n",
      "      Epoch    GPU_mem   box_loss   cls_loss   dfl_loss  Instances       Size\n"
     ]
    },
    {
     "name": "stderr",
     "output_type": "stream",
     "text": [
      "     70/100      3.74G      0.498     0.3376      1.037         17        640: 100%|██████████| 30/30 [00:04<00:00,  6.55it/s]\n",
      "                 Class     Images  Instances      Box(P          R      mAP50  mAP50-95): 100%|██████████| 5/5 [00:00<00:00,  6.64it/s]"
     ]
    },
    {
     "name": "stdout",
     "output_type": "stream",
     "text": [
      "                   all        131        153       0.94      0.918      0.948      0.792\n"
     ]
    },
    {
     "name": "stderr",
     "output_type": "stream",
     "text": [
      "\n"
     ]
    },
    {
     "name": "stdout",
     "output_type": "stream",
     "text": [
      "\n",
      "      Epoch    GPU_mem   box_loss   cls_loss   dfl_loss  Instances       Size\n"
     ]
    },
    {
     "name": "stderr",
     "output_type": "stream",
     "text": [
      "     71/100      3.74G     0.4783     0.3257      1.013         11        640: 100%|██████████| 30/30 [00:04<00:00,  6.59it/s]\n",
      "                 Class     Images  Instances      Box(P          R      mAP50  mAP50-95): 100%|██████████| 5/5 [00:00<00:00,  5.99it/s]"
     ]
    },
    {
     "name": "stdout",
     "output_type": "stream",
     "text": [
      "                   all        131        153      0.953      0.925      0.949      0.787\n"
     ]
    },
    {
     "name": "stderr",
     "output_type": "stream",
     "text": [
      "\n"
     ]
    },
    {
     "name": "stdout",
     "output_type": "stream",
     "text": [
      "\n",
      "      Epoch    GPU_mem   box_loss   cls_loss   dfl_loss  Instances       Size\n"
     ]
    },
    {
     "name": "stderr",
     "output_type": "stream",
     "text": [
      "     72/100      3.74G     0.4883     0.3242       1.01         12        640: 100%|██████████| 30/30 [00:04<00:00,  6.47it/s]\n",
      "                 Class     Images  Instances      Box(P          R      mAP50  mAP50-95): 100%|██████████| 5/5 [00:00<00:00,  6.53it/s]"
     ]
    },
    {
     "name": "stdout",
     "output_type": "stream",
     "text": [
      "                   all        131        153      0.962      0.935      0.957      0.798\n"
     ]
    },
    {
     "name": "stderr",
     "output_type": "stream",
     "text": [
      "\n"
     ]
    },
    {
     "name": "stdout",
     "output_type": "stream",
     "text": [
      "\n",
      "      Epoch    GPU_mem   box_loss   cls_loss   dfl_loss  Instances       Size\n"
     ]
    },
    {
     "name": "stderr",
     "output_type": "stream",
     "text": [
      "     73/100      3.74G     0.4765     0.3286      1.018         12        640: 100%|██████████| 30/30 [00:04<00:00,  6.62it/s]\n",
      "                 Class     Images  Instances      Box(P          R      mAP50  mAP50-95): 100%|██████████| 5/5 [00:00<00:00,  6.82it/s]"
     ]
    },
    {
     "name": "stdout",
     "output_type": "stream",
     "text": [
      "                   all        131        153      0.951      0.935       0.96      0.802\n"
     ]
    },
    {
     "name": "stderr",
     "output_type": "stream",
     "text": [
      "\n"
     ]
    },
    {
     "name": "stdout",
     "output_type": "stream",
     "text": [
      "\n",
      "      Epoch    GPU_mem   box_loss   cls_loss   dfl_loss  Instances       Size\n"
     ]
    },
    {
     "name": "stderr",
     "output_type": "stream",
     "text": [
      "     74/100      3.74G     0.4602     0.3107      1.008         20        640: 100%|██████████| 30/30 [00:04<00:00,  6.56it/s]\n",
      "                 Class     Images  Instances      Box(P          R      mAP50  mAP50-95): 100%|██████████| 5/5 [00:00<00:00,  6.69it/s]"
     ]
    },
    {
     "name": "stdout",
     "output_type": "stream",
     "text": [
      "                   all        131        153      0.979      0.933      0.959      0.805\n"
     ]
    },
    {
     "name": "stderr",
     "output_type": "stream",
     "text": [
      "\n"
     ]
    },
    {
     "name": "stdout",
     "output_type": "stream",
     "text": [
      "\n",
      "      Epoch    GPU_mem   box_loss   cls_loss   dfl_loss  Instances       Size\n"
     ]
    },
    {
     "name": "stderr",
     "output_type": "stream",
     "text": [
      "     75/100      3.74G     0.4762     0.3223      1.013         13        640: 100%|██████████| 30/30 [00:04<00:00,  6.59it/s]\n",
      "                 Class     Images  Instances      Box(P          R      mAP50  mAP50-95): 100%|██████████| 5/5 [00:00<00:00,  7.00it/s]"
     ]
    },
    {
     "name": "stdout",
     "output_type": "stream",
     "text": [
      "                   all        131        153      0.972      0.919      0.961      0.789\n"
     ]
    },
    {
     "name": "stderr",
     "output_type": "stream",
     "text": [
      "\n"
     ]
    },
    {
     "name": "stdout",
     "output_type": "stream",
     "text": [
      "\n",
      "      Epoch    GPU_mem   box_loss   cls_loss   dfl_loss  Instances       Size\n"
     ]
    },
    {
     "name": "stderr",
     "output_type": "stream",
     "text": [
      "     76/100      3.74G     0.4703     0.3197     0.9989         14        640: 100%|██████████| 30/30 [00:04<00:00,  6.40it/s]\n",
      "                 Class     Images  Instances      Box(P          R      mAP50  mAP50-95): 100%|██████████| 5/5 [00:00<00:00,  6.49it/s]"
     ]
    },
    {
     "name": "stdout",
     "output_type": "stream",
     "text": [
      "                   all        131        153      0.959      0.925      0.961      0.798\n"
     ]
    },
    {
     "name": "stderr",
     "output_type": "stream",
     "text": [
      "\n"
     ]
    },
    {
     "name": "stdout",
     "output_type": "stream",
     "text": [
      "\n",
      "      Epoch    GPU_mem   box_loss   cls_loss   dfl_loss  Instances       Size\n"
     ]
    },
    {
     "name": "stderr",
     "output_type": "stream",
     "text": [
      "     77/100      3.74G     0.4795     0.3172      1.016         21        640: 100%|██████████| 30/30 [00:04<00:00,  6.30it/s]\n",
      "                 Class     Images  Instances      Box(P          R      mAP50  mAP50-95): 100%|██████████| 5/5 [00:00<00:00,  6.78it/s]"
     ]
    },
    {
     "name": "stdout",
     "output_type": "stream",
     "text": [
      "                   all        131        153       0.95      0.941      0.961      0.799\n"
     ]
    },
    {
     "name": "stderr",
     "output_type": "stream",
     "text": [
      "\n"
     ]
    },
    {
     "name": "stdout",
     "output_type": "stream",
     "text": [
      "\n",
      "      Epoch    GPU_mem   box_loss   cls_loss   dfl_loss  Instances       Size\n"
     ]
    },
    {
     "name": "stderr",
     "output_type": "stream",
     "text": [
      "     78/100      3.74G     0.4618     0.3138      1.012         20        640: 100%|██████████| 30/30 [00:04<00:00,  6.49it/s]\n",
      "                 Class     Images  Instances      Box(P          R      mAP50  mAP50-95): 100%|██████████| 5/5 [00:00<00:00,  7.26it/s]"
     ]
    },
    {
     "name": "stdout",
     "output_type": "stream",
     "text": [
      "                   all        131        153      0.956      0.922      0.956      0.789\n"
     ]
    },
    {
     "name": "stderr",
     "output_type": "stream",
     "text": [
      "\n"
     ]
    },
    {
     "name": "stdout",
     "output_type": "stream",
     "text": [
      "\n",
      "      Epoch    GPU_mem   box_loss   cls_loss   dfl_loss  Instances       Size\n"
     ]
    },
    {
     "name": "stderr",
     "output_type": "stream",
     "text": [
      "     79/100      3.74G     0.4502     0.3116      1.008         12        640: 100%|██████████| 30/30 [00:04<00:00,  6.57it/s]\n",
      "                 Class     Images  Instances      Box(P          R      mAP50  mAP50-95): 100%|██████████| 5/5 [00:00<00:00,  6.89it/s]"
     ]
    },
    {
     "name": "stdout",
     "output_type": "stream",
     "text": [
      "                   all        131        153      0.959      0.908      0.953      0.792\n"
     ]
    },
    {
     "name": "stderr",
     "output_type": "stream",
     "text": [
      "\n"
     ]
    },
    {
     "name": "stdout",
     "output_type": "stream",
     "text": [
      "\n",
      "      Epoch    GPU_mem   box_loss   cls_loss   dfl_loss  Instances       Size\n"
     ]
    },
    {
     "name": "stderr",
     "output_type": "stream",
     "text": [
      "     80/100      3.74G      0.474     0.3183       1.01         18        640: 100%|██████████| 30/30 [00:04<00:00,  6.46it/s]\n",
      "                 Class     Images  Instances      Box(P          R      mAP50  mAP50-95): 100%|██████████| 5/5 [00:00<00:00,  7.15it/s]"
     ]
    },
    {
     "name": "stdout",
     "output_type": "stream",
     "text": [
      "                   all        131        153      0.939      0.912      0.953      0.792\n"
     ]
    },
    {
     "name": "stderr",
     "output_type": "stream",
     "text": [
      "\n"
     ]
    },
    {
     "name": "stdout",
     "output_type": "stream",
     "text": [
      "\n",
      "      Epoch    GPU_mem   box_loss   cls_loss   dfl_loss  Instances       Size\n"
     ]
    },
    {
     "name": "stderr",
     "output_type": "stream",
     "text": [
      "     81/100      3.74G     0.4276     0.2973      1.008         19        640: 100%|██████████| 30/30 [00:04<00:00,  6.56it/s]\n",
      "                 Class     Images  Instances      Box(P          R      mAP50  mAP50-95): 100%|██████████| 5/5 [00:00<00:00,  6.91it/s]"
     ]
    },
    {
     "name": "stdout",
     "output_type": "stream",
     "text": [
      "                   all        131        153      0.972      0.894      0.952      0.799\n"
     ]
    },
    {
     "name": "stderr",
     "output_type": "stream",
     "text": [
      "\n"
     ]
    },
    {
     "name": "stdout",
     "output_type": "stream",
     "text": [
      "\n",
      "      Epoch    GPU_mem   box_loss   cls_loss   dfl_loss  Instances       Size\n"
     ]
    },
    {
     "name": "stderr",
     "output_type": "stream",
     "text": [
      "     82/100      3.74G     0.4668      0.304      1.004         16        640: 100%|██████████| 30/30 [00:04<00:00,  6.33it/s]\n",
      "                 Class     Images  Instances      Box(P          R      mAP50  mAP50-95): 100%|██████████| 5/5 [00:00<00:00,  6.89it/s]"
     ]
    },
    {
     "name": "stdout",
     "output_type": "stream",
     "text": [
      "                   all        131        153       0.95      0.928      0.954        0.8\n"
     ]
    },
    {
     "name": "stderr",
     "output_type": "stream",
     "text": [
      "\n"
     ]
    },
    {
     "name": "stdout",
     "output_type": "stream",
     "text": [
      "\n",
      "      Epoch    GPU_mem   box_loss   cls_loss   dfl_loss  Instances       Size\n"
     ]
    },
    {
     "name": "stderr",
     "output_type": "stream",
     "text": [
      "     83/100      3.74G     0.4522      0.313     0.9997         16        640: 100%|██████████| 30/30 [00:04<00:00,  6.77it/s]\n",
      "                 Class     Images  Instances      Box(P          R      mAP50  mAP50-95): 100%|██████████| 5/5 [00:00<00:00,  6.47it/s]"
     ]
    },
    {
     "name": "stdout",
     "output_type": "stream",
     "text": [
      "                   all        131        153      0.947      0.942      0.955      0.799\n"
     ]
    },
    {
     "name": "stderr",
     "output_type": "stream",
     "text": [
      "\n"
     ]
    },
    {
     "name": "stdout",
     "output_type": "stream",
     "text": [
      "\n",
      "      Epoch    GPU_mem   box_loss   cls_loss   dfl_loss  Instances       Size\n"
     ]
    },
    {
     "name": "stderr",
     "output_type": "stream",
     "text": [
      "     84/100      3.74G     0.4806     0.3127      1.016         12        640: 100%|██████████| 30/30 [00:04<00:00,  6.56it/s]\n",
      "                 Class     Images  Instances      Box(P          R      mAP50  mAP50-95): 100%|██████████| 5/5 [00:00<00:00,  6.50it/s]"
     ]
    },
    {
     "name": "stdout",
     "output_type": "stream",
     "text": [
      "                   all        131        153      0.963      0.915      0.954      0.797\n"
     ]
    },
    {
     "name": "stderr",
     "output_type": "stream",
     "text": [
      "\n"
     ]
    },
    {
     "name": "stdout",
     "output_type": "stream",
     "text": [
      "\n",
      "      Epoch    GPU_mem   box_loss   cls_loss   dfl_loss  Instances       Size\n"
     ]
    },
    {
     "name": "stderr",
     "output_type": "stream",
     "text": [
      "     85/100      3.74G     0.4438     0.3035     0.9869         12        640: 100%|██████████| 30/30 [00:04<00:00,  6.74it/s]\n",
      "                 Class     Images  Instances      Box(P          R      mAP50  mAP50-95): 100%|██████████| 5/5 [00:00<00:00,  6.52it/s]"
     ]
    },
    {
     "name": "stdout",
     "output_type": "stream",
     "text": [
      "                   all        131        153      0.953      0.931      0.953      0.793\n"
     ]
    },
    {
     "name": "stderr",
     "output_type": "stream",
     "text": [
      "\n"
     ]
    },
    {
     "name": "stdout",
     "output_type": "stream",
     "text": [
      "\n",
      "      Epoch    GPU_mem   box_loss   cls_loss   dfl_loss  Instances       Size\n"
     ]
    },
    {
     "name": "stderr",
     "output_type": "stream",
     "text": [
      "     86/100      3.74G     0.4217     0.2952      1.001         15        640: 100%|██████████| 30/30 [00:04<00:00,  6.74it/s]\n",
      "                 Class     Images  Instances      Box(P          R      mAP50  mAP50-95): 100%|██████████| 5/5 [00:00<00:00,  6.58it/s]"
     ]
    },
    {
     "name": "stdout",
     "output_type": "stream",
     "text": [
      "                   all        131        153      0.966      0.935      0.953        0.8\n"
     ]
    },
    {
     "name": "stderr",
     "output_type": "stream",
     "text": [
      "\n"
     ]
    },
    {
     "name": "stdout",
     "output_type": "stream",
     "text": [
      "\n",
      "      Epoch    GPU_mem   box_loss   cls_loss   dfl_loss  Instances       Size\n"
     ]
    },
    {
     "name": "stderr",
     "output_type": "stream",
     "text": [
      "     87/100      3.74G     0.4255     0.2913      1.002         10        640: 100%|██████████| 30/30 [00:04<00:00,  6.50it/s]\n",
      "                 Class     Images  Instances      Box(P          R      mAP50  mAP50-95): 100%|██████████| 5/5 [00:00<00:00,  7.15it/s]"
     ]
    },
    {
     "name": "stdout",
     "output_type": "stream",
     "text": [
      "                   all        131        153      0.953       0.92      0.951      0.797\n"
     ]
    },
    {
     "name": "stderr",
     "output_type": "stream",
     "text": [
      "\n"
     ]
    },
    {
     "name": "stdout",
     "output_type": "stream",
     "text": [
      "\n",
      "      Epoch    GPU_mem   box_loss   cls_loss   dfl_loss  Instances       Size\n"
     ]
    },
    {
     "name": "stderr",
     "output_type": "stream",
     "text": [
      "     88/100      3.74G     0.4433     0.3018      1.003         16        640: 100%|██████████| 30/30 [00:04<00:00,  6.62it/s]\n",
      "                 Class     Images  Instances      Box(P          R      mAP50  mAP50-95): 100%|██████████| 5/5 [00:00<00:00,  7.03it/s]"
     ]
    },
    {
     "name": "stdout",
     "output_type": "stream",
     "text": [
      "                   all        131        153      0.952      0.922      0.953      0.798\n"
     ]
    },
    {
     "name": "stderr",
     "output_type": "stream",
     "text": [
      "\n"
     ]
    },
    {
     "name": "stdout",
     "output_type": "stream",
     "text": [
      "\n",
      "      Epoch    GPU_mem   box_loss   cls_loss   dfl_loss  Instances       Size\n"
     ]
    },
    {
     "name": "stderr",
     "output_type": "stream",
     "text": [
      "     89/100      3.74G     0.4607     0.2955      1.011         12        640: 100%|██████████| 30/30 [00:04<00:00,  6.62it/s]\n",
      "                 Class     Images  Instances      Box(P          R      mAP50  mAP50-95): 100%|██████████| 5/5 [00:00<00:00,  6.63it/s]"
     ]
    },
    {
     "name": "stdout",
     "output_type": "stream",
     "text": [
      "                   all        131        153      0.957      0.922      0.954        0.8\n"
     ]
    },
    {
     "name": "stderr",
     "output_type": "stream",
     "text": [
      "\n"
     ]
    },
    {
     "name": "stdout",
     "output_type": "stream",
     "text": [
      "\n",
      "      Epoch    GPU_mem   box_loss   cls_loss   dfl_loss  Instances       Size\n"
     ]
    },
    {
     "name": "stderr",
     "output_type": "stream",
     "text": [
      "     90/100      3.74G     0.4241      0.289     0.9835         10        640: 100%|██████████| 30/30 [00:04<00:00,  6.36it/s]\n",
      "                 Class     Images  Instances      Box(P          R      mAP50  mAP50-95): 100%|██████████| 5/5 [00:00<00:00,  7.06it/s]"
     ]
    },
    {
     "name": "stdout",
     "output_type": "stream",
     "text": [
      "                   all        131        153      0.966      0.926      0.954      0.801\n"
     ]
    },
    {
     "name": "stderr",
     "output_type": "stream",
     "text": [
      "\n"
     ]
    },
    {
     "name": "stdout",
     "output_type": "stream",
     "text": [
      "Closing dataloader mosaic\n",
      "\u001b[34m\u001b[1malbumentations: \u001b[0mBlur(p=0.01, blur_limit=(3, 7)), MedianBlur(p=0.01, blur_limit=(3, 7)), ToGray(p=0.01, num_output_channels=3, method='weighted_average'), CLAHE(p=0.01, clip_limit=(1.0, 4.0), tile_grid_size=(8, 8))\n",
      "\n",
      "      Epoch    GPU_mem   box_loss   cls_loss   dfl_loss  Instances       Size\n"
     ]
    },
    {
     "name": "stderr",
     "output_type": "stream",
     "text": [
      "     91/100      3.74G     0.4109     0.2669     0.9699         17        640: 100%|██████████| 30/30 [00:04<00:00,  6.21it/s]\n",
      "                 Class     Images  Instances      Box(P          R      mAP50  mAP50-95): 100%|██████████| 5/5 [00:00<00:00,  6.56it/s]"
     ]
    },
    {
     "name": "stdout",
     "output_type": "stream",
     "text": [
      "                   all        131        153      0.971      0.935      0.952        0.8\n"
     ]
    },
    {
     "name": "stderr",
     "output_type": "stream",
     "text": [
      "\n"
     ]
    },
    {
     "name": "stdout",
     "output_type": "stream",
     "text": [
      "\n",
      "      Epoch    GPU_mem   box_loss   cls_loss   dfl_loss  Instances       Size\n"
     ]
    },
    {
     "name": "stderr",
     "output_type": "stream",
     "text": [
      "     92/100      3.74G     0.3855     0.2621     0.9613          7        640: 100%|██████████| 30/30 [00:04<00:00,  6.43it/s]\n",
      "                 Class     Images  Instances      Box(P          R      mAP50  mAP50-95): 100%|██████████| 5/5 [00:00<00:00,  7.12it/s]"
     ]
    },
    {
     "name": "stdout",
     "output_type": "stream",
     "text": [
      "                   all        131        153      0.973      0.935      0.951      0.798\n"
     ]
    },
    {
     "name": "stderr",
     "output_type": "stream",
     "text": [
      "\n"
     ]
    },
    {
     "name": "stdout",
     "output_type": "stream",
     "text": [
      "\n",
      "      Epoch    GPU_mem   box_loss   cls_loss   dfl_loss  Instances       Size\n"
     ]
    },
    {
     "name": "stderr",
     "output_type": "stream",
     "text": [
      "     93/100      3.74G     0.3885       0.25     0.9695          9        640: 100%|██████████| 30/30 [00:04<00:00,  6.16it/s]\n",
      "                 Class     Images  Instances      Box(P          R      mAP50  mAP50-95): 100%|██████████| 5/5 [00:00<00:00,  6.46it/s]"
     ]
    },
    {
     "name": "stdout",
     "output_type": "stream",
     "text": [
      "                   all        131        153      0.955      0.935      0.951      0.799\n"
     ]
    },
    {
     "name": "stderr",
     "output_type": "stream",
     "text": [
      "\n"
     ]
    },
    {
     "name": "stdout",
     "output_type": "stream",
     "text": [
      "\n",
      "      Epoch    GPU_mem   box_loss   cls_loss   dfl_loss  Instances       Size\n"
     ]
    },
    {
     "name": "stderr",
     "output_type": "stream",
     "text": [
      "     94/100      3.74G     0.4012     0.2523     0.9671         13        640: 100%|██████████| 30/30 [00:04<00:00,  6.79it/s]\n",
      "                 Class     Images  Instances      Box(P          R      mAP50  mAP50-95): 100%|██████████| 5/5 [00:00<00:00,  7.86it/s]"
     ]
    },
    {
     "name": "stdout",
     "output_type": "stream",
     "text": [
      "                   all        131        153      0.966      0.927      0.951      0.794\n"
     ]
    },
    {
     "name": "stderr",
     "output_type": "stream",
     "text": [
      "\n"
     ]
    },
    {
     "name": "stdout",
     "output_type": "stream",
     "text": [
      "\n",
      "      Epoch    GPU_mem   box_loss   cls_loss   dfl_loss  Instances       Size\n"
     ]
    },
    {
     "name": "stderr",
     "output_type": "stream",
     "text": [
      "     95/100      3.74G     0.3851     0.2452     0.9558          7        640: 100%|██████████| 30/30 [00:04<00:00,  6.64it/s]\n",
      "                 Class     Images  Instances      Box(P          R      mAP50  mAP50-95): 100%|██████████| 5/5 [00:00<00:00,  7.47it/s]"
     ]
    },
    {
     "name": "stdout",
     "output_type": "stream",
     "text": [
      "                   all        131        153      0.966      0.926      0.952      0.797\n"
     ]
    },
    {
     "name": "stderr",
     "output_type": "stream",
     "text": [
      "\n"
     ]
    },
    {
     "name": "stdout",
     "output_type": "stream",
     "text": [
      "\n",
      "      Epoch    GPU_mem   box_loss   cls_loss   dfl_loss  Instances       Size\n"
     ]
    },
    {
     "name": "stderr",
     "output_type": "stream",
     "text": [
      "     96/100      3.74G     0.3942     0.2529     0.9666          9        640: 100%|██████████| 30/30 [00:04<00:00,  6.92it/s]\n",
      "                 Class     Images  Instances      Box(P          R      mAP50  mAP50-95): 100%|██████████| 5/5 [00:00<00:00,  6.77it/s]"
     ]
    },
    {
     "name": "stdout",
     "output_type": "stream",
     "text": [
      "                   all        131        153      0.954      0.941      0.952      0.797\n"
     ]
    },
    {
     "name": "stderr",
     "output_type": "stream",
     "text": [
      "\n"
     ]
    },
    {
     "name": "stdout",
     "output_type": "stream",
     "text": [
      "\n",
      "      Epoch    GPU_mem   box_loss   cls_loss   dfl_loss  Instances       Size\n"
     ]
    },
    {
     "name": "stderr",
     "output_type": "stream",
     "text": [
      "     97/100      3.74G     0.4037     0.2571     0.9805          9        640: 100%|██████████| 30/30 [00:04<00:00,  6.81it/s]\n",
      "                 Class     Images  Instances      Box(P          R      mAP50  mAP50-95): 100%|██████████| 5/5 [00:00<00:00,  6.63it/s]"
     ]
    },
    {
     "name": "stdout",
     "output_type": "stream",
     "text": [
      "                   all        131        153      0.953       0.93      0.952      0.796\n"
     ]
    },
    {
     "name": "stderr",
     "output_type": "stream",
     "text": [
      "\n"
     ]
    },
    {
     "name": "stdout",
     "output_type": "stream",
     "text": [
      "\n",
      "      Epoch    GPU_mem   box_loss   cls_loss   dfl_loss  Instances       Size\n"
     ]
    },
    {
     "name": "stderr",
     "output_type": "stream",
     "text": [
      "     98/100      3.74G     0.4024     0.2491     0.9623          7        640: 100%|██████████| 30/30 [00:04<00:00,  6.75it/s]\n",
      "                 Class     Images  Instances      Box(P          R      mAP50  mAP50-95): 100%|██████████| 5/5 [00:00<00:00,  7.36it/s]"
     ]
    },
    {
     "name": "stdout",
     "output_type": "stream",
     "text": [
      "                   all        131        153      0.953       0.93      0.952      0.797\n"
     ]
    },
    {
     "name": "stderr",
     "output_type": "stream",
     "text": [
      "\n"
     ]
    },
    {
     "name": "stdout",
     "output_type": "stream",
     "text": [
      "\n",
      "      Epoch    GPU_mem   box_loss   cls_loss   dfl_loss  Instances       Size\n"
     ]
    },
    {
     "name": "stderr",
     "output_type": "stream",
     "text": [
      "     99/100      3.74G     0.3899     0.2403     0.9541          8        640: 100%|██████████| 30/30 [00:04<00:00,  7.27it/s]\n",
      "                 Class     Images  Instances      Box(P          R      mAP50  mAP50-95): 100%|██████████| 5/5 [00:00<00:00,  7.20it/s]"
     ]
    },
    {
     "name": "stdout",
     "output_type": "stream",
     "text": [
      "                   all        131        153       0.96       0.93      0.953      0.798\n"
     ]
    },
    {
     "name": "stderr",
     "output_type": "stream",
     "text": [
      "\n"
     ]
    },
    {
     "name": "stdout",
     "output_type": "stream",
     "text": [
      "\n",
      "      Epoch    GPU_mem   box_loss   cls_loss   dfl_loss  Instances       Size\n"
     ]
    },
    {
     "name": "stderr",
     "output_type": "stream",
     "text": [
      "    100/100      3.74G      0.387     0.2481     0.9789          7        640: 100%|██████████| 30/30 [00:04<00:00,  7.14it/s]\n",
      "                 Class     Images  Instances      Box(P          R      mAP50  mAP50-95): 100%|██████████| 5/5 [00:00<00:00,  8.15it/s]"
     ]
    },
    {
     "name": "stdout",
     "output_type": "stream",
     "text": [
      "                   all        131        153      0.962      0.928      0.954        0.8\n"
     ]
    },
    {
     "name": "stderr",
     "output_type": "stream",
     "text": [
      "\n"
     ]
    },
    {
     "name": "stdout",
     "output_type": "stream",
     "text": [
      "\n",
      "100 epochs completed in 0.164 hours.\n",
      "Optimizer stripped from runs\\detect\\yolo-anpr5\\weights\\last.pt, 5.5MB\n",
      "Optimizer stripped from runs\\detect\\yolo-anpr5\\weights\\best.pt, 5.5MB\n",
      "\n",
      "Validating runs\\detect\\yolo-anpr5\\weights\\best.pt...\n",
      "Ultralytics 8.3.107  Python-3.9.21 torch-2.8.0.dev20250410+cu128 CUDA:0 (NVIDIA GeForce RTX 5070, 12227MiB)\n",
      "YOLOv12n summary (fused): 159 layers, 2,556,923 parameters, 0 gradients, 6.3 GFLOPs\n"
     ]
    },
    {
     "name": "stderr",
     "output_type": "stream",
     "text": [
      "                 Class     Images  Instances      Box(P          R      mAP50  mAP50-95): 100%|██████████| 5/5 [00:01<00:00,  4.41it/s]\n"
     ]
    },
    {
     "name": "stdout",
     "output_type": "stream",
     "text": [
      "                   all        131        153      0.979      0.933      0.959      0.805\n",
      "Speed: 0.1ms preprocess, 2.3ms inference, 0.0ms loss, 1.3ms postprocess per image\n",
      "Results saved to \u001b[1mruns\\detect\\yolo-anpr5\u001b[0m\n"
     ]
    },
    {
     "data": {
      "text/plain": [
       "ultralytics.utils.metrics.DetMetrics object with attributes:\n",
       "\n",
       "ap_class_index: array([0])\n",
       "box: ultralytics.utils.metrics.Metric object\n",
       "confusion_matrix: <ultralytics.utils.metrics.ConfusionMatrix object at 0x000002057639A0D0>\n",
       "curves: ['Precision-Recall(B)', 'F1-Confidence(B)', 'Precision-Confidence(B)', 'Recall-Confidence(B)']\n",
       "curves_results: [[array([          0,    0.001001,    0.002002,    0.003003,    0.004004,    0.005005,    0.006006,    0.007007,    0.008008,    0.009009,     0.01001,    0.011011,    0.012012,    0.013013,    0.014014,    0.015015,    0.016016,    0.017017,    0.018018,    0.019019,     0.02002,    0.021021,    0.022022,    0.023023,\n",
       "          0.024024,    0.025025,    0.026026,    0.027027,    0.028028,    0.029029,     0.03003,    0.031031,    0.032032,    0.033033,    0.034034,    0.035035,    0.036036,    0.037037,    0.038038,    0.039039,     0.04004,    0.041041,    0.042042,    0.043043,    0.044044,    0.045045,    0.046046,    0.047047,\n",
       "          0.048048,    0.049049,     0.05005,    0.051051,    0.052052,    0.053053,    0.054054,    0.055055,    0.056056,    0.057057,    0.058058,    0.059059,     0.06006,    0.061061,    0.062062,    0.063063,    0.064064,    0.065065,    0.066066,    0.067067,    0.068068,    0.069069,     0.07007,    0.071071,\n",
       "          0.072072,    0.073073,    0.074074,    0.075075,    0.076076,    0.077077,    0.078078,    0.079079,     0.08008,    0.081081,    0.082082,    0.083083,    0.084084,    0.085085,    0.086086,    0.087087,    0.088088,    0.089089,     0.09009,    0.091091,    0.092092,    0.093093,    0.094094,    0.095095,\n",
       "          0.096096,    0.097097,    0.098098,    0.099099,      0.1001,      0.1011,      0.1021,      0.1031,      0.1041,     0.10511,     0.10611,     0.10711,     0.10811,     0.10911,     0.11011,     0.11111,     0.11211,     0.11311,     0.11411,     0.11512,     0.11612,     0.11712,     0.11812,     0.11912,\n",
       "           0.12012,     0.12112,     0.12212,     0.12312,     0.12412,     0.12513,     0.12613,     0.12713,     0.12813,     0.12913,     0.13013,     0.13113,     0.13213,     0.13313,     0.13413,     0.13514,     0.13614,     0.13714,     0.13814,     0.13914,     0.14014,     0.14114,     0.14214,     0.14314,\n",
       "           0.14414,     0.14515,     0.14615,     0.14715,     0.14815,     0.14915,     0.15015,     0.15115,     0.15215,     0.15315,     0.15415,     0.15516,     0.15616,     0.15716,     0.15816,     0.15916,     0.16016,     0.16116,     0.16216,     0.16316,     0.16416,     0.16517,     0.16617,     0.16717,\n",
       "           0.16817,     0.16917,     0.17017,     0.17117,     0.17217,     0.17317,     0.17417,     0.17518,     0.17618,     0.17718,     0.17818,     0.17918,     0.18018,     0.18118,     0.18218,     0.18318,     0.18418,     0.18519,     0.18619,     0.18719,     0.18819,     0.18919,     0.19019,     0.19119,\n",
       "           0.19219,     0.19319,     0.19419,      0.1952,      0.1962,      0.1972,      0.1982,      0.1992,      0.2002,      0.2012,      0.2022,      0.2032,      0.2042,     0.20521,     0.20621,     0.20721,     0.20821,     0.20921,     0.21021,     0.21121,     0.21221,     0.21321,     0.21421,     0.21522,\n",
       "           0.21622,     0.21722,     0.21822,     0.21922,     0.22022,     0.22122,     0.22222,     0.22322,     0.22422,     0.22523,     0.22623,     0.22723,     0.22823,     0.22923,     0.23023,     0.23123,     0.23223,     0.23323,     0.23423,     0.23524,     0.23624,     0.23724,     0.23824,     0.23924,\n",
       "           0.24024,     0.24124,     0.24224,     0.24324,     0.24424,     0.24525,     0.24625,     0.24725,     0.24825,     0.24925,     0.25025,     0.25125,     0.25225,     0.25325,     0.25425,     0.25526,     0.25626,     0.25726,     0.25826,     0.25926,     0.26026,     0.26126,     0.26226,     0.26326,\n",
       "           0.26426,     0.26527,     0.26627,     0.26727,     0.26827,     0.26927,     0.27027,     0.27127,     0.27227,     0.27327,     0.27427,     0.27528,     0.27628,     0.27728,     0.27828,     0.27928,     0.28028,     0.28128,     0.28228,     0.28328,     0.28428,     0.28529,     0.28629,     0.28729,\n",
       "           0.28829,     0.28929,     0.29029,     0.29129,     0.29229,     0.29329,     0.29429,      0.2953,      0.2963,      0.2973,      0.2983,      0.2993,      0.3003,      0.3013,      0.3023,      0.3033,      0.3043,     0.30531,     0.30631,     0.30731,     0.30831,     0.30931,     0.31031,     0.31131,\n",
       "           0.31231,     0.31331,     0.31431,     0.31532,     0.31632,     0.31732,     0.31832,     0.31932,     0.32032,     0.32132,     0.32232,     0.32332,     0.32432,     0.32533,     0.32633,     0.32733,     0.32833,     0.32933,     0.33033,     0.33133,     0.33233,     0.33333,     0.33433,     0.33534,\n",
       "           0.33634,     0.33734,     0.33834,     0.33934,     0.34034,     0.34134,     0.34234,     0.34334,     0.34434,     0.34535,     0.34635,     0.34735,     0.34835,     0.34935,     0.35035,     0.35135,     0.35235,     0.35335,     0.35435,     0.35536,     0.35636,     0.35736,     0.35836,     0.35936,\n",
       "           0.36036,     0.36136,     0.36236,     0.36336,     0.36436,     0.36537,     0.36637,     0.36737,     0.36837,     0.36937,     0.37037,     0.37137,     0.37237,     0.37337,     0.37437,     0.37538,     0.37638,     0.37738,     0.37838,     0.37938,     0.38038,     0.38138,     0.38238,     0.38338,\n",
       "           0.38438,     0.38539,     0.38639,     0.38739,     0.38839,     0.38939,     0.39039,     0.39139,     0.39239,     0.39339,     0.39439,      0.3954,      0.3964,      0.3974,      0.3984,      0.3994,      0.4004,      0.4014,      0.4024,      0.4034,      0.4044,     0.40541,     0.40641,     0.40741,\n",
       "           0.40841,     0.40941,     0.41041,     0.41141,     0.41241,     0.41341,     0.41441,     0.41542,     0.41642,     0.41742,     0.41842,     0.41942,     0.42042,     0.42142,     0.42242,     0.42342,     0.42442,     0.42543,     0.42643,     0.42743,     0.42843,     0.42943,     0.43043,     0.43143,\n",
       "           0.43243,     0.43343,     0.43443,     0.43544,     0.43644,     0.43744,     0.43844,     0.43944,     0.44044,     0.44144,     0.44244,     0.44344,     0.44444,     0.44545,     0.44645,     0.44745,     0.44845,     0.44945,     0.45045,     0.45145,     0.45245,     0.45345,     0.45445,     0.45546,\n",
       "           0.45646,     0.45746,     0.45846,     0.45946,     0.46046,     0.46146,     0.46246,     0.46346,     0.46446,     0.46547,     0.46647,     0.46747,     0.46847,     0.46947,     0.47047,     0.47147,     0.47247,     0.47347,     0.47447,     0.47548,     0.47648,     0.47748,     0.47848,     0.47948,\n",
       "           0.48048,     0.48148,     0.48248,     0.48348,     0.48448,     0.48549,     0.48649,     0.48749,     0.48849,     0.48949,     0.49049,     0.49149,     0.49249,     0.49349,     0.49449,      0.4955,      0.4965,      0.4975,      0.4985,      0.4995,      0.5005,      0.5015,      0.5025,      0.5035,\n",
       "            0.5045,     0.50551,     0.50651,     0.50751,     0.50851,     0.50951,     0.51051,     0.51151,     0.51251,     0.51351,     0.51451,     0.51552,     0.51652,     0.51752,     0.51852,     0.51952,     0.52052,     0.52152,     0.52252,     0.52352,     0.52452,     0.52553,     0.52653,     0.52753,\n",
       "           0.52853,     0.52953,     0.53053,     0.53153,     0.53253,     0.53353,     0.53453,     0.53554,     0.53654,     0.53754,     0.53854,     0.53954,     0.54054,     0.54154,     0.54254,     0.54354,     0.54454,     0.54555,     0.54655,     0.54755,     0.54855,     0.54955,     0.55055,     0.55155,\n",
       "           0.55255,     0.55355,     0.55455,     0.55556,     0.55656,     0.55756,     0.55856,     0.55956,     0.56056,     0.56156,     0.56256,     0.56356,     0.56456,     0.56557,     0.56657,     0.56757,     0.56857,     0.56957,     0.57057,     0.57157,     0.57257,     0.57357,     0.57457,     0.57558,\n",
       "           0.57658,     0.57758,     0.57858,     0.57958,     0.58058,     0.58158,     0.58258,     0.58358,     0.58458,     0.58559,     0.58659,     0.58759,     0.58859,     0.58959,     0.59059,     0.59159,     0.59259,     0.59359,     0.59459,      0.5956,      0.5966,      0.5976,      0.5986,      0.5996,\n",
       "            0.6006,      0.6016,      0.6026,      0.6036,      0.6046,     0.60561,     0.60661,     0.60761,     0.60861,     0.60961,     0.61061,     0.61161,     0.61261,     0.61361,     0.61461,     0.61562,     0.61662,     0.61762,     0.61862,     0.61962,     0.62062,     0.62162,     0.62262,     0.62362,\n",
       "           0.62462,     0.62563,     0.62663,     0.62763,     0.62863,     0.62963,     0.63063,     0.63163,     0.63263,     0.63363,     0.63463,     0.63564,     0.63664,     0.63764,     0.63864,     0.63964,     0.64064,     0.64164,     0.64264,     0.64364,     0.64464,     0.64565,     0.64665,     0.64765,\n",
       "           0.64865,     0.64965,     0.65065,     0.65165,     0.65265,     0.65365,     0.65465,     0.65566,     0.65666,     0.65766,     0.65866,     0.65966,     0.66066,     0.66166,     0.66266,     0.66366,     0.66466,     0.66567,     0.66667,     0.66767,     0.66867,     0.66967,     0.67067,     0.67167,\n",
       "           0.67267,     0.67367,     0.67467,     0.67568,     0.67668,     0.67768,     0.67868,     0.67968,     0.68068,     0.68168,     0.68268,     0.68368,     0.68468,     0.68569,     0.68669,     0.68769,     0.68869,     0.68969,     0.69069,     0.69169,     0.69269,     0.69369,     0.69469,      0.6957,\n",
       "            0.6967,      0.6977,      0.6987,      0.6997,      0.7007,      0.7017,      0.7027,      0.7037,      0.7047,     0.70571,     0.70671,     0.70771,     0.70871,     0.70971,     0.71071,     0.71171,     0.71271,     0.71371,     0.71471,     0.71572,     0.71672,     0.71772,     0.71872,     0.71972,\n",
       "           0.72072,     0.72172,     0.72272,     0.72372,     0.72472,     0.72573,     0.72673,     0.72773,     0.72873,     0.72973,     0.73073,     0.73173,     0.73273,     0.73373,     0.73473,     0.73574,     0.73674,     0.73774,     0.73874,     0.73974,     0.74074,     0.74174,     0.74274,     0.74374,\n",
       "           0.74474,     0.74575,     0.74675,     0.74775,     0.74875,     0.74975,     0.75075,     0.75175,     0.75275,     0.75375,     0.75475,     0.75576,     0.75676,     0.75776,     0.75876,     0.75976,     0.76076,     0.76176,     0.76276,     0.76376,     0.76476,     0.76577,     0.76677,     0.76777,\n",
       "           0.76877,     0.76977,     0.77077,     0.77177,     0.77277,     0.77377,     0.77477,     0.77578,     0.77678,     0.77778,     0.77878,     0.77978,     0.78078,     0.78178,     0.78278,     0.78378,     0.78478,     0.78579,     0.78679,     0.78779,     0.78879,     0.78979,     0.79079,     0.79179,\n",
       "           0.79279,     0.79379,     0.79479,      0.7958,      0.7968,      0.7978,      0.7988,      0.7998,      0.8008,      0.8018,      0.8028,      0.8038,      0.8048,     0.80581,     0.80681,     0.80781,     0.80881,     0.80981,     0.81081,     0.81181,     0.81281,     0.81381,     0.81481,     0.81582,\n",
       "           0.81682,     0.81782,     0.81882,     0.81982,     0.82082,     0.82182,     0.82282,     0.82382,     0.82482,     0.82583,     0.82683,     0.82783,     0.82883,     0.82983,     0.83083,     0.83183,     0.83283,     0.83383,     0.83483,     0.83584,     0.83684,     0.83784,     0.83884,     0.83984,\n",
       "           0.84084,     0.84184,     0.84284,     0.84384,     0.84484,     0.84585,     0.84685,     0.84785,     0.84885,     0.84985,     0.85085,     0.85185,     0.85285,     0.85385,     0.85485,     0.85586,     0.85686,     0.85786,     0.85886,     0.85986,     0.86086,     0.86186,     0.86286,     0.86386,\n",
       "           0.86486,     0.86587,     0.86687,     0.86787,     0.86887,     0.86987,     0.87087,     0.87187,     0.87287,     0.87387,     0.87487,     0.87588,     0.87688,     0.87788,     0.87888,     0.87988,     0.88088,     0.88188,     0.88288,     0.88388,     0.88488,     0.88589,     0.88689,     0.88789,\n",
       "           0.88889,     0.88989,     0.89089,     0.89189,     0.89289,     0.89389,     0.89489,      0.8959,      0.8969,      0.8979,      0.8989,      0.8999,      0.9009,      0.9019,      0.9029,      0.9039,      0.9049,     0.90591,     0.90691,     0.90791,     0.90891,     0.90991,     0.91091,     0.91191,\n",
       "           0.91291,     0.91391,     0.91491,     0.91592,     0.91692,     0.91792,     0.91892,     0.91992,     0.92092,     0.92192,     0.92292,     0.92392,     0.92492,     0.92593,     0.92693,     0.92793,     0.92893,     0.92993,     0.93093,     0.93193,     0.93293,     0.93393,     0.93493,     0.93594,\n",
       "           0.93694,     0.93794,     0.93894,     0.93994,     0.94094,     0.94194,     0.94294,     0.94394,     0.94494,     0.94595,     0.94695,     0.94795,     0.94895,     0.94995,     0.95095,     0.95195,     0.95295,     0.95395,     0.95495,     0.95596,     0.95696,     0.95796,     0.95896,     0.95996,\n",
       "           0.96096,     0.96196,     0.96296,     0.96396,     0.96496,     0.96597,     0.96697,     0.96797,     0.96897,     0.96997,     0.97097,     0.97197,     0.97297,     0.97397,     0.97497,     0.97598,     0.97698,     0.97798,     0.97898,     0.97998,     0.98098,     0.98198,     0.98298,     0.98398,\n",
       "           0.98498,     0.98599,     0.98699,     0.98799,     0.98899,     0.98999,     0.99099,     0.99199,     0.99299,     0.99399,     0.99499,       0.996,       0.997,       0.998,       0.999,           1]), array([[          1,           1,           1,           1,           1,           1,           1,           1,           1,           1,           1,           1,           1,           1,           1,           1,           1,           1,           1,           1,           1,           1,           1,\n",
       "                  1,           1,           1,           1,           1,           1,           1,           1,           1,           1,           1,           1,           1,           1,           1,           1,           1,           1,           1,           1,           1,           1,           1,\n",
       "                  1,           1,           1,           1,           1,           1,           1,           1,           1,           1,           1,           1,           1,           1,           1,           1,           1,           1,           1,           1,           1,           1,           1,\n",
       "                  1,           1,           1,           1,           1,           1,           1,           1,           1,           1,           1,           1,           1,           1,           1,           1,           1,           1,           1,           1,           1,           1,           1,\n",
       "                  1,           1,           1,           1,           1,           1,           1,           1,           1,           1,           1,           1,           1,           1,           1,           1,           1,           1,           1,           1,           1,           1,           1,\n",
       "                  1,           1,           1,           1,           1,           1,           1,           1,           1,           1,           1,           1,           1,           1,           1,           1,           1,           1,           1,           1,           1,           1,           1,\n",
       "                  1,           1,           1,           1,           1,           1,           1,           1,           1,           1,           1,           1,           1,           1,           1,           1,           1,           1,           1,           1,           1,           1,           1,\n",
       "                  1,           1,           1,           1,           1,           1,           1,           1,           1,           1,           1,           1,           1,           1,           1,           1,           1,           1,           1,           1,           1,           1,           1,\n",
       "                  1,           1,           1,           1,           1,           1,           1,           1,           1,           1,           1,           1,           1,           1,           1,           1,           1,           1,           1,           1,           1,           1,           1,\n",
       "                  1,           1,           1,           1,           1,           1,           1,           1,           1,           1,           1,           1,           1,           1,           1,           1,           1,           1,           1,           1,           1,           1,           1,\n",
       "                  1,           1,           1,           1,           1,           1,           1,           1,           1,           1,           1,           1,           1,           1,           1,           1,           1,           1,           1,           1,           1,           1,           1,\n",
       "                  1,           1,           1,           1,           1,           1,           1,           1,           1,           1,           1,           1,           1,           1,           1,           1,           1,           1,           1,           1,           1,           1,           1,\n",
       "                  1,           1,           1,           1,           1,           1,           1,           1,           1,           1,           1,           1,           1,           1,           1,           1,           1,           1,           1,           1,           1,           1,           1,\n",
       "                  1,           1,           1,           1,           1,           1,           1,           1,           1,           1,           1,           1,           1,           1,           1,           1,           1,           1,           1,           1,           1,           1,           1,\n",
       "                  1,           1,           1,           1,           1,           1,           1,           1,           1,           1,           1,           1,           1,           1,           1,           1,           1,           1,           1,           1,           1,           1,           1,\n",
       "                  1,           1,           1,           1,           1,           1,           1,           1,           1,           1,           1,           1,           1,           1,           1,           1,           1,           1,           1,           1,           1,           1,           1,\n",
       "                  1,           1,           1,           1,           1,           1,           1,           1,           1,           1,           1,           1,           1,           1,           1,           1,           1,           1,           1,           1,           1,           1,           1,\n",
       "                  1,           1,           1,           1,           1,           1,           1,           1,           1,           1,           1,           1,           1,           1,           1,           1,           1,           1,           1,           1,           1,           1,           1,\n",
       "                  1,           1,           1,           1,           1,           1,           1,           1,           1,           1,           1,           1,           1,           1,           1,           1,           1,           1,           1,           1,           1,           1,           1,\n",
       "                  1,           1,           1,           1,           1,           1,           1,           1,           1,           1,           1,           1,           1,           1,           1,           1,           1,           1,           1,           1,           1,           1,           1,\n",
       "                  1,           1,           1,           1,           1,           1,           1,           1,           1,           1,           1,           1,           1,           1,           1,           1,           1,           1,           1,           1,           1,           1,           1,\n",
       "                  1,           1,           1,           1,           1,           1,           1,           1,           1,           1,           1,           1,           1,           1,           1,           1,           1,           1,           1,           1,           1,           1,           1,\n",
       "                  1,           1,           1,           1,           1,           1,           1,           1,           1,           1,           1,           1,           1,           1,           1,           1,           1,           1,           1,           1,           1,           1,           1,\n",
       "                  1,           1,           1,           1,           1,           1,           1,           1,           1,           1,           1,           1,           1,           1,           1,           1,           1,           1,           1,           1,           1,           1,           1,\n",
       "                  1,           1,           1,           1,           1,           1,           1,           1,           1,           1,           1,           1,           1,           1,           1,           1,           1,           1,           1,           1,           1,           1,           1,\n",
       "                  1,           1,           1,           1,           1,           1,           1,           1,           1,           1,           1,           1,           1,           1,           1,           1,           1,           1,           1,           1,           1,           1,           1,\n",
       "                  1,           1,           1,           1,           1,           1,           1,           1,           1,           1,           1,           1,           1,           1,           1,           1,           1,           1,           1,           1,           1,           1,           1,\n",
       "                  1,           1,           1,           1,           1,           1,           1,           1,           1,           1,           1,           1,           1,           1,           1,           1,           1,           1,           1,           1,           1,           1,           1,\n",
       "                  1,           1,           1,           1,           1,           1,           1,           1,           1,           1,           1,           1,           1,           1,           1,           1,           1,           1,           1,           1,           1,           1,           1,\n",
       "                  1,           1,           1,           1,           1,           1,           1,           1,           1,           1,           1,           1,           1,           1,           1,           1,           1,           1,           1,           1,           1,           1,           1,\n",
       "                  1,           1,           1,           1,           1,           1,           1,           1,           1,           1,           1,           1,           1,           1,           1,           1,           1,           1,           1,           1,           1,           1,           1,\n",
       "                  1,           1,           1,           1,           1,           1,           1,           1,           1,           1,           1,           1,           1,           1,           1,           1,           1,           1,           1,           1,           1,           1,           1,\n",
       "                  1,           1,           1,           1,           1,           1,           1,           1,           1,           1,           1,           1,           1,           1,           1,           1,           1,           1,           1,           1,           1,           1,           1,\n",
       "                  1,           1,           1,           1,           1,           1,           1,           1,           1,           1,           1,           1,           1,           1,           1,           1,           1,           1,           1,           1,           1,           1,           1,\n",
       "                  1,           1,           1,           1,           1,           1,           1,           1,           1,           1,           1,           1,           1,           1,           1,           1,           1,           1,           1,           1,           1,           1,           1,\n",
       "                  1,           1,           1,           1,           1,           1,           1,           1,           1,           1,           1,           1,     0.99265,     0.99265,     0.99265,     0.99265,     0.99265,     0.99265,     0.99265,     0.99265,     0.99265,     0.99265,     0.99265,\n",
       "            0.99265,     0.99265,     0.99265,     0.99265,     0.99265,     0.99265,     0.99265,     0.99265,     0.99265,     0.99265,     0.99265,     0.99265,     0.99265,     0.99265,     0.99265,     0.99265,     0.99265,     0.99265,     0.99265,     0.99265,     0.99265,     0.99265,     0.99265,\n",
       "            0.99265,     0.99265,     0.99265,     0.99265,     0.99265,     0.99265,     0.99265,     0.99265,     0.99265,     0.99265,     0.99265,     0.99265,     0.99265,     0.99265,     0.99265,     0.99265,     0.99265,     0.99265,     0.99265,     0.99265,     0.99265,     0.99265,     0.99265,\n",
       "            0.99265,     0.99265,     0.99265,     0.99265,     0.99265,     0.99265,     0.99265,     0.99265,     0.97945,     0.97945,     0.97945,     0.97945,     0.97945,     0.97945,     0.97945,     0.97945,     0.97945,     0.97945,     0.97945,     0.97945,     0.97945,     0.97945,     0.97945,\n",
       "            0.97945,     0.97945,     0.97945,     0.97945,     0.97945,     0.97945,     0.97945,     0.97945,     0.97945,     0.97945,     0.97945,     0.97945,     0.97945,     0.97945,     0.97945,     0.97945,     0.97945,     0.97945,     0.97945,     0.97945,     0.97945,     0.97945,     0.97945,\n",
       "            0.97945,     0.97945,     0.97945,     0.97945,     0.97945,     0.97945,     0.97945,     0.97945,     0.97945,     0.97945,     0.97945,     0.97945,     0.97945,     0.97945,     0.95364,     0.95364,     0.95364,     0.95364,     0.95364,     0.95364,     0.95364,     0.94771,     0.94771,\n",
       "            0.94771,     0.94771,     0.94771,     0.94771,     0.82022,     0.82022,     0.82022,     0.82022,     0.82022,     0.82022,     0.82022,     0.37028,     0.37028,     0.37028,     0.37028,     0.37028,     0.37028,     0.25809,     0.25147,     0.24486,     0.23824,     0.23162,       0.225,\n",
       "            0.21839,     0.21177,     0.20515,     0.19853,     0.19191,      0.1853,     0.17868,     0.17206,     0.16544,     0.15883,     0.15221,     0.14559,     0.13897,     0.13235,     0.12574,     0.11912,      0.1125,     0.10588,    0.099266,    0.092648,     0.08603,    0.079413,    0.072795,\n",
       "           0.066177,     0.05956,    0.052942,    0.046324,    0.039706,    0.033089,    0.026471,    0.019853,    0.013235,   0.0066177,           0]]), 'Recall', 'Precision'], [array([          0,    0.001001,    0.002002,    0.003003,    0.004004,    0.005005,    0.006006,    0.007007,    0.008008,    0.009009,     0.01001,    0.011011,    0.012012,    0.013013,    0.014014,    0.015015,    0.016016,    0.017017,    0.018018,    0.019019,     0.02002,    0.021021,    0.022022,    0.023023,\n",
       "          0.024024,    0.025025,    0.026026,    0.027027,    0.028028,    0.029029,     0.03003,    0.031031,    0.032032,    0.033033,    0.034034,    0.035035,    0.036036,    0.037037,    0.038038,    0.039039,     0.04004,    0.041041,    0.042042,    0.043043,    0.044044,    0.045045,    0.046046,    0.047047,\n",
       "          0.048048,    0.049049,     0.05005,    0.051051,    0.052052,    0.053053,    0.054054,    0.055055,    0.056056,    0.057057,    0.058058,    0.059059,     0.06006,    0.061061,    0.062062,    0.063063,    0.064064,    0.065065,    0.066066,    0.067067,    0.068068,    0.069069,     0.07007,    0.071071,\n",
       "          0.072072,    0.073073,    0.074074,    0.075075,    0.076076,    0.077077,    0.078078,    0.079079,     0.08008,    0.081081,    0.082082,    0.083083,    0.084084,    0.085085,    0.086086,    0.087087,    0.088088,    0.089089,     0.09009,    0.091091,    0.092092,    0.093093,    0.094094,    0.095095,\n",
       "          0.096096,    0.097097,    0.098098,    0.099099,      0.1001,      0.1011,      0.1021,      0.1031,      0.1041,     0.10511,     0.10611,     0.10711,     0.10811,     0.10911,     0.11011,     0.11111,     0.11211,     0.11311,     0.11411,     0.11512,     0.11612,     0.11712,     0.11812,     0.11912,\n",
       "           0.12012,     0.12112,     0.12212,     0.12312,     0.12412,     0.12513,     0.12613,     0.12713,     0.12813,     0.12913,     0.13013,     0.13113,     0.13213,     0.13313,     0.13413,     0.13514,     0.13614,     0.13714,     0.13814,     0.13914,     0.14014,     0.14114,     0.14214,     0.14314,\n",
       "           0.14414,     0.14515,     0.14615,     0.14715,     0.14815,     0.14915,     0.15015,     0.15115,     0.15215,     0.15315,     0.15415,     0.15516,     0.15616,     0.15716,     0.15816,     0.15916,     0.16016,     0.16116,     0.16216,     0.16316,     0.16416,     0.16517,     0.16617,     0.16717,\n",
       "           0.16817,     0.16917,     0.17017,     0.17117,     0.17217,     0.17317,     0.17417,     0.17518,     0.17618,     0.17718,     0.17818,     0.17918,     0.18018,     0.18118,     0.18218,     0.18318,     0.18418,     0.18519,     0.18619,     0.18719,     0.18819,     0.18919,     0.19019,     0.19119,\n",
       "           0.19219,     0.19319,     0.19419,      0.1952,      0.1962,      0.1972,      0.1982,      0.1992,      0.2002,      0.2012,      0.2022,      0.2032,      0.2042,     0.20521,     0.20621,     0.20721,     0.20821,     0.20921,     0.21021,     0.21121,     0.21221,     0.21321,     0.21421,     0.21522,\n",
       "           0.21622,     0.21722,     0.21822,     0.21922,     0.22022,     0.22122,     0.22222,     0.22322,     0.22422,     0.22523,     0.22623,     0.22723,     0.22823,     0.22923,     0.23023,     0.23123,     0.23223,     0.23323,     0.23423,     0.23524,     0.23624,     0.23724,     0.23824,     0.23924,\n",
       "           0.24024,     0.24124,     0.24224,     0.24324,     0.24424,     0.24525,     0.24625,     0.24725,     0.24825,     0.24925,     0.25025,     0.25125,     0.25225,     0.25325,     0.25425,     0.25526,     0.25626,     0.25726,     0.25826,     0.25926,     0.26026,     0.26126,     0.26226,     0.26326,\n",
       "           0.26426,     0.26527,     0.26627,     0.26727,     0.26827,     0.26927,     0.27027,     0.27127,     0.27227,     0.27327,     0.27427,     0.27528,     0.27628,     0.27728,     0.27828,     0.27928,     0.28028,     0.28128,     0.28228,     0.28328,     0.28428,     0.28529,     0.28629,     0.28729,\n",
       "           0.28829,     0.28929,     0.29029,     0.29129,     0.29229,     0.29329,     0.29429,      0.2953,      0.2963,      0.2973,      0.2983,      0.2993,      0.3003,      0.3013,      0.3023,      0.3033,      0.3043,     0.30531,     0.30631,     0.30731,     0.30831,     0.30931,     0.31031,     0.31131,\n",
       "           0.31231,     0.31331,     0.31431,     0.31532,     0.31632,     0.31732,     0.31832,     0.31932,     0.32032,     0.32132,     0.32232,     0.32332,     0.32432,     0.32533,     0.32633,     0.32733,     0.32833,     0.32933,     0.33033,     0.33133,     0.33233,     0.33333,     0.33433,     0.33534,\n",
       "           0.33634,     0.33734,     0.33834,     0.33934,     0.34034,     0.34134,     0.34234,     0.34334,     0.34434,     0.34535,     0.34635,     0.34735,     0.34835,     0.34935,     0.35035,     0.35135,     0.35235,     0.35335,     0.35435,     0.35536,     0.35636,     0.35736,     0.35836,     0.35936,\n",
       "           0.36036,     0.36136,     0.36236,     0.36336,     0.36436,     0.36537,     0.36637,     0.36737,     0.36837,     0.36937,     0.37037,     0.37137,     0.37237,     0.37337,     0.37437,     0.37538,     0.37638,     0.37738,     0.37838,     0.37938,     0.38038,     0.38138,     0.38238,     0.38338,\n",
       "           0.38438,     0.38539,     0.38639,     0.38739,     0.38839,     0.38939,     0.39039,     0.39139,     0.39239,     0.39339,     0.39439,      0.3954,      0.3964,      0.3974,      0.3984,      0.3994,      0.4004,      0.4014,      0.4024,      0.4034,      0.4044,     0.40541,     0.40641,     0.40741,\n",
       "           0.40841,     0.40941,     0.41041,     0.41141,     0.41241,     0.41341,     0.41441,     0.41542,     0.41642,     0.41742,     0.41842,     0.41942,     0.42042,     0.42142,     0.42242,     0.42342,     0.42442,     0.42543,     0.42643,     0.42743,     0.42843,     0.42943,     0.43043,     0.43143,\n",
       "           0.43243,     0.43343,     0.43443,     0.43544,     0.43644,     0.43744,     0.43844,     0.43944,     0.44044,     0.44144,     0.44244,     0.44344,     0.44444,     0.44545,     0.44645,     0.44745,     0.44845,     0.44945,     0.45045,     0.45145,     0.45245,     0.45345,     0.45445,     0.45546,\n",
       "           0.45646,     0.45746,     0.45846,     0.45946,     0.46046,     0.46146,     0.46246,     0.46346,     0.46446,     0.46547,     0.46647,     0.46747,     0.46847,     0.46947,     0.47047,     0.47147,     0.47247,     0.47347,     0.47447,     0.47548,     0.47648,     0.47748,     0.47848,     0.47948,\n",
       "           0.48048,     0.48148,     0.48248,     0.48348,     0.48448,     0.48549,     0.48649,     0.48749,     0.48849,     0.48949,     0.49049,     0.49149,     0.49249,     0.49349,     0.49449,      0.4955,      0.4965,      0.4975,      0.4985,      0.4995,      0.5005,      0.5015,      0.5025,      0.5035,\n",
       "            0.5045,     0.50551,     0.50651,     0.50751,     0.50851,     0.50951,     0.51051,     0.51151,     0.51251,     0.51351,     0.51451,     0.51552,     0.51652,     0.51752,     0.51852,     0.51952,     0.52052,     0.52152,     0.52252,     0.52352,     0.52452,     0.52553,     0.52653,     0.52753,\n",
       "           0.52853,     0.52953,     0.53053,     0.53153,     0.53253,     0.53353,     0.53453,     0.53554,     0.53654,     0.53754,     0.53854,     0.53954,     0.54054,     0.54154,     0.54254,     0.54354,     0.54454,     0.54555,     0.54655,     0.54755,     0.54855,     0.54955,     0.55055,     0.55155,\n",
       "           0.55255,     0.55355,     0.55455,     0.55556,     0.55656,     0.55756,     0.55856,     0.55956,     0.56056,     0.56156,     0.56256,     0.56356,     0.56456,     0.56557,     0.56657,     0.56757,     0.56857,     0.56957,     0.57057,     0.57157,     0.57257,     0.57357,     0.57457,     0.57558,\n",
       "           0.57658,     0.57758,     0.57858,     0.57958,     0.58058,     0.58158,     0.58258,     0.58358,     0.58458,     0.58559,     0.58659,     0.58759,     0.58859,     0.58959,     0.59059,     0.59159,     0.59259,     0.59359,     0.59459,      0.5956,      0.5966,      0.5976,      0.5986,      0.5996,\n",
       "            0.6006,      0.6016,      0.6026,      0.6036,      0.6046,     0.60561,     0.60661,     0.60761,     0.60861,     0.60961,     0.61061,     0.61161,     0.61261,     0.61361,     0.61461,     0.61562,     0.61662,     0.61762,     0.61862,     0.61962,     0.62062,     0.62162,     0.62262,     0.62362,\n",
       "           0.62462,     0.62563,     0.62663,     0.62763,     0.62863,     0.62963,     0.63063,     0.63163,     0.63263,     0.63363,     0.63463,     0.63564,     0.63664,     0.63764,     0.63864,     0.63964,     0.64064,     0.64164,     0.64264,     0.64364,     0.64464,     0.64565,     0.64665,     0.64765,\n",
       "           0.64865,     0.64965,     0.65065,     0.65165,     0.65265,     0.65365,     0.65465,     0.65566,     0.65666,     0.65766,     0.65866,     0.65966,     0.66066,     0.66166,     0.66266,     0.66366,     0.66466,     0.66567,     0.66667,     0.66767,     0.66867,     0.66967,     0.67067,     0.67167,\n",
       "           0.67267,     0.67367,     0.67467,     0.67568,     0.67668,     0.67768,     0.67868,     0.67968,     0.68068,     0.68168,     0.68268,     0.68368,     0.68468,     0.68569,     0.68669,     0.68769,     0.68869,     0.68969,     0.69069,     0.69169,     0.69269,     0.69369,     0.69469,      0.6957,\n",
       "            0.6967,      0.6977,      0.6987,      0.6997,      0.7007,      0.7017,      0.7027,      0.7037,      0.7047,     0.70571,     0.70671,     0.70771,     0.70871,     0.70971,     0.71071,     0.71171,     0.71271,     0.71371,     0.71471,     0.71572,     0.71672,     0.71772,     0.71872,     0.71972,\n",
       "           0.72072,     0.72172,     0.72272,     0.72372,     0.72472,     0.72573,     0.72673,     0.72773,     0.72873,     0.72973,     0.73073,     0.73173,     0.73273,     0.73373,     0.73473,     0.73574,     0.73674,     0.73774,     0.73874,     0.73974,     0.74074,     0.74174,     0.74274,     0.74374,\n",
       "           0.74474,     0.74575,     0.74675,     0.74775,     0.74875,     0.74975,     0.75075,     0.75175,     0.75275,     0.75375,     0.75475,     0.75576,     0.75676,     0.75776,     0.75876,     0.75976,     0.76076,     0.76176,     0.76276,     0.76376,     0.76476,     0.76577,     0.76677,     0.76777,\n",
       "           0.76877,     0.76977,     0.77077,     0.77177,     0.77277,     0.77377,     0.77477,     0.77578,     0.77678,     0.77778,     0.77878,     0.77978,     0.78078,     0.78178,     0.78278,     0.78378,     0.78478,     0.78579,     0.78679,     0.78779,     0.78879,     0.78979,     0.79079,     0.79179,\n",
       "           0.79279,     0.79379,     0.79479,      0.7958,      0.7968,      0.7978,      0.7988,      0.7998,      0.8008,      0.8018,      0.8028,      0.8038,      0.8048,     0.80581,     0.80681,     0.80781,     0.80881,     0.80981,     0.81081,     0.81181,     0.81281,     0.81381,     0.81481,     0.81582,\n",
       "           0.81682,     0.81782,     0.81882,     0.81982,     0.82082,     0.82182,     0.82282,     0.82382,     0.82482,     0.82583,     0.82683,     0.82783,     0.82883,     0.82983,     0.83083,     0.83183,     0.83283,     0.83383,     0.83483,     0.83584,     0.83684,     0.83784,     0.83884,     0.83984,\n",
       "           0.84084,     0.84184,     0.84284,     0.84384,     0.84484,     0.84585,     0.84685,     0.84785,     0.84885,     0.84985,     0.85085,     0.85185,     0.85285,     0.85385,     0.85485,     0.85586,     0.85686,     0.85786,     0.85886,     0.85986,     0.86086,     0.86186,     0.86286,     0.86386,\n",
       "           0.86486,     0.86587,     0.86687,     0.86787,     0.86887,     0.86987,     0.87087,     0.87187,     0.87287,     0.87387,     0.87487,     0.87588,     0.87688,     0.87788,     0.87888,     0.87988,     0.88088,     0.88188,     0.88288,     0.88388,     0.88488,     0.88589,     0.88689,     0.88789,\n",
       "           0.88889,     0.88989,     0.89089,     0.89189,     0.89289,     0.89389,     0.89489,      0.8959,      0.8969,      0.8979,      0.8989,      0.8999,      0.9009,      0.9019,      0.9029,      0.9039,      0.9049,     0.90591,     0.90691,     0.90791,     0.90891,     0.90991,     0.91091,     0.91191,\n",
       "           0.91291,     0.91391,     0.91491,     0.91592,     0.91692,     0.91792,     0.91892,     0.91992,     0.92092,     0.92192,     0.92292,     0.92392,     0.92492,     0.92593,     0.92693,     0.92793,     0.92893,     0.92993,     0.93093,     0.93193,     0.93293,     0.93393,     0.93493,     0.93594,\n",
       "           0.93694,     0.93794,     0.93894,     0.93994,     0.94094,     0.94194,     0.94294,     0.94394,     0.94494,     0.94595,     0.94695,     0.94795,     0.94895,     0.94995,     0.95095,     0.95195,     0.95295,     0.95395,     0.95495,     0.95596,     0.95696,     0.95796,     0.95896,     0.95996,\n",
       "           0.96096,     0.96196,     0.96296,     0.96396,     0.96496,     0.96597,     0.96697,     0.96797,     0.96897,     0.96997,     0.97097,     0.97197,     0.97297,     0.97397,     0.97497,     0.97598,     0.97698,     0.97798,     0.97898,     0.97998,     0.98098,     0.98198,     0.98298,     0.98398,\n",
       "           0.98498,     0.98599,     0.98699,     0.98799,     0.98899,     0.98999,     0.99099,     0.99199,     0.99299,     0.99399,     0.99499,       0.996,       0.997,       0.998,       0.999,           1]), array([[    0.40833,     0.40833,     0.50502,     0.57026,     0.61072,     0.64261,     0.66154,     0.67628,     0.68649,     0.69808,      0.7122,     0.73225,     0.73925,     0.74062,     0.74777,     0.76093,     0.76558,     0.77423,     0.78419,     0.78657,     0.78869,     0.79397,     0.80005,\n",
       "            0.80149,     0.80452,     0.80622,      0.8076,      0.8089,     0.81077,     0.81746,     0.82597,     0.82812,     0.82945,     0.83295,     0.83688,     0.83944,     0.84074,     0.84254,     0.84579,     0.84821,      0.8498,     0.85118,     0.85288,     0.85894,     0.85967,     0.86039,\n",
       "            0.86111,     0.86375,     0.86431,     0.86473,     0.86515,     0.86557,     0.86599,     0.86641,     0.86922,     0.87168,      0.8723,     0.87292,     0.87354,     0.87416,     0.87462,     0.87504,     0.87547,      0.8759,     0.87632,     0.87675,     0.87751,     0.87841,     0.87931,\n",
       "            0.88006,     0.88076,     0.88147,     0.88217,     0.88006,     0.87923,     0.88033,     0.88142,     0.88239,     0.88334,     0.88557,     0.88697,     0.88711,     0.88725,     0.88739,     0.88753,     0.88767,     0.88781,     0.88795,     0.88809,     0.88823,     0.88837,      0.8885,\n",
       "            0.88864,     0.88878,     0.88892,     0.88906,      0.8892,     0.88934,     0.88948,     0.88987,     0.89073,      0.8916,     0.89232,     0.89241,      0.8925,     0.89259,     0.89268,     0.89277,     0.89286,     0.89295,     0.89304,     0.89313,     0.89322,     0.89331,      0.8934,\n",
       "            0.89349,     0.89358,     0.89367,     0.89376,     0.89385,     0.89394,     0.89403,     0.89412,     0.89421,      0.8943,     0.89439,     0.89448,     0.89457,     0.89466,     0.89475,     0.89484,     0.89493,     0.89502,     0.89689,     0.89846,     0.89934,     0.90022,     0.90095,\n",
       "            0.90156,     0.90216,     0.90277,     0.90337,     0.90418,       0.905,     0.90583,     0.90682,     0.90799,     0.90911,     0.90944,     0.90978,     0.91012,     0.91045,     0.91078,     0.91112,     0.91145,     0.91179,     0.91211,     0.91243,     0.91274,     0.91306,     0.91337,\n",
       "            0.91369,       0.914,     0.91431,     0.91463,     0.91563,     0.91777,     0.91961,     0.92074,     0.92096,     0.92119,     0.92142,     0.92164,     0.92187,      0.9221,     0.92233,     0.92255,     0.92278,       0.923,     0.92323,     0.92346,     0.92364,     0.92379,     0.92393,\n",
       "            0.92407,     0.92422,     0.92436,     0.92451,     0.92465,      0.9248,     0.92494,     0.92508,     0.92523,     0.92537,     0.92552,     0.92566,      0.9258,     0.92595,     0.92609,     0.92623,     0.92638,     0.92652,     0.92663,     0.92675,     0.92686,     0.92698,     0.92709,\n",
       "             0.9272,     0.92732,     0.92743,     0.92754,     0.92766,     0.92777,     0.92788,       0.928,     0.92811,     0.92822,     0.92834,     0.92845,     0.92856,     0.92867,     0.92879,      0.9289,     0.92901,     0.92913,     0.92924,     0.92935,     0.92947,     0.92954,     0.92961,\n",
       "            0.92968,     0.92974,     0.92981,     0.92988,     0.92995,     0.93001,     0.93008,     0.93015,     0.93021,     0.93028,     0.93035,     0.93042,     0.93048,     0.93055,     0.93062,     0.93069,     0.93075,     0.93082,     0.93089,     0.93095,     0.93102,     0.93109,     0.93116,\n",
       "            0.93122,     0.93129,     0.93136,     0.93142,     0.93149,     0.93156,     0.93162,     0.93169,     0.93176,     0.93183,     0.93189,     0.93196,     0.93203,     0.93209,     0.93216,     0.93223,      0.9323,     0.93236,     0.93243,     0.93258,     0.93293,     0.93329,     0.93364,\n",
       "            0.93399,     0.93435,      0.9347,     0.93505,      0.9354,     0.93561,     0.93578,     0.93595,     0.93613,      0.9363,     0.93647,     0.93664,     0.93681,     0.93698,     0.93715,     0.93732,     0.93749,     0.93766,     0.93783,       0.938,     0.93817,     0.93833,      0.9385,\n",
       "            0.93857,     0.93862,     0.93868,     0.93874,      0.9388,     0.93886,     0.93891,     0.93897,     0.93903,     0.93909,     0.93914,      0.9392,     0.93926,     0.93932,     0.93937,     0.93943,     0.93949,     0.93955,     0.93961,     0.93966,     0.93972,     0.93978,     0.93984,\n",
       "            0.93989,     0.93995,     0.94001,     0.94007,     0.94012,     0.94018,     0.94024,      0.9403,     0.94035,     0.94041,     0.94047,     0.94053,     0.94058,     0.94064,      0.9407,     0.94076,     0.94081,     0.94087,     0.94093,     0.94099,     0.94104,      0.9411,     0.94116,\n",
       "            0.94122,     0.94127,     0.94133,     0.94139,     0.94145,      0.9415,     0.94156,     0.94168,     0.94179,      0.9419,     0.94202,     0.94213,     0.94224,     0.94236,     0.94247,     0.94258,      0.9427,     0.94281,     0.94292,     0.94304,     0.94315,     0.94326,     0.94338,\n",
       "            0.94349,      0.9436,     0.94372,     0.94383,     0.94394,     0.94406,     0.94417,     0.94428,      0.9444,     0.94451,     0.94462,     0.94489,     0.94517,     0.94544,     0.94572,     0.94599,     0.94627,     0.94654,     0.94682,     0.94709,     0.94737,     0.94764,     0.94756,\n",
       "            0.94736,     0.94715,     0.94695,     0.94674,     0.94654,     0.94633,     0.94613,     0.94592,     0.94572,     0.94551,     0.94531,      0.9451,      0.9449,     0.94469,     0.94449,     0.94428,     0.94429,     0.94433,     0.94436,      0.9444,     0.94443,     0.94447,      0.9445,\n",
       "            0.94454,     0.94457,     0.94461,     0.94464,     0.94468,     0.94471,     0.94475,     0.94478,     0.94482,     0.94485,     0.94489,     0.94492,     0.94496,     0.94499,     0.94502,     0.94506,     0.94509,     0.94513,     0.94516,      0.9452,     0.94523,     0.94527,      0.9453,\n",
       "            0.94534,     0.94537,     0.94541,     0.94544,     0.94548,     0.94551,     0.94555,     0.94558,     0.94562,     0.94565,     0.94568,     0.94572,     0.94575,     0.94579,     0.94582,     0.94586,     0.94589,     0.94593,     0.94596,       0.946,     0.94603,     0.94607,      0.9461,\n",
       "            0.94614,     0.94617,      0.9462,     0.94624,     0.94627,     0.94631,     0.94634,     0.94638,     0.94641,     0.94645,     0.94648,     0.94652,     0.94655,     0.94659,     0.94662,     0.94666,     0.94669,     0.94672,     0.94676,     0.94679,     0.94683,     0.94686,      0.9469,\n",
       "            0.94693,     0.94697,       0.947,     0.94704,     0.94707,     0.94711,     0.94714,     0.94717,     0.94721,     0.94724,     0.94728,     0.94731,     0.94735,     0.94728,     0.94706,     0.94684,     0.94661,     0.94639,     0.94617,     0.94595,     0.94572,      0.9455,     0.94528,\n",
       "            0.94506,     0.94483,     0.94461,     0.94439,     0.94416,     0.94394,     0.94395,     0.94402,     0.94409,     0.94416,     0.94423,      0.9443,     0.94437,     0.94444,     0.94451,     0.94458,     0.94465,     0.94472,     0.94479,     0.94486,     0.94493,       0.945,     0.94507,\n",
       "            0.94514,     0.94521,     0.94528,     0.94535,     0.94541,     0.94548,     0.94555,     0.94562,     0.94569,     0.94576,     0.94583,      0.9459,     0.94597,     0.94604,     0.94611,     0.94618,     0.94625,     0.94632,     0.94639,     0.94646,     0.94653,      0.9466,     0.94667,\n",
       "            0.94674,     0.94681,     0.94688,     0.94694,     0.94701,     0.94708,     0.94714,      0.9472,     0.94726,     0.94733,     0.94739,     0.94745,     0.94751,     0.94757,     0.94764,      0.9477,     0.94776,     0.94782,     0.94789,     0.94795,     0.94801,     0.94807,     0.94813,\n",
       "             0.9482,     0.94826,     0.94832,     0.94838,     0.94844,     0.94851,     0.94857,     0.94863,     0.94869,     0.94875,     0.94882,     0.94888,     0.94894,       0.949,     0.94906,     0.94913,     0.94919,     0.94925,     0.94931,     0.94937,     0.94944,      0.9495,     0.94956,\n",
       "            0.94962,     0.94968,     0.94974,     0.94981,     0.94987,     0.94993,     0.94999,     0.95005,     0.95012,     0.95022,      0.9505,     0.95078,     0.95107,     0.95135,     0.95163,     0.95192,      0.9522,     0.95248,     0.95276,     0.95304,     0.95332,     0.95359,     0.95385,\n",
       "            0.95411,     0.95437,     0.95463,      0.9549,     0.95516,     0.95542,     0.95568,     0.95594,      0.9562,     0.95646,     0.95644,     0.95633,     0.95623,     0.95612,     0.95601,     0.95591,      0.9558,     0.95569,     0.95558,     0.95548,     0.95537,     0.95526,     0.95516,\n",
       "            0.95505,     0.95494,     0.95483,     0.95473,     0.95462,     0.95451,     0.95441,      0.9543,     0.95419,     0.95408,     0.95398,     0.95387,     0.95376,     0.95366,     0.95355,     0.95344,     0.95333,     0.95323,     0.95312,       0.953,     0.95283,     0.95266,     0.95249,\n",
       "            0.95232,     0.95215,     0.95197,      0.9518,     0.95163,     0.95146,     0.95129,     0.95111,     0.95094,     0.95077,      0.9506,     0.95043,     0.95025,     0.95008,     0.94991,     0.94974,     0.94956,     0.94942,      0.9493,     0.94918,     0.94905,     0.94893,     0.94881,\n",
       "            0.94868,     0.94856,     0.94844,     0.94831,     0.94819,     0.94807,     0.94794,     0.94782,      0.9477,     0.94757,     0.94745,     0.94733,      0.9472,     0.94708,     0.94696,     0.94683,     0.94671,     0.94659,     0.94646,     0.94634,     0.94622,     0.94609,     0.94597,\n",
       "            0.94587,     0.94577,     0.94568,     0.94558,     0.94549,     0.94539,      0.9453,      0.9452,     0.94511,     0.94501,     0.94492,     0.94482,     0.94473,     0.94463,     0.94454,     0.94444,     0.94435,     0.94425,     0.94416,     0.94406,     0.94397,     0.94387,     0.94378,\n",
       "            0.94368,     0.94359,     0.94349,      0.9434,      0.9433,     0.94321,     0.94311,     0.94302,     0.94292,     0.94282,     0.94273,     0.94263,     0.94254,     0.94244,     0.94224,     0.94175,     0.94126,     0.94077,     0.94028,     0.93979,      0.9393,      0.9388,     0.93854,\n",
       "             0.9383,     0.93805,      0.9378,     0.93755,     0.93731,     0.93706,     0.93681,     0.93656,     0.93632,     0.93607,     0.93582,     0.93557,     0.93532,     0.93499,     0.93446,     0.93392,     0.93339,     0.93285,     0.93232,     0.93178,     0.93128,     0.93081,     0.93034,\n",
       "            0.92987,      0.9294,     0.92893,     0.92846,     0.92799,     0.92805,     0.92836,     0.92867,     0.92899,      0.9293,     0.92961,     0.92992,     0.93024,     0.93055,     0.93086,     0.93117,     0.93147,     0.93177,     0.93207,     0.93237,     0.93267,     0.93297,     0.93327,\n",
       "            0.93357,     0.93387,     0.93417,     0.93319,     0.93168,      0.9304,     0.92982,     0.92923,     0.92864,     0.92805,     0.92746,     0.92688,     0.92582,     0.92472,     0.92362,     0.92291,     0.92259,     0.92227,     0.92195,     0.92163,      0.9213,     0.92098,     0.92066,\n",
       "            0.92033,     0.92001,     0.91969,     0.91936,     0.91873,     0.91802,     0.91732,     0.91661,     0.91589,     0.91464,     0.91268,     0.90783,     0.90582,     0.90389,     0.90332,     0.90275,     0.90217,      0.9016,     0.90103,     0.90045,     0.89618,     0.89673,     0.89728,\n",
       "            0.89783,     0.89838,     0.89893,     0.89854,     0.89651,     0.89194,     0.89004,     0.88866,     0.88728,     0.87909,      0.8774,     0.87571,     0.87335,     0.87034,     0.86626,     0.86338,      0.8595,     0.85381,     0.85326,     0.85271,     0.85216,     0.85161,     0.85106,\n",
       "             0.8505,     0.84995,     0.84889,     0.84712,     0.84533,     0.84461,     0.84393,     0.84324,     0.84255,     0.84186,     0.84116,     0.82174,       0.817,     0.81465,     0.80598,     0.79647,      0.7916,     0.78861,     0.78614,     0.78367,     0.78119,     0.77405,       0.769,\n",
       "            0.76049,     0.75902,     0.75754,     0.75606,     0.75433,     0.75259,     0.74557,     0.74204,     0.73399,     0.72674,     0.72128,     0.71708,     0.70616,     0.70169,     0.69943,     0.69159,     0.68929,     0.68698,     0.66435,     0.66016,      0.6526,     0.64812,     0.63698,\n",
       "            0.62775,     0.62522,     0.62268,     0.60785,     0.59601,     0.59337,     0.59071,     0.58073,     0.55356,      0.5394,     0.52076,     0.51709,     0.50989,     0.49743,     0.49182,     0.48964,     0.48745,     0.48526,     0.47781,     0.47382,     0.46219,     0.45689,     0.45006,\n",
       "            0.42884,     0.42553,     0.42026,     0.40895,     0.37148,     0.36703,     0.36309,     0.36085,     0.35859,     0.35633,     0.35329,     0.34874,     0.33878,     0.32856,     0.31591,     0.30955,     0.29527,     0.28067,     0.25045,     0.23847,     0.23326,     0.20792,     0.17776,\n",
       "            0.17218,     0.16548,     0.15163,     0.11694,     0.10204,    0.085112,    0.076888,    0.052824,    0.029001,    0.014284,           0,           0,           0,           0,           0,           0,           0,           0,           0,           0,           0,           0,           0,\n",
       "                  0,           0,           0,           0,           0,           0,           0,           0,           0,           0,           0]]), 'Confidence', 'F1'], [array([          0,    0.001001,    0.002002,    0.003003,    0.004004,    0.005005,    0.006006,    0.007007,    0.008008,    0.009009,     0.01001,    0.011011,    0.012012,    0.013013,    0.014014,    0.015015,    0.016016,    0.017017,    0.018018,    0.019019,     0.02002,    0.021021,    0.022022,    0.023023,\n",
       "          0.024024,    0.025025,    0.026026,    0.027027,    0.028028,    0.029029,     0.03003,    0.031031,    0.032032,    0.033033,    0.034034,    0.035035,    0.036036,    0.037037,    0.038038,    0.039039,     0.04004,    0.041041,    0.042042,    0.043043,    0.044044,    0.045045,    0.046046,    0.047047,\n",
       "          0.048048,    0.049049,     0.05005,    0.051051,    0.052052,    0.053053,    0.054054,    0.055055,    0.056056,    0.057057,    0.058058,    0.059059,     0.06006,    0.061061,    0.062062,    0.063063,    0.064064,    0.065065,    0.066066,    0.067067,    0.068068,    0.069069,     0.07007,    0.071071,\n",
       "          0.072072,    0.073073,    0.074074,    0.075075,    0.076076,    0.077077,    0.078078,    0.079079,     0.08008,    0.081081,    0.082082,    0.083083,    0.084084,    0.085085,    0.086086,    0.087087,    0.088088,    0.089089,     0.09009,    0.091091,    0.092092,    0.093093,    0.094094,    0.095095,\n",
       "          0.096096,    0.097097,    0.098098,    0.099099,      0.1001,      0.1011,      0.1021,      0.1031,      0.1041,     0.10511,     0.10611,     0.10711,     0.10811,     0.10911,     0.11011,     0.11111,     0.11211,     0.11311,     0.11411,     0.11512,     0.11612,     0.11712,     0.11812,     0.11912,\n",
       "           0.12012,     0.12112,     0.12212,     0.12312,     0.12412,     0.12513,     0.12613,     0.12713,     0.12813,     0.12913,     0.13013,     0.13113,     0.13213,     0.13313,     0.13413,     0.13514,     0.13614,     0.13714,     0.13814,     0.13914,     0.14014,     0.14114,     0.14214,     0.14314,\n",
       "           0.14414,     0.14515,     0.14615,     0.14715,     0.14815,     0.14915,     0.15015,     0.15115,     0.15215,     0.15315,     0.15415,     0.15516,     0.15616,     0.15716,     0.15816,     0.15916,     0.16016,     0.16116,     0.16216,     0.16316,     0.16416,     0.16517,     0.16617,     0.16717,\n",
       "           0.16817,     0.16917,     0.17017,     0.17117,     0.17217,     0.17317,     0.17417,     0.17518,     0.17618,     0.17718,     0.17818,     0.17918,     0.18018,     0.18118,     0.18218,     0.18318,     0.18418,     0.18519,     0.18619,     0.18719,     0.18819,     0.18919,     0.19019,     0.19119,\n",
       "           0.19219,     0.19319,     0.19419,      0.1952,      0.1962,      0.1972,      0.1982,      0.1992,      0.2002,      0.2012,      0.2022,      0.2032,      0.2042,     0.20521,     0.20621,     0.20721,     0.20821,     0.20921,     0.21021,     0.21121,     0.21221,     0.21321,     0.21421,     0.21522,\n",
       "           0.21622,     0.21722,     0.21822,     0.21922,     0.22022,     0.22122,     0.22222,     0.22322,     0.22422,     0.22523,     0.22623,     0.22723,     0.22823,     0.22923,     0.23023,     0.23123,     0.23223,     0.23323,     0.23423,     0.23524,     0.23624,     0.23724,     0.23824,     0.23924,\n",
       "           0.24024,     0.24124,     0.24224,     0.24324,     0.24424,     0.24525,     0.24625,     0.24725,     0.24825,     0.24925,     0.25025,     0.25125,     0.25225,     0.25325,     0.25425,     0.25526,     0.25626,     0.25726,     0.25826,     0.25926,     0.26026,     0.26126,     0.26226,     0.26326,\n",
       "           0.26426,     0.26527,     0.26627,     0.26727,     0.26827,     0.26927,     0.27027,     0.27127,     0.27227,     0.27327,     0.27427,     0.27528,     0.27628,     0.27728,     0.27828,     0.27928,     0.28028,     0.28128,     0.28228,     0.28328,     0.28428,     0.28529,     0.28629,     0.28729,\n",
       "           0.28829,     0.28929,     0.29029,     0.29129,     0.29229,     0.29329,     0.29429,      0.2953,      0.2963,      0.2973,      0.2983,      0.2993,      0.3003,      0.3013,      0.3023,      0.3033,      0.3043,     0.30531,     0.30631,     0.30731,     0.30831,     0.30931,     0.31031,     0.31131,\n",
       "           0.31231,     0.31331,     0.31431,     0.31532,     0.31632,     0.31732,     0.31832,     0.31932,     0.32032,     0.32132,     0.32232,     0.32332,     0.32432,     0.32533,     0.32633,     0.32733,     0.32833,     0.32933,     0.33033,     0.33133,     0.33233,     0.33333,     0.33433,     0.33534,\n",
       "           0.33634,     0.33734,     0.33834,     0.33934,     0.34034,     0.34134,     0.34234,     0.34334,     0.34434,     0.34535,     0.34635,     0.34735,     0.34835,     0.34935,     0.35035,     0.35135,     0.35235,     0.35335,     0.35435,     0.35536,     0.35636,     0.35736,     0.35836,     0.35936,\n",
       "           0.36036,     0.36136,     0.36236,     0.36336,     0.36436,     0.36537,     0.36637,     0.36737,     0.36837,     0.36937,     0.37037,     0.37137,     0.37237,     0.37337,     0.37437,     0.37538,     0.37638,     0.37738,     0.37838,     0.37938,     0.38038,     0.38138,     0.38238,     0.38338,\n",
       "           0.38438,     0.38539,     0.38639,     0.38739,     0.38839,     0.38939,     0.39039,     0.39139,     0.39239,     0.39339,     0.39439,      0.3954,      0.3964,      0.3974,      0.3984,      0.3994,      0.4004,      0.4014,      0.4024,      0.4034,      0.4044,     0.40541,     0.40641,     0.40741,\n",
       "           0.40841,     0.40941,     0.41041,     0.41141,     0.41241,     0.41341,     0.41441,     0.41542,     0.41642,     0.41742,     0.41842,     0.41942,     0.42042,     0.42142,     0.42242,     0.42342,     0.42442,     0.42543,     0.42643,     0.42743,     0.42843,     0.42943,     0.43043,     0.43143,\n",
       "           0.43243,     0.43343,     0.43443,     0.43544,     0.43644,     0.43744,     0.43844,     0.43944,     0.44044,     0.44144,     0.44244,     0.44344,     0.44444,     0.44545,     0.44645,     0.44745,     0.44845,     0.44945,     0.45045,     0.45145,     0.45245,     0.45345,     0.45445,     0.45546,\n",
       "           0.45646,     0.45746,     0.45846,     0.45946,     0.46046,     0.46146,     0.46246,     0.46346,     0.46446,     0.46547,     0.46647,     0.46747,     0.46847,     0.46947,     0.47047,     0.47147,     0.47247,     0.47347,     0.47447,     0.47548,     0.47648,     0.47748,     0.47848,     0.47948,\n",
       "           0.48048,     0.48148,     0.48248,     0.48348,     0.48448,     0.48549,     0.48649,     0.48749,     0.48849,     0.48949,     0.49049,     0.49149,     0.49249,     0.49349,     0.49449,      0.4955,      0.4965,      0.4975,      0.4985,      0.4995,      0.5005,      0.5015,      0.5025,      0.5035,\n",
       "            0.5045,     0.50551,     0.50651,     0.50751,     0.50851,     0.50951,     0.51051,     0.51151,     0.51251,     0.51351,     0.51451,     0.51552,     0.51652,     0.51752,     0.51852,     0.51952,     0.52052,     0.52152,     0.52252,     0.52352,     0.52452,     0.52553,     0.52653,     0.52753,\n",
       "           0.52853,     0.52953,     0.53053,     0.53153,     0.53253,     0.53353,     0.53453,     0.53554,     0.53654,     0.53754,     0.53854,     0.53954,     0.54054,     0.54154,     0.54254,     0.54354,     0.54454,     0.54555,     0.54655,     0.54755,     0.54855,     0.54955,     0.55055,     0.55155,\n",
       "           0.55255,     0.55355,     0.55455,     0.55556,     0.55656,     0.55756,     0.55856,     0.55956,     0.56056,     0.56156,     0.56256,     0.56356,     0.56456,     0.56557,     0.56657,     0.56757,     0.56857,     0.56957,     0.57057,     0.57157,     0.57257,     0.57357,     0.57457,     0.57558,\n",
       "           0.57658,     0.57758,     0.57858,     0.57958,     0.58058,     0.58158,     0.58258,     0.58358,     0.58458,     0.58559,     0.58659,     0.58759,     0.58859,     0.58959,     0.59059,     0.59159,     0.59259,     0.59359,     0.59459,      0.5956,      0.5966,      0.5976,      0.5986,      0.5996,\n",
       "            0.6006,      0.6016,      0.6026,      0.6036,      0.6046,     0.60561,     0.60661,     0.60761,     0.60861,     0.60961,     0.61061,     0.61161,     0.61261,     0.61361,     0.61461,     0.61562,     0.61662,     0.61762,     0.61862,     0.61962,     0.62062,     0.62162,     0.62262,     0.62362,\n",
       "           0.62462,     0.62563,     0.62663,     0.62763,     0.62863,     0.62963,     0.63063,     0.63163,     0.63263,     0.63363,     0.63463,     0.63564,     0.63664,     0.63764,     0.63864,     0.63964,     0.64064,     0.64164,     0.64264,     0.64364,     0.64464,     0.64565,     0.64665,     0.64765,\n",
       "           0.64865,     0.64965,     0.65065,     0.65165,     0.65265,     0.65365,     0.65465,     0.65566,     0.65666,     0.65766,     0.65866,     0.65966,     0.66066,     0.66166,     0.66266,     0.66366,     0.66466,     0.66567,     0.66667,     0.66767,     0.66867,     0.66967,     0.67067,     0.67167,\n",
       "           0.67267,     0.67367,     0.67467,     0.67568,     0.67668,     0.67768,     0.67868,     0.67968,     0.68068,     0.68168,     0.68268,     0.68368,     0.68468,     0.68569,     0.68669,     0.68769,     0.68869,     0.68969,     0.69069,     0.69169,     0.69269,     0.69369,     0.69469,      0.6957,\n",
       "            0.6967,      0.6977,      0.6987,      0.6997,      0.7007,      0.7017,      0.7027,      0.7037,      0.7047,     0.70571,     0.70671,     0.70771,     0.70871,     0.70971,     0.71071,     0.71171,     0.71271,     0.71371,     0.71471,     0.71572,     0.71672,     0.71772,     0.71872,     0.71972,\n",
       "           0.72072,     0.72172,     0.72272,     0.72372,     0.72472,     0.72573,     0.72673,     0.72773,     0.72873,     0.72973,     0.73073,     0.73173,     0.73273,     0.73373,     0.73473,     0.73574,     0.73674,     0.73774,     0.73874,     0.73974,     0.74074,     0.74174,     0.74274,     0.74374,\n",
       "           0.74474,     0.74575,     0.74675,     0.74775,     0.74875,     0.74975,     0.75075,     0.75175,     0.75275,     0.75375,     0.75475,     0.75576,     0.75676,     0.75776,     0.75876,     0.75976,     0.76076,     0.76176,     0.76276,     0.76376,     0.76476,     0.76577,     0.76677,     0.76777,\n",
       "           0.76877,     0.76977,     0.77077,     0.77177,     0.77277,     0.77377,     0.77477,     0.77578,     0.77678,     0.77778,     0.77878,     0.77978,     0.78078,     0.78178,     0.78278,     0.78378,     0.78478,     0.78579,     0.78679,     0.78779,     0.78879,     0.78979,     0.79079,     0.79179,\n",
       "           0.79279,     0.79379,     0.79479,      0.7958,      0.7968,      0.7978,      0.7988,      0.7998,      0.8008,      0.8018,      0.8028,      0.8038,      0.8048,     0.80581,     0.80681,     0.80781,     0.80881,     0.80981,     0.81081,     0.81181,     0.81281,     0.81381,     0.81481,     0.81582,\n",
       "           0.81682,     0.81782,     0.81882,     0.81982,     0.82082,     0.82182,     0.82282,     0.82382,     0.82482,     0.82583,     0.82683,     0.82783,     0.82883,     0.82983,     0.83083,     0.83183,     0.83283,     0.83383,     0.83483,     0.83584,     0.83684,     0.83784,     0.83884,     0.83984,\n",
       "           0.84084,     0.84184,     0.84284,     0.84384,     0.84484,     0.84585,     0.84685,     0.84785,     0.84885,     0.84985,     0.85085,     0.85185,     0.85285,     0.85385,     0.85485,     0.85586,     0.85686,     0.85786,     0.85886,     0.85986,     0.86086,     0.86186,     0.86286,     0.86386,\n",
       "           0.86486,     0.86587,     0.86687,     0.86787,     0.86887,     0.86987,     0.87087,     0.87187,     0.87287,     0.87387,     0.87487,     0.87588,     0.87688,     0.87788,     0.87888,     0.87988,     0.88088,     0.88188,     0.88288,     0.88388,     0.88488,     0.88589,     0.88689,     0.88789,\n",
       "           0.88889,     0.88989,     0.89089,     0.89189,     0.89289,     0.89389,     0.89489,      0.8959,      0.8969,      0.8979,      0.8989,      0.8999,      0.9009,      0.9019,      0.9029,      0.9039,      0.9049,     0.90591,     0.90691,     0.90791,     0.90891,     0.90991,     0.91091,     0.91191,\n",
       "           0.91291,     0.91391,     0.91491,     0.91592,     0.91692,     0.91792,     0.91892,     0.91992,     0.92092,     0.92192,     0.92292,     0.92392,     0.92492,     0.92593,     0.92693,     0.92793,     0.92893,     0.92993,     0.93093,     0.93193,     0.93293,     0.93393,     0.93493,     0.93594,\n",
       "           0.93694,     0.93794,     0.93894,     0.93994,     0.94094,     0.94194,     0.94294,     0.94394,     0.94494,     0.94595,     0.94695,     0.94795,     0.94895,     0.94995,     0.95095,     0.95195,     0.95295,     0.95395,     0.95495,     0.95596,     0.95696,     0.95796,     0.95896,     0.95996,\n",
       "           0.96096,     0.96196,     0.96296,     0.96396,     0.96496,     0.96597,     0.96697,     0.96797,     0.96897,     0.96997,     0.97097,     0.97197,     0.97297,     0.97397,     0.97497,     0.97598,     0.97698,     0.97798,     0.97898,     0.97998,     0.98098,     0.98198,     0.98298,     0.98398,\n",
       "           0.98498,     0.98599,     0.98699,     0.98799,     0.98899,     0.98999,     0.99099,     0.99199,     0.99299,     0.99399,     0.99499,       0.996,       0.997,       0.998,       0.999,           1]), array([[    0.25926,     0.25926,     0.34253,     0.40663,     0.44906,     0.48441,     0.50626,     0.52372,     0.53607,     0.55034,     0.56811,     0.59405,     0.60331,     0.60515,     0.61475,     0.63275,     0.63919,     0.65135,     0.66557,     0.66901,     0.67209,     0.67979,     0.68875,\n",
       "            0.69089,     0.69541,     0.69795,     0.70003,     0.70198,     0.70479,     0.71498,     0.72809,     0.73144,     0.73352,     0.73901,     0.74523,     0.74929,     0.75136,     0.75424,     0.75947,     0.76337,     0.76597,     0.76821,     0.77098,     0.78095,     0.78214,     0.78334,\n",
       "            0.78454,     0.78894,     0.78986,     0.79057,     0.79127,     0.79197,     0.79268,     0.79338,     0.79811,     0.80226,     0.80332,     0.80437,     0.80542,     0.80648,     0.80725,     0.80798,     0.80871,     0.80944,     0.81016,     0.81089,     0.81219,     0.81374,     0.81529,\n",
       "            0.81658,     0.81779,       0.819,     0.82021,     0.81959,     0.81998,     0.82189,      0.8238,     0.82548,     0.82716,     0.83108,     0.83354,     0.83379,     0.83404,     0.83429,     0.83453,     0.83478,     0.83503,     0.83527,     0.83552,     0.83577,     0.83601,     0.83626,\n",
       "            0.83651,     0.83675,       0.837,     0.83725,     0.83749,     0.83774,     0.83799,     0.83868,     0.84022,     0.84175,     0.84305,     0.84321,     0.84337,     0.84353,      0.8437,     0.84386,     0.84402,     0.84418,     0.84434,      0.8445,     0.84466,     0.84482,     0.84498,\n",
       "            0.84514,     0.84531,     0.84547,     0.84563,     0.84579,     0.84595,     0.84611,     0.84627,     0.84643,     0.84659,     0.84676,     0.84692,     0.84708,     0.84724,      0.8474,     0.84756,     0.84772,     0.84788,     0.85125,     0.85407,     0.85566,     0.85726,     0.85858,\n",
       "            0.85969,     0.86079,     0.86189,     0.86299,     0.86447,     0.86598,     0.86749,     0.86932,     0.87146,     0.87353,     0.87415,     0.87477,     0.87539,     0.87601,     0.87663,     0.87725,     0.87787,     0.87849,     0.87909,     0.87968,     0.88026,     0.88085,     0.88143,\n",
       "            0.88202,     0.88261,     0.88319,     0.88378,     0.88564,     0.88967,     0.89313,     0.89525,     0.89568,     0.89611,     0.89654,     0.89697,      0.8974,     0.89783,     0.89826,     0.89869,     0.89912,     0.89955,     0.89998,     0.90041,     0.90076,     0.90104,     0.90131,\n",
       "            0.90159,     0.90186,     0.90214,     0.90241,     0.90269,     0.90296,     0.90324,     0.90351,     0.90379,     0.90406,     0.90433,     0.90461,     0.90488,     0.90516,     0.90543,     0.90571,     0.90598,     0.90626,     0.90647,     0.90669,     0.90691,     0.90713,     0.90734,\n",
       "            0.90756,     0.90778,       0.908,     0.90821,     0.90843,     0.90865,     0.90887,     0.90908,      0.9093,     0.90952,     0.90973,     0.90995,     0.91017,     0.91039,      0.9106,     0.91082,     0.91104,     0.91126,     0.91147,     0.91169,     0.91191,     0.91205,     0.91218,\n",
       "            0.91231,     0.91244,     0.91257,      0.9127,     0.91283,     0.91296,     0.91309,     0.91322,     0.91335,     0.91348,     0.91361,     0.91374,     0.91387,       0.914,     0.91413,     0.91426,     0.91439,     0.91452,     0.91465,     0.91478,     0.91491,     0.91504,     0.91517,\n",
       "             0.9153,     0.91543,     0.91556,     0.91569,     0.91582,     0.91594,     0.91607,      0.9162,     0.91633,     0.91646,     0.91659,     0.91672,     0.91685,     0.91698,     0.91711,     0.91724,     0.91737,      0.9175,     0.91763,     0.91793,     0.91861,      0.9193,     0.91998,\n",
       "            0.92067,     0.92135,     0.92204,     0.92272,      0.9234,     0.92382,     0.92415,     0.92449,     0.92482,     0.92515,     0.92548,     0.92582,     0.92615,     0.92648,     0.92681,     0.92715,     0.92748,     0.92781,     0.92814,     0.92848,     0.92881,     0.92914,     0.92947,\n",
       "             0.9296,     0.92971,     0.92982,     0.92994,     0.93005,     0.93016,     0.93028,     0.93039,      0.9305,     0.93062,     0.93073,     0.93084,     0.93096,     0.93107,     0.93118,      0.9313,     0.93141,     0.93152,     0.93164,     0.93175,     0.93186,     0.93198,     0.93209,\n",
       "             0.9322,     0.93232,     0.93243,     0.93254,     0.93265,     0.93277,     0.93288,     0.93299,     0.93311,     0.93322,     0.93333,     0.93345,     0.93356,     0.93367,     0.93379,      0.9339,     0.93401,     0.93413,     0.93424,     0.93435,     0.93447,     0.93458,     0.93469,\n",
       "            0.93481,     0.93492,     0.93503,     0.93515,     0.93526,     0.93537,     0.93549,     0.93572,     0.93594,     0.93616,     0.93639,     0.93661,     0.93684,     0.93706,     0.93729,     0.93751,     0.93774,     0.93796,     0.93818,     0.93841,     0.93863,     0.93886,     0.93908,\n",
       "            0.93931,     0.93953,     0.93975,     0.93998,      0.9402,     0.94043,     0.94065,     0.94088,      0.9411,     0.94133,     0.94155,     0.94209,     0.94263,     0.94318,     0.94373,     0.94428,     0.94483,     0.94538,     0.94592,     0.94647,     0.94702,     0.94757,      0.9477,\n",
       "            0.94768,     0.94766,     0.94764,     0.94762,      0.9476,     0.94757,     0.94755,     0.94753,     0.94751,     0.94749,     0.94747,     0.94745,     0.94743,     0.94741,     0.94739,     0.94737,     0.94743,      0.9475,     0.94757,     0.94764,     0.94771,     0.94778,     0.94785,\n",
       "            0.94792,     0.94799,     0.94806,     0.94813,      0.9482,     0.94827,     0.94834,     0.94841,     0.94848,     0.94855,     0.94862,     0.94869,     0.94876,     0.94883,      0.9489,     0.94897,     0.94904,     0.94911,     0.94918,     0.94925,     0.94932,     0.94939,     0.94947,\n",
       "            0.94954,     0.94961,     0.94968,     0.94975,     0.94982,     0.94989,     0.94996,     0.95003,      0.9501,     0.95017,     0.95024,     0.95031,     0.95038,     0.95045,     0.95052,     0.95059,     0.95066,     0.95073,      0.9508,     0.95087,     0.95094,     0.95101,     0.95108,\n",
       "            0.95115,     0.95122,     0.95129,     0.95136,     0.95143,      0.9515,     0.95157,     0.95164,     0.95171,     0.95178,     0.95185,     0.95192,     0.95199,     0.95206,     0.95213,      0.9522,     0.95227,     0.95234,     0.95241,     0.95248,     0.95255,     0.95262,     0.95269,\n",
       "            0.95276,     0.95283,      0.9529,     0.95297,     0.95304,     0.95311,     0.95318,     0.95325,     0.95332,     0.95339,     0.95346,     0.95353,      0.9536,     0.95363,     0.95361,     0.95359,     0.95358,     0.95356,     0.95354,     0.95352,      0.9535,     0.95348,     0.95346,\n",
       "            0.95344,     0.95342,      0.9534,     0.95338,     0.95336,     0.95334,     0.95345,     0.95359,     0.95373,     0.95387,     0.95402,     0.95416,      0.9543,     0.95444,     0.95459,     0.95473,     0.95487,     0.95501,     0.95516,      0.9553,     0.95544,     0.95558,     0.95573,\n",
       "            0.95587,     0.95601,     0.95616,      0.9563,     0.95644,     0.95658,     0.95673,     0.95687,     0.95701,     0.95715,      0.9573,     0.95744,     0.95758,     0.95772,     0.95787,     0.95801,     0.95815,     0.95829,     0.95844,     0.95858,     0.95872,     0.95886,     0.95901,\n",
       "            0.95915,     0.95929,     0.95943,     0.95958,     0.95972,     0.95985,     0.95998,      0.9601,     0.96023,     0.96036,     0.96049,     0.96062,     0.96074,     0.96087,       0.961,     0.96113,     0.96125,     0.96138,     0.96151,     0.96164,     0.96177,     0.96189,     0.96202,\n",
       "            0.96215,     0.96228,     0.96241,     0.96253,     0.96266,     0.96279,     0.96292,     0.96304,     0.96317,      0.9633,     0.96343,     0.96356,     0.96368,     0.96381,     0.96394,     0.96407,     0.96419,     0.96432,     0.96445,     0.96458,     0.96471,     0.96483,     0.96496,\n",
       "            0.96509,     0.96522,     0.96535,     0.96547,      0.9656,     0.96573,     0.96586,     0.96598,     0.96611,     0.96632,     0.96691,      0.9675,     0.96808,     0.96867,     0.96925,     0.96984,     0.97043,     0.97101,      0.9716,     0.97218,     0.97277,     0.97332,     0.97386,\n",
       "            0.97441,     0.97496,      0.9755,     0.97605,      0.9766,     0.97714,     0.97769,     0.97823,     0.97878,     0.97933,     0.97945,     0.97944,     0.97944,     0.97944,     0.97943,     0.97943,     0.97942,     0.97942,     0.97941,     0.97941,     0.97941,      0.9794,      0.9794,\n",
       "            0.97939,     0.97939,     0.97938,     0.97938,     0.97937,     0.97937,     0.97937,     0.97936,     0.97936,     0.97935,     0.97935,     0.97934,     0.97934,     0.97934,     0.97933,     0.97933,     0.97932,     0.97932,     0.97931,     0.97931,      0.9793,      0.9793,     0.97929,\n",
       "            0.97928,     0.97927,     0.97927,     0.97926,     0.97925,     0.97925,     0.97924,     0.97923,     0.97923,     0.97922,     0.97921,      0.9792,      0.9792,     0.97919,     0.97918,     0.97918,     0.97917,     0.97916,     0.97916,     0.97915,     0.97915,     0.97914,     0.97914,\n",
       "            0.97913,     0.97913,     0.97912,     0.97912,     0.97911,     0.97911,      0.9791,      0.9791,     0.97909,     0.97909,     0.97908,     0.97908,     0.97907,     0.97907,     0.97906,     0.97906,     0.97905,     0.97905,     0.97904,     0.97904,     0.97903,     0.97903,     0.97902,\n",
       "            0.97902,     0.97901,     0.97901,     0.97901,       0.979,       0.979,     0.97899,     0.97899,     0.97899,     0.97898,     0.97898,     0.97897,     0.97897,     0.97897,     0.97896,     0.97896,     0.97895,     0.97895,     0.97895,     0.97894,     0.97894,     0.97894,     0.97893,\n",
       "            0.97893,     0.97892,     0.97892,     0.97892,     0.97891,     0.97891,      0.9789,      0.9789,      0.9789,     0.97889,     0.97889,     0.97888,     0.97888,     0.97888,     0.97887,     0.97885,     0.97883,     0.97881,     0.97879,     0.97877,     0.97875,     0.97872,     0.97871,\n",
       "             0.9787,     0.97869,     0.97868,     0.97867,     0.97866,     0.97865,     0.97864,     0.97863,     0.97862,     0.97861,      0.9786,     0.97859,     0.97858,     0.97856,     0.97854,     0.97852,      0.9785,     0.97847,     0.97845,     0.97843,     0.97841,     0.97839,     0.97837,\n",
       "            0.97835,     0.97833,     0.97831,     0.97829,     0.97827,     0.97873,     0.97943,     0.98013,     0.98082,     0.98152,     0.98222,     0.98292,     0.98361,     0.98431,     0.98501,     0.98569,     0.98637,     0.98704,     0.98772,      0.9884,     0.98907,     0.98975,     0.99042,\n",
       "             0.9911,     0.99177,     0.99245,     0.99263,     0.99261,     0.99259,     0.99258,     0.99257,     0.99256,     0.99256,     0.99255,     0.99254,     0.99252,     0.99251,     0.99249,     0.99248,     0.99247,     0.99247,     0.99246,     0.99246,     0.99245,     0.99245,     0.99244,\n",
       "            0.99244,     0.99243,     0.99243,     0.99243,     0.99242,      0.9924,     0.99239,     0.99238,     0.99237,     0.99235,     0.99232,     0.99225,     0.99222,     0.99219,     0.99218,     0.99217,     0.99216,     0.99215,     0.99214,     0.99213,     0.99236,     0.99371,     0.99507,\n",
       "            0.99642,     0.99778,     0.99914,           1,           1,           1,           1,           1,           1,           1,           1,           1,           1,           1,           1,           1,           1,           1,           1,           1,           1,           1,           1,\n",
       "                  1,           1,           1,           1,           1,           1,           1,           1,           1,           1,           1,           1,           1,           1,           1,           1,           1,           1,           1,           1,           1,           1,           1,\n",
       "                  1,           1,           1,           1,           1,           1,           1,           1,           1,           1,           1,           1,           1,           1,           1,           1,           1,           1,           1,           1,           1,           1,           1,\n",
       "                  1,           1,           1,           1,           1,           1,           1,           1,           1,           1,           1,           1,           1,           1,           1,           1,           1,           1,           1,           1,           1,           1,           1,\n",
       "                  1,           1,           1,           1,           1,           1,           1,           1,           1,           1,           1,           1,           1,           1,           1,           1,           1,           1,           1,           1,           1,           1,           1,\n",
       "                  1,           1,           1,           1,           1,           1,           1,           1,           1,           1,           1,           1,           1,           1,           1,           1,           1,           1,           1,           1,           1,           1,           1,\n",
       "                  1,           1,           1,           1,           1,           1,           1,           1,           1,           1,           1]]), 'Confidence', 'Precision'], [array([          0,    0.001001,    0.002002,    0.003003,    0.004004,    0.005005,    0.006006,    0.007007,    0.008008,    0.009009,     0.01001,    0.011011,    0.012012,    0.013013,    0.014014,    0.015015,    0.016016,    0.017017,    0.018018,    0.019019,     0.02002,    0.021021,    0.022022,    0.023023,\n",
       "          0.024024,    0.025025,    0.026026,    0.027027,    0.028028,    0.029029,     0.03003,    0.031031,    0.032032,    0.033033,    0.034034,    0.035035,    0.036036,    0.037037,    0.038038,    0.039039,     0.04004,    0.041041,    0.042042,    0.043043,    0.044044,    0.045045,    0.046046,    0.047047,\n",
       "          0.048048,    0.049049,     0.05005,    0.051051,    0.052052,    0.053053,    0.054054,    0.055055,    0.056056,    0.057057,    0.058058,    0.059059,     0.06006,    0.061061,    0.062062,    0.063063,    0.064064,    0.065065,    0.066066,    0.067067,    0.068068,    0.069069,     0.07007,    0.071071,\n",
       "          0.072072,    0.073073,    0.074074,    0.075075,    0.076076,    0.077077,    0.078078,    0.079079,     0.08008,    0.081081,    0.082082,    0.083083,    0.084084,    0.085085,    0.086086,    0.087087,    0.088088,    0.089089,     0.09009,    0.091091,    0.092092,    0.093093,    0.094094,    0.095095,\n",
       "          0.096096,    0.097097,    0.098098,    0.099099,      0.1001,      0.1011,      0.1021,      0.1031,      0.1041,     0.10511,     0.10611,     0.10711,     0.10811,     0.10911,     0.11011,     0.11111,     0.11211,     0.11311,     0.11411,     0.11512,     0.11612,     0.11712,     0.11812,     0.11912,\n",
       "           0.12012,     0.12112,     0.12212,     0.12312,     0.12412,     0.12513,     0.12613,     0.12713,     0.12813,     0.12913,     0.13013,     0.13113,     0.13213,     0.13313,     0.13413,     0.13514,     0.13614,     0.13714,     0.13814,     0.13914,     0.14014,     0.14114,     0.14214,     0.14314,\n",
       "           0.14414,     0.14515,     0.14615,     0.14715,     0.14815,     0.14915,     0.15015,     0.15115,     0.15215,     0.15315,     0.15415,     0.15516,     0.15616,     0.15716,     0.15816,     0.15916,     0.16016,     0.16116,     0.16216,     0.16316,     0.16416,     0.16517,     0.16617,     0.16717,\n",
       "           0.16817,     0.16917,     0.17017,     0.17117,     0.17217,     0.17317,     0.17417,     0.17518,     0.17618,     0.17718,     0.17818,     0.17918,     0.18018,     0.18118,     0.18218,     0.18318,     0.18418,     0.18519,     0.18619,     0.18719,     0.18819,     0.18919,     0.19019,     0.19119,\n",
       "           0.19219,     0.19319,     0.19419,      0.1952,      0.1962,      0.1972,      0.1982,      0.1992,      0.2002,      0.2012,      0.2022,      0.2032,      0.2042,     0.20521,     0.20621,     0.20721,     0.20821,     0.20921,     0.21021,     0.21121,     0.21221,     0.21321,     0.21421,     0.21522,\n",
       "           0.21622,     0.21722,     0.21822,     0.21922,     0.22022,     0.22122,     0.22222,     0.22322,     0.22422,     0.22523,     0.22623,     0.22723,     0.22823,     0.22923,     0.23023,     0.23123,     0.23223,     0.23323,     0.23423,     0.23524,     0.23624,     0.23724,     0.23824,     0.23924,\n",
       "           0.24024,     0.24124,     0.24224,     0.24324,     0.24424,     0.24525,     0.24625,     0.24725,     0.24825,     0.24925,     0.25025,     0.25125,     0.25225,     0.25325,     0.25425,     0.25526,     0.25626,     0.25726,     0.25826,     0.25926,     0.26026,     0.26126,     0.26226,     0.26326,\n",
       "           0.26426,     0.26527,     0.26627,     0.26727,     0.26827,     0.26927,     0.27027,     0.27127,     0.27227,     0.27327,     0.27427,     0.27528,     0.27628,     0.27728,     0.27828,     0.27928,     0.28028,     0.28128,     0.28228,     0.28328,     0.28428,     0.28529,     0.28629,     0.28729,\n",
       "           0.28829,     0.28929,     0.29029,     0.29129,     0.29229,     0.29329,     0.29429,      0.2953,      0.2963,      0.2973,      0.2983,      0.2993,      0.3003,      0.3013,      0.3023,      0.3033,      0.3043,     0.30531,     0.30631,     0.30731,     0.30831,     0.30931,     0.31031,     0.31131,\n",
       "           0.31231,     0.31331,     0.31431,     0.31532,     0.31632,     0.31732,     0.31832,     0.31932,     0.32032,     0.32132,     0.32232,     0.32332,     0.32432,     0.32533,     0.32633,     0.32733,     0.32833,     0.32933,     0.33033,     0.33133,     0.33233,     0.33333,     0.33433,     0.33534,\n",
       "           0.33634,     0.33734,     0.33834,     0.33934,     0.34034,     0.34134,     0.34234,     0.34334,     0.34434,     0.34535,     0.34635,     0.34735,     0.34835,     0.34935,     0.35035,     0.35135,     0.35235,     0.35335,     0.35435,     0.35536,     0.35636,     0.35736,     0.35836,     0.35936,\n",
       "           0.36036,     0.36136,     0.36236,     0.36336,     0.36436,     0.36537,     0.36637,     0.36737,     0.36837,     0.36937,     0.37037,     0.37137,     0.37237,     0.37337,     0.37437,     0.37538,     0.37638,     0.37738,     0.37838,     0.37938,     0.38038,     0.38138,     0.38238,     0.38338,\n",
       "           0.38438,     0.38539,     0.38639,     0.38739,     0.38839,     0.38939,     0.39039,     0.39139,     0.39239,     0.39339,     0.39439,      0.3954,      0.3964,      0.3974,      0.3984,      0.3994,      0.4004,      0.4014,      0.4024,      0.4034,      0.4044,     0.40541,     0.40641,     0.40741,\n",
       "           0.40841,     0.40941,     0.41041,     0.41141,     0.41241,     0.41341,     0.41441,     0.41542,     0.41642,     0.41742,     0.41842,     0.41942,     0.42042,     0.42142,     0.42242,     0.42342,     0.42442,     0.42543,     0.42643,     0.42743,     0.42843,     0.42943,     0.43043,     0.43143,\n",
       "           0.43243,     0.43343,     0.43443,     0.43544,     0.43644,     0.43744,     0.43844,     0.43944,     0.44044,     0.44144,     0.44244,     0.44344,     0.44444,     0.44545,     0.44645,     0.44745,     0.44845,     0.44945,     0.45045,     0.45145,     0.45245,     0.45345,     0.45445,     0.45546,\n",
       "           0.45646,     0.45746,     0.45846,     0.45946,     0.46046,     0.46146,     0.46246,     0.46346,     0.46446,     0.46547,     0.46647,     0.46747,     0.46847,     0.46947,     0.47047,     0.47147,     0.47247,     0.47347,     0.47447,     0.47548,     0.47648,     0.47748,     0.47848,     0.47948,\n",
       "           0.48048,     0.48148,     0.48248,     0.48348,     0.48448,     0.48549,     0.48649,     0.48749,     0.48849,     0.48949,     0.49049,     0.49149,     0.49249,     0.49349,     0.49449,      0.4955,      0.4965,      0.4975,      0.4985,      0.4995,      0.5005,      0.5015,      0.5025,      0.5035,\n",
       "            0.5045,     0.50551,     0.50651,     0.50751,     0.50851,     0.50951,     0.51051,     0.51151,     0.51251,     0.51351,     0.51451,     0.51552,     0.51652,     0.51752,     0.51852,     0.51952,     0.52052,     0.52152,     0.52252,     0.52352,     0.52452,     0.52553,     0.52653,     0.52753,\n",
       "           0.52853,     0.52953,     0.53053,     0.53153,     0.53253,     0.53353,     0.53453,     0.53554,     0.53654,     0.53754,     0.53854,     0.53954,     0.54054,     0.54154,     0.54254,     0.54354,     0.54454,     0.54555,     0.54655,     0.54755,     0.54855,     0.54955,     0.55055,     0.55155,\n",
       "           0.55255,     0.55355,     0.55455,     0.55556,     0.55656,     0.55756,     0.55856,     0.55956,     0.56056,     0.56156,     0.56256,     0.56356,     0.56456,     0.56557,     0.56657,     0.56757,     0.56857,     0.56957,     0.57057,     0.57157,     0.57257,     0.57357,     0.57457,     0.57558,\n",
       "           0.57658,     0.57758,     0.57858,     0.57958,     0.58058,     0.58158,     0.58258,     0.58358,     0.58458,     0.58559,     0.58659,     0.58759,     0.58859,     0.58959,     0.59059,     0.59159,     0.59259,     0.59359,     0.59459,      0.5956,      0.5966,      0.5976,      0.5986,      0.5996,\n",
       "            0.6006,      0.6016,      0.6026,      0.6036,      0.6046,     0.60561,     0.60661,     0.60761,     0.60861,     0.60961,     0.61061,     0.61161,     0.61261,     0.61361,     0.61461,     0.61562,     0.61662,     0.61762,     0.61862,     0.61962,     0.62062,     0.62162,     0.62262,     0.62362,\n",
       "           0.62462,     0.62563,     0.62663,     0.62763,     0.62863,     0.62963,     0.63063,     0.63163,     0.63263,     0.63363,     0.63463,     0.63564,     0.63664,     0.63764,     0.63864,     0.63964,     0.64064,     0.64164,     0.64264,     0.64364,     0.64464,     0.64565,     0.64665,     0.64765,\n",
       "           0.64865,     0.64965,     0.65065,     0.65165,     0.65265,     0.65365,     0.65465,     0.65566,     0.65666,     0.65766,     0.65866,     0.65966,     0.66066,     0.66166,     0.66266,     0.66366,     0.66466,     0.66567,     0.66667,     0.66767,     0.66867,     0.66967,     0.67067,     0.67167,\n",
       "           0.67267,     0.67367,     0.67467,     0.67568,     0.67668,     0.67768,     0.67868,     0.67968,     0.68068,     0.68168,     0.68268,     0.68368,     0.68468,     0.68569,     0.68669,     0.68769,     0.68869,     0.68969,     0.69069,     0.69169,     0.69269,     0.69369,     0.69469,      0.6957,\n",
       "            0.6967,      0.6977,      0.6987,      0.6997,      0.7007,      0.7017,      0.7027,      0.7037,      0.7047,     0.70571,     0.70671,     0.70771,     0.70871,     0.70971,     0.71071,     0.71171,     0.71271,     0.71371,     0.71471,     0.71572,     0.71672,     0.71772,     0.71872,     0.71972,\n",
       "           0.72072,     0.72172,     0.72272,     0.72372,     0.72472,     0.72573,     0.72673,     0.72773,     0.72873,     0.72973,     0.73073,     0.73173,     0.73273,     0.73373,     0.73473,     0.73574,     0.73674,     0.73774,     0.73874,     0.73974,     0.74074,     0.74174,     0.74274,     0.74374,\n",
       "           0.74474,     0.74575,     0.74675,     0.74775,     0.74875,     0.74975,     0.75075,     0.75175,     0.75275,     0.75375,     0.75475,     0.75576,     0.75676,     0.75776,     0.75876,     0.75976,     0.76076,     0.76176,     0.76276,     0.76376,     0.76476,     0.76577,     0.76677,     0.76777,\n",
       "           0.76877,     0.76977,     0.77077,     0.77177,     0.77277,     0.77377,     0.77477,     0.77578,     0.77678,     0.77778,     0.77878,     0.77978,     0.78078,     0.78178,     0.78278,     0.78378,     0.78478,     0.78579,     0.78679,     0.78779,     0.78879,     0.78979,     0.79079,     0.79179,\n",
       "           0.79279,     0.79379,     0.79479,      0.7958,      0.7968,      0.7978,      0.7988,      0.7998,      0.8008,      0.8018,      0.8028,      0.8038,      0.8048,     0.80581,     0.80681,     0.80781,     0.80881,     0.80981,     0.81081,     0.81181,     0.81281,     0.81381,     0.81481,     0.81582,\n",
       "           0.81682,     0.81782,     0.81882,     0.81982,     0.82082,     0.82182,     0.82282,     0.82382,     0.82482,     0.82583,     0.82683,     0.82783,     0.82883,     0.82983,     0.83083,     0.83183,     0.83283,     0.83383,     0.83483,     0.83584,     0.83684,     0.83784,     0.83884,     0.83984,\n",
       "           0.84084,     0.84184,     0.84284,     0.84384,     0.84484,     0.84585,     0.84685,     0.84785,     0.84885,     0.84985,     0.85085,     0.85185,     0.85285,     0.85385,     0.85485,     0.85586,     0.85686,     0.85786,     0.85886,     0.85986,     0.86086,     0.86186,     0.86286,     0.86386,\n",
       "           0.86486,     0.86587,     0.86687,     0.86787,     0.86887,     0.86987,     0.87087,     0.87187,     0.87287,     0.87387,     0.87487,     0.87588,     0.87688,     0.87788,     0.87888,     0.87988,     0.88088,     0.88188,     0.88288,     0.88388,     0.88488,     0.88589,     0.88689,     0.88789,\n",
       "           0.88889,     0.88989,     0.89089,     0.89189,     0.89289,     0.89389,     0.89489,      0.8959,      0.8969,      0.8979,      0.8989,      0.8999,      0.9009,      0.9019,      0.9029,      0.9039,      0.9049,     0.90591,     0.90691,     0.90791,     0.90891,     0.90991,     0.91091,     0.91191,\n",
       "           0.91291,     0.91391,     0.91491,     0.91592,     0.91692,     0.91792,     0.91892,     0.91992,     0.92092,     0.92192,     0.92292,     0.92392,     0.92492,     0.92593,     0.92693,     0.92793,     0.92893,     0.92993,     0.93093,     0.93193,     0.93293,     0.93393,     0.93493,     0.93594,\n",
       "           0.93694,     0.93794,     0.93894,     0.93994,     0.94094,     0.94194,     0.94294,     0.94394,     0.94494,     0.94595,     0.94695,     0.94795,     0.94895,     0.94995,     0.95095,     0.95195,     0.95295,     0.95395,     0.95495,     0.95596,     0.95696,     0.95796,     0.95896,     0.95996,\n",
       "           0.96096,     0.96196,     0.96296,     0.96396,     0.96496,     0.96597,     0.96697,     0.96797,     0.96897,     0.96997,     0.97097,     0.97197,     0.97297,     0.97397,     0.97497,     0.97598,     0.97698,     0.97798,     0.97898,     0.97998,     0.98098,     0.98198,     0.98298,     0.98398,\n",
       "           0.98498,     0.98599,     0.98699,     0.98799,     0.98899,     0.98999,     0.99099,     0.99199,     0.99299,     0.99399,     0.99499,       0.996,       0.997,       0.998,       0.999,           1]), array([[    0.96078,     0.96078,     0.96078,     0.95425,     0.95425,     0.95425,     0.95425,     0.95425,     0.95425,     0.95425,     0.95425,     0.95425,     0.95425,     0.95425,     0.95425,     0.95425,     0.95425,     0.95425,     0.95425,     0.95425,     0.95425,     0.95425,     0.95425,\n",
       "            0.95425,     0.95425,     0.95425,     0.95425,     0.95425,     0.95425,     0.95425,     0.95425,     0.95425,     0.95425,     0.95425,     0.95425,     0.95425,     0.95425,     0.95425,     0.95425,     0.95425,     0.95425,     0.95425,     0.95425,     0.95425,     0.95425,     0.95425,\n",
       "            0.95425,     0.95425,     0.95425,     0.95425,     0.95425,     0.95425,     0.95425,     0.95425,     0.95425,     0.95425,     0.95425,     0.95425,     0.95425,     0.95425,     0.95425,     0.95425,     0.95425,     0.95425,     0.95425,     0.95425,     0.95425,     0.95425,     0.95425,\n",
       "            0.95425,     0.95425,     0.95425,     0.95425,     0.95017,     0.94771,     0.94771,     0.94771,     0.94771,     0.94771,     0.94771,     0.94771,     0.94771,     0.94771,     0.94771,     0.94771,     0.94771,     0.94771,     0.94771,     0.94771,     0.94771,     0.94771,     0.94771,\n",
       "            0.94771,     0.94771,     0.94771,     0.94771,     0.94771,     0.94771,     0.94771,     0.94771,     0.94771,     0.94771,     0.94771,     0.94771,     0.94771,     0.94771,     0.94771,     0.94771,     0.94771,     0.94771,     0.94771,     0.94771,     0.94771,     0.94771,     0.94771,\n",
       "            0.94771,     0.94771,     0.94771,     0.94771,     0.94771,     0.94771,     0.94771,     0.94771,     0.94771,     0.94771,     0.94771,     0.94771,     0.94771,     0.94771,     0.94771,     0.94771,     0.94771,     0.94771,     0.94771,     0.94771,     0.94771,     0.94771,     0.94771,\n",
       "            0.94771,     0.94771,     0.94771,     0.94771,     0.94771,     0.94771,     0.94771,     0.94771,     0.94771,     0.94771,     0.94771,     0.94771,     0.94771,     0.94771,     0.94771,     0.94771,     0.94771,     0.94771,     0.94771,     0.94771,     0.94771,     0.94771,     0.94771,\n",
       "            0.94771,     0.94771,     0.94771,     0.94771,     0.94771,     0.94771,     0.94771,     0.94771,     0.94771,     0.94771,     0.94771,     0.94771,     0.94771,     0.94771,     0.94771,     0.94771,     0.94771,     0.94771,     0.94771,     0.94771,     0.94771,     0.94771,     0.94771,\n",
       "            0.94771,     0.94771,     0.94771,     0.94771,     0.94771,     0.94771,     0.94771,     0.94771,     0.94771,     0.94771,     0.94771,     0.94771,     0.94771,     0.94771,     0.94771,     0.94771,     0.94771,     0.94771,     0.94771,     0.94771,     0.94771,     0.94771,     0.94771,\n",
       "            0.94771,     0.94771,     0.94771,     0.94771,     0.94771,     0.94771,     0.94771,     0.94771,     0.94771,     0.94771,     0.94771,     0.94771,     0.94771,     0.94771,     0.94771,     0.94771,     0.94771,     0.94771,     0.94771,     0.94771,     0.94771,     0.94771,     0.94771,\n",
       "            0.94771,     0.94771,     0.94771,     0.94771,     0.94771,     0.94771,     0.94771,     0.94771,     0.94771,     0.94771,     0.94771,     0.94771,     0.94771,     0.94771,     0.94771,     0.94771,     0.94771,     0.94771,     0.94771,     0.94771,     0.94771,     0.94771,     0.94771,\n",
       "            0.94771,     0.94771,     0.94771,     0.94771,     0.94771,     0.94771,     0.94771,     0.94771,     0.94771,     0.94771,     0.94771,     0.94771,     0.94771,     0.94771,     0.94771,     0.94771,     0.94771,     0.94771,     0.94771,     0.94771,     0.94771,     0.94771,     0.94771,\n",
       "            0.94771,     0.94771,     0.94771,     0.94771,     0.94771,     0.94771,     0.94771,     0.94771,     0.94771,     0.94771,     0.94771,     0.94771,     0.94771,     0.94771,     0.94771,     0.94771,     0.94771,     0.94771,     0.94771,     0.94771,     0.94771,     0.94771,     0.94771,\n",
       "            0.94771,     0.94771,     0.94771,     0.94771,     0.94771,     0.94771,     0.94771,     0.94771,     0.94771,     0.94771,     0.94771,     0.94771,     0.94771,     0.94771,     0.94771,     0.94771,     0.94771,     0.94771,     0.94771,     0.94771,     0.94771,     0.94771,     0.94771,\n",
       "            0.94771,     0.94771,     0.94771,     0.94771,     0.94771,     0.94771,     0.94771,     0.94771,     0.94771,     0.94771,     0.94771,     0.94771,     0.94771,     0.94771,     0.94771,     0.94771,     0.94771,     0.94771,     0.94771,     0.94771,     0.94771,     0.94771,     0.94771,\n",
       "            0.94771,     0.94771,     0.94771,     0.94771,     0.94771,     0.94771,     0.94771,     0.94771,     0.94771,     0.94771,     0.94771,     0.94771,     0.94771,     0.94771,     0.94771,     0.94771,     0.94771,     0.94771,     0.94771,     0.94771,     0.94771,     0.94771,     0.94771,\n",
       "            0.94771,     0.94771,     0.94771,     0.94771,     0.94771,     0.94771,     0.94771,     0.94771,     0.94771,     0.94771,     0.94771,     0.94771,     0.94771,     0.94771,     0.94771,     0.94771,     0.94771,     0.94771,     0.94771,     0.94771,     0.94771,     0.94771,     0.94742,\n",
       "            0.94704,     0.94665,     0.94626,     0.94587,     0.94548,     0.94509,     0.94471,     0.94432,     0.94393,     0.94354,     0.94315,     0.94276,     0.94238,     0.94199,      0.9416,     0.94121,     0.94118,     0.94118,     0.94118,     0.94118,     0.94118,     0.94118,     0.94118,\n",
       "            0.94118,     0.94118,     0.94118,     0.94118,     0.94118,     0.94118,     0.94118,     0.94118,     0.94118,     0.94118,     0.94118,     0.94118,     0.94118,     0.94118,     0.94118,     0.94118,     0.94118,     0.94118,     0.94118,     0.94118,     0.94118,     0.94118,     0.94118,\n",
       "            0.94118,     0.94118,     0.94118,     0.94118,     0.94118,     0.94118,     0.94118,     0.94118,     0.94118,     0.94118,     0.94118,     0.94118,     0.94118,     0.94118,     0.94118,     0.94118,     0.94118,     0.94118,     0.94118,     0.94118,     0.94118,     0.94118,     0.94118,\n",
       "            0.94118,     0.94118,     0.94118,     0.94118,     0.94118,     0.94118,     0.94118,     0.94118,     0.94118,     0.94118,     0.94118,     0.94118,     0.94118,     0.94118,     0.94118,     0.94118,     0.94118,     0.94118,     0.94118,     0.94118,     0.94118,     0.94118,     0.94118,\n",
       "            0.94118,     0.94118,     0.94118,     0.94118,     0.94118,     0.94118,     0.94118,     0.94118,     0.94118,     0.94118,     0.94118,     0.94118,     0.94118,     0.94101,     0.94059,     0.94017,     0.93975,     0.93933,     0.93891,      0.9385,     0.93808,     0.93766,     0.93724,\n",
       "            0.93682,      0.9364,     0.93598,     0.93556,     0.93515,     0.93473,     0.93464,     0.93464,     0.93464,     0.93464,     0.93464,     0.93464,     0.93464,     0.93464,     0.93464,     0.93464,     0.93464,     0.93464,     0.93464,     0.93464,     0.93464,     0.93464,     0.93464,\n",
       "            0.93464,     0.93464,     0.93464,     0.93464,     0.93464,     0.93464,     0.93464,     0.93464,     0.93464,     0.93464,     0.93464,     0.93464,     0.93464,     0.93464,     0.93464,     0.93464,     0.93464,     0.93464,     0.93464,     0.93464,     0.93464,     0.93464,     0.93464,\n",
       "            0.93464,     0.93464,     0.93464,     0.93464,     0.93464,     0.93464,     0.93464,     0.93464,     0.93464,     0.93464,     0.93464,     0.93464,     0.93464,     0.93464,     0.93464,     0.93464,     0.93464,     0.93464,     0.93464,     0.93464,     0.93464,     0.93464,     0.93464,\n",
       "            0.93464,     0.93464,     0.93464,     0.93464,     0.93464,     0.93464,     0.93464,     0.93464,     0.93464,     0.93464,     0.93464,     0.93464,     0.93464,     0.93464,     0.93464,     0.93464,     0.93464,     0.93464,     0.93464,     0.93464,     0.93464,     0.93464,     0.93464,\n",
       "            0.93464,     0.93464,     0.93464,     0.93464,     0.93464,     0.93464,     0.93464,     0.93464,     0.93464,     0.93464,     0.93464,     0.93464,     0.93464,     0.93464,     0.93464,     0.93464,     0.93464,     0.93464,     0.93464,     0.93464,     0.93464,     0.93464,     0.93464,\n",
       "            0.93464,     0.93464,     0.93464,     0.93464,     0.93464,     0.93464,     0.93464,     0.93464,     0.93464,     0.93464,     0.93449,     0.93429,     0.93409,     0.93389,     0.93369,     0.93349,     0.93329,     0.93309,     0.93289,     0.93269,     0.93249,     0.93229,     0.93209,\n",
       "            0.93189,     0.93169,     0.93149,     0.93129,     0.93109,     0.93089,     0.93069,     0.93049,     0.93029,     0.93009,     0.92989,     0.92969,     0.92949,     0.92929,     0.92909,     0.92889,     0.92869,     0.92849,     0.92829,     0.92808,     0.92776,     0.92744,     0.92712,\n",
       "             0.9268,     0.92648,     0.92616,     0.92584,     0.92552,      0.9252,     0.92489,     0.92457,     0.92425,     0.92393,     0.92361,     0.92329,     0.92297,     0.92265,     0.92233,     0.92201,      0.9217,     0.92143,      0.9212,     0.92098,     0.92075,     0.92052,      0.9203,\n",
       "            0.92007,     0.91984,     0.91962,     0.91939,     0.91916,     0.91893,     0.91871,     0.91848,     0.91825,     0.91803,      0.9178,     0.91757,     0.91734,     0.91712,     0.91689,     0.91666,     0.91644,     0.91621,     0.91598,     0.91575,     0.91553,      0.9153,     0.91507,\n",
       "            0.91489,     0.91472,     0.91454,     0.91437,     0.91419,     0.91402,     0.91385,     0.91367,      0.9135,     0.91332,     0.91315,     0.91298,      0.9128,     0.91263,     0.91245,     0.91228,     0.91211,     0.91193,     0.91176,     0.91158,     0.91141,     0.91124,     0.91106,\n",
       "            0.91089,     0.91071,     0.91054,     0.91037,     0.91019,     0.91002,     0.90984,     0.90967,      0.9095,     0.90932,     0.90915,     0.90897,      0.9088,     0.90863,     0.90826,     0.90737,     0.90648,     0.90558,     0.90469,      0.9038,      0.9029,     0.90201,     0.90154,\n",
       "            0.90109,     0.90065,      0.9002,     0.89975,     0.89931,     0.89886,     0.89841,     0.89797,     0.89752,     0.89707,     0.89663,     0.89618,     0.89573,     0.89513,     0.89417,     0.89321,     0.89226,      0.8913,     0.89034,     0.88938,     0.88848,     0.88765,     0.88681,\n",
       "            0.88597,     0.88514,      0.8843,     0.88346,     0.88262,     0.88235,     0.88235,     0.88235,     0.88235,     0.88235,     0.88235,     0.88235,     0.88235,     0.88235,     0.88235,     0.88235,     0.88235,     0.88235,     0.88235,     0.88235,     0.88235,     0.88235,     0.88235,\n",
       "            0.88235,     0.88235,     0.88235,     0.88047,     0.87779,     0.87555,     0.87451,     0.87348,     0.87245,     0.87142,     0.87039,     0.86936,     0.86752,      0.8656,     0.86369,     0.86246,      0.8619,     0.86135,     0.86079,     0.86023,     0.85967,     0.85911,     0.85855,\n",
       "              0.858,     0.85744,     0.85688,     0.85632,     0.85523,     0.85402,      0.8528,     0.85158,     0.85036,     0.84822,     0.84487,     0.83665,     0.83326,     0.83002,     0.82907,     0.82811,     0.82715,     0.82619,     0.82524,     0.82428,     0.81699,     0.81699,     0.81699,\n",
       "            0.81699,     0.81699,     0.81699,     0.81578,     0.81243,     0.80495,     0.80186,     0.79963,     0.79739,     0.78426,     0.78158,      0.7789,     0.77518,     0.77045,     0.76407,      0.7596,     0.75362,     0.74492,     0.74408,     0.74324,      0.7424,     0.74157,     0.74073,\n",
       "            0.73989,     0.73905,     0.73746,     0.73478,      0.7321,     0.73102,     0.72999,     0.72896,     0.72793,      0.7269,     0.72587,     0.69742,     0.69061,     0.68726,     0.67502,     0.66178,     0.65508,     0.65099,     0.64764,     0.64429,     0.64094,     0.63139,     0.62469,\n",
       "            0.61354,     0.61163,     0.60972,     0.60779,     0.60556,     0.60333,     0.59435,     0.58988,     0.57977,     0.57077,     0.56407,     0.55894,     0.54578,     0.54046,     0.53778,     0.52857,     0.52589,     0.52321,      0.4974,     0.49271,     0.48434,     0.47942,     0.46733,\n",
       "            0.45746,     0.45478,      0.4521,     0.43663,     0.42451,     0.42183,     0.41916,     0.40917,      0.3827,      0.3693,     0.35205,      0.3487,     0.34218,     0.33106,      0.3261,     0.32419,     0.32227,     0.32036,      0.3139,     0.31046,     0.30055,     0.29608,     0.29037,\n",
       "            0.27294,     0.27027,     0.26603,     0.25703,     0.22811,     0.22476,     0.22182,     0.22014,     0.21847,     0.21679,     0.21455,      0.2112,     0.20394,     0.19658,     0.18759,     0.18312,     0.17321,     0.16324,     0.14315,     0.13538,     0.13203,     0.11602,    0.097552,\n",
       "           0.094202,    0.090201,    0.082036,    0.062101,    0.053763,    0.044447,    0.039981,    0.027128,    0.014714,   0.0071935,           0,           0,           0,           0,           0,           0,           0,           0,           0,           0,           0,           0,           0,\n",
       "                  0,           0,           0,           0,           0,           0,           0,           0,           0,           0,           0]]), 'Confidence', 'Recall']]\n",
       "fitness: 0.8200197996142489\n",
       "keys: ['metrics/precision(B)', 'metrics/recall(B)', 'metrics/mAP50(B)', 'metrics/mAP50-95(B)']\n",
       "maps: array([    0.80459])\n",
       "names: {0: 'plate'}\n",
       "plot: True\n",
       "results_dict: {'metrics/precision(B)': 0.97942269358523, 'metrics/recall(B)': 0.933286325052982, 'metrics/mAP50(B)': 0.9588660053369672, 'metrics/mAP50-95(B)': 0.8045924434228358, 'fitness': 0.8200197996142489}\n",
       "save_dir: WindowsPath('runs/detect/yolo-anpr5')\n",
       "speed: {'preprocess': 0.09188549618206257, 'inference': 2.276556488550688, 'loss': 0.00048549618388959146, 'postprocess': 1.2562824427482329}\n",
       "task: 'detect'"
      ]
     },
     "execution_count": 3,
     "metadata": {},
     "output_type": "execute_result"
    }
   ],
   "source": [
    "model.train(\n",
    "    data=\"./dataset/data.yaml\",\n",
    "    epochs=100,\n",
    "    imgsz=640,             \n",
    "    batch=16,                \n",
    "    device=0,               \n",
    "    name=\"yolo-anpr\",\n",
    "    optimizer=\"AdamW\",      \n",
    "    lr0=0.001,              \n",
    "    patience=30,            \n",
    "    cos_lr=True,            \n",
    "    mosaic=0.5,             \n",
    "    hsv_h=0.015, hsv_s=0.7, hsv_v=0.4, \n",
    "    scale=0.5,              \n",
    "    flipud=0.0, fliplr=0.3, \n",
    "    degrees=0.0,            \n",
    "    translate=0.1,          \n",
    "    shear=0.0,            \n",
    ")\n"
   ]
  },
  {
   "cell_type": "markdown",
   "id": "ce32ce79",
   "metadata": {},
   "source": [
    "**INITIALIZE INFERENCE**"
   ]
  },
  {
   "cell_type": "code",
   "execution_count": 2,
   "id": "63feac66",
   "metadata": {},
   "outputs": [
    {
     "name": "stdout",
     "output_type": "stream",
     "text": [
      "[2025/04/23 16:53:25] ppocr DEBUG: Namespace(help='==SUPPRESS==', use_gpu=False, use_xpu=False, use_npu=False, use_mlu=False, use_gcu=False, ir_optim=True, use_tensorrt=False, min_subgraph_size=15, precision='fp32', gpu_mem=500, gpu_id=0, image_dir=None, page_num=0, det_algorithm='DB', det_model_dir='C:\\\\Users\\\\USER/.paddleocr/whl\\\\det\\\\en\\\\en_PP-OCRv3_det_infer', det_limit_side_len=960, det_limit_type='max', det_box_type='quad', det_db_thresh=0.3, det_db_box_thresh=0.6, det_db_unclip_ratio=1.5, max_batch_size=10, use_dilation=False, det_db_score_mode='fast', det_east_score_thresh=0.8, det_east_cover_thresh=0.1, det_east_nms_thresh=0.2, det_sast_score_thresh=0.5, det_sast_nms_thresh=0.2, det_pse_thresh=0, det_pse_box_thresh=0.85, det_pse_min_area=16, det_pse_scale=1, scales=[8, 16, 32], alpha=1.0, beta=1.0, fourier_degree=5, rec_algorithm='SVTR_LCNet', rec_model_dir='C:\\\\Users\\\\USER/.paddleocr/whl\\\\rec\\\\en\\\\en_PP-OCRv4_rec_infer', rec_image_inverse=True, rec_image_shape='3, 48, 320', rec_batch_num=6, max_text_length=25, rec_char_dict_path='c:\\\\Users\\\\USER\\\\anaconda3\\\\envs\\\\anpr\\\\lib\\\\site-packages\\\\paddleocr\\\\ppocr\\\\utils\\\\en_dict.txt', use_space_char=True, vis_font_path='./doc/fonts/simfang.ttf', drop_score=0.5, e2e_algorithm='PGNet', e2e_model_dir=None, e2e_limit_side_len=768, e2e_limit_type='max', e2e_pgnet_score_thresh=0.5, e2e_char_dict_path='./ppocr/utils/ic15_dict.txt', e2e_pgnet_valid_set='totaltext', e2e_pgnet_mode='fast', use_angle_cls=True, cls_model_dir='C:\\\\Users\\\\USER/.paddleocr/whl\\\\cls\\\\ch_ppocr_mobile_v2.0_cls_infer', cls_image_shape='3, 48, 192', label_list=['0', '180'], cls_batch_num=6, cls_thresh=0.9, enable_mkldnn=False, cpu_threads=10, use_pdserving=False, warmup=False, sr_model_dir=None, sr_image_shape='3, 32, 128', sr_batch_num=1, draw_img_save_dir='./inference_results', save_crop_res=False, crop_res_save_dir='./output', use_mp=False, total_process_num=1, process_id=0, benchmark=False, save_log_path='./log_output/', show_log=True, use_onnx=False, onnx_providers=False, onnx_sess_options=False, return_word_box=False, output='./output', table_max_len=488, table_algorithm='TableAttn', table_model_dir=None, merge_no_span_structure=True, table_char_dict_path=None, formula_algorithm='LaTeXOCR', formula_model_dir=None, formula_char_dict_path=None, formula_batch_num=1, layout_model_dir=None, layout_dict_path=None, layout_score_threshold=0.5, layout_nms_threshold=0.5, kie_algorithm='LayoutXLM', ser_model_dir=None, re_model_dir=None, use_visual_backbone=True, ser_dict_path='../train_data/XFUND/class_list_xfun.txt', ocr_order_method=None, mode='structure', image_orientation=False, layout=True, table=True, formula=False, ocr=True, recovery=False, recovery_to_markdown=False, use_pdf2docx_api=False, invert=False, binarize=False, alphacolor=(255, 255, 255), lang='en', det=True, rec=True, type='ocr', savefile=False, ocr_version='PP-OCRv4', structure_version='PP-StructureV2')\n"
     ]
    }
   ],
   "source": [
    "model = YOLO(\"./runs/detect/yolo-anpr4/weights/best.pt\")\n",
    "ocr = PaddleOCR(use_angle_cls=True, lang='en')"
   ]
  },
  {
   "cell_type": "markdown",
   "id": "c023b2ad",
   "metadata": {},
   "source": [
    "**REGEX**"
   ]
  },
  {
   "cell_type": "code",
   "execution_count": 3,
   "id": "2e6e1dc4",
   "metadata": {},
   "outputs": [],
   "source": [
    "PLATE_REGEX = r\"^[A-Z]{1,2} ?\\d{1,4} ?[A-Z]{2,3}$\"\n",
    "\n",
    "def normalize_plate(text):\n",
    "    text = text.replace(\" \", \"\").upper()\n",
    "    match = re.match(r\"^([A-Z]{1,2})(\\d{1,4})([A-Z]{2,3})$\", text)\n",
    "    if match:\n",
    "        return f\"{match.group(1)} {match.group(2)} {match.group(3)}\"\n",
    "    return None\n",
    "\n",
    "plate_history = deque(maxlen=15)\n",
    "final_plate = \"\""
   ]
  },
  {
   "cell_type": "markdown",
   "id": "d9fc5cc4",
   "metadata": {},
   "source": [
    "**INFERENCE**"
   ]
  },
  {
   "cell_type": "code",
   "execution_count": null,
   "id": "6f9dc535",
   "metadata": {},
   "outputs": [
    {
     "name": "stdout",
     "output_type": "stream",
     "text": [
      "\n",
      "0: 480x640 1 plate, 6.5ms\n",
      "Speed: 1.9ms preprocess, 6.5ms inference, 1.3ms postprocess per image at shape (1, 3, 480, 640)\n",
      "[2025/04/23 16:55:04] ppocr DEBUG: dt_boxes num : 0, elapsed : 0.0637063980102539\n",
      "[2025/04/23 16:55:04] ppocr DEBUG: cls num  : 0, elapsed : 0\n",
      "[2025/04/23 16:55:04] ppocr DEBUG: rec_res num  : 0, elapsed : 0.0\n",
      "\n",
      "0: 480x640 (no detections), 8.7ms\n",
      "Speed: 1.3ms preprocess, 8.7ms inference, 0.6ms postprocess per image at shape (1, 3, 480, 640)\n",
      "\n",
      "0: 480x640 (no detections), 9.3ms\n",
      "Speed: 1.3ms preprocess, 9.3ms inference, 0.7ms postprocess per image at shape (1, 3, 480, 640)\n",
      "\n",
      "0: 480x640 (no detections), 7.0ms\n",
      "Speed: 1.2ms preprocess, 7.0ms inference, 0.7ms postprocess per image at shape (1, 3, 480, 640)\n",
      "\n",
      "0: 480x640 (no detections), 6.2ms\n",
      "Speed: 0.9ms preprocess, 6.2ms inference, 0.4ms postprocess per image at shape (1, 3, 480, 640)\n",
      "\n",
      "0: 480x640 (no detections), 7.8ms\n",
      "Speed: 1.3ms preprocess, 7.8ms inference, 0.4ms postprocess per image at shape (1, 3, 480, 640)\n",
      "\n",
      "0: 480x640 (no detections), 7.0ms\n",
      "Speed: 0.7ms preprocess, 7.0ms inference, 0.7ms postprocess per image at shape (1, 3, 480, 640)\n",
      "\n",
      "0: 480x640 (no detections), 7.1ms\n",
      "Speed: 1.0ms preprocess, 7.1ms inference, 0.4ms postprocess per image at shape (1, 3, 480, 640)\n",
      "\n",
      "0: 480x640 (no detections), 8.1ms\n",
      "Speed: 1.2ms preprocess, 8.1ms inference, 0.5ms postprocess per image at shape (1, 3, 480, 640)\n",
      "\n",
      "0: 480x640 (no detections), 6.3ms\n",
      "Speed: 0.9ms preprocess, 6.3ms inference, 1.1ms postprocess per image at shape (1, 3, 480, 640)\n",
      "\n",
      "0: 480x640 1 plate, 7.4ms\n",
      "Speed: 1.2ms preprocess, 7.4ms inference, 1.8ms postprocess per image at shape (1, 3, 480, 640)\n",
      "[2025/04/23 16:55:05] ppocr DEBUG: dt_boxes num : 0, elapsed : 0.0672914981842041\n",
      "[2025/04/23 16:55:05] ppocr DEBUG: cls num  : 0, elapsed : 0\n",
      "[2025/04/23 16:55:05] ppocr DEBUG: rec_res num  : 0, elapsed : 0.0\n",
      "\n",
      "0: 480x640 1 plate, 8.5ms\n",
      "Speed: 1.0ms preprocess, 8.5ms inference, 1.1ms postprocess per image at shape (1, 3, 480, 640)\n",
      "[2025/04/23 16:55:05] ppocr DEBUG: dt_boxes num : 0, elapsed : 0.02254199981689453\n",
      "[2025/04/23 16:55:05] ppocr DEBUG: cls num  : 0, elapsed : 0\n",
      "[2025/04/23 16:55:05] ppocr DEBUG: rec_res num  : 0, elapsed : 0.0\n",
      "\n",
      "0: 480x640 1 plate, 6.6ms\n",
      "Speed: 0.9ms preprocess, 6.6ms inference, 1.9ms postprocess per image at shape (1, 3, 480, 640)\n",
      "[2025/04/23 16:55:05] ppocr DEBUG: dt_boxes num : 0, elapsed : 0.0628056526184082\n",
      "[2025/04/23 16:55:05] ppocr DEBUG: cls num  : 0, elapsed : 0\n",
      "[2025/04/23 16:55:05] ppocr DEBUG: rec_res num  : 0, elapsed : 0.0\n",
      "\n",
      "0: 480x640 1 plate, 7.1ms\n",
      "Speed: 0.7ms preprocess, 7.1ms inference, 1.2ms postprocess per image at shape (1, 3, 480, 640)\n",
      "[2025/04/23 16:55:05] ppocr DEBUG: dt_boxes num : 0, elapsed : 0.10492277145385742\n",
      "[2025/04/23 16:55:05] ppocr DEBUG: cls num  : 0, elapsed : 0\n",
      "[2025/04/23 16:55:05] ppocr DEBUG: rec_res num  : 0, elapsed : 0.0\n",
      "\n",
      "0: 480x640 1 plate, 6.9ms\n",
      "Speed: 1.0ms preprocess, 6.9ms inference, 1.2ms postprocess per image at shape (1, 3, 480, 640)\n",
      "[2025/04/23 16:55:05] ppocr DEBUG: dt_boxes num : 0, elapsed : 0.057420969009399414\n",
      "[2025/04/23 16:55:05] ppocr DEBUG: cls num  : 0, elapsed : 0\n",
      "[2025/04/23 16:55:05] ppocr DEBUG: rec_res num  : 0, elapsed : 0.0\n",
      "\n",
      "0: 480x640 (no detections), 6.2ms\n",
      "Speed: 0.9ms preprocess, 6.2ms inference, 0.5ms postprocess per image at shape (1, 3, 480, 640)\n",
      "\n",
      "0: 480x640 (no detections), 5.9ms\n",
      "Speed: 1.5ms preprocess, 5.9ms inference, 0.5ms postprocess per image at shape (1, 3, 480, 640)\n",
      "\n",
      "0: 480x640 (no detections), 7.8ms\n",
      "Speed: 1.4ms preprocess, 7.8ms inference, 0.4ms postprocess per image at shape (1, 3, 480, 640)\n",
      "\n",
      "0: 480x640 1 plate, 6.2ms\n",
      "Speed: 0.9ms preprocess, 6.2ms inference, 1.3ms postprocess per image at shape (1, 3, 480, 640)\n",
      "[2025/04/23 16:55:05] ppocr DEBUG: dt_boxes num : 1, elapsed : 0.06468391418457031\n",
      "[2025/04/23 16:55:05] ppocr DEBUG: cls num  : 1, elapsed : 0.028560400009155273\n",
      "[2025/04/23 16:55:05] ppocr DEBUG: rec_res num  : 1, elapsed : 0.07120323181152344\n",
      "\n",
      "0: 480x640 1 plate, 6.3ms\n",
      "Speed: 2.5ms preprocess, 6.3ms inference, 1.3ms postprocess per image at shape (1, 3, 480, 640)\n",
      "[2025/04/23 16:55:05] ppocr DEBUG: dt_boxes num : 0, elapsed : 0.05983901023864746\n",
      "[2025/04/23 16:55:05] ppocr DEBUG: cls num  : 0, elapsed : 0\n",
      "[2025/04/23 16:55:05] ppocr DEBUG: rec_res num  : 0, elapsed : 0.0\n",
      "\n",
      "0: 480x640 1 plate, 5.6ms\n",
      "Speed: 0.9ms preprocess, 5.6ms inference, 1.3ms postprocess per image at shape (1, 3, 480, 640)\n",
      "[2025/04/23 16:55:05] ppocr DEBUG: dt_boxes num : 0, elapsed : 0.057442665100097656\n",
      "[2025/04/23 16:55:05] ppocr DEBUG: cls num  : 0, elapsed : 0\n",
      "[2025/04/23 16:55:05] ppocr DEBUG: rec_res num  : 0, elapsed : 0.0\n",
      "\n",
      "0: 480x640 1 plate, 6.7ms\n",
      "Speed: 1.1ms preprocess, 6.7ms inference, 1.2ms postprocess per image at shape (1, 3, 480, 640)\n",
      "[2025/04/23 16:55:06] ppocr DEBUG: dt_boxes num : 0, elapsed : 0.061675071716308594\n",
      "[2025/04/23 16:55:06] ppocr DEBUG: cls num  : 0, elapsed : 0\n",
      "[2025/04/23 16:55:06] ppocr DEBUG: rec_res num  : 0, elapsed : 0.0\n",
      "\n",
      "0: 480x640 1 plate, 8.1ms\n",
      "Speed: 1.5ms preprocess, 8.1ms inference, 1.7ms postprocess per image at shape (1, 3, 480, 640)\n",
      "[2025/04/23 16:55:06] ppocr DEBUG: dt_boxes num : 0, elapsed : 0.06090497970581055\n",
      "[2025/04/23 16:55:06] ppocr DEBUG: cls num  : 0, elapsed : 0\n",
      "[2025/04/23 16:55:06] ppocr DEBUG: rec_res num  : 0, elapsed : 0.0\n",
      "\n",
      "0: 480x640 1 plate, 9.4ms\n",
      "Speed: 0.9ms preprocess, 9.4ms inference, 1.4ms postprocess per image at shape (1, 3, 480, 640)\n",
      "[2025/04/23 16:55:06] ppocr DEBUG: dt_boxes num : 0, elapsed : 0.06623482704162598\n",
      "[2025/04/23 16:55:06] ppocr DEBUG: cls num  : 0, elapsed : 0\n",
      "[2025/04/23 16:55:06] ppocr DEBUG: rec_res num  : 0, elapsed : 0.0\n",
      "\n",
      "0: 480x640 1 plate, 8.6ms\n",
      "Speed: 1.0ms preprocess, 8.6ms inference, 1.1ms postprocess per image at shape (1, 3, 480, 640)\n",
      "[2025/04/23 16:55:06] ppocr DEBUG: dt_boxes num : 0, elapsed : 0.05900764465332031\n",
      "[2025/04/23 16:55:06] ppocr DEBUG: cls num  : 0, elapsed : 0\n",
      "[2025/04/23 16:55:06] ppocr DEBUG: rec_res num  : 0, elapsed : 0.0\n",
      "\n",
      "0: 480x640 1 plate, 9.4ms\n",
      "Speed: 0.9ms preprocess, 9.4ms inference, 2.9ms postprocess per image at shape (1, 3, 480, 640)\n",
      "[2025/04/23 16:55:06] ppocr DEBUG: dt_boxes num : 0, elapsed : 0.059258222579956055\n",
      "[2025/04/23 16:55:06] ppocr DEBUG: cls num  : 0, elapsed : 0\n",
      "[2025/04/23 16:55:06] ppocr DEBUG: rec_res num  : 0, elapsed : 0.0\n",
      "\n",
      "0: 480x640 1 plate, 6.4ms\n",
      "Speed: 1.0ms preprocess, 6.4ms inference, 1.2ms postprocess per image at shape (1, 3, 480, 640)\n",
      "[2025/04/23 16:55:06] ppocr DEBUG: dt_boxes num : 0, elapsed : 0.05635333061218262\n",
      "[2025/04/23 16:55:06] ppocr DEBUG: cls num  : 0, elapsed : 0\n",
      "[2025/04/23 16:55:06] ppocr DEBUG: rec_res num  : 0, elapsed : 0.0\n",
      "\n",
      "0: 480x640 1 plate, 6.2ms\n",
      "Speed: 1.3ms preprocess, 6.2ms inference, 1.0ms postprocess per image at shape (1, 3, 480, 640)\n",
      "[2025/04/23 16:55:06] ppocr DEBUG: dt_boxes num : 0, elapsed : 0.06111025810241699\n",
      "[2025/04/23 16:55:06] ppocr DEBUG: cls num  : 0, elapsed : 0\n",
      "[2025/04/23 16:55:06] ppocr DEBUG: rec_res num  : 0, elapsed : 0.0\n",
      "\n",
      "0: 480x640 1 plate, 5.7ms\n",
      "Speed: 0.9ms preprocess, 5.7ms inference, 0.9ms postprocess per image at shape (1, 3, 480, 640)\n",
      "[2025/04/23 16:55:06] ppocr DEBUG: dt_boxes num : 0, elapsed : 0.06424236297607422\n",
      "[2025/04/23 16:55:06] ppocr DEBUG: cls num  : 0, elapsed : 0\n",
      "[2025/04/23 16:55:06] ppocr DEBUG: rec_res num  : 0, elapsed : 0.0\n",
      "\n",
      "0: 480x640 1 plate, 6.8ms\n",
      "Speed: 0.8ms preprocess, 6.8ms inference, 1.9ms postprocess per image at shape (1, 3, 480, 640)\n",
      "[2025/04/23 16:55:06] ppocr DEBUG: dt_boxes num : 0, elapsed : 0.05495572090148926\n",
      "[2025/04/23 16:55:06] ppocr DEBUG: cls num  : 0, elapsed : 0\n",
      "[2025/04/23 16:55:06] ppocr DEBUG: rec_res num  : 0, elapsed : 0.0\n",
      "\n",
      "0: 480x640 1 plate, 5.8ms\n",
      "Speed: 1.0ms preprocess, 5.8ms inference, 1.0ms postprocess per image at shape (1, 3, 480, 640)\n",
      "[2025/04/23 16:55:06] ppocr DEBUG: dt_boxes num : 0, elapsed : 0.05974078178405762\n",
      "[2025/04/23 16:55:06] ppocr DEBUG: cls num  : 0, elapsed : 0\n",
      "[2025/04/23 16:55:06] ppocr DEBUG: rec_res num  : 0, elapsed : 0.0\n",
      "\n",
      "0: 480x640 1 plate, 7.0ms\n",
      "Speed: 1.4ms preprocess, 7.0ms inference, 1.0ms postprocess per image at shape (1, 3, 480, 640)\n",
      "[2025/04/23 16:55:07] ppocr DEBUG: dt_boxes num : 0, elapsed : 0.059844255447387695\n",
      "[2025/04/23 16:55:07] ppocr DEBUG: cls num  : 0, elapsed : 0\n",
      "[2025/04/23 16:55:07] ppocr DEBUG: rec_res num  : 0, elapsed : 0.0\n",
      "\n",
      "0: 480x640 1 plate, 9.2ms\n",
      "Speed: 1.2ms preprocess, 9.2ms inference, 2.2ms postprocess per image at shape (1, 3, 480, 640)\n",
      "[2025/04/23 16:55:07] ppocr DEBUG: dt_boxes num : 0, elapsed : 0.059038400650024414\n",
      "[2025/04/23 16:55:07] ppocr DEBUG: cls num  : 0, elapsed : 0\n",
      "[2025/04/23 16:55:07] ppocr DEBUG: rec_res num  : 0, elapsed : 0.0\n",
      "\n",
      "0: 480x640 1 plate, 6.8ms\n",
      "Speed: 0.9ms preprocess, 6.8ms inference, 1.4ms postprocess per image at shape (1, 3, 480, 640)\n",
      "[2025/04/23 16:55:07] ppocr DEBUG: dt_boxes num : 0, elapsed : 0.05880236625671387\n",
      "[2025/04/23 16:55:07] ppocr DEBUG: cls num  : 0, elapsed : 0\n",
      "[2025/04/23 16:55:07] ppocr DEBUG: rec_res num  : 0, elapsed : 0.0\n",
      "\n",
      "0: 480x640 1 plate, 7.7ms\n",
      "Speed: 1.0ms preprocess, 7.7ms inference, 1.7ms postprocess per image at shape (1, 3, 480, 640)\n",
      "[2025/04/23 16:55:07] ppocr DEBUG: dt_boxes num : 0, elapsed : 0.06099987030029297\n",
      "[2025/04/23 16:55:07] ppocr DEBUG: cls num  : 0, elapsed : 0\n",
      "[2025/04/23 16:55:07] ppocr DEBUG: rec_res num  : 0, elapsed : 0.0\n",
      "\n",
      "0: 480x640 1 plate, 9.4ms\n",
      "Speed: 1.4ms preprocess, 9.4ms inference, 1.1ms postprocess per image at shape (1, 3, 480, 640)\n",
      "[2025/04/23 16:55:07] ppocr DEBUG: dt_boxes num : 0, elapsed : 0.05865335464477539\n",
      "[2025/04/23 16:55:07] ppocr DEBUG: cls num  : 0, elapsed : 0\n",
      "[2025/04/23 16:55:07] ppocr DEBUG: rec_res num  : 0, elapsed : 0.0\n",
      "\n",
      "0: 480x640 1 plate, 6.9ms\n",
      "Speed: 1.6ms preprocess, 6.9ms inference, 1.2ms postprocess per image at shape (1, 3, 480, 640)\n",
      "[2025/04/23 16:55:07] ppocr DEBUG: dt_boxes num : 0, elapsed : 0.06579709053039551\n",
      "[2025/04/23 16:55:07] ppocr DEBUG: cls num  : 0, elapsed : 0\n",
      "[2025/04/23 16:55:07] ppocr DEBUG: rec_res num  : 0, elapsed : 0.0\n",
      "\n",
      "0: 480x640 1 plate, 7.6ms\n",
      "Speed: 0.9ms preprocess, 7.6ms inference, 1.8ms postprocess per image at shape (1, 3, 480, 640)\n",
      "[2025/04/23 16:55:07] ppocr DEBUG: dt_boxes num : 0, elapsed : 0.05599069595336914\n",
      "[2025/04/23 16:55:07] ppocr DEBUG: cls num  : 0, elapsed : 0\n",
      "[2025/04/23 16:55:07] ppocr DEBUG: rec_res num  : 0, elapsed : 0.0\n",
      "\n",
      "0: 480x640 1 plate, 7.2ms\n",
      "Speed: 1.4ms preprocess, 7.2ms inference, 1.2ms postprocess per image at shape (1, 3, 480, 640)\n",
      "[2025/04/23 16:55:07] ppocr DEBUG: dt_boxes num : 0, elapsed : 0.060732126235961914\n",
      "[2025/04/23 16:55:07] ppocr DEBUG: cls num  : 0, elapsed : 0\n",
      "[2025/04/23 16:55:07] ppocr DEBUG: rec_res num  : 0, elapsed : 0.0\n",
      "\n",
      "0: 480x640 1 plate, 6.7ms\n",
      "Speed: 0.8ms preprocess, 6.7ms inference, 1.1ms postprocess per image at shape (1, 3, 480, 640)\n",
      "[2025/04/23 16:55:07] ppocr DEBUG: dt_boxes num : 0, elapsed : 0.05688023567199707\n",
      "[2025/04/23 16:55:07] ppocr DEBUG: cls num  : 0, elapsed : 0\n",
      "[2025/04/23 16:55:07] ppocr DEBUG: rec_res num  : 0, elapsed : 0.0\n",
      "\n",
      "0: 480x640 (no detections), 6.5ms\n",
      "Speed: 1.2ms preprocess, 6.5ms inference, 0.6ms postprocess per image at shape (1, 3, 480, 640)\n",
      "\n",
      "0: 480x640 (no detections), 6.5ms\n",
      "Speed: 1.1ms preprocess, 6.5ms inference, 0.5ms postprocess per image at shape (1, 3, 480, 640)\n",
      "\n",
      "0: 480x640 (no detections), 6.9ms\n",
      "Speed: 1.5ms preprocess, 6.9ms inference, 0.4ms postprocess per image at shape (1, 3, 480, 640)\n",
      "\n",
      "0: 480x640 (no detections), 8.1ms\n",
      "Speed: 0.9ms preprocess, 8.1ms inference, 0.5ms postprocess per image at shape (1, 3, 480, 640)\n",
      "\n",
      "0: 480x640 (no detections), 6.0ms\n",
      "Speed: 0.8ms preprocess, 6.0ms inference, 0.7ms postprocess per image at shape (1, 3, 480, 640)\n",
      "\n",
      "0: 480x640 (no detections), 7.4ms\n",
      "Speed: 1.4ms preprocess, 7.4ms inference, 0.4ms postprocess per image at shape (1, 3, 480, 640)\n",
      "\n",
      "0: 480x640 (no detections), 7.2ms\n",
      "Speed: 0.8ms preprocess, 7.2ms inference, 0.4ms postprocess per image at shape (1, 3, 480, 640)\n",
      "\n",
      "0: 480x640 (no detections), 8.5ms\n",
      "Speed: 1.0ms preprocess, 8.5ms inference, 0.4ms postprocess per image at shape (1, 3, 480, 640)\n",
      "\n",
      "0: 480x640 1 plate, 5.7ms\n",
      "Speed: 1.3ms preprocess, 5.7ms inference, 0.9ms postprocess per image at shape (1, 3, 480, 640)\n",
      "[2025/04/23 16:55:08] ppocr DEBUG: dt_boxes num : 0, elapsed : 0.06197214126586914\n",
      "[2025/04/23 16:55:08] ppocr DEBUG: cls num  : 0, elapsed : 0\n",
      "[2025/04/23 16:55:08] ppocr DEBUG: rec_res num  : 0, elapsed : 0.0\n",
      "\n",
      "0: 480x640 1 plate, 7.3ms\n",
      "Speed: 1.5ms preprocess, 7.3ms inference, 1.0ms postprocess per image at shape (1, 3, 480, 640)\n",
      "[2025/04/23 16:55:08] ppocr DEBUG: dt_boxes num : 0, elapsed : 0.061360836029052734\n",
      "[2025/04/23 16:55:08] ppocr DEBUG: cls num  : 0, elapsed : 0\n",
      "[2025/04/23 16:55:08] ppocr DEBUG: rec_res num  : 0, elapsed : 0.0\n",
      "\n",
      "0: 480x640 (no detections), 7.4ms\n",
      "Speed: 1.1ms preprocess, 7.4ms inference, 0.6ms postprocess per image at shape (1, 3, 480, 640)\n",
      "\n",
      "0: 480x640 (no detections), 6.4ms\n",
      "Speed: 0.9ms preprocess, 6.4ms inference, 0.5ms postprocess per image at shape (1, 3, 480, 640)\n",
      "\n",
      "0: 480x640 (no detections), 6.3ms\n",
      "Speed: 1.2ms preprocess, 6.3ms inference, 0.5ms postprocess per image at shape (1, 3, 480, 640)\n",
      "\n",
      "0: 480x640 (no detections), 6.0ms\n",
      "Speed: 0.8ms preprocess, 6.0ms inference, 0.4ms postprocess per image at shape (1, 3, 480, 640)\n",
      "\n",
      "0: 480x640 (no detections), 7.3ms\n",
      "Speed: 1.4ms preprocess, 7.3ms inference, 0.4ms postprocess per image at shape (1, 3, 480, 640)\n",
      "\n",
      "0: 480x640 (no detections), 5.8ms\n",
      "Speed: 1.4ms preprocess, 5.8ms inference, 0.4ms postprocess per image at shape (1, 3, 480, 640)\n",
      "\n",
      "0: 480x640 (no detections), 7.7ms\n",
      "Speed: 1.2ms preprocess, 7.7ms inference, 0.6ms postprocess per image at shape (1, 3, 480, 640)\n",
      "\n",
      "0: 480x640 (no detections), 6.2ms\n",
      "Speed: 1.0ms preprocess, 6.2ms inference, 0.4ms postprocess per image at shape (1, 3, 480, 640)\n",
      "\n",
      "0: 480x640 (no detections), 5.9ms\n",
      "Speed: 0.9ms preprocess, 5.9ms inference, 0.4ms postprocess per image at shape (1, 3, 480, 640)\n",
      "\n",
      "0: 480x640 (no detections), 8.7ms\n",
      "Speed: 0.8ms preprocess, 8.7ms inference, 0.5ms postprocess per image at shape (1, 3, 480, 640)\n",
      "\n",
      "0: 480x640 (no detections), 7.1ms\n",
      "Speed: 1.4ms preprocess, 7.1ms inference, 0.5ms postprocess per image at shape (1, 3, 480, 640)\n",
      "\n",
      "0: 480x640 (no detections), 6.3ms\n",
      "Speed: 0.9ms preprocess, 6.3ms inference, 0.5ms postprocess per image at shape (1, 3, 480, 640)\n",
      "\n",
      "0: 480x640 (no detections), 5.6ms\n",
      "Speed: 1.2ms preprocess, 5.6ms inference, 0.5ms postprocess per image at shape (1, 3, 480, 640)\n",
      "\n",
      "0: 480x640 (no detections), 6.5ms\n",
      "Speed: 0.8ms preprocess, 6.5ms inference, 0.4ms postprocess per image at shape (1, 3, 480, 640)\n",
      "\n",
      "0: 480x640 (no detections), 8.4ms\n",
      "Speed: 1.0ms preprocess, 8.4ms inference, 0.5ms postprocess per image at shape (1, 3, 480, 640)\n",
      "\n",
      "0: 480x640 (no detections), 6.1ms\n",
      "Speed: 1.2ms preprocess, 6.1ms inference, 0.5ms postprocess per image at shape (1, 3, 480, 640)\n",
      "\n",
      "0: 480x640 (no detections), 5.8ms\n",
      "Speed: 1.1ms preprocess, 5.8ms inference, 0.5ms postprocess per image at shape (1, 3, 480, 640)\n",
      "\n",
      "0: 480x640 (no detections), 7.2ms\n",
      "Speed: 1.3ms preprocess, 7.2ms inference, 0.4ms postprocess per image at shape (1, 3, 480, 640)\n",
      "\n",
      "0: 480x640 (no detections), 7.6ms\n",
      "Speed: 0.9ms preprocess, 7.6ms inference, 0.5ms postprocess per image at shape (1, 3, 480, 640)\n",
      "\n",
      "0: 480x640 1 plate, 8.4ms\n",
      "Speed: 1.7ms preprocess, 8.4ms inference, 1.1ms postprocess per image at shape (1, 3, 480, 640)\n",
      "[2025/04/23 16:55:09] ppocr DEBUG: dt_boxes num : 1, elapsed : 0.050118446350097656\n",
      "[2025/04/23 16:55:09] ppocr DEBUG: cls num  : 1, elapsed : 0.006512880325317383\n",
      "[2025/04/23 16:55:09] ppocr DEBUG: rec_res num  : 1, elapsed : 0.035153865814208984\n",
      "\n",
      "0: 480x640 1 plate, 6.4ms\n",
      "Speed: 1.1ms preprocess, 6.4ms inference, 1.2ms postprocess per image at shape (1, 3, 480, 640)\n",
      "[2025/04/23 16:55:09] ppocr DEBUG: dt_boxes num : 1, elapsed : 0.013398408889770508\n",
      "[2025/04/23 16:55:09] ppocr DEBUG: cls num  : 1, elapsed : 0.007508993148803711\n",
      "[2025/04/23 16:55:09] ppocr DEBUG: rec_res num  : 1, elapsed : 0.033106327056884766\n",
      "\n",
      "0: 480x640 (no detections), 8.2ms\n",
      "Speed: 0.9ms preprocess, 8.2ms inference, 0.6ms postprocess per image at shape (1, 3, 480, 640)\n",
      "\n",
      "0: 480x640 (no detections), 7.4ms\n",
      "Speed: 1.4ms preprocess, 7.4ms inference, 0.7ms postprocess per image at shape (1, 3, 480, 640)\n",
      "\n",
      "0: 480x640 (no detections), 7.0ms\n",
      "Speed: 1.1ms preprocess, 7.0ms inference, 0.4ms postprocess per image at shape (1, 3, 480, 640)\n",
      "\n",
      "0: 480x640 1 plate, 6.9ms\n",
      "Speed: 1.5ms preprocess, 6.9ms inference, 1.1ms postprocess per image at shape (1, 3, 480, 640)\n",
      "[2025/04/23 16:55:09] ppocr DEBUG: dt_boxes num : 0, elapsed : 0.05576372146606445\n",
      "[2025/04/23 16:55:09] ppocr DEBUG: cls num  : 0, elapsed : 0\n",
      "[2025/04/23 16:55:09] ppocr DEBUG: rec_res num  : 0, elapsed : 0.0\n",
      "\n",
      "0: 480x640 1 plate, 7.8ms\n",
      "Speed: 1.4ms preprocess, 7.8ms inference, 1.2ms postprocess per image at shape (1, 3, 480, 640)\n",
      "[2025/04/23 16:55:09] ppocr DEBUG: dt_boxes num : 0, elapsed : 0.01564812660217285\n",
      "[2025/04/23 16:55:09] ppocr DEBUG: cls num  : 0, elapsed : 0\n",
      "[2025/04/23 16:55:09] ppocr DEBUG: rec_res num  : 0, elapsed : 0.0\n",
      "\n",
      "0: 480x640 1 plate, 7.6ms\n",
      "Speed: 1.2ms preprocess, 7.6ms inference, 1.0ms postprocess per image at shape (1, 3, 480, 640)\n",
      "[2025/04/23 16:55:09] ppocr DEBUG: dt_boxes num : 0, elapsed : 0.05871415138244629\n",
      "[2025/04/23 16:55:09] ppocr DEBUG: cls num  : 0, elapsed : 0\n",
      "[2025/04/23 16:55:09] ppocr DEBUG: rec_res num  : 0, elapsed : 0.0\n",
      "\n",
      "0: 480x640 1 plate, 7.5ms\n",
      "Speed: 1.1ms preprocess, 7.5ms inference, 1.0ms postprocess per image at shape (1, 3, 480, 640)\n",
      "[2025/04/23 16:55:09] ppocr DEBUG: dt_boxes num : 0, elapsed : 0.01603221893310547\n",
      "[2025/04/23 16:55:09] ppocr DEBUG: cls num  : 0, elapsed : 0\n",
      "[2025/04/23 16:55:09] ppocr DEBUG: rec_res num  : 0, elapsed : 0.0\n",
      "\n",
      "0: 480x640 (no detections), 6.6ms\n",
      "Speed: 0.8ms preprocess, 6.6ms inference, 0.5ms postprocess per image at shape (1, 3, 480, 640)\n",
      "\n",
      "0: 480x640 (no detections), 7.6ms\n",
      "Speed: 1.1ms preprocess, 7.6ms inference, 0.6ms postprocess per image at shape (1, 3, 480, 640)\n",
      "\n",
      "0: 480x640 (no detections), 9.8ms\n",
      "Speed: 1.6ms preprocess, 9.8ms inference, 0.6ms postprocess per image at shape (1, 3, 480, 640)\n",
      "\n",
      "0: 480x640 (no detections), 6.0ms\n",
      "Speed: 1.2ms preprocess, 6.0ms inference, 0.4ms postprocess per image at shape (1, 3, 480, 640)\n",
      "\n",
      "0: 480x640 (no detections), 6.9ms\n",
      "Speed: 1.3ms preprocess, 6.9ms inference, 0.4ms postprocess per image at shape (1, 3, 480, 640)\n",
      "\n",
      "0: 480x640 (no detections), 8.2ms\n",
      "Speed: 1.3ms preprocess, 8.2ms inference, 0.6ms postprocess per image at shape (1, 3, 480, 640)\n",
      "\n",
      "0: 480x640 (no detections), 8.0ms\n",
      "Speed: 1.6ms preprocess, 8.0ms inference, 0.5ms postprocess per image at shape (1, 3, 480, 640)\n",
      "\n",
      "0: 480x640 (no detections), 6.9ms\n",
      "Speed: 0.9ms preprocess, 6.9ms inference, 0.5ms postprocess per image at shape (1, 3, 480, 640)\n",
      "\n",
      "0: 480x640 (no detections), 7.3ms\n",
      "Speed: 1.2ms preprocess, 7.3ms inference, 0.5ms postprocess per image at shape (1, 3, 480, 640)\n",
      "\n",
      "0: 480x640 (no detections), 5.7ms\n",
      "Speed: 0.9ms preprocess, 5.7ms inference, 0.4ms postprocess per image at shape (1, 3, 480, 640)\n",
      "\n",
      "0: 480x640 (no detections), 8.1ms\n",
      "Speed: 1.1ms preprocess, 8.1ms inference, 0.5ms postprocess per image at shape (1, 3, 480, 640)\n",
      "\n",
      "0: 480x640 (no detections), 8.7ms\n",
      "Speed: 1.1ms preprocess, 8.7ms inference, 0.6ms postprocess per image at shape (1, 3, 480, 640)\n",
      "\n",
      "0: 480x640 (no detections), 6.7ms\n",
      "Speed: 1.2ms preprocess, 6.7ms inference, 0.4ms postprocess per image at shape (1, 3, 480, 640)\n",
      "\n",
      "0: 480x640 (no detections), 6.4ms\n",
      "Speed: 1.0ms preprocess, 6.4ms inference, 0.4ms postprocess per image at shape (1, 3, 480, 640)\n",
      "\n",
      "0: 480x640 (no detections), 7.7ms\n",
      "Speed: 1.3ms preprocess, 7.7ms inference, 0.6ms postprocess per image at shape (1, 3, 480, 640)\n",
      "\n",
      "0: 480x640 2 plates, 9.3ms\n",
      "Speed: 1.0ms preprocess, 9.3ms inference, 1.6ms postprocess per image at shape (1, 3, 480, 640)\n",
      "[2025/04/23 16:55:10] ppocr DEBUG: dt_boxes num : 3, elapsed : 0.014513969421386719\n",
      "[2025/04/23 16:55:10] ppocr DEBUG: cls num  : 3, elapsed : 0.03807711601257324\n",
      "[2025/04/23 16:55:10] ppocr DEBUG: rec_res num  : 3, elapsed : 0.13097929954528809\n",
      "[2025/04/23 16:55:10] ppocr DEBUG: dt_boxes num : 2, elapsed : 0.04811978340148926\n",
      "[2025/04/23 16:55:10] ppocr DEBUG: cls num  : 2, elapsed : 0.03515148162841797\n",
      "[2025/04/23 16:55:10] ppocr DEBUG: rec_res num  : 2, elapsed : 0.10073971748352051\n",
      "\n",
      "0: 480x640 2 plates, 8.6ms\n",
      "Speed: 1.2ms preprocess, 8.6ms inference, 1.5ms postprocess per image at shape (1, 3, 480, 640)\n",
      "[2025/04/23 16:55:10] ppocr DEBUG: dt_boxes num : 0, elapsed : 0.06523489952087402\n",
      "[2025/04/23 16:55:10] ppocr DEBUG: cls num  : 0, elapsed : 0\n",
      "[2025/04/23 16:55:10] ppocr DEBUG: rec_res num  : 0, elapsed : 0.0\n",
      "[2025/04/23 16:55:10] ppocr DEBUG: dt_boxes num : 1, elapsed : 0.014026403427124023\n",
      "[2025/04/23 16:55:10] ppocr DEBUG: cls num  : 1, elapsed : 0.027671098709106445\n",
      "[2025/04/23 16:55:10] ppocr DEBUG: rec_res num  : 1, elapsed : 0.034210205078125\n",
      "\n",
      "0: 480x640 1 plate, 9.5ms\n",
      "Speed: 1.1ms preprocess, 9.5ms inference, 1.5ms postprocess per image at shape (1, 3, 480, 640)\n",
      "[2025/04/23 16:55:10] ppocr DEBUG: dt_boxes num : 3, elapsed : 0.049094438552856445\n",
      "[2025/04/23 16:55:10] ppocr DEBUG: cls num  : 3, elapsed : 0.007016420364379883\n",
      "[2025/04/23 16:55:10] ppocr DEBUG: rec_res num  : 3, elapsed : 0.07992672920227051\n",
      "\n",
      "0: 480x640 1 plate, 9.1ms\n",
      "Speed: 1.1ms preprocess, 9.1ms inference, 1.6ms postprocess per image at shape (1, 3, 480, 640)\n",
      "[2025/04/23 16:55:10] ppocr DEBUG: dt_boxes num : 2, elapsed : 0.044226884841918945\n",
      "[2025/04/23 16:55:10] ppocr DEBUG: cls num  : 2, elapsed : 0.006004810333251953\n",
      "[2025/04/23 16:55:11] ppocr DEBUG: rec_res num  : 2, elapsed : 0.05271005630493164\n",
      "\n",
      "0: 480x640 1 plate, 7.6ms\n",
      "Speed: 1.1ms preprocess, 7.6ms inference, 1.0ms postprocess per image at shape (1, 3, 480, 640)\n",
      "[2025/04/23 16:55:11] ppocr DEBUG: dt_boxes num : 4, elapsed : 0.010654687881469727\n",
      "[2025/04/23 16:55:11] ppocr DEBUG: cls num  : 4, elapsed : 0.03708028793334961\n",
      "[2025/04/23 16:55:11] ppocr DEBUG: rec_res num  : 4, elapsed : 0.1453838348388672\n",
      "\n",
      "0: 480x640 1 plate, 7.1ms\n",
      "Speed: 1.0ms preprocess, 7.1ms inference, 1.0ms postprocess per image at shape (1, 3, 480, 640)\n",
      "[2025/04/23 16:55:11] ppocr DEBUG: dt_boxes num : 2, elapsed : 0.00902104377746582\n",
      "[2025/04/23 16:55:11] ppocr DEBUG: cls num  : 2, elapsed : 0.004507541656494141\n",
      "[2025/04/23 16:55:11] ppocr DEBUG: rec_res num  : 2, elapsed : 0.05533456802368164\n",
      "\n",
      "0: 480x640 2 plates, 9.2ms\n",
      "Speed: 1.2ms preprocess, 9.2ms inference, 1.8ms postprocess per image at shape (1, 3, 480, 640)\n",
      "[2025/04/23 16:55:11] ppocr DEBUG: dt_boxes num : 2, elapsed : 0.00801992416381836\n",
      "[2025/04/23 16:55:11] ppocr DEBUG: cls num  : 2, elapsed : 0.007162809371948242\n",
      "[2025/04/23 16:55:11] ppocr DEBUG: rec_res num  : 2, elapsed : 0.051776885986328125\n",
      "[2025/04/23 16:55:11] ppocr DEBUG: dt_boxes num : 2, elapsed : 0.03988003730773926\n",
      "[2025/04/23 16:55:11] ppocr DEBUG: cls num  : 2, elapsed : 0.007016658782958984\n",
      "[2025/04/23 16:55:11] ppocr DEBUG: rec_res num  : 2, elapsed : 0.054407358169555664\n",
      "\n",
      "0: 480x640 1 plate, 5.9ms\n",
      "Speed: 1.0ms preprocess, 5.9ms inference, 1.0ms postprocess per image at shape (1, 3, 480, 640)\n",
      "[2025/04/23 16:55:11] ppocr DEBUG: dt_boxes num : 2, elapsed : 0.011013984680175781\n",
      "[2025/04/23 16:55:11] ppocr DEBUG: cls num  : 2, elapsed : 0.004510641098022461\n",
      "[2025/04/23 16:55:11] ppocr DEBUG: rec_res num  : 2, elapsed : 0.05181622505187988\n",
      "\n",
      "0: 480x640 1 plate, 9.1ms\n",
      "Speed: 1.2ms preprocess, 9.1ms inference, 1.0ms postprocess per image at shape (1, 3, 480, 640)\n",
      "[2025/04/23 16:55:11] ppocr DEBUG: dt_boxes num : 2, elapsed : 0.0367732048034668\n",
      "[2025/04/23 16:55:11] ppocr DEBUG: cls num  : 2, elapsed : 0.0064389705657958984\n",
      "[2025/04/23 16:55:11] ppocr DEBUG: rec_res num  : 2, elapsed : 0.05330467224121094\n",
      "\n",
      "0: 480x640 1 plate, 7.3ms\n",
      "Speed: 1.2ms preprocess, 7.3ms inference, 1.6ms postprocess per image at shape (1, 3, 480, 640)\n",
      "[2025/04/23 16:55:11] ppocr DEBUG: dt_boxes num : 2, elapsed : 0.009690523147583008\n",
      "[2025/04/23 16:55:11] ppocr DEBUG: cls num  : 2, elapsed : 0.0065097808837890625\n",
      "[2025/04/23 16:55:11] ppocr DEBUG: rec_res num  : 2, elapsed : 0.05611729621887207\n",
      "\n",
      "0: 480x640 2 plates, 7.6ms\n",
      "Speed: 0.9ms preprocess, 7.6ms inference, 1.7ms postprocess per image at shape (1, 3, 480, 640)\n",
      "[2025/04/23 16:55:11] ppocr DEBUG: dt_boxes num : 1, elapsed : 0.006987333297729492\n",
      "[2025/04/23 16:55:11] ppocr DEBUG: cls num  : 1, elapsed : 0.003763914108276367\n",
      "[2025/04/23 16:55:12] ppocr DEBUG: rec_res num  : 1, elapsed : 0.06476426124572754\n",
      "[2025/04/23 16:55:12] ppocr DEBUG: dt_boxes num : 1, elapsed : 0.04361772537231445\n",
      "[2025/04/23 16:55:12] ppocr DEBUG: cls num  : 1, elapsed : 0.004000186920166016\n",
      "[2025/04/23 16:55:12] ppocr DEBUG: rec_res num  : 1, elapsed : 0.034097909927368164\n",
      "\n",
      "0: 480x640 (no detections), 6.1ms\n",
      "Speed: 1.5ms preprocess, 6.1ms inference, 0.5ms postprocess per image at shape (1, 3, 480, 640)\n",
      "\n",
      "0: 480x640 (no detections), 7.2ms\n",
      "Speed: 1.2ms preprocess, 7.2ms inference, 0.6ms postprocess per image at shape (1, 3, 480, 640)\n",
      "\n",
      "0: 480x640 (no detections), 6.3ms\n",
      "Speed: 1.3ms preprocess, 6.3ms inference, 0.6ms postprocess per image at shape (1, 3, 480, 640)\n",
      "\n",
      "0: 480x640 (no detections), 6.8ms\n",
      "Speed: 1.7ms preprocess, 6.8ms inference, 0.4ms postprocess per image at shape (1, 3, 480, 640)\n",
      "\n",
      "0: 480x640 (no detections), 7.4ms\n",
      "Speed: 1.0ms preprocess, 7.4ms inference, 0.6ms postprocess per image at shape (1, 3, 480, 640)\n",
      "\n",
      "0: 480x640 (no detections), 6.5ms\n",
      "Speed: 1.0ms preprocess, 6.5ms inference, 0.6ms postprocess per image at shape (1, 3, 480, 640)\n",
      "\n",
      "0: 480x640 1 plate, 7.1ms\n",
      "Speed: 0.8ms preprocess, 7.1ms inference, 1.0ms postprocess per image at shape (1, 3, 480, 640)\n",
      "[2025/04/23 16:55:12] ppocr DEBUG: dt_boxes num : 2, elapsed : 0.008090496063232422\n",
      "[2025/04/23 16:55:12] ppocr DEBUG: cls num  : 2, elapsed : 0.005004405975341797\n",
      "[2025/04/23 16:55:12] ppocr DEBUG: rec_res num  : 2, elapsed : 0.05924224853515625\n",
      "\n",
      "0: 480x640 1 plate, 9.0ms\n",
      "Speed: 1.6ms preprocess, 9.0ms inference, 1.6ms postprocess per image at shape (1, 3, 480, 640)\n",
      "[2025/04/23 16:55:12] ppocr DEBUG: dt_boxes num : 3, elapsed : 0.011825084686279297\n",
      "[2025/04/23 16:55:12] ppocr DEBUG: cls num  : 3, elapsed : 0.02363109588623047\n",
      "[2025/04/23 16:55:12] ppocr DEBUG: rec_res num  : 3, elapsed : 0.11343932151794434\n",
      "\n",
      "0: 480x640 1 plate, 5.7ms\n",
      "Speed: 1.0ms preprocess, 5.7ms inference, 1.2ms postprocess per image at shape (1, 3, 480, 640)\n",
      "[2025/04/23 16:55:12] ppocr DEBUG: dt_boxes num : 3, elapsed : 0.010018348693847656\n",
      "[2025/04/23 16:55:12] ppocr DEBUG: cls num  : 3, elapsed : 0.008015871047973633\n",
      "[2025/04/23 16:55:12] ppocr DEBUG: rec_res num  : 3, elapsed : 0.07600641250610352\n",
      "\n",
      "0: 480x640 1 plate, 7.3ms\n",
      "Speed: 1.3ms preprocess, 7.3ms inference, 1.0ms postprocess per image at shape (1, 3, 480, 640)\n",
      "[2025/04/23 16:55:12] ppocr DEBUG: dt_boxes num : 4, elapsed : 0.011523723602294922\n",
      "[2025/04/23 16:55:12] ppocr DEBUG: cls num  : 4, elapsed : 0.008512020111083984\n",
      "[2025/04/23 16:55:12] ppocr DEBUG: rec_res num  : 4, elapsed : 0.10239481925964355\n",
      "\n",
      "0: 480x640 2 plates, 6.8ms\n",
      "Speed: 1.0ms preprocess, 6.8ms inference, 1.2ms postprocess per image at shape (1, 3, 480, 640)\n",
      "[2025/04/23 16:55:12] ppocr DEBUG: dt_boxes num : 4, elapsed : 0.013028144836425781\n",
      "[2025/04/23 16:55:12] ppocr DEBUG: cls num  : 4, elapsed : 0.008004188537597656\n",
      "[2025/04/23 16:55:13] ppocr DEBUG: rec_res num  : 4, elapsed : 0.09486722946166992\n",
      "[2025/04/23 16:55:13] ppocr DEBUG: dt_boxes num : 0, elapsed : 0.05217885971069336\n",
      "[2025/04/23 16:55:13] ppocr DEBUG: cls num  : 0, elapsed : 0\n",
      "[2025/04/23 16:55:13] ppocr DEBUG: rec_res num  : 0, elapsed : 0.0\n",
      "\n",
      "0: 480x640 3 plates, 5.8ms\n",
      "Speed: 0.9ms preprocess, 5.8ms inference, 1.0ms postprocess per image at shape (1, 3, 480, 640)\n",
      "[2025/04/23 16:55:13] ppocr DEBUG: dt_boxes num : 2, elapsed : 0.015125751495361328\n",
      "[2025/04/23 16:55:13] ppocr DEBUG: cls num  : 2, elapsed : 0.026415586471557617\n",
      "[2025/04/23 16:55:13] ppocr DEBUG: rec_res num  : 2, elapsed : 0.08596086502075195\n",
      "[2025/04/23 16:55:13] ppocr DEBUG: dt_boxes num : 0, elapsed : 0.05122828483581543\n",
      "[2025/04/23 16:55:13] ppocr DEBUG: cls num  : 0, elapsed : 0\n",
      "[2025/04/23 16:55:13] ppocr DEBUG: rec_res num  : 0, elapsed : 0.0\n",
      "[2025/04/23 16:55:13] ppocr DEBUG: dt_boxes num : 2, elapsed : 0.03980898857116699\n",
      "[2025/04/23 16:55:13] ppocr DEBUG: cls num  : 2, elapsed : 0.005013227462768555\n",
      "[2025/04/23 16:55:13] ppocr DEBUG: rec_res num  : 2, elapsed : 0.056584835052490234\n",
      "\n",
      "0: 480x640 2 plates, 6.3ms\n",
      "Speed: 1.4ms preprocess, 6.3ms inference, 0.9ms postprocess per image at shape (1, 3, 480, 640)\n",
      "[2025/04/23 16:55:13] ppocr DEBUG: dt_boxes num : 3, elapsed : 0.03818368911743164\n",
      "[2025/04/23 16:55:13] ppocr DEBUG: cls num  : 3, elapsed : 0.0070188045501708984\n",
      "[2025/04/23 16:55:13] ppocr DEBUG: rec_res num  : 3, elapsed : 0.07681035995483398\n",
      "[2025/04/23 16:55:13] ppocr DEBUG: dt_boxes num : 0, elapsed : 0.014066457748413086\n",
      "[2025/04/23 16:55:13] ppocr DEBUG: cls num  : 0, elapsed : 0\n",
      "[2025/04/23 16:55:13] ppocr DEBUG: rec_res num  : 0, elapsed : 0.0\n",
      "\n",
      "0: 480x640 2 plates, 6.4ms\n",
      "Speed: 1.0ms preprocess, 6.4ms inference, 1.0ms postprocess per image at shape (1, 3, 480, 640)\n",
      "[2025/04/23 16:55:13] ppocr DEBUG: dt_boxes num : 3, elapsed : 0.009510278701782227\n",
      "[2025/04/23 16:55:13] ppocr DEBUG: cls num  : 3, elapsed : 0.007510662078857422\n",
      "[2025/04/23 16:55:13] ppocr DEBUG: rec_res num  : 3, elapsed : 0.07448339462280273\n",
      "[2025/04/23 16:55:13] ppocr DEBUG: dt_boxes num : 0, elapsed : 0.013018131256103516\n",
      "[2025/04/23 16:55:13] ppocr DEBUG: cls num  : 0, elapsed : 0\n",
      "[2025/04/23 16:55:13] ppocr DEBUG: rec_res num  : 0, elapsed : 0.0\n",
      "\n",
      "0: 480x640 2 plates, 6.5ms\n",
      "Speed: 1.3ms preprocess, 6.5ms inference, 1.2ms postprocess per image at shape (1, 3, 480, 640)\n",
      "[2025/04/23 16:55:13] ppocr DEBUG: dt_boxes num : 3, elapsed : 0.009508609771728516\n",
      "[2025/04/23 16:55:13] ppocr DEBUG: cls num  : 3, elapsed : 0.0090179443359375\n",
      "[2025/04/23 16:55:13] ppocr DEBUG: rec_res num  : 3, elapsed : 0.07241153717041016\n",
      "[2025/04/23 16:55:13] ppocr DEBUG: dt_boxes num : 0, elapsed : 0.052056312561035156\n",
      "[2025/04/23 16:55:13] ppocr DEBUG: cls num  : 0, elapsed : 0\n",
      "[2025/04/23 16:55:13] ppocr DEBUG: rec_res num  : 0, elapsed : 0.0\n",
      "\n",
      "0: 480x640 2 plates, 6.2ms\n",
      "Speed: 0.9ms preprocess, 6.2ms inference, 2.4ms postprocess per image at shape (1, 3, 480, 640)\n",
      "[2025/04/23 16:55:13] ppocr DEBUG: dt_boxes num : 2, elapsed : 0.011015653610229492\n",
      "[2025/04/23 16:55:13] ppocr DEBUG: cls num  : 2, elapsed : 0.0051195621490478516\n",
      "[2025/04/23 16:55:13] ppocr DEBUG: rec_res num  : 2, elapsed : 0.05074310302734375\n",
      "[2025/04/23 16:55:13] ppocr DEBUG: dt_boxes num : 0, elapsed : 0.013019561767578125\n",
      "[2025/04/23 16:55:13] ppocr DEBUG: cls num  : 0, elapsed : 0\n",
      "[2025/04/23 16:55:13] ppocr DEBUG: rec_res num  : 0, elapsed : 0.0\n",
      "\n",
      "0: 480x640 2 plates, 8.1ms\n",
      "Speed: 1.3ms preprocess, 8.1ms inference, 1.3ms postprocess per image at shape (1, 3, 480, 640)\n",
      "[2025/04/23 16:55:14] ppocr DEBUG: dt_boxes num : 2, elapsed : 0.015041828155517578\n",
      "[2025/04/23 16:55:14] ppocr DEBUG: cls num  : 2, elapsed : 0.005504608154296875\n",
      "[2025/04/23 16:55:14] ppocr DEBUG: rec_res num  : 2, elapsed : 0.05637860298156738\n",
      "[2025/04/23 16:55:14] ppocr DEBUG: dt_boxes num : 0, elapsed : 0.014031648635864258\n",
      "[2025/04/23 16:55:14] ppocr DEBUG: cls num  : 0, elapsed : 0\n",
      "[2025/04/23 16:55:14] ppocr DEBUG: rec_res num  : 0, elapsed : 0.0\n",
      "\n",
      "0: 480x640 2 plates, 8.0ms\n",
      "Speed: 1.6ms preprocess, 8.0ms inference, 1.5ms postprocess per image at shape (1, 3, 480, 640)\n",
      "[2025/04/23 16:55:14] ppocr DEBUG: dt_boxes num : 2, elapsed : 0.010546684265136719\n",
      "[2025/04/23 16:55:14] ppocr DEBUG: cls num  : 2, elapsed : 0.0060002803802490234\n",
      "[2025/04/23 16:55:14] ppocr DEBUG: rec_res num  : 2, elapsed : 0.05240607261657715\n",
      "[2025/04/23 16:55:14] ppocr DEBUG: dt_boxes num : 0, elapsed : 0.013022899627685547\n",
      "[2025/04/23 16:55:14] ppocr DEBUG: cls num  : 0, elapsed : 0\n",
      "[2025/04/23 16:55:14] ppocr DEBUG: rec_res num  : 0, elapsed : 0.0\n",
      "\n",
      "0: 480x640 3 plates, 6.2ms\n",
      "Speed: 1.0ms preprocess, 6.2ms inference, 1.2ms postprocess per image at shape (1, 3, 480, 640)\n",
      "[2025/04/23 16:55:14] ppocr DEBUG: dt_boxes num : 2, elapsed : 0.011519908905029297\n",
      "[2025/04/23 16:55:14] ppocr DEBUG: cls num  : 2, elapsed : 0.0065097808837890625\n",
      "[2025/04/23 16:55:14] ppocr DEBUG: rec_res num  : 2, elapsed : 0.05225825309753418\n",
      "[2025/04/23 16:55:14] ppocr DEBUG: dt_boxes num : 0, elapsed : 0.01352691650390625\n",
      "[2025/04/23 16:55:14] ppocr DEBUG: cls num  : 0, elapsed : 0\n",
      "[2025/04/23 16:55:14] ppocr DEBUG: rec_res num  : 0, elapsed : 0.0\n",
      "[2025/04/23 16:55:14] ppocr DEBUG: dt_boxes num : 3, elapsed : 0.05361628532409668\n",
      "[2025/04/23 16:55:14] ppocr DEBUG: cls num  : 3, elapsed : 0.02706170082092285\n",
      "[2025/04/23 16:55:14] ppocr DEBUG: rec_res num  : 3, elapsed : 0.10310173034667969\n",
      "\n",
      "0: 480x640 3 plates, 7.7ms\n",
      "Speed: 1.2ms preprocess, 7.7ms inference, 1.0ms postprocess per image at shape (1, 3, 480, 640)\n",
      "[2025/04/23 16:55:14] ppocr DEBUG: dt_boxes num : 0, elapsed : 0.04590320587158203\n",
      "[2025/04/23 16:55:14] ppocr DEBUG: cls num  : 0, elapsed : 0\n",
      "[2025/04/23 16:55:14] ppocr DEBUG: rec_res num  : 0, elapsed : 0.0\n",
      "[2025/04/23 16:55:14] ppocr DEBUG: dt_boxes num : 3, elapsed : 0.010016202926635742\n",
      "[2025/04/23 16:55:14] ppocr DEBUG: cls num  : 3, elapsed : 0.0070192813873291016\n",
      "[2025/04/23 16:55:14] ppocr DEBUG: rec_res num  : 3, elapsed : 0.07198381423950195\n",
      "[2025/04/23 16:55:14] ppocr DEBUG: dt_boxes num : 3, elapsed : 0.014457225799560547\n",
      "[2025/04/23 16:55:14] ppocr DEBUG: cls num  : 3, elapsed : 0.008023738861083984\n",
      "[2025/04/23 16:55:14] ppocr DEBUG: rec_res num  : 3, elapsed : 0.07645106315612793\n",
      "\n",
      "0: 480x640 2 plates, 8.0ms\n",
      "Speed: 1.0ms preprocess, 8.0ms inference, 1.2ms postprocess per image at shape (1, 3, 480, 640)\n",
      "[2025/04/23 16:55:14] ppocr DEBUG: dt_boxes num : 2, elapsed : 0.010585546493530273\n",
      "[2025/04/23 16:55:14] ppocr DEBUG: cls num  : 2, elapsed : 0.007024526596069336\n",
      "[2025/04/23 16:55:14] ppocr DEBUG: rec_res num  : 2, elapsed : 0.05717802047729492\n",
      "[2025/04/23 16:55:14] ppocr DEBUG: dt_boxes num : 0, elapsed : 0.04618215560913086\n",
      "[2025/04/23 16:55:14] ppocr DEBUG: cls num  : 0, elapsed : 0\n",
      "[2025/04/23 16:55:14] ppocr DEBUG: rec_res num  : 0, elapsed : 0.0\n",
      "\n",
      "0: 480x640 2 plates, 7.9ms\n",
      "Speed: 1.5ms preprocess, 7.9ms inference, 1.0ms postprocess per image at shape (1, 3, 480, 640)\n",
      "[2025/04/23 16:55:15] ppocr DEBUG: dt_boxes num : 5, elapsed : 0.010056257247924805\n",
      "[2025/04/23 16:55:15] ppocr DEBUG: cls num  : 5, elapsed : 0.032982826232910156\n",
      "[2025/04/23 16:55:15] ppocr DEBUG: rec_res num  : 5, elapsed : 0.16770195960998535\n",
      "[2025/04/23 16:55:15] ppocr DEBUG: dt_boxes num : 0, elapsed : 0.011022090911865234\n",
      "[2025/04/23 16:55:15] ppocr DEBUG: cls num  : 0, elapsed : 0\n",
      "[2025/04/23 16:55:15] ppocr DEBUG: rec_res num  : 0, elapsed : 0.0\n",
      "\n",
      "0: 480x640 2 plates, 6.1ms\n",
      "Speed: 1.1ms preprocess, 6.1ms inference, 1.2ms postprocess per image at shape (1, 3, 480, 640)\n",
      "[2025/04/23 16:55:15] ppocr DEBUG: dt_boxes num : 2, elapsed : 0.011022806167602539\n",
      "[2025/04/23 16:55:15] ppocr DEBUG: cls num  : 2, elapsed : 0.026046276092529297\n",
      "[2025/04/23 16:55:15] ppocr DEBUG: rec_res num  : 2, elapsed : 0.08563828468322754\n",
      "[2025/04/23 16:55:15] ppocr DEBUG: dt_boxes num : 0, elapsed : 0.013018608093261719\n",
      "[2025/04/23 16:55:15] ppocr DEBUG: cls num  : 0, elapsed : 0\n",
      "[2025/04/23 16:55:15] ppocr DEBUG: rec_res num  : 0, elapsed : 0.0\n",
      "\n",
      "0: 480x640 2 plates, 6.2ms\n",
      "Speed: 0.8ms preprocess, 6.2ms inference, 1.3ms postprocess per image at shape (1, 3, 480, 640)\n",
      "[2025/04/23 16:55:15] ppocr DEBUG: dt_boxes num : 2, elapsed : 0.010013341903686523\n",
      "[2025/04/23 16:55:15] ppocr DEBUG: cls num  : 2, elapsed : 0.00651097297668457\n",
      "[2025/04/23 16:55:15] ppocr DEBUG: rec_res num  : 2, elapsed : 0.05392575263977051\n",
      "[2025/04/23 16:55:15] ppocr DEBUG: dt_boxes num : 0, elapsed : 0.013031959533691406\n",
      "[2025/04/23 16:55:15] ppocr DEBUG: cls num  : 0, elapsed : 0\n",
      "[2025/04/23 16:55:15] ppocr DEBUG: rec_res num  : 0, elapsed : 0.0\n",
      "\n",
      "0: 480x640 2 plates, 6.0ms\n",
      "Speed: 1.1ms preprocess, 6.0ms inference, 0.9ms postprocess per image at shape (1, 3, 480, 640)\n",
      "[2025/04/23 16:55:15] ppocr DEBUG: dt_boxes num : 2, elapsed : 0.009513616561889648\n",
      "[2025/04/23 16:55:15] ppocr DEBUG: cls num  : 2, elapsed : 0.005022287368774414\n",
      "[2025/04/23 16:55:15] ppocr DEBUG: rec_res num  : 2, elapsed : 0.05702352523803711\n",
      "[2025/04/23 16:55:15] ppocr DEBUG: dt_boxes num : 0, elapsed : 0.009846210479736328\n",
      "[2025/04/23 16:55:15] ppocr DEBUG: cls num  : 0, elapsed : 0\n",
      "[2025/04/23 16:55:15] ppocr DEBUG: rec_res num  : 0, elapsed : 0.0\n",
      "\n",
      "0: 480x640 2 plates, 6.7ms\n",
      "Speed: 0.7ms preprocess, 6.7ms inference, 1.9ms postprocess per image at shape (1, 3, 480, 640)\n",
      "[2025/04/23 16:55:15] ppocr DEBUG: dt_boxes num : 2, elapsed : 0.012018918991088867\n",
      "[2025/04/23 16:55:15] ppocr DEBUG: cls num  : 2, elapsed : 0.006719112396240234\n",
      "[2025/04/23 16:55:15] ppocr DEBUG: rec_res num  : 2, elapsed : 0.04786324501037598\n",
      "[2025/04/23 16:55:15] ppocr DEBUG: dt_boxes num : 0, elapsed : 0.011041879653930664\n",
      "[2025/04/23 16:55:15] ppocr DEBUG: cls num  : 0, elapsed : 0\n",
      "[2025/04/23 16:55:15] ppocr DEBUG: rec_res num  : 0, elapsed : 0.0\n",
      "\n",
      "0: 480x640 2 plates, 8.2ms\n",
      "Speed: 0.8ms preprocess, 8.2ms inference, 1.4ms postprocess per image at shape (1, 3, 480, 640)\n",
      "[2025/04/23 16:55:15] ppocr DEBUG: dt_boxes num : 2, elapsed : 0.011027336120605469\n",
      "[2025/04/23 16:55:15] ppocr DEBUG: cls num  : 2, elapsed : 0.005007266998291016\n",
      "[2025/04/23 16:55:15] ppocr DEBUG: rec_res num  : 2, elapsed : 0.05799698829650879\n",
      "[2025/04/23 16:55:15] ppocr DEBUG: dt_boxes num : 0, elapsed : 0.01102137565612793\n",
      "[2025/04/23 16:55:15] ppocr DEBUG: cls num  : 0, elapsed : 0\n",
      "[2025/04/23 16:55:15] ppocr DEBUG: rec_res num  : 0, elapsed : 0.0\n",
      "\n",
      "0: 480x640 2 plates, 6.6ms\n",
      "Speed: 0.9ms preprocess, 6.6ms inference, 1.2ms postprocess per image at shape (1, 3, 480, 640)\n",
      "[2025/04/23 16:55:15] ppocr DEBUG: dt_boxes num : 4, elapsed : 0.041094064712524414\n",
      "[2025/04/23 16:55:15] ppocr DEBUG: cls num  : 4, elapsed : 0.03306937217712402\n",
      "[2025/04/23 16:55:16] ppocr DEBUG: rec_res num  : 4, elapsed : 0.14797639846801758\n",
      "[2025/04/23 16:55:16] ppocr DEBUG: dt_boxes num : 0, elapsed : 0.012533426284790039\n",
      "[2025/04/23 16:55:16] ppocr DEBUG: cls num  : 0, elapsed : 0\n",
      "[2025/04/23 16:55:16] ppocr DEBUG: rec_res num  : 0, elapsed : 0.0\n",
      "\n",
      "0: 480x640 2 plates, 6.6ms\n",
      "Speed: 1.3ms preprocess, 6.6ms inference, 1.2ms postprocess per image at shape (1, 3, 480, 640)\n",
      "[2025/04/23 16:55:16] ppocr DEBUG: dt_boxes num : 2, elapsed : 0.04156494140625\n",
      "[2025/04/23 16:55:16] ppocr DEBUG: cls num  : 2, elapsed : 0.005513191223144531\n",
      "[2025/04/23 16:55:16] ppocr DEBUG: rec_res num  : 2, elapsed : 0.04951786994934082\n",
      "[2025/04/23 16:55:16] ppocr DEBUG: dt_boxes num : 0, elapsed : 0.014028787612915039\n",
      "[2025/04/23 16:55:16] ppocr DEBUG: cls num  : 0, elapsed : 0\n",
      "[2025/04/23 16:55:16] ppocr DEBUG: rec_res num  : 0, elapsed : 0.0\n",
      "\n",
      "0: 480x640 2 plates, 6.8ms\n",
      "Speed: 2.2ms preprocess, 6.8ms inference, 1.1ms postprocess per image at shape (1, 3, 480, 640)\n",
      "[2025/04/23 16:55:16] ppocr DEBUG: dt_boxes num : 3, elapsed : 0.011525630950927734\n",
      "[2025/04/23 16:55:16] ppocr DEBUG: cls num  : 3, elapsed : 0.028580904006958008\n",
      "[2025/04/23 16:55:16] ppocr DEBUG: rec_res num  : 3, elapsed : 0.11380863189697266\n",
      "[2025/04/23 16:55:16] ppocr DEBUG: dt_boxes num : 0, elapsed : 0.044591665267944336\n",
      "[2025/04/23 16:55:16] ppocr DEBUG: cls num  : 0, elapsed : 0\n",
      "[2025/04/23 16:55:16] ppocr DEBUG: rec_res num  : 0, elapsed : 0.0\n",
      "\n",
      "0: 480x640 4 plates, 6.4ms\n",
      "Speed: 1.0ms preprocess, 6.4ms inference, 1.9ms postprocess per image at shape (1, 3, 480, 640)\n",
      "[2025/04/23 16:55:16] ppocr DEBUG: dt_boxes num : 2, elapsed : 0.010087251663208008\n",
      "[2025/04/23 16:55:16] ppocr DEBUG: cls num  : 2, elapsed : 0.007999181747436523\n",
      "[2025/04/23 16:55:16] ppocr DEBUG: rec_res num  : 2, elapsed : 0.05251026153564453\n",
      "[2025/04/23 16:55:16] ppocr DEBUG: dt_boxes num : 0, elapsed : 0.014552831649780273\n",
      "[2025/04/23 16:55:16] ppocr DEBUG: cls num  : 0, elapsed : 0\n",
      "[2025/04/23 16:55:16] ppocr DEBUG: rec_res num  : 0, elapsed : 0.0\n",
      "[2025/04/23 16:55:16] ppocr DEBUG: dt_boxes num : 2, elapsed : 0.04056119918823242\n",
      "[2025/04/23 16:55:16] ppocr DEBUG: cls num  : 2, elapsed : 0.005745887756347656\n",
      "[2025/04/23 16:55:16] ppocr DEBUG: rec_res num  : 2, elapsed : 0.04809427261352539\n",
      "[2025/04/23 16:55:16] ppocr DEBUG: dt_boxes num : 2, elapsed : 0.040253400802612305\n",
      "[2025/04/23 16:55:16] ppocr DEBUG: cls num  : 2, elapsed : 0.023546695709228516\n",
      "[2025/04/23 16:55:16] ppocr DEBUG: rec_res num  : 2, elapsed : 0.0850527286529541\n",
      "\n",
      "0: 480x640 2 plates, 6.8ms\n",
      "Speed: 1.0ms preprocess, 6.8ms inference, 1.1ms postprocess per image at shape (1, 3, 480, 640)\n",
      "[2025/04/23 16:55:16] ppocr DEBUG: dt_boxes num : 4, elapsed : 0.03759026527404785\n",
      "[2025/04/23 16:55:16] ppocr DEBUG: cls num  : 4, elapsed : 0.03206372261047363\n",
      "[2025/04/23 16:55:17] ppocr DEBUG: rec_res num  : 4, elapsed : 0.1418304443359375\n",
      "[2025/04/23 16:55:17] ppocr DEBUG: dt_boxes num : 0, elapsed : 0.013497352600097656\n",
      "[2025/04/23 16:55:17] ppocr DEBUG: cls num  : 0, elapsed : 0\n",
      "[2025/04/23 16:55:17] ppocr DEBUG: rec_res num  : 0, elapsed : 0.0\n",
      "\n",
      "0: 480x640 2 plates, 7.8ms\n",
      "Speed: 1.8ms preprocess, 7.8ms inference, 1.4ms postprocess per image at shape (1, 3, 480, 640)\n",
      "[2025/04/23 16:55:17] ppocr DEBUG: dt_boxes num : 0, elapsed : 0.04087257385253906\n",
      "[2025/04/23 16:55:17] ppocr DEBUG: cls num  : 0, elapsed : 0\n",
      "[2025/04/23 16:55:17] ppocr DEBUG: rec_res num  : 0, elapsed : 0.0\n",
      "[2025/04/23 16:55:17] ppocr DEBUG: dt_boxes num : 4, elapsed : 0.008516788482666016\n",
      "[2025/04/23 16:55:17] ppocr DEBUG: cls num  : 4, elapsed : 0.009603738784790039\n",
      "[2025/04/23 16:55:17] ppocr DEBUG: rec_res num  : 4, elapsed : 0.09611749649047852\n",
      "\n",
      "0: 480x640 2 plates, 6.5ms\n",
      "Speed: 1.3ms preprocess, 6.5ms inference, 1.0ms postprocess per image at shape (1, 3, 480, 640)\n",
      "[2025/04/23 16:55:17] ppocr DEBUG: dt_boxes num : 0, elapsed : 0.04209280014038086\n",
      "[2025/04/23 16:55:17] ppocr DEBUG: cls num  : 0, elapsed : 0\n",
      "[2025/04/23 16:55:17] ppocr DEBUG: rec_res num  : 0, elapsed : 0.0\n",
      "[2025/04/23 16:55:17] ppocr DEBUG: dt_boxes num : 1, elapsed : 0.008024215698242188\n",
      "[2025/04/23 16:55:17] ppocr DEBUG: cls num  : 1, elapsed : 0.030926942825317383\n",
      "[2025/04/23 16:55:17] ppocr DEBUG: rec_res num  : 1, elapsed : 0.07600927352905273\n",
      "\n",
      "0: 480x640 2 plates, 7.3ms\n",
      "Speed: 1.0ms preprocess, 7.3ms inference, 1.1ms postprocess per image at shape (1, 3, 480, 640)\n",
      "[2025/04/23 16:55:17] ppocr DEBUG: dt_boxes num : 2, elapsed : 0.04777860641479492\n",
      "[2025/04/23 16:55:17] ppocr DEBUG: cls num  : 2, elapsed : 0.006025075912475586\n",
      "[2025/04/23 16:55:17] ppocr DEBUG: rec_res num  : 2, elapsed : 0.055019378662109375\n",
      "[2025/04/23 16:55:17] ppocr DEBUG: dt_boxes num : 0, elapsed : 0.03933906555175781\n",
      "[2025/04/23 16:55:17] ppocr DEBUG: cls num  : 0, elapsed : 0\n",
      "[2025/04/23 16:55:17] ppocr DEBUG: rec_res num  : 0, elapsed : 0.0\n",
      "\n",
      "0: 480x640 2 plates, 6.7ms\n",
      "Speed: 1.2ms preprocess, 6.7ms inference, 1.0ms postprocess per image at shape (1, 3, 480, 640)\n",
      "[2025/04/23 16:55:17] ppocr DEBUG: dt_boxes num : 3, elapsed : 0.009006977081298828\n",
      "[2025/04/23 16:55:17] ppocr DEBUG: cls num  : 3, elapsed : 0.03190469741821289\n",
      "[2025/04/23 16:55:17] ppocr DEBUG: rec_res num  : 3, elapsed : 0.11981797218322754\n",
      "[2025/04/23 16:55:17] ppocr DEBUG: dt_boxes num : 0, elapsed : 0.01102757453918457\n",
      "[2025/04/23 16:55:17] ppocr DEBUG: cls num  : 0, elapsed : 0\n",
      "[2025/04/23 16:55:17] ppocr DEBUG: rec_res num  : 0, elapsed : 0.0\n",
      "\n",
      "0: 480x640 3 plates, 6.3ms\n",
      "Speed: 0.8ms preprocess, 6.3ms inference, 1.6ms postprocess per image at shape (1, 3, 480, 640)\n",
      "[2025/04/23 16:55:17] ppocr DEBUG: dt_boxes num : 0, elapsed : 0.011803627014160156\n",
      "[2025/04/23 16:55:17] ppocr DEBUG: cls num  : 0, elapsed : 0\n",
      "[2025/04/23 16:55:17] ppocr DEBUG: rec_res num  : 0, elapsed : 0.0\n",
      "[2025/04/23 16:55:18] ppocr DEBUG: dt_boxes num : 2, elapsed : 0.0371701717376709\n",
      "[2025/04/23 16:55:18] ppocr DEBUG: cls num  : 2, elapsed : 0.024036169052124023\n",
      "[2025/04/23 16:55:18] ppocr DEBUG: rec_res num  : 2, elapsed : 0.08901238441467285\n",
      "[2025/04/23 16:55:18] ppocr DEBUG: dt_boxes num : 2, elapsed : 0.007512092590332031\n",
      "[2025/04/23 16:55:18] ppocr DEBUG: cls num  : 2, elapsed : 0.007609128952026367\n",
      "[2025/04/23 16:55:18] ppocr DEBUG: rec_res num  : 2, elapsed : 0.05368375778198242\n",
      "\n",
      "0: 480x640 2 plates, 7.9ms\n",
      "Speed: 1.1ms preprocess, 7.9ms inference, 1.8ms postprocess per image at shape (1, 3, 480, 640)\n",
      "[2025/04/23 16:55:18] ppocr DEBUG: dt_boxes num : 2, elapsed : 0.04893970489501953\n",
      "[2025/04/23 16:55:18] ppocr DEBUG: cls num  : 2, elapsed : 0.0055065155029296875\n",
      "[2025/04/23 16:55:18] ppocr DEBUG: rec_res num  : 2, elapsed : 0.05489706993103027\n",
      "[2025/04/23 16:55:18] ppocr DEBUG: dt_boxes num : 0, elapsed : 0.015111684799194336\n",
      "[2025/04/23 16:55:18] ppocr DEBUG: cls num  : 0, elapsed : 0\n",
      "[2025/04/23 16:55:18] ppocr DEBUG: rec_res num  : 0, elapsed : 0.0\n",
      "\n",
      "0: 480x640 2 plates, 8.4ms\n",
      "Speed: 1.1ms preprocess, 8.4ms inference, 1.5ms postprocess per image at shape (1, 3, 480, 640)\n",
      "[2025/04/23 16:55:18] ppocr DEBUG: dt_boxes num : 0, elapsed : 0.038781166076660156\n",
      "[2025/04/23 16:55:18] ppocr DEBUG: cls num  : 0, elapsed : 0\n",
      "[2025/04/23 16:55:18] ppocr DEBUG: rec_res num  : 0, elapsed : 0.0\n",
      "[2025/04/23 16:55:18] ppocr DEBUG: dt_boxes num : 2, elapsed : 0.010024309158325195\n",
      "[2025/04/23 16:55:18] ppocr DEBUG: cls num  : 2, elapsed : 0.004813432693481445\n",
      "[2025/04/23 16:55:18] ppocr DEBUG: rec_res num  : 2, elapsed : 0.05788612365722656\n",
      "\n",
      "0: 480x640 2 plates, 7.8ms\n",
      "Speed: 1.1ms preprocess, 7.8ms inference, 1.4ms postprocess per image at shape (1, 3, 480, 640)\n",
      "[2025/04/23 16:55:18] ppocr DEBUG: dt_boxes num : 2, elapsed : 0.01088571548461914\n",
      "[2025/04/23 16:55:18] ppocr DEBUG: cls num  : 2, elapsed : 0.00451350212097168\n",
      "[2025/04/23 16:55:18] ppocr DEBUG: rec_res num  : 2, elapsed : 0.0497894287109375\n",
      "[2025/04/23 16:55:18] ppocr DEBUG: dt_boxes num : 0, elapsed : 0.013883352279663086\n",
      "[2025/04/23 16:55:18] ppocr DEBUG: cls num  : 0, elapsed : 0\n",
      "[2025/04/23 16:55:18] ppocr DEBUG: rec_res num  : 0, elapsed : 0.0\n",
      "\n",
      "0: 480x640 2 plates, 8.1ms\n",
      "Speed: 1.0ms preprocess, 8.1ms inference, 1.1ms postprocess per image at shape (1, 3, 480, 640)\n",
      "[2025/04/23 16:55:18] ppocr DEBUG: dt_boxes num : 2, elapsed : 0.012021541595458984\n",
      "[2025/04/23 16:55:18] ppocr DEBUG: cls num  : 2, elapsed : 0.006951808929443359\n",
      "[2025/04/23 16:55:18] ppocr DEBUG: rec_res num  : 2, elapsed : 0.0557405948638916\n",
      "[2025/04/23 16:55:18] ppocr DEBUG: dt_boxes num : 0, elapsed : 0.042923927307128906\n",
      "[2025/04/23 16:55:18] ppocr DEBUG: cls num  : 0, elapsed : 0\n",
      "[2025/04/23 16:55:18] ppocr DEBUG: rec_res num  : 0, elapsed : 0.0\n",
      "\n",
      "0: 480x640 2 plates, 5.7ms\n",
      "Speed: 0.9ms preprocess, 5.7ms inference, 1.3ms postprocess per image at shape (1, 3, 480, 640)\n",
      "[2025/04/23 16:55:18] ppocr DEBUG: dt_boxes num : 2, elapsed : 0.012021541595458984\n",
      "[2025/04/23 16:55:18] ppocr DEBUG: cls num  : 2, elapsed : 0.005436420440673828\n",
      "[2025/04/23 16:55:18] ppocr DEBUG: rec_res num  : 2, elapsed : 0.05653667449951172\n",
      "[2025/04/23 16:55:18] ppocr DEBUG: dt_boxes num : 0, elapsed : 0.014024972915649414\n",
      "[2025/04/23 16:55:18] ppocr DEBUG: cls num  : 0, elapsed : 0\n",
      "[2025/04/23 16:55:18] ppocr DEBUG: rec_res num  : 0, elapsed : 0.0\n",
      "\n",
      "0: 480x640 2 plates, 6.8ms\n",
      "Speed: 1.0ms preprocess, 6.8ms inference, 1.1ms postprocess per image at shape (1, 3, 480, 640)\n",
      "[2025/04/23 16:55:18] ppocr DEBUG: dt_boxes num : 2, elapsed : 0.010510683059692383\n",
      "[2025/04/23 16:55:18] ppocr DEBUG: cls num  : 2, elapsed : 0.007062435150146484\n",
      "[2025/04/23 16:55:19] ppocr DEBUG: rec_res num  : 2, elapsed : 0.05610918998718262\n",
      "[2025/04/23 16:55:19] ppocr DEBUG: dt_boxes num : 0, elapsed : 0.012923955917358398\n",
      "[2025/04/23 16:55:19] ppocr DEBUG: cls num  : 0, elapsed : 0\n",
      "[2025/04/23 16:55:19] ppocr DEBUG: rec_res num  : 0, elapsed : 0.0\n",
      "\n",
      "0: 480x640 2 plates, 6.1ms\n",
      "Speed: 1.4ms preprocess, 6.1ms inference, 1.3ms postprocess per image at shape (1, 3, 480, 640)\n",
      "[2025/04/23 16:55:19] ppocr DEBUG: dt_boxes num : 2, elapsed : 0.011521577835083008\n",
      "[2025/04/23 16:55:19] ppocr DEBUG: cls num  : 2, elapsed : 0.007508039474487305\n",
      "[2025/04/23 16:55:19] ppocr DEBUG: rec_res num  : 2, elapsed : 0.05134987831115723\n",
      "[2025/04/23 16:55:19] ppocr DEBUG: dt_boxes num : 0, elapsed : 0.012148380279541016\n",
      "[2025/04/23 16:55:19] ppocr DEBUG: cls num  : 0, elapsed : 0\n",
      "[2025/04/23 16:55:19] ppocr DEBUG: rec_res num  : 0, elapsed : 0.0\n",
      "\n",
      "0: 480x640 2 plates, 6.7ms\n",
      "Speed: 1.0ms preprocess, 6.7ms inference, 1.6ms postprocess per image at shape (1, 3, 480, 640)\n",
      "[2025/04/23 16:55:19] ppocr DEBUG: dt_boxes num : 2, elapsed : 0.012534618377685547\n",
      "[2025/04/23 16:55:19] ppocr DEBUG: cls num  : 2, elapsed : 0.004998207092285156\n",
      "[2025/04/23 16:55:19] ppocr DEBUG: rec_res num  : 2, elapsed : 0.05471682548522949\n",
      "[2025/04/23 16:55:19] ppocr DEBUG: dt_boxes num : 0, elapsed : 0.011812686920166016\n",
      "[2025/04/23 16:55:19] ppocr DEBUG: cls num  : 0, elapsed : 0\n",
      "[2025/04/23 16:55:19] ppocr DEBUG: rec_res num  : 0, elapsed : 0.0\n",
      "\n",
      "0: 480x640 2 plates, 5.5ms\n",
      "Speed: 1.0ms preprocess, 5.5ms inference, 1.0ms postprocess per image at shape (1, 3, 480, 640)\n",
      "[2025/04/23 16:55:19] ppocr DEBUG: dt_boxes num : 2, elapsed : 0.009932518005371094\n",
      "[2025/04/23 16:55:19] ppocr DEBUG: cls num  : 2, elapsed : 0.006097316741943359\n",
      "[2025/04/23 16:55:19] ppocr DEBUG: rec_res num  : 2, elapsed : 0.05392026901245117\n",
      "[2025/04/23 16:55:19] ppocr DEBUG: dt_boxes num : 0, elapsed : 0.012527942657470703\n",
      "[2025/04/23 16:55:19] ppocr DEBUG: cls num  : 0, elapsed : 0\n",
      "[2025/04/23 16:55:19] ppocr DEBUG: rec_res num  : 0, elapsed : 0.0\n",
      "\n",
      "0: 480x640 2 plates, 6.1ms\n",
      "Speed: 0.9ms preprocess, 6.1ms inference, 1.2ms postprocess per image at shape (1, 3, 480, 640)\n",
      "[2025/04/23 16:55:19] ppocr DEBUG: dt_boxes num : 2, elapsed : 0.009070158004760742\n",
      "[2025/04/23 16:55:19] ppocr DEBUG: cls num  : 2, elapsed : 0.00659942626953125\n",
      "[2025/04/23 16:55:19] ppocr DEBUG: rec_res num  : 2, elapsed : 0.05548381805419922\n",
      "[2025/04/23 16:55:19] ppocr DEBUG: dt_boxes num : 0, elapsed : 0.01552891731262207\n",
      "[2025/04/23 16:55:19] ppocr DEBUG: cls num  : 0, elapsed : 0\n",
      "[2025/04/23 16:55:19] ppocr DEBUG: rec_res num  : 0, elapsed : 0.0\n",
      "\n",
      "0: 480x640 2 plates, 7.0ms\n",
      "Speed: 1.0ms preprocess, 7.0ms inference, 1.5ms postprocess per image at shape (1, 3, 480, 640)\n",
      "[2025/04/23 16:55:19] ppocr DEBUG: dt_boxes num : 2, elapsed : 0.012017965316772461\n",
      "[2025/04/23 16:55:19] ppocr DEBUG: cls num  : 2, elapsed : 0.005815267562866211\n",
      "[2025/04/23 16:55:19] ppocr DEBUG: rec_res num  : 2, elapsed : 0.049150943756103516\n",
      "[2025/04/23 16:55:19] ppocr DEBUG: dt_boxes num : 0, elapsed : 0.011015176773071289\n",
      "[2025/04/23 16:55:19] ppocr DEBUG: cls num  : 0, elapsed : 0\n",
      "[2025/04/23 16:55:19] ppocr DEBUG: rec_res num  : 0, elapsed : 0.0\n",
      "\n",
      "0: 480x640 2 plates, 8.2ms\n",
      "Speed: 1.0ms preprocess, 8.2ms inference, 1.7ms postprocess per image at shape (1, 3, 480, 640)\n",
      "[2025/04/23 16:55:19] ppocr DEBUG: dt_boxes num : 2, elapsed : 0.012017250061035156\n",
      "[2025/04/23 16:55:19] ppocr DEBUG: cls num  : 2, elapsed : 0.006013631820678711\n",
      "[2025/04/23 16:55:19] ppocr DEBUG: rec_res num  : 2, elapsed : 0.051991939544677734\n",
      "[2025/04/23 16:55:19] ppocr DEBUG: dt_boxes num : 0, elapsed : 0.011786937713623047\n",
      "[2025/04/23 16:55:19] ppocr DEBUG: cls num  : 0, elapsed : 0\n",
      "[2025/04/23 16:55:19] ppocr DEBUG: rec_res num  : 0, elapsed : 0.0\n",
      "\n",
      "0: 480x640 2 plates, 8.3ms\n",
      "Speed: 1.3ms preprocess, 8.3ms inference, 1.7ms postprocess per image at shape (1, 3, 480, 640)\n",
      "[2025/04/23 16:55:19] ppocr DEBUG: dt_boxes num : 2, elapsed : 0.01059269905090332\n",
      "[2025/04/23 16:55:19] ppocr DEBUG: cls num  : 2, elapsed : 0.003507375717163086\n",
      "[2025/04/23 16:55:19] ppocr DEBUG: rec_res num  : 2, elapsed : 0.05395674705505371\n",
      "[2025/04/23 16:55:19] ppocr DEBUG: dt_boxes num : 0, elapsed : 0.011018753051757812\n",
      "[2025/04/23 16:55:19] ppocr DEBUG: cls num  : 0, elapsed : 0\n",
      "[2025/04/23 16:55:19] ppocr DEBUG: rec_res num  : 0, elapsed : 0.0\n",
      "\n",
      "0: 480x640 2 plates, 8.0ms\n",
      "Speed: 1.0ms preprocess, 8.0ms inference, 1.4ms postprocess per image at shape (1, 3, 480, 640)\n",
      "[2025/04/23 16:55:19] ppocr DEBUG: dt_boxes num : 2, elapsed : 0.012525796890258789\n",
      "[2025/04/23 16:55:19] ppocr DEBUG: cls num  : 2, elapsed : 0.0050067901611328125\n",
      "[2025/04/23 16:55:19] ppocr DEBUG: rec_res num  : 2, elapsed : 0.05212140083312988\n",
      "[2025/04/23 16:55:20] ppocr DEBUG: dt_boxes num : 0, elapsed : 0.012021541595458984\n",
      "[2025/04/23 16:55:20] ppocr DEBUG: cls num  : 0, elapsed : 0\n",
      "[2025/04/23 16:55:20] ppocr DEBUG: rec_res num  : 0, elapsed : 0.0\n",
      "\n",
      "0: 480x640 2 plates, 6.1ms\n",
      "Speed: 0.9ms preprocess, 6.1ms inference, 0.9ms postprocess per image at shape (1, 3, 480, 640)\n",
      "[2025/04/23 16:55:20] ppocr DEBUG: dt_boxes num : 2, elapsed : 0.010560274124145508\n",
      "[2025/04/23 16:55:20] ppocr DEBUG: cls num  : 2, elapsed : 0.008005380630493164\n",
      "[2025/04/23 16:55:20] ppocr DEBUG: rec_res num  : 2, elapsed : 0.05624794960021973\n",
      "[2025/04/23 16:55:20] ppocr DEBUG: dt_boxes num : 0, elapsed : 0.013021469116210938\n",
      "[2025/04/23 16:55:20] ppocr DEBUG: cls num  : 0, elapsed : 0\n",
      "[2025/04/23 16:55:20] ppocr DEBUG: rec_res num  : 0, elapsed : 0.0\n",
      "\n",
      "0: 480x640 2 plates, 9.1ms\n",
      "Speed: 0.9ms preprocess, 9.1ms inference, 1.9ms postprocess per image at shape (1, 3, 480, 640)\n",
      "[2025/04/23 16:55:20] ppocr DEBUG: dt_boxes num : 2, elapsed : 0.013025522232055664\n",
      "[2025/04/23 16:55:20] ppocr DEBUG: cls num  : 2, elapsed : 0.00502324104309082\n",
      "[2025/04/23 16:55:20] ppocr DEBUG: rec_res num  : 2, elapsed : 0.05595731735229492\n",
      "[2025/04/23 16:55:20] ppocr DEBUG: dt_boxes num : 0, elapsed : 0.012541532516479492\n",
      "[2025/04/23 16:55:20] ppocr DEBUG: cls num  : 0, elapsed : 0\n",
      "[2025/04/23 16:55:20] ppocr DEBUG: rec_res num  : 0, elapsed : 0.0\n",
      "\n",
      "0: 480x640 2 plates, 7.2ms\n",
      "Speed: 1.0ms preprocess, 7.2ms inference, 1.1ms postprocess per image at shape (1, 3, 480, 640)\n",
      "[2025/04/23 16:55:20] ppocr DEBUG: dt_boxes num : 2, elapsed : 0.010016918182373047\n",
      "[2025/04/23 16:55:20] ppocr DEBUG: cls num  : 2, elapsed : 0.004503965377807617\n",
      "[2025/04/23 16:55:20] ppocr DEBUG: rec_res num  : 2, elapsed : 0.05047726631164551\n",
      "[2025/04/23 16:55:20] ppocr DEBUG: dt_boxes num : 0, elapsed : 0.010970830917358398\n",
      "[2025/04/23 16:55:20] ppocr DEBUG: cls num  : 0, elapsed : 0\n",
      "[2025/04/23 16:55:20] ppocr DEBUG: rec_res num  : 0, elapsed : 0.0\n",
      "\n",
      "0: 480x640 2 plates, 8.3ms\n",
      "Speed: 1.1ms preprocess, 8.3ms inference, 1.9ms postprocess per image at shape (1, 3, 480, 640)\n",
      "[2025/04/23 16:55:20] ppocr DEBUG: dt_boxes num : 2, elapsed : 0.013708114624023438\n",
      "[2025/04/23 16:55:20] ppocr DEBUG: cls num  : 2, elapsed : 0.0055065155029296875\n",
      "[2025/04/23 16:55:20] ppocr DEBUG: rec_res num  : 2, elapsed : 0.05672287940979004\n",
      "[2025/04/23 16:55:20] ppocr DEBUG: dt_boxes num : 0, elapsed : 0.04160428047180176\n",
      "[2025/04/23 16:55:20] ppocr DEBUG: cls num  : 0, elapsed : 0\n",
      "[2025/04/23 16:55:20] ppocr DEBUG: rec_res num  : 0, elapsed : 0.0\n",
      "\n",
      "0: 480x640 3 plates, 6.4ms\n",
      "Speed: 1.4ms preprocess, 6.4ms inference, 1.8ms postprocess per image at shape (1, 3, 480, 640)\n",
      "[2025/04/23 16:55:20] ppocr DEBUG: dt_boxes num : 0, elapsed : 0.0400850772857666\n",
      "[2025/04/23 16:55:20] ppocr DEBUG: cls num  : 0, elapsed : 0\n",
      "[2025/04/23 16:55:20] ppocr DEBUG: rec_res num  : 0, elapsed : 0.0\n",
      "[2025/04/23 16:55:20] ppocr DEBUG: dt_boxes num : 1, elapsed : 0.008785009384155273\n",
      "[2025/04/23 16:55:20] ppocr DEBUG: cls num  : 1, elapsed : 0.02603912353515625\n",
      "[2025/04/23 16:55:20] ppocr DEBUG: rec_res num  : 1, elapsed : 0.0686187744140625\n",
      "[2025/04/23 16:55:20] ppocr DEBUG: dt_boxes num : 0, elapsed : 0.039873361587524414\n",
      "[2025/04/23 16:55:20] ppocr DEBUG: cls num  : 0, elapsed : 0\n",
      "[2025/04/23 16:55:20] ppocr DEBUG: rec_res num  : 0, elapsed : 0.0\n",
      "\n",
      "0: 480x640 2 plates, 9.1ms\n",
      "Speed: 1.0ms preprocess, 9.1ms inference, 2.0ms postprocess per image at shape (1, 3, 480, 640)\n",
      "[2025/04/23 16:55:20] ppocr DEBUG: dt_boxes num : 2, elapsed : 0.038205623626708984\n",
      "[2025/04/23 16:55:20] ppocr DEBUG: cls num  : 2, elapsed : 0.0250394344329834\n",
      "[2025/04/23 16:55:20] ppocr DEBUG: rec_res num  : 2, elapsed : 0.09185314178466797\n",
      "[2025/04/23 16:55:20] ppocr DEBUG: dt_boxes num : 0, elapsed : 0.012018442153930664\n",
      "[2025/04/23 16:55:20] ppocr DEBUG: cls num  : 0, elapsed : 0\n",
      "[2025/04/23 16:55:20] ppocr DEBUG: rec_res num  : 0, elapsed : 0.0\n",
      "\n",
      "0: 480x640 2 plates, 6.4ms\n",
      "Speed: 0.9ms preprocess, 6.4ms inference, 1.4ms postprocess per image at shape (1, 3, 480, 640)\n",
      "[2025/04/23 16:55:20] ppocr DEBUG: dt_boxes num : 2, elapsed : 0.009017467498779297\n",
      "[2025/04/23 16:55:20] ppocr DEBUG: cls num  : 2, elapsed : 0.005841970443725586\n",
      "[2025/04/23 16:55:21] ppocr DEBUG: rec_res num  : 2, elapsed : 0.05298280715942383\n",
      "[2025/04/23 16:55:21] ppocr DEBUG: dt_boxes num : 0, elapsed : 0.010837554931640625\n",
      "[2025/04/23 16:55:21] ppocr DEBUG: cls num  : 0, elapsed : 0\n",
      "[2025/04/23 16:55:21] ppocr DEBUG: rec_res num  : 0, elapsed : 0.0\n",
      "\n",
      "0: 480x640 2 plates, 6.9ms\n",
      "Speed: 1.1ms preprocess, 6.9ms inference, 0.9ms postprocess per image at shape (1, 3, 480, 640)\n",
      "[2025/04/23 16:55:21] ppocr DEBUG: dt_boxes num : 2, elapsed : 0.00877833366394043\n",
      "[2025/04/23 16:55:21] ppocr DEBUG: cls num  : 2, elapsed : 0.005154609680175781\n",
      "[2025/04/23 16:55:21] ppocr DEBUG: rec_res num  : 2, elapsed : 0.05395698547363281\n",
      "[2025/04/23 16:55:21] ppocr DEBUG: dt_boxes num : 0, elapsed : 0.010044574737548828\n",
      "[2025/04/23 16:55:21] ppocr DEBUG: cls num  : 0, elapsed : 0\n",
      "[2025/04/23 16:55:21] ppocr DEBUG: rec_res num  : 0, elapsed : 0.0\n",
      "\n",
      "0: 480x640 2 plates, 6.5ms\n",
      "Speed: 0.9ms preprocess, 6.5ms inference, 1.1ms postprocess per image at shape (1, 3, 480, 640)\n",
      "[2025/04/23 16:55:21] ppocr DEBUG: dt_boxes num : 2, elapsed : 0.00830698013305664\n",
      "[2025/04/23 16:55:21] ppocr DEBUG: cls num  : 2, elapsed : 0.006016254425048828\n",
      "[2025/04/23 16:55:21] ppocr DEBUG: rec_res num  : 2, elapsed : 0.0516047477722168\n",
      "[2025/04/23 16:55:21] ppocr DEBUG: dt_boxes num : 0, elapsed : 0.009129762649536133\n",
      "[2025/04/23 16:55:21] ppocr DEBUG: cls num  : 0, elapsed : 0\n",
      "[2025/04/23 16:55:21] ppocr DEBUG: rec_res num  : 0, elapsed : 0.0\n",
      "\n",
      "0: 480x640 2 plates, 6.3ms\n",
      "Speed: 1.1ms preprocess, 6.3ms inference, 1.0ms postprocess per image at shape (1, 3, 480, 640)\n",
      "[2025/04/23 16:55:21] ppocr DEBUG: dt_boxes num : 2, elapsed : 0.010411262512207031\n",
      "[2025/04/23 16:55:21] ppocr DEBUG: cls num  : 2, elapsed : 0.004697322845458984\n",
      "[2025/04/23 16:55:21] ppocr DEBUG: rec_res num  : 2, elapsed : 0.055639028549194336\n",
      "[2025/04/23 16:55:21] ppocr DEBUG: dt_boxes num : 0, elapsed : 0.010014057159423828\n",
      "[2025/04/23 16:55:21] ppocr DEBUG: cls num  : 0, elapsed : 0\n",
      "[2025/04/23 16:55:21] ppocr DEBUG: rec_res num  : 0, elapsed : 0.0\n",
      "\n",
      "0: 480x640 2 plates, 6.3ms\n",
      "Speed: 1.3ms preprocess, 6.3ms inference, 1.3ms postprocess per image at shape (1, 3, 480, 640)\n",
      "[2025/04/23 16:55:21] ppocr DEBUG: dt_boxes num : 2, elapsed : 0.008998394012451172\n",
      "[2025/04/23 16:55:21] ppocr DEBUG: cls num  : 2, elapsed : 0.006195068359375\n",
      "[2025/04/23 16:55:21] ppocr DEBUG: rec_res num  : 2, elapsed : 0.048773765563964844\n",
      "[2025/04/23 16:55:21] ppocr DEBUG: dt_boxes num : 0, elapsed : 0.010162353515625\n",
      "[2025/04/23 16:55:21] ppocr DEBUG: cls num  : 0, elapsed : 0\n",
      "[2025/04/23 16:55:21] ppocr DEBUG: rec_res num  : 0, elapsed : 0.0\n",
      "\n",
      "0: 480x640 2 plates, 7.3ms\n",
      "Speed: 1.1ms preprocess, 7.3ms inference, 1.1ms postprocess per image at shape (1, 3, 480, 640)\n",
      "[2025/04/23 16:55:21] ppocr DEBUG: dt_boxes num : 0, elapsed : 0.011017560958862305\n",
      "[2025/04/23 16:55:21] ppocr DEBUG: cls num  : 0, elapsed : 0\n",
      "[2025/04/23 16:55:21] ppocr DEBUG: rec_res num  : 0, elapsed : 0.0\n",
      "[2025/04/23 16:55:21] ppocr DEBUG: dt_boxes num : 2, elapsed : 0.009259939193725586\n",
      "[2025/04/23 16:55:21] ppocr DEBUG: cls num  : 2, elapsed : 0.006648063659667969\n",
      "[2025/04/23 16:55:21] ppocr DEBUG: rec_res num  : 2, elapsed : 0.05712270736694336\n",
      "\n",
      "0: 480x640 2 plates, 7.4ms\n",
      "Speed: 1.5ms preprocess, 7.4ms inference, 0.9ms postprocess per image at shape (1, 3, 480, 640)\n",
      "[2025/04/23 16:55:21] ppocr DEBUG: dt_boxes num : 0, elapsed : 0.01403951644897461\n",
      "[2025/04/23 16:55:21] ppocr DEBUG: cls num  : 0, elapsed : 0\n",
      "[2025/04/23 16:55:21] ppocr DEBUG: rec_res num  : 0, elapsed : 0.0\n",
      "[2025/04/23 16:55:21] ppocr DEBUG: dt_boxes num : 2, elapsed : 0.008272647857666016\n",
      "[2025/04/23 16:55:21] ppocr DEBUG: cls num  : 2, elapsed : 0.0055086612701416016\n",
      "[2025/04/23 16:55:21] ppocr DEBUG: rec_res num  : 2, elapsed : 0.05192089080810547\n",
      "\n",
      "0: 480x640 2 plates, 7.0ms\n",
      "Speed: 0.8ms preprocess, 7.0ms inference, 0.9ms postprocess per image at shape (1, 3, 480, 640)\n",
      "[2025/04/23 16:55:21] ppocr DEBUG: dt_boxes num : 0, elapsed : 0.00986027717590332\n",
      "[2025/04/23 16:55:21] ppocr DEBUG: cls num  : 0, elapsed : 0\n",
      "[2025/04/23 16:55:21] ppocr DEBUG: rec_res num  : 0, elapsed : 0.0\n",
      "[2025/04/23 16:55:21] ppocr DEBUG: dt_boxes num : 2, elapsed : 0.01125335693359375\n",
      "[2025/04/23 16:55:21] ppocr DEBUG: cls num  : 2, elapsed : 0.009000301361083984\n",
      "[2025/04/23 16:55:21] ppocr DEBUG: rec_res num  : 2, elapsed : 0.054822444915771484\n",
      "\n",
      "0: 480x640 2 plates, 7.8ms\n",
      "Speed: 0.9ms preprocess, 7.8ms inference, 1.0ms postprocess per image at shape (1, 3, 480, 640)\n",
      "[2025/04/23 16:55:21] ppocr DEBUG: dt_boxes num : 2, elapsed : 0.009505271911621094\n",
      "[2025/04/23 16:55:21] ppocr DEBUG: cls num  : 2, elapsed : 0.00551152229309082\n",
      "[2025/04/23 16:55:21] ppocr DEBUG: rec_res num  : 2, elapsed : 0.057829856872558594\n",
      "[2025/04/23 16:55:21] ppocr DEBUG: dt_boxes num : 0, elapsed : 0.010035276412963867\n",
      "[2025/04/23 16:55:21] ppocr DEBUG: cls num  : 0, elapsed : 0\n",
      "[2025/04/23 16:55:21] ppocr DEBUG: rec_res num  : 0, elapsed : 0.0\n",
      "\n",
      "0: 480x640 2 plates, 5.9ms\n",
      "Speed: 1.0ms preprocess, 5.9ms inference, 2.0ms postprocess per image at shape (1, 3, 480, 640)\n",
      "[2025/04/23 16:55:21] ppocr DEBUG: dt_boxes num : 2, elapsed : 0.009510040283203125\n",
      "[2025/04/23 16:55:22] ppocr DEBUG: cls num  : 2, elapsed : 0.006513833999633789\n",
      "[2025/04/23 16:55:22] ppocr DEBUG: rec_res num  : 2, elapsed : 0.05369162559509277\n",
      "[2025/04/23 16:55:22] ppocr DEBUG: dt_boxes num : 0, elapsed : 0.009114265441894531\n",
      "[2025/04/23 16:55:22] ppocr DEBUG: cls num  : 0, elapsed : 0\n",
      "[2025/04/23 16:55:22] ppocr DEBUG: rec_res num  : 0, elapsed : 0.0\n",
      "\n",
      "0: 480x640 2 plates, 8.2ms\n",
      "Speed: 1.3ms preprocess, 8.2ms inference, 1.2ms postprocess per image at shape (1, 3, 480, 640)\n",
      "[2025/04/23 16:55:22] ppocr DEBUG: dt_boxes num : 2, elapsed : 0.011847496032714844\n",
      "[2025/04/23 16:55:22] ppocr DEBUG: cls num  : 2, elapsed : 0.005001068115234375\n",
      "[2025/04/23 16:55:22] ppocr DEBUG: rec_res num  : 2, elapsed : 0.052466630935668945\n",
      "[2025/04/23 16:55:22] ppocr DEBUG: dt_boxes num : 0, elapsed : 0.009008169174194336\n",
      "[2025/04/23 16:55:22] ppocr DEBUG: cls num  : 0, elapsed : 0\n",
      "[2025/04/23 16:55:22] ppocr DEBUG: rec_res num  : 0, elapsed : 0.0\n",
      "\n",
      "0: 480x640 2 plates, 6.6ms\n",
      "Speed: 1.9ms preprocess, 6.6ms inference, 1.2ms postprocess per image at shape (1, 3, 480, 640)\n",
      "[2025/04/23 16:55:22] ppocr DEBUG: dt_boxes num : 2, elapsed : 0.010022401809692383\n",
      "[2025/04/23 16:55:22] ppocr DEBUG: cls num  : 2, elapsed : 0.007518768310546875\n",
      "[2025/04/23 16:55:22] ppocr DEBUG: rec_res num  : 2, elapsed : 0.05417156219482422\n",
      "[2025/04/23 16:55:22] ppocr DEBUG: dt_boxes num : 0, elapsed : 0.04298996925354004\n",
      "[2025/04/23 16:55:22] ppocr DEBUG: cls num  : 0, elapsed : 0\n",
      "[2025/04/23 16:55:22] ppocr DEBUG: rec_res num  : 0, elapsed : 0.0\n",
      "\n",
      "0: 480x640 3 plates, 5.9ms\n",
      "Speed: 1.0ms preprocess, 5.9ms inference, 1.0ms postprocess per image at shape (1, 3, 480, 640)\n",
      "[2025/04/23 16:55:22] ppocr DEBUG: dt_boxes num : 2, elapsed : 0.00950765609741211\n",
      "[2025/04/23 16:55:22] ppocr DEBUG: cls num  : 2, elapsed : 0.007508993148803711\n",
      "[2025/04/23 16:55:22] ppocr DEBUG: rec_res num  : 2, elapsed : 0.05858588218688965\n",
      "[2025/04/23 16:55:22] ppocr DEBUG: dt_boxes num : 0, elapsed : 0.04457664489746094\n",
      "[2025/04/23 16:55:22] ppocr DEBUG: cls num  : 0, elapsed : 0\n",
      "[2025/04/23 16:55:22] ppocr DEBUG: rec_res num  : 0, elapsed : 0.0\n",
      "[2025/04/23 16:55:22] ppocr DEBUG: dt_boxes num : 6, elapsed : 0.055158138275146484\n",
      "[2025/04/23 16:55:22] ppocr DEBUG: cls num  : 6, elapsed : 0.03757286071777344\n",
      "[2025/04/23 16:55:22] ppocr DEBUG: rec_res num  : 6, elapsed : 0.28248023986816406\n",
      "\n",
      "0: 480x640 2 plates, 5.8ms\n",
      "Speed: 0.9ms preprocess, 5.8ms inference, 0.9ms postprocess per image at shape (1, 3, 480, 640)\n",
      "[2025/04/23 16:55:22] ppocr DEBUG: dt_boxes num : 2, elapsed : 0.044736385345458984\n",
      "[2025/04/23 16:55:22] ppocr DEBUG: cls num  : 2, elapsed : 0.005507946014404297\n",
      "[2025/04/23 16:55:23] ppocr DEBUG: rec_res num  : 2, elapsed : 0.05461931228637695\n",
      "[2025/04/23 16:55:23] ppocr DEBUG: dt_boxes num : 0, elapsed : 0.012524604797363281\n",
      "[2025/04/23 16:55:23] ppocr DEBUG: cls num  : 0, elapsed : 0\n",
      "[2025/04/23 16:55:23] ppocr DEBUG: rec_res num  : 0, elapsed : 0.0\n",
      "\n",
      "0: 480x640 2 plates, 6.6ms\n",
      "Speed: 1.2ms preprocess, 6.6ms inference, 1.1ms postprocess per image at shape (1, 3, 480, 640)\n",
      "[2025/04/23 16:55:23] ppocr DEBUG: dt_boxes num : 2, elapsed : 0.009511947631835938\n",
      "[2025/04/23 16:55:23] ppocr DEBUG: cls num  : 2, elapsed : 0.007508993148803711\n",
      "[2025/04/23 16:55:23] ppocr DEBUG: rec_res num  : 2, elapsed : 0.06149148941040039\n",
      "[2025/04/23 16:55:23] ppocr DEBUG: dt_boxes num : 0, elapsed : 0.016025066375732422\n",
      "[2025/04/23 16:55:23] ppocr DEBUG: cls num  : 0, elapsed : 0\n",
      "[2025/04/23 16:55:23] ppocr DEBUG: rec_res num  : 0, elapsed : 0.0\n",
      "\n",
      "0: 480x640 2 plates, 7.0ms\n",
      "Speed: 0.9ms preprocess, 7.0ms inference, 2.8ms postprocess per image at shape (1, 3, 480, 640)\n",
      "[2025/04/23 16:55:23] ppocr DEBUG: dt_boxes num : 2, elapsed : 0.012016534805297852\n",
      "[2025/04/23 16:55:23] ppocr DEBUG: cls num  : 2, elapsed : 0.006017208099365234\n",
      "[2025/04/23 16:55:23] ppocr DEBUG: rec_res num  : 2, elapsed : 0.04800534248352051\n",
      "[2025/04/23 16:55:23] ppocr DEBUG: dt_boxes num : 0, elapsed : 0.01401209831237793\n",
      "[2025/04/23 16:55:23] ppocr DEBUG: cls num  : 0, elapsed : 0\n",
      "[2025/04/23 16:55:23] ppocr DEBUG: rec_res num  : 0, elapsed : 0.0\n",
      "\n",
      "0: 480x640 2 plates, 6.5ms\n",
      "Speed: 0.9ms preprocess, 6.5ms inference, 1.8ms postprocess per image at shape (1, 3, 480, 640)\n",
      "[2025/04/23 16:55:23] ppocr DEBUG: dt_boxes num : 2, elapsed : 0.010021448135375977\n",
      "[2025/04/23 16:55:23] ppocr DEBUG: cls num  : 2, elapsed : 0.006582498550415039\n",
      "[2025/04/23 16:55:23] ppocr DEBUG: rec_res num  : 2, elapsed : 0.052130937576293945\n",
      "[2025/04/23 16:55:23] ppocr DEBUG: dt_boxes num : 0, elapsed : 0.011255025863647461\n",
      "[2025/04/23 16:55:23] ppocr DEBUG: cls num  : 0, elapsed : 0\n",
      "[2025/04/23 16:55:23] ppocr DEBUG: rec_res num  : 0, elapsed : 0.0\n",
      "\n",
      "0: 480x640 3 plates, 6.2ms\n",
      "Speed: 1.1ms preprocess, 6.2ms inference, 1.1ms postprocess per image at shape (1, 3, 480, 640)\n",
      "[2025/04/23 16:55:23] ppocr DEBUG: dt_boxes num : 2, elapsed : 0.012018442153930664\n",
      "[2025/04/23 16:55:23] ppocr DEBUG: cls num  : 2, elapsed : 0.006012916564941406\n",
      "[2025/04/23 16:55:23] ppocr DEBUG: rec_res num  : 2, elapsed : 0.05361580848693848\n",
      "[2025/04/23 16:55:23] ppocr DEBUG: dt_boxes num : 0, elapsed : 0.012526512145996094\n",
      "[2025/04/23 16:55:23] ppocr DEBUG: cls num  : 0, elapsed : 0\n",
      "[2025/04/23 16:55:23] ppocr DEBUG: rec_res num  : 0, elapsed : 0.0\n",
      "[2025/04/23 16:55:23] ppocr DEBUG: dt_boxes num : 6, elapsed : 0.058684349060058594\n",
      "[2025/04/23 16:55:23] ppocr DEBUG: cls num  : 6, elapsed : 0.0070035457611083984\n",
      "[2025/04/23 16:55:23] ppocr DEBUG: rec_res num  : 6, elapsed : 0.14922070503234863\n",
      "\n",
      "0: 480x640 3 plates, 7.9ms\n",
      "Speed: 1.0ms preprocess, 7.9ms inference, 1.0ms postprocess per image at shape (1, 3, 480, 640)\n",
      "[2025/04/23 16:55:23] ppocr DEBUG: dt_boxes num : 2, elapsed : 0.013215065002441406\n",
      "[2025/04/23 16:55:23] ppocr DEBUG: cls num  : 2, elapsed : 0.005999565124511719\n",
      "[2025/04/23 16:55:23] ppocr DEBUG: rec_res num  : 2, elapsed : 0.0577082633972168\n",
      "[2025/04/23 16:55:23] ppocr DEBUG: dt_boxes num : 0, elapsed : 0.012547492980957031\n",
      "[2025/04/23 16:55:23] ppocr DEBUG: cls num  : 0, elapsed : 0\n",
      "[2025/04/23 16:55:23] ppocr DEBUG: rec_res num  : 0, elapsed : 0.0\n",
      "[2025/04/23 16:55:23] ppocr DEBUG: dt_boxes num : 7, elapsed : 0.023033618927001953\n",
      "[2025/04/23 16:55:23] ppocr DEBUG: cls num  : 7, elapsed : 0.0341339111328125\n",
      "[2025/04/23 16:55:24] ppocr DEBUG: rec_res num  : 7, elapsed : 0.2309248447418213\n",
      "\n",
      "0: 480x640 3 plates, 6.9ms\n",
      "Speed: 1.5ms preprocess, 6.9ms inference, 0.9ms postprocess per image at shape (1, 3, 480, 640)\n",
      "[2025/04/23 16:55:24] ppocr DEBUG: dt_boxes num : 2, elapsed : 0.013209104537963867\n",
      "[2025/04/23 16:55:24] ppocr DEBUG: cls num  : 2, elapsed : 0.0040018558502197266\n",
      "[2025/04/23 16:55:24] ppocr DEBUG: rec_res num  : 2, elapsed : 0.05562925338745117\n",
      "[2025/04/23 16:55:24] ppocr DEBUG: dt_boxes num : 0, elapsed : 0.012017011642456055\n",
      "[2025/04/23 16:55:24] ppocr DEBUG: cls num  : 0, elapsed : 0\n",
      "[2025/04/23 16:55:24] ppocr DEBUG: rec_res num  : 0, elapsed : 0.0\n",
      "[2025/04/23 16:55:24] ppocr DEBUG: dt_boxes num : 7, elapsed : 0.02257680892944336\n",
      "[2025/04/23 16:55:24] ppocr DEBUG: cls num  : 7, elapsed : 0.014072895050048828\n",
      "[2025/04/23 16:55:24] ppocr DEBUG: rec_res num  : 7, elapsed : 0.18474745750427246\n",
      "\n",
      "0: 480x640 2 plates, 7.6ms\n",
      "Speed: 1.0ms preprocess, 7.6ms inference, 1.3ms postprocess per image at shape (1, 3, 480, 640)\n",
      "[2025/04/23 16:55:24] ppocr DEBUG: dt_boxes num : 2, elapsed : 0.011020898818969727\n",
      "[2025/04/23 16:55:24] ppocr DEBUG: cls num  : 2, elapsed : 0.003998994827270508\n",
      "[2025/04/23 16:55:24] ppocr DEBUG: rec_res num  : 2, elapsed : 0.05472540855407715\n",
      "[2025/04/23 16:55:24] ppocr DEBUG: dt_boxes num : 0, elapsed : 0.012014627456665039\n",
      "[2025/04/23 16:55:24] ppocr DEBUG: cls num  : 0, elapsed : 0\n",
      "[2025/04/23 16:55:24] ppocr DEBUG: rec_res num  : 0, elapsed : 0.0\n",
      "\n",
      "0: 480x640 2 plates, 6.7ms\n",
      "Speed: 1.1ms preprocess, 6.7ms inference, 1.2ms postprocess per image at shape (1, 3, 480, 640)\n",
      "[2025/04/23 16:55:24] ppocr DEBUG: dt_boxes num : 2, elapsed : 0.012024879455566406\n",
      "[2025/04/23 16:55:24] ppocr DEBUG: cls num  : 2, elapsed : 0.005018711090087891\n",
      "[2025/04/23 16:55:24] ppocr DEBUG: rec_res num  : 2, elapsed : 0.05514359474182129\n",
      "[2025/04/23 16:55:24] ppocr DEBUG: dt_boxes num : 0, elapsed : 0.012300729751586914\n",
      "[2025/04/23 16:55:24] ppocr DEBUG: cls num  : 0, elapsed : 0\n",
      "[2025/04/23 16:55:24] ppocr DEBUG: rec_res num  : 0, elapsed : 0.0\n",
      "\n",
      "0: 480x640 3 plates, 6.2ms\n",
      "Speed: 0.8ms preprocess, 6.2ms inference, 1.2ms postprocess per image at shape (1, 3, 480, 640)\n",
      "[2025/04/23 16:55:24] ppocr DEBUG: dt_boxes num : 2, elapsed : 0.010020971298217773\n",
      "[2025/04/23 16:55:24] ppocr DEBUG: cls num  : 2, elapsed : 0.007018089294433594\n",
      "[2025/04/23 16:55:24] ppocr DEBUG: rec_res num  : 2, elapsed : 0.05829787254333496\n",
      "[2025/04/23 16:55:24] ppocr DEBUG: dt_boxes num : 0, elapsed : 0.012022256851196289\n",
      "[2025/04/23 16:55:24] ppocr DEBUG: cls num  : 0, elapsed : 0\n",
      "[2025/04/23 16:55:24] ppocr DEBUG: rec_res num  : 0, elapsed : 0.0\n",
      "[2025/04/23 16:55:24] ppocr DEBUG: dt_boxes num : 6, elapsed : 0.026414155960083008\n",
      "[2025/04/23 16:55:24] ppocr DEBUG: cls num  : 6, elapsed : 0.009015560150146484\n",
      "[2025/04/23 16:55:25] ppocr DEBUG: rec_res num  : 6, elapsed : 0.14843058586120605\n",
      "\n",
      "0: 480x640 3 plates, 6.5ms\n",
      "Speed: 1.1ms preprocess, 6.5ms inference, 0.9ms postprocess per image at shape (1, 3, 480, 640)\n",
      "[2025/04/23 16:55:25] ppocr DEBUG: dt_boxes num : 2, elapsed : 0.010018110275268555\n",
      "[2025/04/23 16:55:25] ppocr DEBUG: cls num  : 2, elapsed : 0.005003929138183594\n",
      "[2025/04/23 16:55:25] ppocr DEBUG: rec_res num  : 2, elapsed : 0.05492997169494629\n",
      "[2025/04/23 16:55:25] ppocr DEBUG: dt_boxes num : 0, elapsed : 0.013019561767578125\n",
      "[2025/04/23 16:55:25] ppocr DEBUG: cls num  : 0, elapsed : 0\n",
      "[2025/04/23 16:55:25] ppocr DEBUG: rec_res num  : 0, elapsed : 0.0\n",
      "[2025/04/23 16:55:25] ppocr DEBUG: dt_boxes num : 6, elapsed : 0.02472710609436035\n",
      "[2025/04/23 16:55:25] ppocr DEBUG: cls num  : 6, elapsed : 0.010025739669799805\n",
      "[2025/04/23 16:55:25] ppocr DEBUG: rec_res num  : 6, elapsed : 0.1470184326171875\n",
      "\n",
      "0: 480x640 3 plates, 7.1ms\n",
      "Speed: 0.9ms preprocess, 7.1ms inference, 2.1ms postprocess per image at shape (1, 3, 480, 640)\n",
      "[2025/04/23 16:55:25] ppocr DEBUG: dt_boxes num : 2, elapsed : 0.015104532241821289\n",
      "[2025/04/23 16:55:25] ppocr DEBUG: cls num  : 2, elapsed : 0.0055086612701416016\n",
      "[2025/04/23 16:55:25] ppocr DEBUG: rec_res num  : 2, elapsed : 0.049603939056396484\n",
      "[2025/04/23 16:55:25] ppocr DEBUG: dt_boxes num : 0, elapsed : 0.01302027702331543\n",
      "[2025/04/23 16:55:25] ppocr DEBUG: cls num  : 0, elapsed : 0\n",
      "[2025/04/23 16:55:25] ppocr DEBUG: rec_res num  : 0, elapsed : 0.0\n",
      "[2025/04/23 16:55:25] ppocr DEBUG: dt_boxes num : 6, elapsed : 0.02906179428100586\n",
      "[2025/04/23 16:55:25] ppocr DEBUG: cls num  : 6, elapsed : 0.008195161819458008\n",
      "[2025/04/23 16:55:25] ppocr DEBUG: rec_res num  : 6, elapsed : 0.15332889556884766\n",
      "\n",
      "0: 480x640 3 plates, 8.8ms\n",
      "Speed: 1.3ms preprocess, 8.8ms inference, 1.1ms postprocess per image at shape (1, 3, 480, 640)\n",
      "[2025/04/23 16:55:25] ppocr DEBUG: dt_boxes num : 2, elapsed : 0.010014533996582031\n",
      "[2025/04/23 16:55:25] ppocr DEBUG: cls num  : 2, elapsed : 0.005854368209838867\n",
      "[2025/04/23 16:55:25] ppocr DEBUG: rec_res num  : 2, elapsed : 0.05325913429260254\n",
      "[2025/04/23 16:55:25] ppocr DEBUG: dt_boxes num : 0, elapsed : 0.01418447494506836\n",
      "[2025/04/23 16:55:25] ppocr DEBUG: cls num  : 0, elapsed : 0\n",
      "[2025/04/23 16:55:25] ppocr DEBUG: rec_res num  : 0, elapsed : 0.0\n",
      "[2025/04/23 16:55:25] ppocr DEBUG: dt_boxes num : 7, elapsed : 0.025040388107299805\n",
      "[2025/04/23 16:55:25] ppocr DEBUG: cls num  : 7, elapsed : 0.017026662826538086\n",
      "[2025/04/23 16:55:26] ppocr DEBUG: rec_res num  : 7, elapsed : 0.18243098258972168\n",
      "\n",
      "0: 480x640 3 plates, 6.4ms\n",
      "Speed: 0.9ms preprocess, 6.4ms inference, 1.8ms postprocess per image at shape (1, 3, 480, 640)\n",
      "[2025/04/23 16:55:26] ppocr DEBUG: dt_boxes num : 2, elapsed : 0.013015508651733398\n",
      "[2025/04/23 16:55:26] ppocr DEBUG: cls num  : 2, elapsed : 0.005330324172973633\n",
      "[2025/04/23 16:55:26] ppocr DEBUG: rec_res num  : 2, elapsed : 0.05517935752868652\n",
      "[2025/04/23 16:55:26] ppocr DEBUG: dt_boxes num : 0, elapsed : 0.013037681579589844\n",
      "[2025/04/23 16:55:26] ppocr DEBUG: cls num  : 0, elapsed : 0\n",
      "[2025/04/23 16:55:26] ppocr DEBUG: rec_res num  : 0, elapsed : 0.0\n",
      "[2025/04/23 16:55:26] ppocr DEBUG: dt_boxes num : 7, elapsed : 0.027050256729125977\n",
      "[2025/04/23 16:55:26] ppocr DEBUG: cls num  : 7, elapsed : 0.014516830444335938\n",
      "[2025/04/23 16:55:26] ppocr DEBUG: rec_res num  : 7, elapsed : 0.191359281539917\n",
      "\n",
      "0: 480x640 3 plates, 9.9ms\n",
      "Speed: 1.2ms preprocess, 9.9ms inference, 1.8ms postprocess per image at shape (1, 3, 480, 640)\n",
      "[2025/04/23 16:55:26] ppocr DEBUG: dt_boxes num : 2, elapsed : 0.011020421981811523\n",
      "[2025/04/23 16:55:26] ppocr DEBUG: cls num  : 2, elapsed : 0.005511045455932617\n",
      "[2025/04/23 16:55:26] ppocr DEBUG: rec_res num  : 2, elapsed : 0.05861687660217285\n",
      "[2025/04/23 16:55:26] ppocr DEBUG: dt_boxes num : 0, elapsed : 0.012899398803710938\n",
      "[2025/04/23 16:55:26] ppocr DEBUG: cls num  : 0, elapsed : 0\n",
      "[2025/04/23 16:55:26] ppocr DEBUG: rec_res num  : 0, elapsed : 0.0\n",
      "[2025/04/23 16:55:26] ppocr DEBUG: dt_boxes num : 7, elapsed : 0.02404046058654785\n",
      "[2025/04/23 16:55:26] ppocr DEBUG: cls num  : 7, elapsed : 0.016527175903320312\n",
      "[2025/04/23 16:55:26] ppocr DEBUG: rec_res num  : 7, elapsed : 0.18210959434509277\n",
      "\n",
      "0: 480x640 3 plates, 6.5ms\n",
      "Speed: 0.9ms preprocess, 6.5ms inference, 0.9ms postprocess per image at shape (1, 3, 480, 640)\n",
      "[2025/04/23 16:55:26] ppocr DEBUG: dt_boxes num : 2, elapsed : 0.011212825775146484\n",
      "[2025/04/23 16:55:26] ppocr DEBUG: cls num  : 2, elapsed : 0.005510807037353516\n",
      "[2025/04/23 16:55:26] ppocr DEBUG: rec_res num  : 2, elapsed : 0.049866676330566406\n",
      "[2025/04/23 16:55:26] ppocr DEBUG: dt_boxes num : 0, elapsed : 0.016044139862060547\n",
      "[2025/04/23 16:55:26] ppocr DEBUG: cls num  : 0, elapsed : 0\n",
      "[2025/04/23 16:55:26] ppocr DEBUG: rec_res num  : 0, elapsed : 0.0\n",
      "[2025/04/23 16:55:26] ppocr DEBUG: dt_boxes num : 7, elapsed : 0.025977611541748047\n",
      "[2025/04/23 16:55:26] ppocr DEBUG: cls num  : 7, elapsed : 0.015019655227661133\n",
      "[2025/04/23 16:55:27] ppocr DEBUG: rec_res num  : 7, elapsed : 0.19119596481323242\n",
      "\n",
      "0: 480x640 3 plates, 7.9ms\n",
      "Speed: 1.3ms preprocess, 7.9ms inference, 1.0ms postprocess per image at shape (1, 3, 480, 640)\n",
      "[2025/04/23 16:55:27] ppocr DEBUG: dt_boxes num : 2, elapsed : 0.01201772689819336\n",
      "[2025/04/23 16:55:27] ppocr DEBUG: cls num  : 2, elapsed : 0.005057334899902344\n",
      "[2025/04/23 16:55:27] ppocr DEBUG: rec_res num  : 2, elapsed : 0.05528688430786133\n",
      "[2025/04/23 16:55:27] ppocr DEBUG: dt_boxes num : 0, elapsed : 0.013379096984863281\n",
      "[2025/04/23 16:55:27] ppocr DEBUG: cls num  : 0, elapsed : 0\n",
      "[2025/04/23 16:55:27] ppocr DEBUG: rec_res num  : 0, elapsed : 0.0\n",
      "[2025/04/23 16:55:27] ppocr DEBUG: dt_boxes num : 6, elapsed : 0.022368669509887695\n",
      "[2025/04/23 16:55:27] ppocr DEBUG: cls num  : 6, elapsed : 0.009010076522827148\n",
      "[2025/04/23 16:55:27] ppocr DEBUG: rec_res num  : 6, elapsed : 0.15995526313781738\n",
      "\n",
      "0: 480x640 3 plates, 6.1ms\n",
      "Speed: 1.0ms preprocess, 6.1ms inference, 1.2ms postprocess per image at shape (1, 3, 480, 640)\n",
      "[2025/04/23 16:55:27] ppocr DEBUG: dt_boxes num : 1, elapsed : 0.046341657638549805\n",
      "[2025/04/23 16:55:27] ppocr DEBUG: cls num  : 1, elapsed : 0.0060160160064697266\n",
      "[2025/04/23 16:55:27] ppocr DEBUG: rec_res num  : 1, elapsed : 0.033078908920288086\n",
      "[2025/04/23 16:55:27] ppocr DEBUG: dt_boxes num : 0, elapsed : 0.011783123016357422\n",
      "[2025/04/23 16:55:27] ppocr DEBUG: cls num  : 0, elapsed : 0\n",
      "[2025/04/23 16:55:27] ppocr DEBUG: rec_res num  : 0, elapsed : 0.0\n",
      "[2025/04/23 16:55:27] ppocr DEBUG: dt_boxes num : 5, elapsed : 0.024651050567626953\n",
      "[2025/04/23 16:55:27] ppocr DEBUG: cls num  : 5, elapsed : 0.03471088409423828\n",
      "[2025/04/23 16:55:27] ppocr DEBUG: rec_res num  : 5, elapsed : 0.1797313690185547\n",
      "\n",
      "0: 480x640 3 plates, 6.6ms\n",
      "Speed: 1.0ms preprocess, 6.6ms inference, 1.0ms postprocess per image at shape (1, 3, 480, 640)\n",
      "[2025/04/23 16:55:27] ppocr DEBUG: dt_boxes num : 2, elapsed : 0.013538599014282227\n",
      "[2025/04/23 16:55:27] ppocr DEBUG: cls num  : 2, elapsed : 0.02637481689453125\n",
      "[2025/04/23 16:55:27] ppocr DEBUG: rec_res num  : 2, elapsed : 0.08781003952026367\n",
      "[2025/04/23 16:55:27] ppocr DEBUG: dt_boxes num : 0, elapsed : 0.04515552520751953\n",
      "[2025/04/23 16:55:27] ppocr DEBUG: cls num  : 0, elapsed : 0\n",
      "[2025/04/23 16:55:27] ppocr DEBUG: rec_res num  : 0, elapsed : 0.0\n",
      "[2025/04/23 16:55:27] ppocr DEBUG: dt_boxes num : 6, elapsed : 0.024036884307861328\n",
      "[2025/04/23 16:55:28] ppocr DEBUG: cls num  : 6, elapsed : 0.02755284309387207\n",
      "[2025/04/23 16:55:28] ppocr DEBUG: rec_res num  : 6, elapsed : 0.3028388023376465\n",
      "\n",
      "0: 480x640 3 plates, 6.2ms\n",
      "Speed: 1.2ms preprocess, 6.2ms inference, 1.0ms postprocess per image at shape (1, 3, 480, 640)\n",
      "[2025/04/23 16:55:28] ppocr DEBUG: dt_boxes num : 2, elapsed : 0.011047601699829102\n",
      "[2025/04/23 16:55:28] ppocr DEBUG: cls num  : 2, elapsed : 0.006508827209472656\n",
      "[2025/04/23 16:55:28] ppocr DEBUG: rec_res num  : 2, elapsed : 0.05919528007507324\n",
      "[2025/04/23 16:55:28] ppocr DEBUG: dt_boxes num : 0, elapsed : 0.04909873008728027\n",
      "[2025/04/23 16:55:28] ppocr DEBUG: cls num  : 0, elapsed : 0\n",
      "[2025/04/23 16:55:28] ppocr DEBUG: rec_res num  : 0, elapsed : 0.0\n",
      "[2025/04/23 16:55:28] ppocr DEBUG: dt_boxes num : 6, elapsed : 0.0605168342590332\n",
      "[2025/04/23 16:55:28] ppocr DEBUG: cls num  : 6, elapsed : 0.009505987167358398\n",
      "[2025/04/23 16:55:28] ppocr DEBUG: rec_res num  : 6, elapsed : 0.2087399959564209\n",
      "\n",
      "0: 480x640 3 plates, 7.3ms\n",
      "Speed: 1.1ms preprocess, 7.3ms inference, 2.5ms postprocess per image at shape (1, 3, 480, 640)\n",
      "[2025/04/23 16:55:28] ppocr DEBUG: dt_boxes num : 2, elapsed : 0.012015581130981445\n",
      "[2025/04/23 16:55:28] ppocr DEBUG: cls num  : 2, elapsed : 0.006081342697143555\n",
      "[2025/04/23 16:55:28] ppocr DEBUG: rec_res num  : 2, elapsed : 0.05619025230407715\n",
      "[2025/04/23 16:55:28] ppocr DEBUG: dt_boxes num : 0, elapsed : 0.013030290603637695\n",
      "[2025/04/23 16:55:28] ppocr DEBUG: cls num  : 0, elapsed : 0\n",
      "[2025/04/23 16:55:28] ppocr DEBUG: rec_res num  : 0, elapsed : 0.0\n",
      "[2025/04/23 16:55:28] ppocr DEBUG: dt_boxes num : 7, elapsed : 0.024068593978881836\n",
      "[2025/04/23 16:55:28] ppocr DEBUG: cls num  : 7, elapsed : 0.0452423095703125\n",
      "[2025/04/23 16:55:29] ppocr DEBUG: rec_res num  : 7, elapsed : 0.22153425216674805\n",
      "\n",
      "0: 480x640 4 plates, 6.5ms\n",
      "Speed: 1.2ms preprocess, 6.5ms inference, 1.2ms postprocess per image at shape (1, 3, 480, 640)\n",
      "[2025/04/23 16:55:29] ppocr DEBUG: dt_boxes num : 2, elapsed : 0.03576779365539551\n",
      "[2025/04/23 16:55:29] ppocr DEBUG: cls num  : 2, elapsed : 0.0065152645111083984\n",
      "[2025/04/23 16:55:29] ppocr DEBUG: rec_res num  : 2, elapsed : 0.055773019790649414\n",
      "[2025/04/23 16:55:29] ppocr DEBUG: dt_boxes num : 0, elapsed : 0.01211857795715332\n",
      "[2025/04/23 16:55:29] ppocr DEBUG: cls num  : 0, elapsed : 0\n",
      "[2025/04/23 16:55:29] ppocr DEBUG: rec_res num  : 0, elapsed : 0.0\n",
      "[2025/04/23 16:55:29] ppocr DEBUG: dt_boxes num : 5, elapsed : 0.02905130386352539\n",
      "[2025/04/23 16:55:29] ppocr DEBUG: cls num  : 5, elapsed : 0.02778935432434082\n",
      "[2025/04/23 16:55:29] ppocr DEBUG: rec_res num  : 5, elapsed : 0.17179059982299805\n",
      "[2025/04/23 16:55:29] ppocr DEBUG: dt_boxes num : 0, elapsed : 0.03907299041748047\n",
      "[2025/04/23 16:55:29] ppocr DEBUG: cls num  : 0, elapsed : 0\n",
      "[2025/04/23 16:55:29] ppocr DEBUG: rec_res num  : 0, elapsed : 0.0\n",
      "\n",
      "0: 480x640 4 plates, 7.2ms\n",
      "Speed: 1.1ms preprocess, 7.2ms inference, 1.7ms postprocess per image at shape (1, 3, 480, 640)\n",
      "[2025/04/23 16:55:29] ppocr DEBUG: dt_boxes num : 2, elapsed : 0.009015321731567383\n",
      "[2025/04/23 16:55:29] ppocr DEBUG: cls num  : 2, elapsed : 0.027261734008789062\n",
      "[2025/04/23 16:55:29] ppocr DEBUG: rec_res num  : 2, elapsed : 0.08667612075805664\n",
      "[2025/04/23 16:55:29] ppocr DEBUG: dt_boxes num : 0, elapsed : 0.039907217025756836\n",
      "[2025/04/23 16:55:29] ppocr DEBUG: cls num  : 0, elapsed : 0\n",
      "[2025/04/23 16:55:29] ppocr DEBUG: rec_res num  : 0, elapsed : 0.0\n",
      "[2025/04/23 16:55:29] ppocr DEBUG: dt_boxes num : 6, elapsed : 0.023581743240356445\n",
      "[2025/04/23 16:55:29] ppocr DEBUG: cls num  : 6, elapsed : 0.033113956451416016\n",
      "[2025/04/23 16:55:30] ppocr DEBUG: rec_res num  : 6, elapsed : 0.18224477767944336\n",
      "[2025/04/23 16:55:30] ppocr DEBUG: dt_boxes num : 0, elapsed : 0.03985476493835449\n",
      "[2025/04/23 16:55:30] ppocr DEBUG: cls num  : 0, elapsed : 0\n",
      "[2025/04/23 16:55:30] ppocr DEBUG: rec_res num  : 0, elapsed : 0.0\n",
      "\n",
      "0: 480x640 3 plates, 10.1ms\n",
      "Speed: 0.9ms preprocess, 10.1ms inference, 1.8ms postprocess per image at shape (1, 3, 480, 640)\n",
      "[2025/04/23 16:55:30] ppocr DEBUG: dt_boxes num : 2, elapsed : 0.00966644287109375\n",
      "[2025/04/23 16:55:30] ppocr DEBUG: cls num  : 2, elapsed : 0.005509853363037109\n",
      "[2025/04/23 16:55:30] ppocr DEBUG: rec_res num  : 2, elapsed : 0.05509305000305176\n",
      "[2025/04/23 16:55:30] ppocr DEBUG: dt_boxes num : 0, elapsed : 0.01252889633178711\n",
      "[2025/04/23 16:55:30] ppocr DEBUG: cls num  : 0, elapsed : 0\n",
      "[2025/04/23 16:55:30] ppocr DEBUG: rec_res num  : 0, elapsed : 0.0\n",
      "[2025/04/23 16:55:30] ppocr DEBUG: dt_boxes num : 7, elapsed : 0.02295851707458496\n",
      "[2025/04/23 16:55:30] ppocr DEBUG: cls num  : 7, elapsed : 0.03882241249084473\n",
      "[2025/04/23 16:55:30] ppocr DEBUG: rec_res num  : 7, elapsed : 0.23201584815979004\n",
      "\n",
      "0: 480x640 3 plates, 7.3ms\n",
      "Speed: 1.1ms preprocess, 7.3ms inference, 1.1ms postprocess per image at shape (1, 3, 480, 640)\n",
      "[2025/04/23 16:55:30] ppocr DEBUG: dt_boxes num : 2, elapsed : 0.04325699806213379\n",
      "[2025/04/23 16:55:30] ppocr DEBUG: cls num  : 2, elapsed : 0.00801539421081543\n",
      "[2025/04/23 16:55:30] ppocr DEBUG: rec_res num  : 2, elapsed : 0.05366230010986328\n",
      "[2025/04/23 16:55:30] ppocr DEBUG: dt_boxes num : 0, elapsed : 0.014129638671875\n",
      "[2025/04/23 16:55:30] ppocr DEBUG: cls num  : 0, elapsed : 0\n",
      "[2025/04/23 16:55:30] ppocr DEBUG: rec_res num  : 0, elapsed : 0.0\n",
      "[2025/04/23 16:55:30] ppocr DEBUG: dt_boxes num : 6, elapsed : 0.05471944808959961\n",
      "[2025/04/23 16:55:30] ppocr DEBUG: cls num  : 6, elapsed : 0.008013248443603516\n",
      "[2025/04/23 16:55:30] ppocr DEBUG: rec_res num  : 6, elapsed : 0.15047144889831543\n",
      "\n",
      "0: 480x640 3 plates, 6.5ms\n",
      "Speed: 1.2ms preprocess, 6.5ms inference, 1.2ms postprocess per image at shape (1, 3, 480, 640)\n",
      "[2025/04/23 16:55:30] ppocr DEBUG: dt_boxes num : 2, elapsed : 0.01002049446105957\n",
      "[2025/04/23 16:55:30] ppocr DEBUG: cls num  : 2, elapsed : 0.007019996643066406\n",
      "[2025/04/23 16:55:30] ppocr DEBUG: rec_res num  : 2, elapsed : 0.055455923080444336\n",
      "[2025/04/23 16:55:31] ppocr DEBUG: dt_boxes num : 7, elapsed : 0.020035505294799805\n",
      "[2025/04/23 16:55:31] ppocr DEBUG: cls num  : 7, elapsed : 0.015485048294067383\n",
      "[2025/04/23 16:55:31] ppocr DEBUG: rec_res num  : 7, elapsed : 0.18843507766723633\n",
      "[2025/04/23 16:55:31] ppocr DEBUG: dt_boxes num : 0, elapsed : 0.015024423599243164\n",
      "[2025/04/23 16:55:31] ppocr DEBUG: cls num  : 0, elapsed : 0\n",
      "[2025/04/23 16:55:31] ppocr DEBUG: rec_res num  : 0, elapsed : 0.0\n",
      "\n",
      "0: 480x640 3 plates, 7.0ms\n",
      "Speed: 0.9ms preprocess, 7.0ms inference, 1.5ms postprocess per image at shape (1, 3, 480, 640)\n",
      "[2025/04/23 16:55:31] ppocr DEBUG: dt_boxes num : 2, elapsed : 0.008929014205932617\n",
      "[2025/04/23 16:55:31] ppocr DEBUG: cls num  : 2, elapsed : 0.004014253616333008\n",
      "[2025/04/23 16:55:31] ppocr DEBUG: rec_res num  : 2, elapsed : 0.057691097259521484\n",
      "[2025/04/23 16:55:31] ppocr DEBUG: dt_boxes num : 6, elapsed : 0.061022043228149414\n",
      "[2025/04/23 16:55:31] ppocr DEBUG: cls num  : 6, elapsed : 0.008015155792236328\n",
      "[2025/04/23 16:55:31] ppocr DEBUG: rec_res num  : 6, elapsed : 0.14883017539978027\n",
      "[2025/04/23 16:55:31] ppocr DEBUG: dt_boxes num : 0, elapsed : 0.013011693954467773\n",
      "[2025/04/23 16:55:31] ppocr DEBUG: cls num  : 0, elapsed : 0\n",
      "[2025/04/23 16:55:31] ppocr DEBUG: rec_res num  : 0, elapsed : 0.0\n",
      "\n",
      "0: 480x640 3 plates, 6.8ms\n",
      "Speed: 1.1ms preprocess, 6.8ms inference, 1.5ms postprocess per image at shape (1, 3, 480, 640)\n",
      "[2025/04/23 16:55:31] ppocr DEBUG: dt_boxes num : 2, elapsed : 0.010022878646850586\n",
      "[2025/04/23 16:55:31] ppocr DEBUG: cls num  : 2, elapsed : 0.005114555358886719\n",
      "[2025/04/23 16:55:31] ppocr DEBUG: rec_res num  : 2, elapsed : 0.08745837211608887\n",
      "[2025/04/23 16:55:31] ppocr DEBUG: dt_boxes num : 6, elapsed : 0.02212834358215332\n",
      "[2025/04/23 16:55:31] ppocr DEBUG: cls num  : 6, elapsed : 0.008508920669555664\n",
      "[2025/04/23 16:55:31] ppocr DEBUG: rec_res num  : 6, elapsed : 0.15208005905151367\n",
      "[2025/04/23 16:55:31] ppocr DEBUG: dt_boxes num : 0, elapsed : 0.04111909866333008\n",
      "[2025/04/23 16:55:31] ppocr DEBUG: cls num  : 0, elapsed : 0\n",
      "[2025/04/23 16:55:31] ppocr DEBUG: rec_res num  : 0, elapsed : 0.0\n",
      "\n",
      "0: 480x640 3 plates, 6.1ms\n",
      "Speed: 0.8ms preprocess, 6.1ms inference, 1.0ms postprocess per image at shape (1, 3, 480, 640)\n",
      "[2025/04/23 16:55:31] ppocr DEBUG: dt_boxes num : 2, elapsed : 0.010055065155029297\n",
      "[2025/04/23 16:55:31] ppocr DEBUG: cls num  : 2, elapsed : 0.00599980354309082\n",
      "[2025/04/23 16:55:32] ppocr DEBUG: rec_res num  : 2, elapsed : 0.0530850887298584\n",
      "[2025/04/23 16:55:32] ppocr DEBUG: dt_boxes num : 0, elapsed : 0.014819622039794922\n",
      "[2025/04/23 16:55:32] ppocr DEBUG: cls num  : 0, elapsed : 0\n",
      "[2025/04/23 16:55:32] ppocr DEBUG: rec_res num  : 0, elapsed : 0.0\n",
      "[2025/04/23 16:55:32] ppocr DEBUG: dt_boxes num : 7, elapsed : 0.02259540557861328\n",
      "[2025/04/23 16:55:32] ppocr DEBUG: cls num  : 7, elapsed : 0.03706002235412598\n",
      "[2025/04/23 16:55:32] ppocr DEBUG: rec_res num  : 7, elapsed : 0.21204185485839844\n",
      "\n",
      "0: 480x640 3 plates, 6.2ms\n",
      "Speed: 1.2ms preprocess, 6.2ms inference, 1.0ms postprocess per image at shape (1, 3, 480, 640)\n",
      "[2025/04/23 16:55:32] ppocr DEBUG: dt_boxes num : 0, elapsed : 0.012016773223876953\n",
      "[2025/04/23 16:55:32] ppocr DEBUG: cls num  : 0, elapsed : 0\n",
      "[2025/04/23 16:55:32] ppocr DEBUG: rec_res num  : 0, elapsed : 0.0\n",
      "[2025/04/23 16:55:32] ppocr DEBUG: dt_boxes num : 0, elapsed : 0.011522054672241211\n",
      "[2025/04/23 16:55:32] ppocr DEBUG: cls num  : 0, elapsed : 0\n",
      "[2025/04/23 16:55:32] ppocr DEBUG: rec_res num  : 0, elapsed : 0.0\n",
      "[2025/04/23 16:55:32] ppocr DEBUG: dt_boxes num : 6, elapsed : 0.02654719352722168\n",
      "[2025/04/23 16:55:32] ppocr DEBUG: cls num  : 6, elapsed : 0.0075109004974365234\n",
      "[2025/04/23 16:55:32] ppocr DEBUG: rec_res num  : 6, elapsed : 0.15262246131896973\n",
      "\n",
      "0: 480x640 3 plates, 9.2ms\n",
      "Speed: 1.5ms preprocess, 9.2ms inference, 1.3ms postprocess per image at shape (1, 3, 480, 640)\n",
      "[2025/04/23 16:55:32] ppocr DEBUG: dt_boxes num : 2, elapsed : 0.05448436737060547\n",
      "[2025/04/23 16:55:32] ppocr DEBUG: cls num  : 2, elapsed : 0.0050144195556640625\n",
      "[2025/04/23 16:55:32] ppocr DEBUG: rec_res num  : 2, elapsed : 0.05294919013977051\n",
      "[2025/04/23 16:55:32] ppocr DEBUG: dt_boxes num : 0, elapsed : 0.01502537727355957\n",
      "[2025/04/23 16:55:32] ppocr DEBUG: cls num  : 0, elapsed : 0\n",
      "[2025/04/23 16:55:32] ppocr DEBUG: rec_res num  : 0, elapsed : 0.0\n",
      "[2025/04/23 16:55:32] ppocr DEBUG: dt_boxes num : 7, elapsed : 0.02310800552368164\n",
      "[2025/04/23 16:55:32] ppocr DEBUG: cls num  : 7, elapsed : 0.03218960762023926\n",
      "[2025/04/23 16:55:32] ppocr DEBUG: rec_res num  : 7, elapsed : 0.2068324089050293\n",
      "\n",
      "0: 480x640 3 plates, 6.9ms\n",
      "Speed: 1.0ms preprocess, 6.9ms inference, 1.9ms postprocess per image at shape (1, 3, 480, 640)\n",
      "[2025/04/23 16:55:33] ppocr DEBUG: dt_boxes num : 2, elapsed : 0.010013103485107422\n",
      "[2025/04/23 16:55:33] ppocr DEBUG: cls num  : 2, elapsed : 0.0053730010986328125\n",
      "[2025/04/23 16:55:33] ppocr DEBUG: rec_res num  : 2, elapsed : 0.05610918998718262\n",
      "[2025/04/23 16:55:33] ppocr DEBUG: dt_boxes num : 0, elapsed : 0.0495908260345459\n",
      "[2025/04/23 16:55:33] ppocr DEBUG: cls num  : 0, elapsed : 0\n",
      "[2025/04/23 16:55:33] ppocr DEBUG: rec_res num  : 0, elapsed : 0.0\n",
      "[2025/04/23 16:55:33] ppocr DEBUG: dt_boxes num : 6, elapsed : 0.024424314498901367\n",
      "[2025/04/23 16:55:33] ppocr DEBUG: cls num  : 6, elapsed : 0.007014751434326172\n",
      "[2025/04/23 16:55:33] ppocr DEBUG: rec_res num  : 6, elapsed : 0.15381622314453125\n",
      "\n",
      "0: 480x640 3 plates, 6.0ms\n",
      "Speed: 0.9ms preprocess, 6.0ms inference, 1.6ms postprocess per image at shape (1, 3, 480, 640)\n",
      "[2025/04/23 16:55:33] ppocr DEBUG: dt_boxes num : 2, elapsed : 0.012748241424560547\n",
      "[2025/04/23 16:55:33] ppocr DEBUG: cls num  : 2, elapsed : 0.006517648696899414\n",
      "[2025/04/23 16:55:33] ppocr DEBUG: rec_res num  : 2, elapsed : 0.05344271659851074\n",
      "[2025/04/23 16:55:33] ppocr DEBUG: dt_boxes num : 0, elapsed : 0.014022350311279297\n",
      "[2025/04/23 16:55:33] ppocr DEBUG: cls num  : 0, elapsed : 0\n",
      "[2025/04/23 16:55:33] ppocr DEBUG: rec_res num  : 0, elapsed : 0.0\n",
      "[2025/04/23 16:55:33] ppocr DEBUG: dt_boxes num : 6, elapsed : 0.023272275924682617\n",
      "[2025/04/23 16:55:33] ppocr DEBUG: cls num  : 6, elapsed : 0.007506608963012695\n",
      "[2025/04/23 16:55:33] ppocr DEBUG: rec_res num  : 6, elapsed : 0.15225887298583984\n",
      "\n",
      "0: 480x640 3 plates, 7.3ms\n",
      "Speed: 1.3ms preprocess, 7.3ms inference, 1.4ms postprocess per image at shape (1, 3, 480, 640)\n",
      "[2025/04/23 16:55:33] ppocr DEBUG: dt_boxes num : 2, elapsed : 0.014027118682861328\n",
      "[2025/04/23 16:55:33] ppocr DEBUG: cls num  : 2, elapsed : 0.006509065628051758\n",
      "[2025/04/23 16:55:33] ppocr DEBUG: rec_res num  : 2, elapsed : 0.05705618858337402\n",
      "[2025/04/23 16:55:33] ppocr DEBUG: dt_boxes num : 0, elapsed : 0.013016939163208008\n",
      "[2025/04/23 16:55:33] ppocr DEBUG: cls num  : 0, elapsed : 0\n",
      "[2025/04/23 16:55:33] ppocr DEBUG: rec_res num  : 0, elapsed : 0.0\n",
      "[2025/04/23 16:55:33] ppocr DEBUG: dt_boxes num : 5, elapsed : 0.027554988861083984\n",
      "[2025/04/23 16:55:33] ppocr DEBUG: cls num  : 5, elapsed : 0.031076908111572266\n",
      "[2025/04/23 16:55:34] ppocr DEBUG: rec_res num  : 5, elapsed : 0.17714929580688477\n",
      "\n",
      "0: 480x640 3 plates, 9.2ms\n",
      "Speed: 1.4ms preprocess, 9.2ms inference, 1.6ms postprocess per image at shape (1, 3, 480, 640)\n",
      "[2025/04/23 16:55:34] ppocr DEBUG: dt_boxes num : 2, elapsed : 0.011334419250488281\n",
      "[2025/04/23 16:55:34] ppocr DEBUG: cls num  : 2, elapsed : 0.02879166603088379\n",
      "[2025/04/23 16:55:34] ppocr DEBUG: rec_res num  : 2, elapsed : 0.08949804306030273\n",
      "[2025/04/23 16:55:34] ppocr DEBUG: dt_boxes num : 0, elapsed : 0.041077613830566406\n",
      "[2025/04/23 16:55:34] ppocr DEBUG: cls num  : 0, elapsed : 0\n",
      "[2025/04/23 16:55:34] ppocr DEBUG: rec_res num  : 0, elapsed : 0.0\n",
      "[2025/04/23 16:55:34] ppocr DEBUG: dt_boxes num : 6, elapsed : 0.05762767791748047\n",
      "[2025/04/23 16:55:34] ppocr DEBUG: cls num  : 6, elapsed : 0.028092622756958008\n",
      "[2025/04/23 16:55:34] ppocr DEBUG: rec_res num  : 6, elapsed : 0.1931934356689453\n",
      "\n",
      "0: 480x640 3 plates, 8.2ms\n",
      "Speed: 1.5ms preprocess, 8.2ms inference, 1.5ms postprocess per image at shape (1, 3, 480, 640)\n",
      "[2025/04/23 16:55:34] ppocr DEBUG: dt_boxes num : 2, elapsed : 0.046590566635131836\n",
      "[2025/04/23 16:55:34] ppocr DEBUG: cls num  : 2, elapsed : 0.0067310333251953125\n",
      "[2025/04/23 16:55:34] ppocr DEBUG: rec_res num  : 2, elapsed : 0.05728268623352051\n",
      "[2025/04/23 16:55:34] ppocr DEBUG: dt_boxes num : 0, elapsed : 0.010999441146850586\n",
      "[2025/04/23 16:55:34] ppocr DEBUG: cls num  : 0, elapsed : 0\n",
      "[2025/04/23 16:55:34] ppocr DEBUG: rec_res num  : 0, elapsed : 0.0\n",
      "[2025/04/23 16:55:34] ppocr DEBUG: dt_boxes num : 6, elapsed : 0.023542404174804688\n",
      "[2025/04/23 16:55:34] ppocr DEBUG: cls num  : 6, elapsed : 0.010024070739746094\n",
      "[2025/04/23 16:55:34] ppocr DEBUG: rec_res num  : 6, elapsed : 0.15302729606628418\n",
      "\n",
      "0: 480x640 3 plates, 7.8ms\n",
      "Speed: 1.9ms preprocess, 7.8ms inference, 2.1ms postprocess per image at shape (1, 3, 480, 640)\n",
      "[2025/04/23 16:55:34] ppocr DEBUG: dt_boxes num : 2, elapsed : 0.015004634857177734\n",
      "[2025/04/23 16:55:34] ppocr DEBUG: cls num  : 2, elapsed : 0.0075070858001708984\n",
      "[2025/04/23 16:55:34] ppocr DEBUG: rec_res num  : 2, elapsed : 0.058606624603271484\n",
      "[2025/04/23 16:55:34] ppocr DEBUG: dt_boxes num : 0, elapsed : 0.015020608901977539\n",
      "[2025/04/23 16:55:34] ppocr DEBUG: cls num  : 0, elapsed : 0\n",
      "[2025/04/23 16:55:34] ppocr DEBUG: rec_res num  : 0, elapsed : 0.0\n",
      "[2025/04/23 16:55:35] ppocr DEBUG: dt_boxes num : 6, elapsed : 0.023049592971801758\n",
      "[2025/04/23 16:55:35] ppocr DEBUG: cls num  : 6, elapsed : 0.007018327713012695\n",
      "[2025/04/23 16:55:35] ppocr DEBUG: rec_res num  : 6, elapsed : 0.16291451454162598\n",
      "\n",
      "0: 480x640 3 plates, 5.9ms\n",
      "Speed: 0.7ms preprocess, 5.9ms inference, 1.5ms postprocess per image at shape (1, 3, 480, 640)\n",
      "[2025/04/23 16:55:35] ppocr DEBUG: dt_boxes num : 2, elapsed : 0.011520862579345703\n",
      "[2025/04/23 16:55:35] ppocr DEBUG: cls num  : 2, elapsed : 0.007020235061645508\n",
      "[2025/04/23 16:55:35] ppocr DEBUG: rec_res num  : 2, elapsed : 0.0517582893371582\n",
      "[2025/04/23 16:55:35] ppocr DEBUG: dt_boxes num : 0, elapsed : 0.01398468017578125\n",
      "[2025/04/23 16:55:35] ppocr DEBUG: cls num  : 0, elapsed : 0\n",
      "[2025/04/23 16:55:35] ppocr DEBUG: rec_res num  : 0, elapsed : 0.0\n",
      "[2025/04/23 16:55:35] ppocr DEBUG: dt_boxes num : 6, elapsed : 0.024016141891479492\n",
      "[2025/04/23 16:55:35] ppocr DEBUG: cls num  : 6, elapsed : 0.007966756820678711\n",
      "[2025/04/23 16:55:35] ppocr DEBUG: rec_res num  : 6, elapsed : 0.15405964851379395\n",
      "\n",
      "0: 480x640 3 plates, 6.7ms\n",
      "Speed: 1.0ms preprocess, 6.7ms inference, 0.9ms postprocess per image at shape (1, 3, 480, 640)\n",
      "[2025/04/23 16:55:35] ppocr DEBUG: dt_boxes num : 2, elapsed : 0.009743452072143555\n",
      "[2025/04/23 16:55:35] ppocr DEBUG: cls num  : 2, elapsed : 0.004879474639892578\n",
      "[2025/04/23 16:55:35] ppocr DEBUG: rec_res num  : 2, elapsed : 0.06128835678100586\n",
      "[2025/04/23 16:55:35] ppocr DEBUG: dt_boxes num : 0, elapsed : 0.012021064758300781\n",
      "[2025/04/23 16:55:35] ppocr DEBUG: cls num  : 0, elapsed : 0\n",
      "[2025/04/23 16:55:35] ppocr DEBUG: rec_res num  : 0, elapsed : 0.0\n",
      "[2025/04/23 16:55:35] ppocr DEBUG: dt_boxes num : 6, elapsed : 0.024624109268188477\n",
      "[2025/04/23 16:55:35] ppocr DEBUG: cls num  : 6, elapsed : 0.01152801513671875\n",
      "[2025/04/23 16:55:35] ppocr DEBUG: rec_res num  : 6, elapsed : 0.14655065536499023\n",
      "\n",
      "0: 480x640 3 plates, 8.2ms\n",
      "Speed: 0.9ms preprocess, 8.2ms inference, 1.3ms postprocess per image at shape (1, 3, 480, 640)\n",
      "[2025/04/23 16:55:35] ppocr DEBUG: dt_boxes num : 2, elapsed : 0.009086847305297852\n",
      "[2025/04/23 16:55:35] ppocr DEBUG: cls num  : 2, elapsed : 0.005514383316040039\n",
      "[2025/04/23 16:55:35] ppocr DEBUG: rec_res num  : 2, elapsed : 0.053620338439941406\n",
      "[2025/04/23 16:55:35] ppocr DEBUG: dt_boxes num : 0, elapsed : 0.013022184371948242\n",
      "[2025/04/23 16:55:35] ppocr DEBUG: cls num  : 0, elapsed : 0\n",
      "[2025/04/23 16:55:35] ppocr DEBUG: rec_res num  : 0, elapsed : 0.0\n",
      "[2025/04/23 16:55:35] ppocr DEBUG: dt_boxes num : 6, elapsed : 0.024561166763305664\n",
      "[2025/04/23 16:55:35] ppocr DEBUG: cls num  : 6, elapsed : 0.009782791137695312\n",
      "[2025/04/23 16:55:36] ppocr DEBUG: rec_res num  : 6, elapsed : 0.14789056777954102\n",
      "\n",
      "0: 480x640 3 plates, 7.0ms\n",
      "Speed: 1.1ms preprocess, 7.0ms inference, 1.1ms postprocess per image at shape (1, 3, 480, 640)\n",
      "[2025/04/23 16:55:36] ppocr DEBUG: dt_boxes num : 2, elapsed : 0.012024164199829102\n",
      "[2025/04/23 16:55:36] ppocr DEBUG: cls num  : 2, elapsed : 0.006061077117919922\n",
      "[2025/04/23 16:55:36] ppocr DEBUG: rec_res num  : 2, elapsed : 0.05461835861206055\n",
      "[2025/04/23 16:55:36] ppocr DEBUG: dt_boxes num : 0, elapsed : 0.013024091720581055\n",
      "[2025/04/23 16:55:36] ppocr DEBUG: cls num  : 0, elapsed : 0\n",
      "[2025/04/23 16:55:36] ppocr DEBUG: rec_res num  : 0, elapsed : 0.0\n",
      "[2025/04/23 16:55:36] ppocr DEBUG: dt_boxes num : 6, elapsed : 0.02201366424560547\n",
      "[2025/04/23 16:55:36] ppocr DEBUG: cls num  : 6, elapsed : 0.009516000747680664\n",
      "[2025/04/23 16:55:36] ppocr DEBUG: rec_res num  : 6, elapsed : 0.1493070125579834\n",
      "\n",
      "0: 480x640 3 plates, 6.6ms\n",
      "Speed: 0.9ms preprocess, 6.6ms inference, 1.1ms postprocess per image at shape (1, 3, 480, 640)\n",
      "[2025/04/23 16:55:36] ppocr DEBUG: dt_boxes num : 2, elapsed : 0.012014627456665039\n",
      "[2025/04/23 16:55:36] ppocr DEBUG: cls num  : 2, elapsed : 0.006514787673950195\n",
      "[2025/04/23 16:55:36] ppocr DEBUG: rec_res num  : 2, elapsed : 0.05497908592224121\n",
      "[2025/04/23 16:55:36] ppocr DEBUG: dt_boxes num : 0, elapsed : 0.012555599212646484\n",
      "[2025/04/23 16:55:36] ppocr DEBUG: cls num  : 0, elapsed : 0\n",
      "[2025/04/23 16:55:36] ppocr DEBUG: rec_res num  : 0, elapsed : 0.0\n",
      "[2025/04/23 16:55:36] ppocr DEBUG: dt_boxes num : 6, elapsed : 0.022557497024536133\n",
      "[2025/04/23 16:55:36] ppocr DEBUG: cls num  : 6, elapsed : 0.010019540786743164\n",
      "[2025/04/23 16:55:36] ppocr DEBUG: rec_res num  : 6, elapsed : 0.15517568588256836\n",
      "\n",
      "0: 480x640 3 plates, 6.8ms\n",
      "Speed: 0.9ms preprocess, 6.8ms inference, 1.1ms postprocess per image at shape (1, 3, 480, 640)\n",
      "[2025/04/23 16:55:36] ppocr DEBUG: dt_boxes num : 2, elapsed : 0.013025045394897461\n",
      "[2025/04/23 16:55:36] ppocr DEBUG: cls num  : 2, elapsed : 0.006018638610839844\n",
      "[2025/04/23 16:55:36] ppocr DEBUG: rec_res num  : 2, elapsed : 0.05905771255493164\n",
      "[2025/04/23 16:55:36] ppocr DEBUG: dt_boxes num : 0, elapsed : 0.011506795883178711\n",
      "[2025/04/23 16:55:36] ppocr DEBUG: cls num  : 0, elapsed : 0\n",
      "[2025/04/23 16:55:36] ppocr DEBUG: rec_res num  : 0, elapsed : 0.0\n",
      "[2025/04/23 16:55:36] ppocr DEBUG: dt_boxes num : 6, elapsed : 0.026099443435668945\n",
      "[2025/04/23 16:55:36] ppocr DEBUG: cls num  : 6, elapsed : 0.008018016815185547\n",
      "[2025/04/23 16:55:37] ppocr DEBUG: rec_res num  : 6, elapsed : 0.1483612060546875\n",
      "\n",
      "0: 480x640 4 plates, 5.8ms\n",
      "Speed: 0.9ms preprocess, 5.8ms inference, 1.5ms postprocess per image at shape (1, 3, 480, 640)\n",
      "[2025/04/23 16:55:37] ppocr DEBUG: dt_boxes num : 2, elapsed : 0.044271230697631836\n",
      "[2025/04/23 16:55:37] ppocr DEBUG: cls num  : 2, elapsed : 0.0060193538665771484\n",
      "[2025/04/23 16:55:37] ppocr DEBUG: rec_res num  : 2, elapsed : 0.05714774131774902\n",
      "[2025/04/23 16:55:37] ppocr DEBUG: dt_boxes num : 0, elapsed : 0.01152658462524414\n",
      "[2025/04/23 16:55:37] ppocr DEBUG: cls num  : 0, elapsed : 0\n",
      "[2025/04/23 16:55:37] ppocr DEBUG: rec_res num  : 0, elapsed : 0.0\n",
      "[2025/04/23 16:55:37] ppocr DEBUG: dt_boxes num : 6, elapsed : 0.06126999855041504\n",
      "[2025/04/23 16:55:37] ppocr DEBUG: cls num  : 6, elapsed : 0.007896661758422852\n",
      "[2025/04/23 16:55:37] ppocr DEBUG: rec_res num  : 6, elapsed : 0.1518247127532959\n",
      "[2025/04/23 16:55:37] ppocr DEBUG: dt_boxes num : 0, elapsed : 0.04481792449951172\n",
      "[2025/04/23 16:55:37] ppocr DEBUG: cls num  : 0, elapsed : 0\n",
      "[2025/04/23 16:55:37] ppocr DEBUG: rec_res num  : 0, elapsed : 0.0\n",
      "\n",
      "0: 480x640 3 plates, 7.4ms\n",
      "Speed: 1.1ms preprocess, 7.4ms inference, 1.7ms postprocess per image at shape (1, 3, 480, 640)\n",
      "[2025/04/23 16:55:37] ppocr DEBUG: dt_boxes num : 2, elapsed : 0.011019229888916016\n",
      "[2025/04/23 16:55:37] ppocr DEBUG: cls num  : 2, elapsed : 0.004511594772338867\n",
      "[2025/04/23 16:55:37] ppocr DEBUG: rec_res num  : 2, elapsed : 0.05511736869812012\n",
      "[2025/04/23 16:55:37] ppocr DEBUG: dt_boxes num : 0, elapsed : 0.011015892028808594\n",
      "[2025/04/23 16:55:37] ppocr DEBUG: cls num  : 0, elapsed : 0\n",
      "[2025/04/23 16:55:37] ppocr DEBUG: rec_res num  : 0, elapsed : 0.0\n",
      "[2025/04/23 16:55:37] ppocr DEBUG: dt_boxes num : 6, elapsed : 0.024833202362060547\n",
      "[2025/04/23 16:55:37] ppocr DEBUG: cls num  : 6, elapsed : 0.008716344833374023\n",
      "[2025/04/23 16:55:37] ppocr DEBUG: rec_res num  : 6, elapsed : 0.15116453170776367\n",
      "\n",
      "0: 480x640 4 plates, 8.2ms\n",
      "Speed: 0.9ms preprocess, 8.2ms inference, 1.5ms postprocess per image at shape (1, 3, 480, 640)\n",
      "[2025/04/23 16:55:37] ppocr DEBUG: dt_boxes num : 2, elapsed : 0.011024951934814453\n",
      "[2025/04/23 16:55:37] ppocr DEBUG: cls num  : 2, elapsed : 0.007025003433227539\n",
      "[2025/04/23 16:55:37] ppocr DEBUG: rec_res num  : 2, elapsed : 0.057626962661743164\n",
      "[2025/04/23 16:55:37] ppocr DEBUG: dt_boxes num : 0, elapsed : 0.010757684707641602\n",
      "[2025/04/23 16:55:37] ppocr DEBUG: cls num  : 0, elapsed : 0\n",
      "[2025/04/23 16:55:37] ppocr DEBUG: rec_res num  : 0, elapsed : 0.0\n",
      "[2025/04/23 16:55:37] ppocr DEBUG: dt_boxes num : 7, elapsed : 0.01999497413635254\n",
      "[2025/04/23 16:55:37] ppocr DEBUG: cls num  : 7, elapsed : 0.039175987243652344\n",
      "[2025/04/23 16:55:38] ppocr DEBUG: rec_res num  : 7, elapsed : 0.22204017639160156\n",
      "[2025/04/23 16:55:38] ppocr DEBUG: dt_boxes num : 0, elapsed : 0.010170698165893555\n",
      "[2025/04/23 16:55:38] ppocr DEBUG: cls num  : 0, elapsed : 0\n",
      "[2025/04/23 16:55:38] ppocr DEBUG: rec_res num  : 0, elapsed : 0.0\n",
      "\n",
      "0: 480x640 3 plates, 6.6ms\n",
      "Speed: 1.6ms preprocess, 6.6ms inference, 1.2ms postprocess per image at shape (1, 3, 480, 640)\n",
      "[2025/04/23 16:55:38] ppocr DEBUG: dt_boxes num : 2, elapsed : 0.008206844329833984\n",
      "[2025/04/23 16:55:38] ppocr DEBUG: cls num  : 2, elapsed : 0.03094005584716797\n",
      "[2025/04/23 16:55:38] ppocr DEBUG: rec_res num  : 2, elapsed : 0.09018445014953613\n",
      "[2025/04/23 16:55:38] ppocr DEBUG: dt_boxes num : 0, elapsed : 0.04160666465759277\n",
      "[2025/04/23 16:55:38] ppocr DEBUG: cls num  : 0, elapsed : 0\n",
      "[2025/04/23 16:55:38] ppocr DEBUG: rec_res num  : 0, elapsed : 0.0\n",
      "[2025/04/23 16:55:38] ppocr DEBUG: dt_boxes num : 6, elapsed : 0.029049396514892578\n",
      "[2025/04/23 16:55:38] ppocr DEBUG: cls num  : 6, elapsed : 0.027536392211914062\n",
      "[2025/04/23 16:55:38] ppocr DEBUG: rec_res num  : 6, elapsed : 0.3291471004486084\n",
      "\n",
      "0: 480x640 3 plates, 9.1ms\n",
      "Speed: 1.0ms preprocess, 9.1ms inference, 1.7ms postprocess per image at shape (1, 3, 480, 640)\n",
      "[2025/04/23 16:55:38] ppocr DEBUG: dt_boxes num : 2, elapsed : 0.01085805892944336\n",
      "[2025/04/23 16:55:38] ppocr DEBUG: cls num  : 2, elapsed : 0.006000041961669922\n",
      "[2025/04/23 16:55:38] ppocr DEBUG: rec_res num  : 2, elapsed : 0.055848121643066406\n",
      "[2025/04/23 16:55:38] ppocr DEBUG: dt_boxes num : 0, elapsed : 0.011522531509399414\n",
      "[2025/04/23 16:55:38] ppocr DEBUG: cls num  : 0, elapsed : 0\n",
      "[2025/04/23 16:55:38] ppocr DEBUG: rec_res num  : 0, elapsed : 0.0\n",
      "[2025/04/23 16:55:38] ppocr DEBUG: dt_boxes num : 6, elapsed : 0.020542144775390625\n",
      "[2025/04/23 16:55:38] ppocr DEBUG: cls num  : 6, elapsed : 0.010019302368164062\n",
      "[2025/04/23 16:55:39] ppocr DEBUG: rec_res num  : 6, elapsed : 0.18757128715515137\n",
      "\n",
      "0: 480x640 3 plates, 9.1ms\n",
      "Speed: 1.4ms preprocess, 9.1ms inference, 1.1ms postprocess per image at shape (1, 3, 480, 640)\n",
      "[2025/04/23 16:55:39] ppocr DEBUG: dt_boxes num : 2, elapsed : 0.03888440132141113\n",
      "[2025/04/23 16:55:39] ppocr DEBUG: cls num  : 2, elapsed : 0.006019115447998047\n",
      "[2025/04/23 16:55:39] ppocr DEBUG: rec_res num  : 2, elapsed : 0.05282115936279297\n",
      "[2025/04/23 16:55:39] ppocr DEBUG: dt_boxes num : 0, elapsed : 0.011021852493286133\n",
      "[2025/04/23 16:55:39] ppocr DEBUG: cls num  : 0, elapsed : 0\n",
      "[2025/04/23 16:55:39] ppocr DEBUG: rec_res num  : 0, elapsed : 0.0\n",
      "[2025/04/23 16:55:39] ppocr DEBUG: dt_boxes num : 6, elapsed : 0.021031856536865234\n",
      "[2025/04/23 16:55:39] ppocr DEBUG: cls num  : 6, elapsed : 0.009019851684570312\n",
      "[2025/04/23 16:55:39] ppocr DEBUG: rec_res num  : 6, elapsed : 0.1591181755065918\n",
      "\n",
      "0: 480x640 3 plates, 8.3ms\n",
      "Speed: 1.2ms preprocess, 8.3ms inference, 1.2ms postprocess per image at shape (1, 3, 480, 640)\n",
      "[2025/04/23 16:55:39] ppocr DEBUG: dt_boxes num : 2, elapsed : 0.011522531509399414\n",
      "[2025/04/23 16:55:39] ppocr DEBUG: cls num  : 2, elapsed : 0.008003950119018555\n",
      "[2025/04/23 16:55:39] ppocr DEBUG: rec_res num  : 2, elapsed : 0.055118560791015625\n",
      "[2025/04/23 16:55:39] ppocr DEBUG: dt_boxes num : 0, elapsed : 0.013856887817382812\n",
      "[2025/04/23 16:55:39] ppocr DEBUG: cls num  : 0, elapsed : 0\n",
      "[2025/04/23 16:55:39] ppocr DEBUG: rec_res num  : 0, elapsed : 0.0\n",
      "[2025/04/23 16:55:39] ppocr DEBUG: dt_boxes num : 6, elapsed : 0.023168325424194336\n",
      "[2025/04/23 16:55:39] ppocr DEBUG: cls num  : 6, elapsed : 0.006505250930786133\n",
      "[2025/04/23 16:55:39] ppocr DEBUG: rec_res num  : 6, elapsed : 0.2030479907989502\n",
      "\n",
      "0: 480x640 3 plates, 7.7ms\n",
      "Speed: 0.9ms preprocess, 7.7ms inference, 1.8ms postprocess per image at shape (1, 3, 480, 640)\n",
      "[2025/04/23 16:55:39] ppocr DEBUG: dt_boxes num : 2, elapsed : 0.012521743774414062\n",
      "[2025/04/23 16:55:39] ppocr DEBUG: cls num  : 2, elapsed : 0.007012128829956055\n",
      "[2025/04/23 16:55:39] ppocr DEBUG: rec_res num  : 2, elapsed : 0.06016683578491211\n",
      "[2025/04/23 16:55:39] ppocr DEBUG: dt_boxes num : 0, elapsed : 0.012716293334960938\n",
      "[2025/04/23 16:55:39] ppocr DEBUG: cls num  : 0, elapsed : 0\n",
      "[2025/04/23 16:55:39] ppocr DEBUG: rec_res num  : 0, elapsed : 0.0\n",
      "[2025/04/23 16:55:40] ppocr DEBUG: dt_boxes num : 6, elapsed : 0.02454209327697754\n",
      "[2025/04/23 16:55:40] ppocr DEBUG: cls num  : 6, elapsed : 0.010022878646850586\n",
      "[2025/04/23 16:55:40] ppocr DEBUG: rec_res num  : 6, elapsed : 0.16083097457885742\n",
      "\n",
      "0: 480x640 3 plates, 6.2ms\n",
      "Speed: 0.8ms preprocess, 6.2ms inference, 1.4ms postprocess per image at shape (1, 3, 480, 640)\n",
      "[2025/04/23 16:55:40] ppocr DEBUG: dt_boxes num : 2, elapsed : 0.011525630950927734\n",
      "[2025/04/23 16:55:40] ppocr DEBUG: cls num  : 2, elapsed : 0.007508039474487305\n",
      "[2025/04/23 16:55:40] ppocr DEBUG: rec_res num  : 2, elapsed : 0.059973955154418945\n",
      "[2025/04/23 16:55:40] ppocr DEBUG: dt_boxes num : 0, elapsed : 0.05040693283081055\n",
      "[2025/04/23 16:55:40] ppocr DEBUG: cls num  : 0, elapsed : 0\n",
      "[2025/04/23 16:55:40] ppocr DEBUG: rec_res num  : 0, elapsed : 0.0\n",
      "[2025/04/23 16:55:40] ppocr DEBUG: dt_boxes num : 6, elapsed : 0.02170109748840332\n",
      "[2025/04/23 16:55:40] ppocr DEBUG: cls num  : 6, elapsed : 0.010016679763793945\n",
      "[2025/04/23 16:55:40] ppocr DEBUG: rec_res num  : 6, elapsed : 0.17114996910095215\n",
      "\n",
      "0: 480x640 3 plates, 8.6ms\n",
      "Speed: 1.6ms preprocess, 8.6ms inference, 2.1ms postprocess per image at shape (1, 3, 480, 640)\n",
      "[2025/04/23 16:55:40] ppocr DEBUG: dt_boxes num : 2, elapsed : 0.015049457550048828\n",
      "[2025/04/23 16:55:40] ppocr DEBUG: cls num  : 2, elapsed : 0.010024547576904297\n",
      "[2025/04/23 16:55:40] ppocr DEBUG: rec_res num  : 2, elapsed : 0.0646219253540039\n",
      "[2025/04/23 16:55:40] ppocr DEBUG: dt_boxes num : 0, elapsed : 0.016527175903320312\n",
      "[2025/04/23 16:55:40] ppocr DEBUG: cls num  : 0, elapsed : 0\n",
      "[2025/04/23 16:55:40] ppocr DEBUG: rec_res num  : 0, elapsed : 0.0\n",
      "[2025/04/23 16:55:40] ppocr DEBUG: dt_boxes num : 6, elapsed : 0.026552438735961914\n",
      "[2025/04/23 16:55:40] ppocr DEBUG: cls num  : 6, elapsed : 0.013030052185058594\n",
      "[2025/04/23 16:55:40] ppocr DEBUG: rec_res num  : 6, elapsed : 0.16025447845458984\n",
      "\n",
      "0: 480x640 4 plates, 7.7ms\n",
      "Speed: 1.0ms preprocess, 7.7ms inference, 1.4ms postprocess per image at shape (1, 3, 480, 640)\n",
      "[2025/04/23 16:55:40] ppocr DEBUG: dt_boxes num : 2, elapsed : 0.013155937194824219\n",
      "[2025/04/23 16:55:40] ppocr DEBUG: cls num  : 2, elapsed : 0.005999326705932617\n",
      "[2025/04/23 16:55:41] ppocr DEBUG: rec_res num  : 2, elapsed : 0.06092190742492676\n",
      "[2025/04/23 16:55:41] ppocr DEBUG: dt_boxes num : 0, elapsed : 0.015026569366455078\n",
      "[2025/04/23 16:55:41] ppocr DEBUG: cls num  : 0, elapsed : 0\n",
      "[2025/04/23 16:55:41] ppocr DEBUG: rec_res num  : 0, elapsed : 0.0\n",
      "[2025/04/23 16:55:41] ppocr DEBUG: dt_boxes num : 6, elapsed : 0.025558948516845703\n",
      "[2025/04/23 16:55:41] ppocr DEBUG: cls num  : 6, elapsed : 0.009025096893310547\n",
      "[2025/04/23 16:55:41] ppocr DEBUG: rec_res num  : 6, elapsed : 0.1563427448272705\n",
      "[2025/04/23 16:55:41] ppocr DEBUG: dt_boxes num : 0, elapsed : 0.04071974754333496\n",
      "[2025/04/23 16:55:41] ppocr DEBUG: cls num  : 0, elapsed : 0\n",
      "[2025/04/23 16:55:41] ppocr DEBUG: rec_res num  : 0, elapsed : 0.0\n",
      "\n",
      "0: 480x640 3 plates, 7.7ms\n",
      "Speed: 1.2ms preprocess, 7.7ms inference, 1.6ms postprocess per image at shape (1, 3, 480, 640)\n",
      "[2025/04/23 16:55:41] ppocr DEBUG: dt_boxes num : 2, elapsed : 0.012018918991088867\n",
      "[2025/04/23 16:55:41] ppocr DEBUG: cls num  : 2, elapsed : 0.006514549255371094\n",
      "[2025/04/23 16:55:41] ppocr DEBUG: rec_res num  : 2, elapsed : 0.059142351150512695\n",
      "[2025/04/23 16:55:41] ppocr DEBUG: dt_boxes num : 0, elapsed : 0.016058683395385742\n",
      "[2025/04/23 16:55:41] ppocr DEBUG: cls num  : 0, elapsed : 0\n",
      "[2025/04/23 16:55:41] ppocr DEBUG: rec_res num  : 0, elapsed : 0.0\n",
      "[2025/04/23 16:55:41] ppocr DEBUG: dt_boxes num : 6, elapsed : 0.027993202209472656\n",
      "[2025/04/23 16:55:41] ppocr DEBUG: cls num  : 6, elapsed : 0.0070154666900634766\n",
      "[2025/04/23 16:55:41] ppocr DEBUG: rec_res num  : 6, elapsed : 0.1538078784942627\n",
      "\n",
      "0: 480x640 3 plates, 7.0ms\n",
      "Speed: 1.0ms preprocess, 7.0ms inference, 1.2ms postprocess per image at shape (1, 3, 480, 640)\n",
      "[2025/04/23 16:55:41] ppocr DEBUG: dt_boxes num : 2, elapsed : 0.008672475814819336\n",
      "[2025/04/23 16:55:41] ppocr DEBUG: cls num  : 2, elapsed : 0.024070262908935547\n",
      "[2025/04/23 16:55:41] ppocr DEBUG: rec_res num  : 2, elapsed : 0.09643340110778809\n",
      "[2025/04/23 16:55:41] ppocr DEBUG: dt_boxes num : 0, elapsed : 0.011021614074707031\n",
      "[2025/04/23 16:55:41] ppocr DEBUG: cls num  : 0, elapsed : 0\n",
      "[2025/04/23 16:55:41] ppocr DEBUG: rec_res num  : 0, elapsed : 0.0\n",
      "[2025/04/23 16:55:41] ppocr DEBUG: dt_boxes num : 6, elapsed : 0.021328449249267578\n",
      "[2025/04/23 16:55:41] ppocr DEBUG: cls num  : 6, elapsed : 0.0075054168701171875\n",
      "[2025/04/23 16:55:41] ppocr DEBUG: rec_res num  : 6, elapsed : 0.14800119400024414\n",
      "\n",
      "0: 480x640 3 plates, 6.3ms\n",
      "Speed: 1.0ms preprocess, 6.3ms inference, 1.5ms postprocess per image at shape (1, 3, 480, 640)\n",
      "[2025/04/23 16:55:42] ppocr DEBUG: dt_boxes num : 0, elapsed : 0.04007720947265625\n",
      "[2025/04/23 16:55:42] ppocr DEBUG: cls num  : 0, elapsed : 0\n",
      "[2025/04/23 16:55:42] ppocr DEBUG: rec_res num  : 0, elapsed : 0.0\n",
      "[2025/04/23 16:55:42] ppocr DEBUG: dt_boxes num : 2, elapsed : 0.045588016510009766\n",
      "[2025/04/23 16:55:42] ppocr DEBUG: cls num  : 2, elapsed : 0.005509376525878906\n",
      "[2025/04/23 16:55:42] ppocr DEBUG: rec_res num  : 2, elapsed : 0.05602669715881348\n",
      "[2025/04/23 16:55:42] ppocr DEBUG: dt_boxes num : 6, elapsed : 0.0609431266784668\n",
      "[2025/04/23 16:55:42] ppocr DEBUG: cls num  : 6, elapsed : 0.03197002410888672\n",
      "[2025/04/23 16:55:42] ppocr DEBUG: rec_res num  : 6, elapsed : 0.1864910125732422\n",
      "\n",
      "0: 480x640 4 plates, 7.4ms\n",
      "Speed: 1.1ms preprocess, 7.4ms inference, 1.6ms postprocess per image at shape (1, 3, 480, 640)\n",
      "[2025/04/23 16:55:42] ppocr DEBUG: dt_boxes num : 2, elapsed : 0.043324947357177734\n",
      "[2025/04/23 16:55:42] ppocr DEBUG: cls num  : 2, elapsed : 0.005004405975341797\n",
      "[2025/04/23 16:55:42] ppocr DEBUG: rec_res num  : 2, elapsed : 0.05350327491760254\n",
      "[2025/04/23 16:55:42] ppocr DEBUG: dt_boxes num : 0, elapsed : 0.012046575546264648\n",
      "[2025/04/23 16:55:42] ppocr DEBUG: cls num  : 0, elapsed : 0\n",
      "[2025/04/23 16:55:42] ppocr DEBUG: rec_res num  : 0, elapsed : 0.0\n",
      "[2025/04/23 16:55:42] ppocr DEBUG: dt_boxes num : 2, elapsed : 0.05151677131652832\n",
      "[2025/04/23 16:55:42] ppocr DEBUG: cls num  : 2, elapsed : 0.0055103302001953125\n",
      "[2025/04/23 16:55:42] ppocr DEBUG: rec_res num  : 2, elapsed : 0.05785512924194336\n",
      "[2025/04/23 16:55:42] ppocr DEBUG: dt_boxes num : 5, elapsed : 0.022948503494262695\n",
      "[2025/04/23 16:55:42] ppocr DEBUG: cls num  : 5, elapsed : 0.031156301498413086\n",
      "[2025/04/23 16:55:42] ppocr DEBUG: rec_res num  : 5, elapsed : 0.1714639663696289\n",
      "\n",
      "0: 480x640 4 plates, 6.9ms\n",
      "Speed: 1.0ms preprocess, 6.9ms inference, 1.5ms postprocess per image at shape (1, 3, 480, 640)\n",
      "[2025/04/23 16:55:42] ppocr DEBUG: dt_boxes num : 2, elapsed : 0.008541107177734375\n",
      "[2025/04/23 16:55:42] ppocr DEBUG: cls num  : 2, elapsed : 0.028106212615966797\n",
      "[2025/04/23 16:55:43] ppocr DEBUG: rec_res num  : 2, elapsed : 0.08167481422424316\n",
      "[2025/04/23 16:55:43] ppocr DEBUG: dt_boxes num : 0, elapsed : 0.05092310905456543\n",
      "[2025/04/23 16:55:43] ppocr DEBUG: cls num  : 0, elapsed : 0\n",
      "[2025/04/23 16:55:43] ppocr DEBUG: rec_res num  : 0, elapsed : 0.0\n",
      "[2025/04/23 16:55:43] ppocr DEBUG: dt_boxes num : 6, elapsed : 0.026978254318237305\n",
      "[2025/04/23 16:55:43] ppocr DEBUG: cls num  : 6, elapsed : 0.009015798568725586\n",
      "[2025/04/23 16:55:43] ppocr DEBUG: rec_res num  : 6, elapsed : 0.1483466625213623\n",
      "[2025/04/23 16:55:43] ppocr DEBUG: dt_boxes num : 2, elapsed : 0.007889032363891602\n",
      "[2025/04/23 16:55:43] ppocr DEBUG: cls num  : 2, elapsed : 0.006505489349365234\n",
      "[2025/04/23 16:55:43] ppocr DEBUG: rec_res num  : 2, elapsed : 0.05415916442871094\n",
      "\n",
      "0: 480x640 3 plates, 8.0ms\n",
      "Speed: 1.2ms preprocess, 8.0ms inference, 1.8ms postprocess per image at shape (1, 3, 480, 640)\n",
      "[2025/04/23 16:55:43] ppocr DEBUG: dt_boxes num : 2, elapsed : 0.04880642890930176\n",
      "[2025/04/23 16:55:43] ppocr DEBUG: cls num  : 2, elapsed : 0.0056760311126708984\n",
      "[2025/04/23 16:55:43] ppocr DEBUG: rec_res num  : 2, elapsed : 0.05412697792053223\n",
      "[2025/04/23 16:55:43] ppocr DEBUG: dt_boxes num : 0, elapsed : 0.038388967514038086\n",
      "[2025/04/23 16:55:43] ppocr DEBUG: cls num  : 0, elapsed : 0\n",
      "[2025/04/23 16:55:43] ppocr DEBUG: rec_res num  : 0, elapsed : 0.0\n",
      "[2025/04/23 16:55:43] ppocr DEBUG: dt_boxes num : 6, elapsed : 0.05647683143615723\n",
      "[2025/04/23 16:55:43] ppocr DEBUG: cls num  : 6, elapsed : 0.028397321701049805\n",
      "[2025/04/23 16:55:43] ppocr DEBUG: rec_res num  : 6, elapsed : 0.17960810661315918\n",
      "\n",
      "0: 480x640 3 plates, 7.1ms\n",
      "Speed: 0.9ms preprocess, 7.1ms inference, 1.4ms postprocess per image at shape (1, 3, 480, 640)\n",
      "[2025/04/23 16:55:43] ppocr DEBUG: dt_boxes num : 2, elapsed : 0.010138750076293945\n",
      "[2025/04/23 16:55:43] ppocr DEBUG: cls num  : 2, elapsed : 0.007735729217529297\n",
      "[2025/04/23 16:55:43] ppocr DEBUG: rec_res num  : 2, elapsed : 0.05475759506225586\n",
      "[2025/04/23 16:55:43] ppocr DEBUG: dt_boxes num : 0, elapsed : 0.013018369674682617\n",
      "[2025/04/23 16:55:43] ppocr DEBUG: cls num  : 0, elapsed : 0\n",
      "[2025/04/23 16:55:43] ppocr DEBUG: rec_res num  : 0, elapsed : 0.0\n",
      "[2025/04/23 16:55:43] ppocr DEBUG: dt_boxes num : 6, elapsed : 0.02355337142944336\n",
      "[2025/04/23 16:55:43] ppocr DEBUG: cls num  : 6, elapsed : 0.008021116256713867\n",
      "[2025/04/23 16:55:44] ppocr DEBUG: rec_res num  : 6, elapsed : 0.14487361907958984\n",
      "\n",
      "0: 480x640 3 plates, 6.7ms\n",
      "Speed: 1.1ms preprocess, 6.7ms inference, 1.1ms postprocess per image at shape (1, 3, 480, 640)\n",
      "[2025/04/23 16:55:44] ppocr DEBUG: dt_boxes num : 2, elapsed : 0.009089946746826172\n",
      "[2025/04/23 16:55:44] ppocr DEBUG: cls num  : 2, elapsed : 0.006020784378051758\n",
      "[2025/04/23 16:55:44] ppocr DEBUG: rec_res num  : 2, elapsed : 0.05322074890136719\n",
      "[2025/04/23 16:55:44] ppocr DEBUG: dt_boxes num : 0, elapsed : 0.014646530151367188\n",
      "[2025/04/23 16:55:44] ppocr DEBUG: cls num  : 0, elapsed : 0\n",
      "[2025/04/23 16:55:44] ppocr DEBUG: rec_res num  : 0, elapsed : 0.0\n",
      "[2025/04/23 16:55:44] ppocr DEBUG: dt_boxes num : 7, elapsed : 0.027064800262451172\n",
      "[2025/04/23 16:55:44] ppocr DEBUG: cls num  : 7, elapsed : 0.03510403633117676\n",
      "[2025/04/23 16:55:44] ppocr DEBUG: rec_res num  : 7, elapsed : 0.22445273399353027\n",
      "\n",
      "0: 480x640 3 plates, 7.9ms\n",
      "Speed: 1.5ms preprocess, 7.9ms inference, 1.9ms postprocess per image at shape (1, 3, 480, 640)\n",
      "[2025/04/23 16:55:44] ppocr DEBUG: dt_boxes num : 2, elapsed : 0.04859113693237305\n",
      "[2025/04/23 16:55:44] ppocr DEBUG: cls num  : 2, elapsed : 0.02504587173461914\n",
      "[2025/04/23 16:55:44] ppocr DEBUG: rec_res num  : 2, elapsed : 0.09291887283325195\n",
      "[2025/04/23 16:55:44] ppocr DEBUG: dt_boxes num : 0, elapsed : 0.011014223098754883\n",
      "[2025/04/23 16:55:44] ppocr DEBUG: cls num  : 0, elapsed : 0\n",
      "[2025/04/23 16:55:44] ppocr DEBUG: rec_res num  : 0, elapsed : 0.0\n",
      "[2025/04/23 16:55:44] ppocr DEBUG: dt_boxes num : 2, elapsed : 0.008017301559448242\n",
      "[2025/04/23 16:55:44] ppocr DEBUG: cls num  : 2, elapsed : 0.008764982223510742\n",
      "[2025/04/23 16:55:44] ppocr DEBUG: rec_res num  : 2, elapsed : 0.0563664436340332\n",
      "\n",
      "0: 480x640 3 plates, 6.7ms\n",
      "Speed: 1.2ms preprocess, 6.7ms inference, 1.4ms postprocess per image at shape (1, 3, 480, 640)\n",
      "[2025/04/23 16:55:44] ppocr DEBUG: dt_boxes num : 2, elapsed : 0.009019136428833008\n",
      "[2025/04/23 16:55:44] ppocr DEBUG: cls num  : 2, elapsed : 0.010030984878540039\n",
      "[2025/04/23 16:55:44] ppocr DEBUG: rec_res num  : 2, elapsed : 0.05116415023803711\n",
      "[2025/04/23 16:55:44] ppocr DEBUG: dt_boxes num : 0, elapsed : 0.012080907821655273\n",
      "[2025/04/23 16:55:44] ppocr DEBUG: cls num  : 0, elapsed : 0\n",
      "[2025/04/23 16:55:44] ppocr DEBUG: rec_res num  : 0, elapsed : 0.0\n",
      "[2025/04/23 16:55:44] ppocr DEBUG: dt_boxes num : 1, elapsed : 0.04208946228027344\n",
      "[2025/04/23 16:55:44] ppocr DEBUG: cls num  : 1, elapsed : 0.004509449005126953\n",
      "[2025/04/23 16:55:45] ppocr DEBUG: rec_res num  : 1, elapsed : 0.03297162055969238\n",
      "\n",
      "0: 480x640 3 plates, 8.5ms\n",
      "Speed: 1.0ms preprocess, 8.5ms inference, 1.2ms postprocess per image at shape (1, 3, 480, 640)\n",
      "[2025/04/23 16:55:45] ppocr DEBUG: dt_boxes num : 2, elapsed : 0.010065078735351562\n",
      "[2025/04/23 16:55:45] ppocr DEBUG: cls num  : 2, elapsed : 0.005508899688720703\n",
      "[2025/04/23 16:55:45] ppocr DEBUG: rec_res num  : 2, elapsed : 0.053627729415893555\n",
      "[2025/04/23 16:55:45] ppocr DEBUG: dt_boxes num : 0, elapsed : 0.017056941986083984\n",
      "[2025/04/23 16:55:45] ppocr DEBUG: cls num  : 0, elapsed : 0\n",
      "[2025/04/23 16:55:45] ppocr DEBUG: rec_res num  : 0, elapsed : 0.0\n",
      "[2025/04/23 16:55:45] ppocr DEBUG: dt_boxes num : 2, elapsed : 0.009511709213256836\n",
      "[2025/04/23 16:55:45] ppocr DEBUG: cls num  : 2, elapsed : 0.005509138107299805\n",
      "[2025/04/23 16:55:45] ppocr DEBUG: rec_res num  : 2, elapsed : 0.05909013748168945\n",
      "\n",
      "0: 480x640 4 plates, 6.0ms\n",
      "Speed: 0.9ms preprocess, 6.0ms inference, 1.1ms postprocess per image at shape (1, 3, 480, 640)\n",
      "[2025/04/23 16:55:45] ppocr DEBUG: dt_boxes num : 2, elapsed : 0.00901341438293457\n",
      "[2025/04/23 16:55:45] ppocr DEBUG: cls num  : 2, elapsed : 0.008020877838134766\n",
      "[2025/04/23 16:55:45] ppocr DEBUG: rec_res num  : 2, elapsed : 0.05323457717895508\n",
      "[2025/04/23 16:55:45] ppocr DEBUG: dt_boxes num : 0, elapsed : 0.046091556549072266\n",
      "[2025/04/23 16:55:45] ppocr DEBUG: cls num  : 0, elapsed : 0\n",
      "[2025/04/23 16:55:45] ppocr DEBUG: rec_res num  : 0, elapsed : 0.0\n",
      "[2025/04/23 16:55:45] ppocr DEBUG: dt_boxes num : 2, elapsed : 0.034482717514038086\n",
      "[2025/04/23 16:55:45] ppocr DEBUG: cls num  : 2, elapsed : 0.005272865295410156\n",
      "[2025/04/23 16:55:45] ppocr DEBUG: rec_res num  : 2, elapsed : 0.05583930015563965\n",
      "[2025/04/23 16:55:45] ppocr DEBUG: dt_boxes num : 6, elapsed : 0.05727076530456543\n",
      "[2025/04/23 16:55:45] ppocr DEBUG: cls num  : 6, elapsed : 0.03186202049255371\n",
      "[2025/04/23 16:55:45] ppocr DEBUG: rec_res num  : 6, elapsed : 0.18259882926940918\n",
      "\n",
      "0: 480x640 4 plates, 8.3ms\n",
      "Speed: 1.0ms preprocess, 8.3ms inference, 1.6ms postprocess per image at shape (1, 3, 480, 640)\n",
      "[2025/04/23 16:55:45] ppocr DEBUG: dt_boxes num : 2, elapsed : 0.011178731918334961\n",
      "[2025/04/23 16:55:45] ppocr DEBUG: cls num  : 2, elapsed : 0.004999876022338867\n",
      "[2025/04/23 16:55:45] ppocr DEBUG: rec_res num  : 2, elapsed : 0.057212114334106445\n",
      "[2025/04/23 16:55:45] ppocr DEBUG: dt_boxes num : 0, elapsed : 0.01101231575012207\n",
      "[2025/04/23 16:55:45] ppocr DEBUG: cls num  : 0, elapsed : 0\n",
      "[2025/04/23 16:55:45] ppocr DEBUG: rec_res num  : 0, elapsed : 0.0\n",
      "[2025/04/23 16:55:45] ppocr DEBUG: dt_boxes num : 2, elapsed : 0.011136293411254883\n",
      "[2025/04/23 16:55:45] ppocr DEBUG: cls num  : 2, elapsed : 0.007509946823120117\n",
      "[2025/04/23 16:55:45] ppocr DEBUG: rec_res num  : 2, elapsed : 0.05871701240539551\n",
      "[2025/04/23 16:55:46] ppocr DEBUG: dt_boxes num : 6, elapsed : 0.055620431900024414\n",
      "[2025/04/23 16:55:46] ppocr DEBUG: cls num  : 6, elapsed : 0.011225461959838867\n",
      "[2025/04/23 16:55:46] ppocr DEBUG: rec_res num  : 6, elapsed : 0.14668703079223633\n",
      "\n",
      "0: 480x640 3 plates, 8.3ms\n",
      "Speed: 0.9ms preprocess, 8.3ms inference, 1.2ms postprocess per image at shape (1, 3, 480, 640)\n",
      "[2025/04/23 16:55:46] ppocr DEBUG: dt_boxes num : 2, elapsed : 0.008508443832397461\n",
      "[2025/04/23 16:55:46] ppocr DEBUG: cls num  : 2, elapsed : 0.00599980354309082\n",
      "[2025/04/23 16:55:46] ppocr DEBUG: rec_res num  : 2, elapsed : 0.05413532257080078\n",
      "[2025/04/23 16:55:46] ppocr DEBUG: dt_boxes num : 0, elapsed : 0.046596527099609375\n",
      "[2025/04/23 16:55:46] ppocr DEBUG: cls num  : 0, elapsed : 0\n",
      "[2025/04/23 16:55:46] ppocr DEBUG: rec_res num  : 0, elapsed : 0.0\n",
      "[2025/04/23 16:55:46] ppocr DEBUG: dt_boxes num : 2, elapsed : 0.01051473617553711\n",
      "[2025/04/23 16:55:46] ppocr DEBUG: cls num  : 2, elapsed : 0.005503416061401367\n",
      "[2025/04/23 16:55:46] ppocr DEBUG: rec_res num  : 2, elapsed : 0.05778837203979492\n",
      "\n",
      "0: 480x640 2 plates, 7.3ms\n",
      "Speed: 1.0ms preprocess, 7.3ms inference, 1.2ms postprocess per image at shape (1, 3, 480, 640)\n",
      "[2025/04/23 16:55:46] ppocr DEBUG: dt_boxes num : 2, elapsed : 0.040091753005981445\n",
      "[2025/04/23 16:55:46] ppocr DEBUG: cls num  : 2, elapsed : 0.006118059158325195\n",
      "[2025/04/23 16:55:46] ppocr DEBUG: rec_res num  : 2, elapsed : 0.059148550033569336\n",
      "[2025/04/23 16:55:46] ppocr DEBUG: dt_boxes num : 0, elapsed : 0.012672901153564453\n",
      "[2025/04/23 16:55:46] ppocr DEBUG: cls num  : 0, elapsed : 0\n",
      "[2025/04/23 16:55:46] ppocr DEBUG: rec_res num  : 0, elapsed : 0.0\n",
      "\n",
      "0: 480x640 3 plates, 6.7ms\n",
      "Speed: 1.1ms preprocess, 6.7ms inference, 1.5ms postprocess per image at shape (1, 3, 480, 640)\n",
      "[2025/04/23 16:55:46] ppocr DEBUG: dt_boxes num : 2, elapsed : 0.009627580642700195\n",
      "[2025/04/23 16:55:46] ppocr DEBUG: cls num  : 2, elapsed : 0.00627899169921875\n",
      "[2025/04/23 16:55:46] ppocr DEBUG: rec_res num  : 2, elapsed : 0.05617547035217285\n",
      "[2025/04/23 16:55:46] ppocr DEBUG: dt_boxes num : 0, elapsed : 0.013674020767211914\n",
      "[2025/04/23 16:55:46] ppocr DEBUG: cls num  : 0, elapsed : 0\n",
      "[2025/04/23 16:55:46] ppocr DEBUG: rec_res num  : 0, elapsed : 0.0\n",
      "[2025/04/23 16:55:46] ppocr DEBUG: dt_boxes num : 2, elapsed : 0.010016679763793945\n",
      "[2025/04/23 16:55:46] ppocr DEBUG: cls num  : 2, elapsed : 0.007173299789428711\n",
      "[2025/04/23 16:55:46] ppocr DEBUG: rec_res num  : 2, elapsed : 0.05963850021362305\n",
      "\n",
      "0: 480x640 3 plates, 6.6ms\n",
      "Speed: 1.0ms preprocess, 6.6ms inference, 2.0ms postprocess per image at shape (1, 3, 480, 640)\n",
      "[2025/04/23 16:55:46] ppocr DEBUG: dt_boxes num : 2, elapsed : 0.012024879455566406\n",
      "[2025/04/23 16:55:46] ppocr DEBUG: cls num  : 2, elapsed : 0.0055065155029296875\n",
      "[2025/04/23 16:55:46] ppocr DEBUG: rec_res num  : 2, elapsed : 0.05729341506958008\n",
      "[2025/04/23 16:55:46] ppocr DEBUG: dt_boxes num : 0, elapsed : 0.015534639358520508\n",
      "[2025/04/23 16:55:46] ppocr DEBUG: cls num  : 0, elapsed : 0\n",
      "[2025/04/23 16:55:46] ppocr DEBUG: rec_res num  : 0, elapsed : 0.0\n",
      "[2025/04/23 16:55:46] ppocr DEBUG: dt_boxes num : 6, elapsed : 0.0300600528717041\n",
      "[2025/04/23 16:55:46] ppocr DEBUG: cls num  : 6, elapsed : 0.009093046188354492\n",
      "[2025/04/23 16:55:47] ppocr DEBUG: rec_res num  : 6, elapsed : 0.15278267860412598\n",
      "\n",
      "0: 480x640 2 plates, 7.0ms\n",
      "Speed: 0.8ms preprocess, 7.0ms inference, 1.6ms postprocess per image at shape (1, 3, 480, 640)\n",
      "[2025/04/23 16:55:47] ppocr DEBUG: dt_boxes num : 2, elapsed : 0.009020805358886719\n",
      "[2025/04/23 16:55:47] ppocr DEBUG: cls num  : 2, elapsed : 0.02713751792907715\n",
      "[2025/04/23 16:55:47] ppocr DEBUG: rec_res num  : 2, elapsed : 0.08449697494506836\n",
      "[2025/04/23 16:55:47] ppocr DEBUG: dt_boxes num : 0, elapsed : 0.012021064758300781\n",
      "[2025/04/23 16:55:47] ppocr DEBUG: cls num  : 0, elapsed : 0\n",
      "[2025/04/23 16:55:47] ppocr DEBUG: rec_res num  : 0, elapsed : 0.0\n",
      "\n",
      "0: 480x640 3 plates, 7.6ms\n",
      "Speed: 1.1ms preprocess, 7.6ms inference, 1.7ms postprocess per image at shape (1, 3, 480, 640)\n",
      "[2025/04/23 16:55:47] ppocr DEBUG: dt_boxes num : 2, elapsed : 0.01051187515258789\n",
      "[2025/04/23 16:55:47] ppocr DEBUG: cls num  : 2, elapsed : 0.005004405975341797\n",
      "[2025/04/23 16:55:47] ppocr DEBUG: rec_res num  : 2, elapsed : 0.05529189109802246\n",
      "[2025/04/23 16:55:47] ppocr DEBUG: dt_boxes num : 0, elapsed : 0.011087179183959961\n",
      "[2025/04/23 16:55:47] ppocr DEBUG: cls num  : 0, elapsed : 0\n",
      "[2025/04/23 16:55:47] ppocr DEBUG: rec_res num  : 0, elapsed : 0.0\n",
      "[2025/04/23 16:55:47] ppocr DEBUG: dt_boxes num : 2, elapsed : 0.013006448745727539\n",
      "[2025/04/23 16:55:47] ppocr DEBUG: cls num  : 2, elapsed : 0.0060024261474609375\n",
      "[2025/04/23 16:55:47] ppocr DEBUG: rec_res num  : 2, elapsed : 0.05260348320007324\n",
      "\n",
      "0: 480x640 3 plates, 6.8ms\n",
      "Speed: 1.8ms preprocess, 6.8ms inference, 1.5ms postprocess per image at shape (1, 3, 480, 640)\n",
      "[2025/04/23 16:55:47] ppocr DEBUG: dt_boxes num : 2, elapsed : 0.011043071746826172\n",
      "[2025/04/23 16:55:47] ppocr DEBUG: cls num  : 2, elapsed : 0.0060918331146240234\n",
      "[2025/04/23 16:55:47] ppocr DEBUG: rec_res num  : 2, elapsed : 0.056702613830566406\n",
      "[2025/04/23 16:55:47] ppocr DEBUG: dt_boxes num : 0, elapsed : 0.013037681579589844\n",
      "[2025/04/23 16:55:47] ppocr DEBUG: cls num  : 0, elapsed : 0\n",
      "[2025/04/23 16:55:47] ppocr DEBUG: rec_res num  : 0, elapsed : 0.0\n",
      "[2025/04/23 16:55:47] ppocr DEBUG: dt_boxes num : 2, elapsed : 0.012088775634765625\n",
      "[2025/04/23 16:55:47] ppocr DEBUG: cls num  : 2, elapsed : 0.004992485046386719\n",
      "[2025/04/23 16:55:47] ppocr DEBUG: rec_res num  : 2, elapsed : 0.054138898849487305\n",
      "\n",
      "0: 480x640 3 plates, 7.5ms\n",
      "Speed: 1.1ms preprocess, 7.5ms inference, 1.4ms postprocess per image at shape (1, 3, 480, 640)\n",
      "[2025/04/23 16:55:47] ppocr DEBUG: dt_boxes num : 2, elapsed : 0.012871503829956055\n",
      "[2025/04/23 16:55:47] ppocr DEBUG: cls num  : 2, elapsed : 0.005512237548828125\n",
      "[2025/04/23 16:55:47] ppocr DEBUG: rec_res num  : 2, elapsed : 0.05933189392089844\n",
      "[2025/04/23 16:55:47] ppocr DEBUG: dt_boxes num : 0, elapsed : 0.012015581130981445\n",
      "[2025/04/23 16:55:47] ppocr DEBUG: cls num  : 0, elapsed : 0\n",
      "[2025/04/23 16:55:47] ppocr DEBUG: rec_res num  : 0, elapsed : 0.0\n",
      "[2025/04/23 16:55:47] ppocr DEBUG: dt_boxes num : 2, elapsed : 0.01001882553100586\n",
      "[2025/04/23 16:55:47] ppocr DEBUG: cls num  : 2, elapsed : 0.0055119991302490234\n",
      "[2025/04/23 16:55:47] ppocr DEBUG: rec_res num  : 2, elapsed : 0.05452895164489746\n",
      "\n",
      "0: 480x640 3 plates, 8.1ms\n",
      "Speed: 0.9ms preprocess, 8.1ms inference, 1.7ms postprocess per image at shape (1, 3, 480, 640)\n",
      "[2025/04/23 16:55:47] ppocr DEBUG: dt_boxes num : 2, elapsed : 0.012033462524414062\n",
      "[2025/04/23 16:55:47] ppocr DEBUG: cls num  : 2, elapsed : 0.005506277084350586\n",
      "[2025/04/23 16:55:47] ppocr DEBUG: rec_res num  : 2, elapsed : 0.0546107292175293\n",
      "[2025/04/23 16:55:47] ppocr DEBUG: dt_boxes num : 0, elapsed : 0.013139963150024414\n",
      "[2025/04/23 16:55:47] ppocr DEBUG: cls num  : 0, elapsed : 0\n",
      "[2025/04/23 16:55:47] ppocr DEBUG: rec_res num  : 0, elapsed : 0.0\n",
      "[2025/04/23 16:55:47] ppocr DEBUG: dt_boxes num : 2, elapsed : 0.010920524597167969\n",
      "[2025/04/23 16:55:47] ppocr DEBUG: cls num  : 2, elapsed : 0.006515979766845703\n",
      "[2025/04/23 16:55:48] ppocr DEBUG: rec_res num  : 2, elapsed : 0.056738853454589844\n",
      "\n",
      "0: 480x640 3 plates, 8.5ms\n",
      "Speed: 0.9ms preprocess, 8.5ms inference, 1.6ms postprocess per image at shape (1, 3, 480, 640)\n",
      "[2025/04/23 16:55:48] ppocr DEBUG: dt_boxes num : 2, elapsed : 0.01424551010131836\n",
      "[2025/04/23 16:55:48] ppocr DEBUG: cls num  : 2, elapsed : 0.007094621658325195\n",
      "[2025/04/23 16:55:48] ppocr DEBUG: rec_res num  : 2, elapsed : 0.061856985092163086\n",
      "[2025/04/23 16:55:48] ppocr DEBUG: dt_boxes num : 0, elapsed : 0.01401829719543457\n",
      "[2025/04/23 16:55:48] ppocr DEBUG: cls num  : 0, elapsed : 0\n",
      "[2025/04/23 16:55:48] ppocr DEBUG: rec_res num  : 0, elapsed : 0.0\n",
      "[2025/04/23 16:55:48] ppocr DEBUG: dt_boxes num : 1, elapsed : 0.051657915115356445\n",
      "[2025/04/23 16:55:48] ppocr DEBUG: cls num  : 1, elapsed : 0.031197071075439453\n",
      "[2025/04/23 16:55:48] ppocr DEBUG: rec_res num  : 1, elapsed : 0.07803773880004883\n",
      "\n",
      "0: 480x640 3 plates, 7.7ms\n",
      "Speed: 1.4ms preprocess, 7.7ms inference, 1.0ms postprocess per image at shape (1, 3, 480, 640)\n",
      "[2025/04/23 16:55:48] ppocr DEBUG: dt_boxes num : 1, elapsed : 0.039930105209350586\n",
      "[2025/04/23 16:55:48] ppocr DEBUG: cls num  : 1, elapsed : 0.004004240036010742\n",
      "[2025/04/23 16:55:48] ppocr DEBUG: rec_res num  : 1, elapsed : 0.030074357986450195\n",
      "[2025/04/23 16:55:48] ppocr DEBUG: dt_boxes num : 0, elapsed : 0.0429530143737793\n",
      "[2025/04/23 16:55:48] ppocr DEBUG: cls num  : 0, elapsed : 0\n",
      "[2025/04/23 16:55:48] ppocr DEBUG: rec_res num  : 0, elapsed : 0.0\n",
      "[2025/04/23 16:55:48] ppocr DEBUG: dt_boxes num : 5, elapsed : 0.06984853744506836\n",
      "[2025/04/23 16:55:48] ppocr DEBUG: cls num  : 5, elapsed : 0.03362250328063965\n",
      "[2025/04/23 16:55:48] ppocr DEBUG: rec_res num  : 5, elapsed : 0.17238450050354004\n",
      "\n",
      "0: 480x640 4 plates, 6.1ms\n",
      "Speed: 1.2ms preprocess, 6.1ms inference, 1.2ms postprocess per image at shape (1, 3, 480, 640)\n",
      "[2025/04/23 16:55:48] ppocr DEBUG: dt_boxes num : 2, elapsed : 0.008510589599609375\n",
      "[2025/04/23 16:55:48] ppocr DEBUG: cls num  : 2, elapsed : 0.03006267547607422\n",
      "[2025/04/23 16:55:48] ppocr DEBUG: rec_res num  : 2, elapsed : 0.05682373046875\n",
      "[2025/04/23 16:55:48] ppocr DEBUG: dt_boxes num : 2, elapsed : 0.044585227966308594\n",
      "[2025/04/23 16:55:48] ppocr DEBUG: cls num  : 2, elapsed : 0.0039997100830078125\n",
      "[2025/04/23 16:55:49] ppocr DEBUG: rec_res num  : 2, elapsed : 0.08652138710021973\n",
      "[2025/04/23 16:55:49] ppocr DEBUG: dt_boxes num : 0, elapsed : 0.04611849784851074\n",
      "[2025/04/23 16:55:49] ppocr DEBUG: cls num  : 0, elapsed : 0\n",
      "[2025/04/23 16:55:49] ppocr DEBUG: rec_res num  : 0, elapsed : 0.0\n",
      "[2025/04/23 16:55:49] ppocr DEBUG: dt_boxes num : 6, elapsed : 0.06508016586303711\n",
      "[2025/04/23 16:55:49] ppocr DEBUG: cls num  : 6, elapsed : 0.0297849178314209\n",
      "[2025/04/23 16:55:49] ppocr DEBUG: rec_res num  : 6, elapsed : 0.19303178787231445\n",
      "\n",
      "0: 480x640 4 plates, 8.2ms\n",
      "Speed: 0.9ms preprocess, 8.2ms inference, 1.2ms postprocess per image at shape (1, 3, 480, 640)\n",
      "[2025/04/23 16:55:49] ppocr DEBUG: dt_boxes num : 2, elapsed : 0.04394268989562988\n",
      "[2025/04/23 16:55:49] ppocr DEBUG: cls num  : 2, elapsed : 0.0060977935791015625\n",
      "[2025/04/23 16:55:49] ppocr DEBUG: rec_res num  : 2, elapsed : 0.049944400787353516\n",
      "[2025/04/23 16:55:49] ppocr DEBUG: dt_boxes num : 2, elapsed : 0.040380239486694336\n",
      "[2025/04/23 16:55:49] ppocr DEBUG: cls num  : 2, elapsed : 0.006035566329956055\n",
      "[2025/04/23 16:55:49] ppocr DEBUG: rec_res num  : 2, elapsed : 0.05865359306335449\n",
      "[2025/04/23 16:55:49] ppocr DEBUG: dt_boxes num : 0, elapsed : 0.014025211334228516\n",
      "[2025/04/23 16:55:49] ppocr DEBUG: cls num  : 0, elapsed : 0\n",
      "[2025/04/23 16:55:49] ppocr DEBUG: rec_res num  : 0, elapsed : 0.0\n",
      "[2025/04/23 16:55:49] ppocr DEBUG: dt_boxes num : 6, elapsed : 0.0577392578125\n",
      "[2025/04/23 16:55:49] ppocr DEBUG: cls num  : 6, elapsed : 0.014060020446777344\n",
      "[2025/04/23 16:55:49] ppocr DEBUG: rec_res num  : 6, elapsed : 0.1448965072631836\n",
      "\n",
      "0: 480x640 4 plates, 7.0ms\n",
      "Speed: 1.3ms preprocess, 7.0ms inference, 0.9ms postprocess per image at shape (1, 3, 480, 640)\n",
      "[2025/04/23 16:55:49] ppocr DEBUG: dt_boxes num : 5, elapsed : 0.027086734771728516\n",
      "[2025/04/23 16:55:49] ppocr DEBUG: cls num  : 5, elapsed : 0.03360414505004883\n",
      "[2025/04/23 16:55:50] ppocr DEBUG: rec_res num  : 5, elapsed : 0.1745152473449707\n",
      "[2025/04/23 16:55:50] ppocr DEBUG: dt_boxes num : 2, elapsed : 0.039710283279418945\n",
      "[2025/04/23 16:55:50] ppocr DEBUG: cls num  : 2, elapsed : 0.02404475212097168\n",
      "[2025/04/23 16:55:50] ppocr DEBUG: rec_res num  : 2, elapsed : 0.08995270729064941\n",
      "[2025/04/23 16:55:50] ppocr DEBUG: dt_boxes num : 0, elapsed : 0.03999972343444824\n",
      "[2025/04/23 16:55:50] ppocr DEBUG: cls num  : 0, elapsed : 0\n",
      "[2025/04/23 16:55:50] ppocr DEBUG: rec_res num  : 0, elapsed : 0.0\n",
      "[2025/04/23 16:55:50] ppocr DEBUG: dt_boxes num : 2, elapsed : 0.007515907287597656\n",
      "[2025/04/23 16:55:50] ppocr DEBUG: cls num  : 2, elapsed : 0.005071401596069336\n",
      "[2025/04/23 16:55:50] ppocr DEBUG: rec_res num  : 2, elapsed : 0.04906749725341797\n",
      "\n",
      "0: 480x640 4 plates, 6.7ms\n",
      "Speed: 1.3ms preprocess, 6.7ms inference, 1.6ms postprocess per image at shape (1, 3, 480, 640)\n",
      "[2025/04/23 16:55:50] ppocr DEBUG: dt_boxes num : 2, elapsed : 0.008511066436767578\n",
      "[2025/04/23 16:55:50] ppocr DEBUG: cls num  : 2, elapsed : 0.008231401443481445\n",
      "[2025/04/23 16:55:50] ppocr DEBUG: rec_res num  : 2, elapsed : 0.05510401725769043\n",
      "[2025/04/23 16:55:50] ppocr DEBUG: dt_boxes num : 2, elapsed : 0.009028434753417969\n",
      "[2025/04/23 16:55:50] ppocr DEBUG: cls num  : 2, elapsed : 0.006020784378051758\n",
      "[2025/04/23 16:55:50] ppocr DEBUG: rec_res num  : 2, elapsed : 0.049115657806396484\n",
      "[2025/04/23 16:55:50] ppocr DEBUG: dt_boxes num : 6, elapsed : 0.06512618064880371\n",
      "[2025/04/23 16:55:50] ppocr DEBUG: cls num  : 6, elapsed : 0.010015487670898438\n",
      "[2025/04/23 16:55:50] ppocr DEBUG: rec_res num  : 6, elapsed : 0.18327045440673828\n",
      "[2025/04/23 16:55:50] ppocr DEBUG: dt_boxes num : 0, elapsed : 0.04560112953186035\n",
      "[2025/04/23 16:55:50] ppocr DEBUG: cls num  : 0, elapsed : 0\n",
      "[2025/04/23 16:55:50] ppocr DEBUG: rec_res num  : 0, elapsed : 0.0\n",
      "\n",
      "0: 480x640 4 plates, 6.2ms\n",
      "Speed: 1.2ms preprocess, 6.2ms inference, 1.0ms postprocess per image at shape (1, 3, 480, 640)\n",
      "[2025/04/23 16:55:50] ppocr DEBUG: dt_boxes num : 2, elapsed : 0.03637385368347168\n",
      "[2025/04/23 16:55:50] ppocr DEBUG: cls num  : 2, elapsed : 0.007015228271484375\n",
      "[2025/04/23 16:55:50] ppocr DEBUG: rec_res num  : 2, elapsed : 0.05444526672363281\n",
      "[2025/04/23 16:55:51] ppocr DEBUG: dt_boxes num : 0, elapsed : 0.04462718963623047\n",
      "[2025/04/23 16:55:51] ppocr DEBUG: cls num  : 0, elapsed : 0\n",
      "[2025/04/23 16:55:51] ppocr DEBUG: rec_res num  : 0, elapsed : 0.0\n",
      "[2025/04/23 16:55:51] ppocr DEBUG: dt_boxes num : 2, elapsed : 0.00752568244934082\n",
      "[2025/04/23 16:55:51] ppocr DEBUG: cls num  : 2, elapsed : 0.005513429641723633\n",
      "[2025/04/23 16:55:51] ppocr DEBUG: rec_res num  : 2, elapsed : 0.05933690071105957\n",
      "[2025/04/23 16:55:51] ppocr DEBUG: dt_boxes num : 6, elapsed : 0.06513524055480957\n",
      "[2025/04/23 16:55:51] ppocr DEBUG: cls num  : 6, elapsed : 0.026053667068481445\n",
      "[2025/04/23 16:55:51] ppocr DEBUG: rec_res num  : 6, elapsed : 0.15193533897399902\n",
      "\n",
      "0: 480x640 4 plates, 6.4ms\n",
      "Speed: 1.4ms preprocess, 6.4ms inference, 1.2ms postprocess per image at shape (1, 3, 480, 640)\n",
      "[2025/04/23 16:55:51] ppocr DEBUG: dt_boxes num : 2, elapsed : 0.00875711441040039\n",
      "[2025/04/23 16:55:51] ppocr DEBUG: cls num  : 2, elapsed : 0.005511760711669922\n",
      "[2025/04/23 16:55:51] ppocr DEBUG: rec_res num  : 2, elapsed : 0.052071571350097656\n",
      "[2025/04/23 16:55:51] ppocr DEBUG: dt_boxes num : 2, elapsed : 0.04209136962890625\n",
      "[2025/04/23 16:55:51] ppocr DEBUG: cls num  : 2, elapsed : 0.025061368942260742\n",
      "[2025/04/23 16:55:51] ppocr DEBUG: rec_res num  : 2, elapsed : 0.08884906768798828\n",
      "[2025/04/23 16:55:51] ppocr DEBUG: dt_boxes num : 5, elapsed : 0.02406787872314453\n",
      "[2025/04/23 16:55:51] ppocr DEBUG: cls num  : 5, elapsed : 0.033830881118774414\n",
      "[2025/04/23 16:55:51] ppocr DEBUG: rec_res num  : 5, elapsed : 0.17797517776489258\n",
      "[2025/04/23 16:55:51] ppocr DEBUG: dt_boxes num : 0, elapsed : 0.015015363693237305\n",
      "[2025/04/23 16:55:51] ppocr DEBUG: cls num  : 0, elapsed : 0\n",
      "[2025/04/23 16:55:51] ppocr DEBUG: rec_res num  : 0, elapsed : 0.0\n",
      "\n",
      "0: 480x640 4 plates, 6.3ms\n",
      "Speed: 1.4ms preprocess, 6.3ms inference, 1.2ms postprocess per image at shape (1, 3, 480, 640)\n",
      "[2025/04/23 16:55:51] ppocr DEBUG: dt_boxes num : 2, elapsed : 0.038683414459228516\n",
      "[2025/04/23 16:55:51] ppocr DEBUG: cls num  : 2, elapsed : 0.005504131317138672\n",
      "[2025/04/23 16:55:52] ppocr DEBUG: rec_res num  : 2, elapsed : 0.05267953872680664\n",
      "[2025/04/23 16:55:52] ppocr DEBUG: dt_boxes num : 2, elapsed : 0.009795665740966797\n",
      "[2025/04/23 16:55:52] ppocr DEBUG: cls num  : 2, elapsed : 0.007042646408081055\n",
      "[2025/04/23 16:55:52] ppocr DEBUG: rec_res num  : 2, elapsed : 0.04530668258666992\n",
      "[2025/04/23 16:55:52] ppocr DEBUG: dt_boxes num : 6, elapsed : 0.0585634708404541\n",
      "[2025/04/23 16:55:52] ppocr DEBUG: cls num  : 6, elapsed : 0.008506059646606445\n",
      "[2025/04/23 16:55:52] ppocr DEBUG: rec_res num  : 6, elapsed : 0.180633544921875\n",
      "[2025/04/23 16:55:52] ppocr DEBUG: dt_boxes num : 0, elapsed : 0.0366973876953125\n",
      "[2025/04/23 16:55:52] ppocr DEBUG: cls num  : 0, elapsed : 0\n",
      "[2025/04/23 16:55:52] ppocr DEBUG: rec_res num  : 0, elapsed : 0.0\n",
      "\n",
      "0: 480x640 4 plates, 6.9ms\n",
      "Speed: 1.8ms preprocess, 6.9ms inference, 1.0ms postprocess per image at shape (1, 3, 480, 640)\n",
      "[2025/04/23 16:55:52] ppocr DEBUG: dt_boxes num : 2, elapsed : 0.007052421569824219\n",
      "[2025/04/23 16:55:52] ppocr DEBUG: cls num  : 2, elapsed : 0.007048606872558594\n",
      "[2025/04/23 16:55:52] ppocr DEBUG: rec_res num  : 2, elapsed : 0.05524802207946777\n",
      "[2025/04/23 16:55:52] ppocr DEBUG: dt_boxes num : 2, elapsed : 0.03557753562927246\n",
      "[2025/04/23 16:55:52] ppocr DEBUG: cls num  : 2, elapsed : 0.004998922348022461\n",
      "[2025/04/23 16:55:52] ppocr DEBUG: rec_res num  : 2, elapsed : 0.05533862113952637\n",
      "[2025/04/23 16:55:52] ppocr DEBUG: dt_boxes num : 0, elapsed : 0.04164886474609375\n",
      "[2025/04/23 16:55:52] ppocr DEBUG: cls num  : 0, elapsed : 0\n",
      "[2025/04/23 16:55:52] ppocr DEBUG: rec_res num  : 0, elapsed : 0.0\n",
      "[2025/04/23 16:55:52] ppocr DEBUG: dt_boxes num : 6, elapsed : 0.06114006042480469\n",
      "[2025/04/23 16:55:52] ppocr DEBUG: cls num  : 6, elapsed : 0.024575471878051758\n",
      "[2025/04/23 16:55:52] ppocr DEBUG: rec_res num  : 6, elapsed : 0.14981555938720703\n",
      "\n",
      "0: 480x640 4 plates, 6.4ms\n",
      "Speed: 0.9ms preprocess, 6.4ms inference, 1.3ms postprocess per image at shape (1, 3, 480, 640)\n",
      "[2025/04/23 16:55:52] ppocr DEBUG: dt_boxes num : 2, elapsed : 0.009012937545776367\n",
      "[2025/04/23 16:55:52] ppocr DEBUG: cls num  : 2, elapsed : 0.005509853363037109\n",
      "[2025/04/23 16:55:52] ppocr DEBUG: rec_res num  : 2, elapsed : 0.05466103553771973\n",
      "[2025/04/23 16:55:52] ppocr DEBUG: dt_boxes num : 2, elapsed : 0.008027315139770508\n",
      "[2025/04/23 16:55:52] ppocr DEBUG: cls num  : 2, elapsed : 0.0070209503173828125\n",
      "[2025/04/23 16:55:53] ppocr DEBUG: rec_res num  : 2, elapsed : 0.05386209487915039\n",
      "[2025/04/23 16:55:53] ppocr DEBUG: dt_boxes num : 0, elapsed : 0.03606605529785156\n",
      "[2025/04/23 16:55:53] ppocr DEBUG: cls num  : 0, elapsed : 0\n",
      "[2025/04/23 16:55:53] ppocr DEBUG: rec_res num  : 0, elapsed : 0.0\n",
      "[2025/04/23 16:55:53] ppocr DEBUG: dt_boxes num : 7, elapsed : 0.07322049140930176\n",
      "[2025/04/23 16:55:53] ppocr DEBUG: cls num  : 7, elapsed : 0.03904366493225098\n",
      "[2025/04/23 16:55:53] ppocr DEBUG: rec_res num  : 7, elapsed : 0.21983718872070312\n",
      "\n",
      "0: 480x640 3 plates, 7.6ms\n",
      "Speed: 1.2ms preprocess, 7.6ms inference, 1.6ms postprocess per image at shape (1, 3, 480, 640)\n",
      "[2025/04/23 16:55:53] ppocr DEBUG: dt_boxes num : 2, elapsed : 0.010024547576904297\n",
      "[2025/04/23 16:55:53] ppocr DEBUG: cls num  : 2, elapsed : 0.03310132026672363\n",
      "[2025/04/23 16:55:53] ppocr DEBUG: rec_res num  : 2, elapsed : 0.09273886680603027\n",
      "[2025/04/23 16:55:53] ppocr DEBUG: dt_boxes num : 0, elapsed : 0.043978214263916016\n",
      "[2025/04/23 16:55:53] ppocr DEBUG: cls num  : 0, elapsed : 0\n",
      "[2025/04/23 16:55:53] ppocr DEBUG: rec_res num  : 0, elapsed : 0.0\n",
      "[2025/04/23 16:55:53] ppocr DEBUG: dt_boxes num : 6, elapsed : 0.027550935745239258\n",
      "[2025/04/23 16:55:53] ppocr DEBUG: cls num  : 6, elapsed : 0.007962703704833984\n",
      "[2025/04/23 16:55:53] ppocr DEBUG: rec_res num  : 6, elapsed : 0.18680357933044434\n",
      "\n",
      "0: 480x640 4 plates, 6.7ms\n",
      "Speed: 1.0ms preprocess, 6.7ms inference, 1.0ms postprocess per image at shape (1, 3, 480, 640)\n",
      "[2025/04/23 16:55:53] ppocr DEBUG: dt_boxes num : 2, elapsed : 0.03272652626037598\n",
      "[2025/04/23 16:55:53] ppocr DEBUG: cls num  : 2, elapsed : 0.005002498626708984\n",
      "[2025/04/23 16:55:53] ppocr DEBUG: rec_res num  : 2, elapsed : 0.058699607849121094\n",
      "[2025/04/23 16:55:53] ppocr DEBUG: dt_boxes num : 0, elapsed : 0.012530326843261719\n",
      "[2025/04/23 16:55:53] ppocr DEBUG: cls num  : 0, elapsed : 0\n",
      "[2025/04/23 16:55:53] ppocr DEBUG: rec_res num  : 0, elapsed : 0.0\n",
      "[2025/04/23 16:55:54] ppocr DEBUG: dt_boxes num : 6, elapsed : 0.06380558013916016\n",
      "[2025/04/23 16:55:54] ppocr DEBUG: cls num  : 6, elapsed : 0.02420330047607422\n",
      "[2025/04/23 16:55:54] ppocr DEBUG: rec_res num  : 6, elapsed : 0.15459275245666504\n",
      "[2025/04/23 16:55:54] ppocr DEBUG: dt_boxes num : 2, elapsed : 0.03823065757751465\n",
      "[2025/04/23 16:55:54] ppocr DEBUG: cls num  : 2, elapsed : 0.0070018768310546875\n",
      "[2025/04/23 16:55:54] ppocr DEBUG: rec_res num  : 2, elapsed : 0.05110001564025879\n",
      "\n",
      "0: 480x640 4 plates, 8.6ms\n",
      "Speed: 1.3ms preprocess, 8.6ms inference, 1.1ms postprocess per image at shape (1, 3, 480, 640)\n",
      "[2025/04/23 16:55:54] ppocr DEBUG: dt_boxes num : 2, elapsed : 0.006999015808105469\n",
      "[2025/04/23 16:55:54] ppocr DEBUG: cls num  : 2, elapsed : 0.005866527557373047\n",
      "[2025/04/23 16:55:54] ppocr DEBUG: rec_res num  : 2, elapsed : 0.04980635643005371\n",
      "[2025/04/23 16:55:54] ppocr DEBUG: dt_boxes num : 2, elapsed : 0.03607344627380371\n",
      "[2025/04/23 16:55:54] ppocr DEBUG: cls num  : 2, elapsed : 0.004996061325073242\n",
      "[2025/04/23 16:55:54] ppocr DEBUG: rec_res num  : 2, elapsed : 0.05579948425292969\n",
      "[2025/04/23 16:55:54] ppocr DEBUG: dt_boxes num : 0, elapsed : 0.037876129150390625\n",
      "[2025/04/23 16:55:54] ppocr DEBUG: cls num  : 0, elapsed : 0\n",
      "[2025/04/23 16:55:54] ppocr DEBUG: rec_res num  : 0, elapsed : 0.0\n",
      "[2025/04/23 16:55:54] ppocr DEBUG: dt_boxes num : 4, elapsed : 0.02180171012878418\n",
      "[2025/04/23 16:55:54] ppocr DEBUG: cls num  : 4, elapsed : 0.028549909591674805\n",
      "[2025/04/23 16:55:54] ppocr DEBUG: rec_res num  : 4, elapsed : 0.15035486221313477\n",
      "\n",
      "0: 480x640 4 plates, 7.8ms\n",
      "Speed: 1.3ms preprocess, 7.8ms inference, 1.6ms postprocess per image at shape (1, 3, 480, 640)\n",
      "[2025/04/23 16:55:54] ppocr DEBUG: dt_boxes num : 2, elapsed : 0.009019851684570312\n",
      "[2025/04/23 16:55:54] ppocr DEBUG: cls num  : 2, elapsed : 0.029071331024169922\n",
      "[2025/04/23 16:55:54] ppocr DEBUG: rec_res num  : 2, elapsed : 0.09120464324951172\n",
      "[2025/04/23 16:55:54] ppocr DEBUG: dt_boxes num : 3, elapsed : 0.0077741146087646484\n",
      "[2025/04/23 16:55:54] ppocr DEBUG: cls num  : 3, elapsed : 0.031581878662109375\n",
      "[2025/04/23 16:55:55] ppocr DEBUG: rec_res num  : 3, elapsed : 0.12137794494628906\n",
      "[2025/04/23 16:55:55] ppocr DEBUG: dt_boxes num : 0, elapsed : 0.045114994049072266\n",
      "[2025/04/23 16:55:55] ppocr DEBUG: cls num  : 0, elapsed : 0\n",
      "[2025/04/23 16:55:55] ppocr DEBUG: rec_res num  : 0, elapsed : 0.0\n",
      "[2025/04/23 16:55:55] ppocr DEBUG: dt_boxes num : 6, elapsed : 0.06987977027893066\n",
      "[2025/04/23 16:55:55] ppocr DEBUG: cls num  : 6, elapsed : 0.035633087158203125\n",
      "[2025/04/23 16:55:55] ppocr DEBUG: rec_res num  : 6, elapsed : 0.20628666877746582\n",
      "\n",
      "0: 480x640 4 plates, 7.8ms\n",
      "Speed: 1.2ms preprocess, 7.8ms inference, 3.0ms postprocess per image at shape (1, 3, 480, 640)\n",
      "[2025/04/23 16:55:55] ppocr DEBUG: dt_boxes num : 2, elapsed : 0.03658556938171387\n",
      "[2025/04/23 16:55:55] ppocr DEBUG: cls num  : 2, elapsed : 0.0055086612701416016\n",
      "[2025/04/23 16:55:55] ppocr DEBUG: rec_res num  : 2, elapsed : 0.057621002197265625\n",
      "[2025/04/23 16:55:55] ppocr DEBUG: dt_boxes num : 0, elapsed : 0.011536598205566406\n",
      "[2025/04/23 16:55:55] ppocr DEBUG: cls num  : 0, elapsed : 0\n",
      "[2025/04/23 16:55:55] ppocr DEBUG: rec_res num  : 0, elapsed : 0.0\n",
      "[2025/04/23 16:55:55] ppocr DEBUG: dt_boxes num : 5, elapsed : 0.026134729385375977\n",
      "[2025/04/23 16:55:55] ppocr DEBUG: cls num  : 5, elapsed : 0.03512120246887207\n",
      "[2025/04/23 16:55:55] ppocr DEBUG: rec_res num  : 5, elapsed : 0.17609000205993652\n",
      "[2025/04/23 16:55:55] ppocr DEBUG: dt_boxes num : 3, elapsed : 0.010022401809692383\n",
      "[2025/04/23 16:55:55] ppocr DEBUG: cls num  : 3, elapsed : 0.009023666381835938\n",
      "[2025/04/23 16:55:55] ppocr DEBUG: rec_res num  : 3, elapsed : 0.07614016532897949\n",
      "\n",
      "0: 480x640 4 plates, 6.7ms\n",
      "Speed: 1.2ms preprocess, 6.7ms inference, 1.0ms postprocess per image at shape (1, 3, 480, 640)\n",
      "[2025/04/23 16:55:56] ppocr DEBUG: dt_boxes num : 2, elapsed : 0.048598527908325195\n",
      "[2025/04/23 16:55:56] ppocr DEBUG: cls num  : 2, elapsed : 0.02556133270263672\n",
      "[2025/04/23 16:55:56] ppocr DEBUG: rec_res num  : 2, elapsed : 0.08903336524963379\n",
      "[2025/04/23 16:55:56] ppocr DEBUG: dt_boxes num : 2, elapsed : 0.007016420364379883\n",
      "[2025/04/23 16:55:56] ppocr DEBUG: cls num  : 2, elapsed : 0.005018472671508789\n",
      "[2025/04/23 16:55:56] ppocr DEBUG: rec_res num  : 2, elapsed : 0.05690622329711914\n",
      "[2025/04/23 16:55:56] ppocr DEBUG: dt_boxes num : 0, elapsed : 0.01504969596862793\n",
      "[2025/04/23 16:55:56] ppocr DEBUG: cls num  : 0, elapsed : 0\n",
      "[2025/04/23 16:55:56] ppocr DEBUG: rec_res num  : 0, elapsed : 0.0\n",
      "[2025/04/23 16:55:56] ppocr DEBUG: dt_boxes num : 5, elapsed : 0.02635478973388672\n",
      "[2025/04/23 16:55:56] ppocr DEBUG: cls num  : 5, elapsed : 0.007506370544433594\n",
      "[2025/04/23 16:55:56] ppocr DEBUG: rec_res num  : 5, elapsed : 0.12000274658203125\n",
      "\n",
      "0: 480x640 4 plates, 6.2ms\n",
      "Speed: 1.4ms preprocess, 6.2ms inference, 0.9ms postprocess per image at shape (1, 3, 480, 640)\n",
      "[2025/04/23 16:55:56] ppocr DEBUG: dt_boxes num : 2, elapsed : 0.007017850875854492\n",
      "[2025/04/23 16:55:56] ppocr DEBUG: cls num  : 2, elapsed : 0.005510091781616211\n",
      "[2025/04/23 16:55:56] ppocr DEBUG: rec_res num  : 2, elapsed : 0.05730319023132324\n",
      "[2025/04/23 16:55:56] ppocr DEBUG: dt_boxes num : 2, elapsed : 0.008509635925292969\n",
      "[2025/04/23 16:55:56] ppocr DEBUG: cls num  : 2, elapsed : 0.004511594772338867\n",
      "[2025/04/23 16:55:56] ppocr DEBUG: rec_res num  : 2, elapsed : 0.05211925506591797\n",
      "[2025/04/23 16:55:56] ppocr DEBUG: dt_boxes num : 0, elapsed : 0.04542088508605957\n",
      "[2025/04/23 16:55:56] ppocr DEBUG: cls num  : 0, elapsed : 0\n",
      "[2025/04/23 16:55:56] ppocr DEBUG: rec_res num  : 0, elapsed : 0.0\n",
      "[2025/04/23 16:55:56] ppocr DEBUG: dt_boxes num : 6, elapsed : 0.021544933319091797\n",
      "[2025/04/23 16:55:56] ppocr DEBUG: cls num  : 6, elapsed : 0.009012460708618164\n",
      "[2025/04/23 16:55:56] ppocr DEBUG: rec_res num  : 6, elapsed : 0.15664148330688477\n",
      "\n",
      "0: 480x640 4 plates, 7.9ms\n",
      "Speed: 0.9ms preprocess, 7.9ms inference, 1.5ms postprocess per image at shape (1, 3, 480, 640)\n",
      "[2025/04/23 16:55:56] ppocr DEBUG: dt_boxes num : 0, elapsed : 0.04406237602233887\n",
      "[2025/04/23 16:55:56] ppocr DEBUG: cls num  : 0, elapsed : 0\n",
      "[2025/04/23 16:55:56] ppocr DEBUG: rec_res num  : 0, elapsed : 0.0\n",
      "[2025/04/23 16:55:56] ppocr DEBUG: dt_boxes num : 2, elapsed : 0.03963971138000488\n",
      "[2025/04/23 16:55:56] ppocr DEBUG: cls num  : 2, elapsed : 0.008020162582397461\n",
      "[2025/04/23 16:55:56] ppocr DEBUG: rec_res num  : 2, elapsed : 0.06113076210021973\n",
      "[2025/04/23 16:55:57] ppocr DEBUG: dt_boxes num : 2, elapsed : 0.008021354675292969\n",
      "[2025/04/23 16:55:57] ppocr DEBUG: cls num  : 2, elapsed : 0.0045087337493896484\n",
      "[2025/04/23 16:55:57] ppocr DEBUG: rec_res num  : 2, elapsed : 0.05365633964538574\n",
      "[2025/04/23 16:55:57] ppocr DEBUG: dt_boxes num : 6, elapsed : 0.05985593795776367\n",
      "[2025/04/23 16:55:57] ppocr DEBUG: cls num  : 6, elapsed : 0.031124353408813477\n",
      "[2025/04/23 16:55:57] ppocr DEBUG: rec_res num  : 6, elapsed : 0.18393611907958984\n",
      "\n",
      "0: 480x640 4 plates, 7.4ms\n",
      "Speed: 1.2ms preprocess, 7.4ms inference, 1.0ms postprocess per image at shape (1, 3, 480, 640)\n",
      "[2025/04/23 16:55:57] ppocr DEBUG: dt_boxes num : 2, elapsed : 0.008515119552612305\n",
      "[2025/04/23 16:55:57] ppocr DEBUG: cls num  : 2, elapsed : 0.006510019302368164\n",
      "[2025/04/23 16:55:57] ppocr DEBUG: rec_res num  : 2, elapsed : 0.06002998352050781\n",
      "[2025/04/23 16:55:57] ppocr DEBUG: dt_boxes num : 2, elapsed : 0.037689208984375\n",
      "[2025/04/23 16:55:57] ppocr DEBUG: cls num  : 2, elapsed : 0.006015777587890625\n",
      "[2025/04/23 16:55:57] ppocr DEBUG: rec_res num  : 2, elapsed : 0.05312633514404297\n",
      "[2025/04/23 16:55:57] ppocr DEBUG: dt_boxes num : 0, elapsed : 0.04108262062072754\n",
      "[2025/04/23 16:55:57] ppocr DEBUG: cls num  : 0, elapsed : 0\n",
      "[2025/04/23 16:55:57] ppocr DEBUG: rec_res num  : 0, elapsed : 0.0\n",
      "[2025/04/23 16:55:57] ppocr DEBUG: dt_boxes num : 5, elapsed : 0.05666327476501465\n",
      "[2025/04/23 16:55:57] ppocr DEBUG: cls num  : 5, elapsed : 0.0286715030670166\n",
      "[2025/04/23 16:55:57] ppocr DEBUG: rec_res num  : 5, elapsed : 0.1699678897857666\n",
      "\n",
      "0: 480x640 4 plates, 7.4ms\n",
      "Speed: 1.2ms preprocess, 7.4ms inference, 1.7ms postprocess per image at shape (1, 3, 480, 640)\n",
      "[2025/04/23 16:55:57] ppocr DEBUG: dt_boxes num : 2, elapsed : 0.007014751434326172\n",
      "[2025/04/23 16:55:57] ppocr DEBUG: cls num  : 2, elapsed : 0.02806854248046875\n",
      "[2025/04/23 16:55:58] ppocr DEBUG: rec_res num  : 2, elapsed : 0.08925080299377441\n",
      "[2025/04/23 16:55:58] ppocr DEBUG: dt_boxes num : 2, elapsed : 0.008014202117919922\n",
      "[2025/04/23 16:55:58] ppocr DEBUG: cls num  : 2, elapsed : 0.005001068115234375\n",
      "[2025/04/23 16:55:58] ppocr DEBUG: rec_res num  : 2, elapsed : 0.05568122863769531\n",
      "[2025/04/23 16:55:58] ppocr DEBUG: dt_boxes num : 0, elapsed : 0.04533839225769043\n",
      "[2025/04/23 16:55:58] ppocr DEBUG: cls num  : 0, elapsed : 0\n",
      "[2025/04/23 16:55:58] ppocr DEBUG: rec_res num  : 0, elapsed : 0.0\n",
      "[2025/04/23 16:55:58] ppocr DEBUG: dt_boxes num : 6, elapsed : 0.027051687240600586\n",
      "[2025/04/23 16:55:58] ppocr DEBUG: cls num  : 6, elapsed : 0.010009288787841797\n",
      "[2025/04/23 16:55:58] ppocr DEBUG: rec_res num  : 6, elapsed : 0.1533811092376709\n",
      "\n",
      "0: 480x640 4 plates, 5.8ms\n",
      "Speed: 1.6ms preprocess, 5.8ms inference, 1.1ms postprocess per image at shape (1, 3, 480, 640)\n",
      "[2025/04/23 16:55:58] ppocr DEBUG: dt_boxes num : 2, elapsed : 0.04008603096008301\n",
      "[2025/04/23 16:55:58] ppocr DEBUG: cls num  : 2, elapsed : 0.005512237548828125\n",
      "[2025/04/23 16:55:58] ppocr DEBUG: rec_res num  : 2, elapsed : 0.05365395545959473\n",
      "[2025/04/23 16:55:58] ppocr DEBUG: dt_boxes num : 2, elapsed : 0.01101827621459961\n",
      "[2025/04/23 16:55:58] ppocr DEBUG: cls num  : 2, elapsed : 0.0070209503173828125\n",
      "[2025/04/23 16:55:58] ppocr DEBUG: rec_res num  : 2, elapsed : 0.050931692123413086\n",
      "[2025/04/23 16:55:58] ppocr DEBUG: dt_boxes num : 0, elapsed : 0.014536619186401367\n",
      "[2025/04/23 16:55:58] ppocr DEBUG: cls num  : 0, elapsed : 0\n",
      "[2025/04/23 16:55:58] ppocr DEBUG: rec_res num  : 0, elapsed : 0.0\n",
      "[2025/04/23 16:55:58] ppocr DEBUG: dt_boxes num : 6, elapsed : 0.024556875228881836\n",
      "[2025/04/23 16:55:58] ppocr DEBUG: cls num  : 6, elapsed : 0.012020349502563477\n",
      "[2025/04/23 16:55:58] ppocr DEBUG: rec_res num  : 6, elapsed : 0.1549546718597412\n",
      "\n",
      "0: 480x640 4 plates, 8.5ms\n",
      "Speed: 1.2ms preprocess, 8.5ms inference, 1.3ms postprocess per image at shape (1, 3, 480, 640)\n",
      "[2025/04/23 16:55:58] ppocr DEBUG: dt_boxes num : 3, elapsed : 0.010541200637817383\n",
      "[2025/04/23 16:55:58] ppocr DEBUG: cls num  : 3, elapsed : 0.03506946563720703\n",
      "[2025/04/23 16:55:58] ppocr DEBUG: rec_res num  : 3, elapsed : 0.11614847183227539\n",
      "[2025/04/23 16:55:58] ppocr DEBUG: dt_boxes num : 2, elapsed : 0.04517698287963867\n",
      "[2025/04/23 16:55:58] ppocr DEBUG: cls num  : 2, elapsed : 0.0065081119537353516\n",
      "[2025/04/23 16:55:59] ppocr DEBUG: rec_res num  : 2, elapsed : 0.049112558364868164\n",
      "[2025/04/23 16:55:59] ppocr DEBUG: dt_boxes num : 0, elapsed : 0.014053106307983398\n",
      "[2025/04/23 16:55:59] ppocr DEBUG: cls num  : 0, elapsed : 0\n",
      "[2025/04/23 16:55:59] ppocr DEBUG: rec_res num  : 0, elapsed : 0.0\n",
      "[2025/04/23 16:55:59] ppocr DEBUG: dt_boxes num : 6, elapsed : 0.02620720863342285\n",
      "[2025/04/23 16:55:59] ppocr DEBUG: cls num  : 6, elapsed : 0.03262472152709961\n",
      "[2025/04/23 16:55:59] ppocr DEBUG: rec_res num  : 6, elapsed : 0.18343305587768555\n",
      "\n",
      "0: 480x640 4 plates, 6.9ms\n",
      "Speed: 1.6ms preprocess, 6.9ms inference, 1.0ms postprocess per image at shape (1, 3, 480, 640)\n",
      "[2025/04/23 16:55:59] ppocr DEBUG: dt_boxes num : 2, elapsed : 0.039279937744140625\n",
      "[2025/04/23 16:55:59] ppocr DEBUG: cls num  : 2, elapsed : 0.004510641098022461\n",
      "[2025/04/23 16:55:59] ppocr DEBUG: rec_res num  : 2, elapsed : 0.057616472244262695\n",
      "[2025/04/23 16:55:59] ppocr DEBUG: dt_boxes num : 2, elapsed : 0.034575700759887695\n",
      "[2025/04/23 16:55:59] ppocr DEBUG: cls num  : 2, elapsed : 0.02605128288269043\n",
      "[2025/04/23 16:55:59] ppocr DEBUG: rec_res num  : 2, elapsed : 0.0904080867767334\n",
      "[2025/04/23 16:55:59] ppocr DEBUG: dt_boxes num : 0, elapsed : 0.04877448081970215\n",
      "[2025/04/23 16:55:59] ppocr DEBUG: cls num  : 0, elapsed : 0\n",
      "[2025/04/23 16:55:59] ppocr DEBUG: rec_res num  : 0, elapsed : 0.0\n",
      "[2025/04/23 16:55:59] ppocr DEBUG: dt_boxes num : 6, elapsed : 0.06363773345947266\n",
      "[2025/04/23 16:55:59] ppocr DEBUG: cls num  : 6, elapsed : 0.007012844085693359\n",
      "[2025/04/23 16:55:59] ppocr DEBUG: rec_res num  : 6, elapsed : 0.15230941772460938\n",
      "\n",
      "0: 480x640 4 plates, 5.8ms\n",
      "Speed: 1.1ms preprocess, 5.8ms inference, 1.1ms postprocess per image at shape (1, 3, 480, 640)\n",
      "[2025/04/23 16:55:59] ppocr DEBUG: dt_boxes num : 3, elapsed : 0.007513523101806641\n",
      "[2025/04/23 16:55:59] ppocr DEBUG: cls num  : 3, elapsed : 0.03256487846374512\n",
      "[2025/04/23 16:56:00] ppocr DEBUG: rec_res num  : 3, elapsed : 0.12220597267150879\n",
      "[2025/04/23 16:56:00] ppocr DEBUG: dt_boxes num : 0, elapsed : 0.04111433029174805\n",
      "[2025/04/23 16:56:00] ppocr DEBUG: cls num  : 0, elapsed : 0\n",
      "[2025/04/23 16:56:00] ppocr DEBUG: rec_res num  : 0, elapsed : 0.0\n",
      "[2025/04/23 16:56:00] ppocr DEBUG: dt_boxes num : 0, elapsed : 0.03956747055053711\n",
      "[2025/04/23 16:56:00] ppocr DEBUG: cls num  : 0, elapsed : 0\n",
      "[2025/04/23 16:56:00] ppocr DEBUG: rec_res num  : 0, elapsed : 0.0\n",
      "[2025/04/23 16:56:00] ppocr DEBUG: dt_boxes num : 3, elapsed : 0.022552490234375\n",
      "[2025/04/23 16:56:00] ppocr DEBUG: cls num  : 3, elapsed : 0.0077059268951416016\n",
      "[2025/04/23 16:56:00] ppocr DEBUG: rec_res num  : 3, elapsed : 0.07631921768188477\n",
      "\n",
      "0: 480x640 3 plates, 6.2ms\n",
      "Speed: 1.2ms preprocess, 6.2ms inference, 1.2ms postprocess per image at shape (1, 3, 480, 640)\n",
      "[2025/04/23 16:56:00] ppocr DEBUG: dt_boxes num : 2, elapsed : 0.011026144027709961\n",
      "[2025/04/23 16:56:00] ppocr DEBUG: cls num  : 2, elapsed : 0.006510734558105469\n",
      "[2025/04/23 16:56:00] ppocr DEBUG: rec_res num  : 2, elapsed : 0.06117963790893555\n",
      "[2025/04/23 16:56:00] ppocr DEBUG: dt_boxes num : 0, elapsed : 0.04194521903991699\n",
      "[2025/04/23 16:56:00] ppocr DEBUG: cls num  : 0, elapsed : 0\n",
      "[2025/04/23 16:56:00] ppocr DEBUG: rec_res num  : 0, elapsed : 0.0\n",
      "[2025/04/23 16:56:00] ppocr DEBUG: dt_boxes num : 2, elapsed : 0.009078264236450195\n",
      "[2025/04/23 16:56:00] ppocr DEBUG: cls num  : 2, elapsed : 0.008018016815185547\n",
      "[2025/04/23 16:56:00] ppocr DEBUG: rec_res num  : 2, elapsed : 0.053670644760131836\n",
      "\n",
      "0: 480x640 3 plates, 6.4ms\n",
      "Speed: 1.8ms preprocess, 6.4ms inference, 1.3ms postprocess per image at shape (1, 3, 480, 640)\n",
      "[2025/04/23 16:56:00] ppocr DEBUG: dt_boxes num : 2, elapsed : 0.00751042366027832\n",
      "[2025/04/23 16:56:00] ppocr DEBUG: cls num  : 2, elapsed : 0.006004810333251953\n",
      "[2025/04/23 16:56:00] ppocr DEBUG: rec_res num  : 2, elapsed : 0.048262596130371094\n",
      "[2025/04/23 16:56:00] ppocr DEBUG: dt_boxes num : 0, elapsed : 0.010019063949584961\n",
      "[2025/04/23 16:56:00] ppocr DEBUG: cls num  : 0, elapsed : 0\n",
      "[2025/04/23 16:56:00] ppocr DEBUG: rec_res num  : 0, elapsed : 0.0\n",
      "[2025/04/23 16:56:00] ppocr DEBUG: dt_boxes num : 1, elapsed : 0.010520696640014648\n",
      "[2025/04/23 16:56:00] ppocr DEBUG: cls num  : 1, elapsed : 0.03317451477050781\n",
      "[2025/04/23 16:56:00] ppocr DEBUG: rec_res num  : 1, elapsed : 0.0769195556640625\n",
      "\n",
      "0: 480x640 3 plates, 6.5ms\n",
      "Speed: 1.3ms preprocess, 6.5ms inference, 1.2ms postprocess per image at shape (1, 3, 480, 640)\n",
      "[2025/04/23 16:56:00] ppocr DEBUG: dt_boxes num : 2, elapsed : 0.04269766807556152\n",
      "[2025/04/23 16:56:00] ppocr DEBUG: cls num  : 2, elapsed : 0.03258109092712402\n",
      "[2025/04/23 16:56:00] ppocr DEBUG: rec_res num  : 2, elapsed : 0.09583497047424316\n",
      "[2025/04/23 16:56:00] ppocr DEBUG: dt_boxes num : 2, elapsed : 0.03811073303222656\n",
      "[2025/04/23 16:56:00] ppocr DEBUG: cls num  : 2, elapsed : 0.009159326553344727\n",
      "[2025/04/23 16:56:01] ppocr DEBUG: rec_res num  : 2, elapsed : 0.05565834045410156\n",
      "[2025/04/23 16:56:01] ppocr DEBUG: dt_boxes num : 0, elapsed : 0.011960268020629883\n",
      "[2025/04/23 16:56:01] ppocr DEBUG: cls num  : 0, elapsed : 0\n",
      "[2025/04/23 16:56:01] ppocr DEBUG: rec_res num  : 0, elapsed : 0.0\n",
      "\n",
      "0: 480x640 3 plates, 5.9ms\n",
      "Speed: 1.0ms preprocess, 5.9ms inference, 1.4ms postprocess per image at shape (1, 3, 480, 640)\n",
      "[2025/04/23 16:56:01] ppocr DEBUG: dt_boxes num : 2, elapsed : 0.007509469985961914\n",
      "[2025/04/23 16:56:01] ppocr DEBUG: cls num  : 2, elapsed : 0.006004810333251953\n",
      "[2025/04/23 16:56:01] ppocr DEBUG: rec_res num  : 2, elapsed : 0.05881452560424805\n",
      "[2025/04/23 16:56:01] ppocr DEBUG: dt_boxes num : 0, elapsed : 0.010021686553955078\n",
      "[2025/04/23 16:56:01] ppocr DEBUG: cls num  : 0, elapsed : 0\n",
      "[2025/04/23 16:56:01] ppocr DEBUG: rec_res num  : 0, elapsed : 0.0\n",
      "[2025/04/23 16:56:01] ppocr DEBUG: dt_boxes num : 2, elapsed : 0.011025428771972656\n",
      "[2025/04/23 16:56:01] ppocr DEBUG: cls num  : 2, elapsed : 0.007511138916015625\n",
      "[2025/04/23 16:56:01] ppocr DEBUG: rec_res num  : 2, elapsed : 0.054662227630615234\n",
      "\n",
      "0: 480x640 2 plates, 8.4ms\n",
      "Speed: 0.9ms preprocess, 8.4ms inference, 1.8ms postprocess per image at shape (1, 3, 480, 640)\n",
      "[2025/04/23 16:56:01] ppocr DEBUG: dt_boxes num : 3, elapsed : 0.010019302368164062\n",
      "[2025/04/23 16:56:01] ppocr DEBUG: cls num  : 3, elapsed : 0.03707385063171387\n",
      "[2025/04/23 16:56:01] ppocr DEBUG: rec_res num  : 3, elapsed : 0.12098288536071777\n",
      "[2025/04/23 16:56:01] ppocr DEBUG: dt_boxes num : 0, elapsed : 0.011023521423339844\n",
      "[2025/04/23 16:56:01] ppocr DEBUG: cls num  : 0, elapsed : 0\n",
      "[2025/04/23 16:56:01] ppocr DEBUG: rec_res num  : 0, elapsed : 0.0009975433349609375\n",
      "\n",
      "0: 480x640 3 plates, 8.2ms\n",
      "Speed: 1.1ms preprocess, 8.2ms inference, 1.0ms postprocess per image at shape (1, 3, 480, 640)\n",
      "[2025/04/23 16:56:01] ppocr DEBUG: dt_boxes num : 2, elapsed : 0.009022235870361328\n",
      "[2025/04/23 16:56:01] ppocr DEBUG: cls num  : 2, elapsed : 0.00519251823425293\n",
      "[2025/04/23 16:56:01] ppocr DEBUG: rec_res num  : 2, elapsed : 0.05711770057678223\n",
      "[2025/04/23 16:56:01] ppocr DEBUG: dt_boxes num : 2, elapsed : 0.007002353668212891\n",
      "[2025/04/23 16:56:01] ppocr DEBUG: cls num  : 2, elapsed : 0.006025791168212891\n",
      "[2025/04/23 16:56:01] ppocr DEBUG: rec_res num  : 2, elapsed : 0.05531144142150879\n",
      "[2025/04/23 16:56:01] ppocr DEBUG: dt_boxes num : 0, elapsed : 0.010549545288085938\n",
      "[2025/04/23 16:56:01] ppocr DEBUG: cls num  : 0, elapsed : 0\n",
      "[2025/04/23 16:56:01] ppocr DEBUG: rec_res num  : 0, elapsed : 0.0\n",
      "\n",
      "0: 480x640 2 plates, 7.3ms\n",
      "Speed: 0.9ms preprocess, 7.3ms inference, 1.4ms postprocess per image at shape (1, 3, 480, 640)\n",
      "[2025/04/23 16:56:01] ppocr DEBUG: dt_boxes num : 2, elapsed : 0.04389619827270508\n",
      "[2025/04/23 16:56:01] ppocr DEBUG: cls num  : 2, elapsed : 0.005999326705932617\n",
      "[2025/04/23 16:56:01] ppocr DEBUG: rec_res num  : 2, elapsed : 0.05261707305908203\n",
      "[2025/04/23 16:56:01] ppocr DEBUG: dt_boxes num : 0, elapsed : 0.03397560119628906\n",
      "[2025/04/23 16:56:01] ppocr DEBUG: cls num  : 0, elapsed : 0\n",
      "[2025/04/23 16:56:01] ppocr DEBUG: rec_res num  : 0, elapsed : 0.0\n",
      "\n",
      "0: 480x640 3 plates, 8.7ms\n",
      "Speed: 1.3ms preprocess, 8.7ms inference, 1.5ms postprocess per image at shape (1, 3, 480, 640)\n",
      "[2025/04/23 16:56:01] ppocr DEBUG: dt_boxes num : 2, elapsed : 0.01201772689819336\n",
      "[2025/04/23 16:56:01] ppocr DEBUG: cls num  : 2, elapsed : 0.0039997100830078125\n",
      "[2025/04/23 16:56:01] ppocr DEBUG: rec_res num  : 2, elapsed : 0.05891299247741699\n",
      "[2025/04/23 16:56:01] ppocr DEBUG: dt_boxes num : 0, elapsed : 0.009515762329101562\n",
      "[2025/04/23 16:56:01] ppocr DEBUG: cls num  : 0, elapsed : 0\n",
      "[2025/04/23 16:56:01] ppocr DEBUG: rec_res num  : 0, elapsed : 0.0\n",
      "[2025/04/23 16:56:01] ppocr DEBUG: dt_boxes num : 4, elapsed : 0.05316948890686035\n",
      "[2025/04/23 16:56:02] ppocr DEBUG: cls num  : 4, elapsed : 0.031059980392456055\n",
      "[2025/04/23 16:56:02] ppocr DEBUG: rec_res num  : 4, elapsed : 0.14245009422302246\n",
      "\n",
      "0: 480x640 3 plates, 6.9ms\n",
      "Speed: 1.7ms preprocess, 6.9ms inference, 1.4ms postprocess per image at shape (1, 3, 480, 640)\n",
      "[2025/04/23 16:56:02] ppocr DEBUG: dt_boxes num : 2, elapsed : 0.010018348693847656\n",
      "[2025/04/23 16:56:02] ppocr DEBUG: cls num  : 2, elapsed : 0.009014606475830078\n",
      "[2025/04/23 16:56:02] ppocr DEBUG: rec_res num  : 2, elapsed : 0.05565166473388672\n",
      "[2025/04/23 16:56:02] ppocr DEBUG: dt_boxes num : 0, elapsed : 0.010020732879638672\n",
      "[2025/04/23 16:56:02] ppocr DEBUG: cls num  : 0, elapsed : 0\n",
      "[2025/04/23 16:56:02] ppocr DEBUG: rec_res num  : 0, elapsed : 0.0\n",
      "[2025/04/23 16:56:02] ppocr DEBUG: dt_boxes num : 2, elapsed : 0.008140325546264648\n",
      "[2025/04/23 16:56:02] ppocr DEBUG: cls num  : 2, elapsed : 0.005652427673339844\n",
      "[2025/04/23 16:56:02] ppocr DEBUG: rec_res num  : 2, elapsed : 0.06591463088989258\n",
      "\n",
      "0: 480x640 3 plates, 7.0ms\n",
      "Speed: 0.9ms preprocess, 7.0ms inference, 1.1ms postprocess per image at shape (1, 3, 480, 640)\n",
      "[2025/04/23 16:56:02] ppocr DEBUG: dt_boxes num : 2, elapsed : 0.007513523101806641\n",
      "[2025/04/23 16:56:02] ppocr DEBUG: cls num  : 2, elapsed : 0.004011869430541992\n",
      "[2025/04/23 16:56:02] ppocr DEBUG: rec_res num  : 2, elapsed : 0.05325484275817871\n",
      "[2025/04/23 16:56:02] ppocr DEBUG: dt_boxes num : 0, elapsed : 0.03593039512634277\n",
      "[2025/04/23 16:56:02] ppocr DEBUG: cls num  : 0, elapsed : 0\n",
      "[2025/04/23 16:56:02] ppocr DEBUG: rec_res num  : 0, elapsed : 0.0\n",
      "[2025/04/23 16:56:02] ppocr DEBUG: dt_boxes num : 2, elapsed : 0.008013725280761719\n",
      "[2025/04/23 16:56:02] ppocr DEBUG: cls num  : 2, elapsed : 0.025033235549926758\n",
      "[2025/04/23 16:56:02] ppocr DEBUG: rec_res num  : 2, elapsed : 0.09041404724121094\n",
      "\n",
      "0: 480x640 3 plates, 8.2ms\n",
      "Speed: 1.3ms preprocess, 8.2ms inference, 1.1ms postprocess per image at shape (1, 3, 480, 640)\n",
      "[2025/04/23 16:56:02] ppocr DEBUG: dt_boxes num : 1, elapsed : 0.036100149154663086\n",
      "[2025/04/23 16:56:02] ppocr DEBUG: cls num  : 1, elapsed : 0.029085636138916016\n",
      "[2025/04/23 16:56:02] ppocr DEBUG: rec_res num  : 1, elapsed : 0.07176423072814941\n",
      "[2025/04/23 16:56:02] ppocr DEBUG: dt_boxes num : 0, elapsed : 0.010936737060546875\n",
      "[2025/04/23 16:56:02] ppocr DEBUG: cls num  : 0, elapsed : 0\n",
      "[2025/04/23 16:56:02] ppocr DEBUG: rec_res num  : 0, elapsed : 0.0\n",
      "[2025/04/23 16:56:02] ppocr DEBUG: dt_boxes num : 2, elapsed : 0.016678333282470703\n",
      "[2025/04/23 16:56:02] ppocr DEBUG: cls num  : 2, elapsed : 0.0055084228515625\n",
      "[2025/04/23 16:56:02] ppocr DEBUG: rec_res num  : 2, elapsed : 0.054841041564941406\n",
      "\n",
      "0: 480x640 3 plates, 6.4ms\n",
      "Speed: 1.2ms preprocess, 6.4ms inference, 1.4ms postprocess per image at shape (1, 3, 480, 640)\n",
      "[2025/04/23 16:56:02] ppocr DEBUG: dt_boxes num : 2, elapsed : 0.04021811485290527\n",
      "[2025/04/23 16:56:02] ppocr DEBUG: cls num  : 2, elapsed : 0.005797386169433594\n",
      "[2025/04/23 16:56:02] ppocr DEBUG: rec_res num  : 2, elapsed : 0.04781389236450195\n",
      "[2025/04/23 16:56:03] ppocr DEBUG: dt_boxes num : 0, elapsed : 0.04233050346374512\n",
      "[2025/04/23 16:56:03] ppocr DEBUG: cls num  : 0, elapsed : 0\n",
      "[2025/04/23 16:56:03] ppocr DEBUG: rec_res num  : 0, elapsed : 0.0\n",
      "[2025/04/23 16:56:03] ppocr DEBUG: dt_boxes num : 6, elapsed : 0.06229209899902344\n",
      "[2025/04/23 16:56:03] ppocr DEBUG: cls num  : 6, elapsed : 0.03500676155090332\n",
      "[2025/04/23 16:56:03] ppocr DEBUG: rec_res num  : 6, elapsed : 0.18713831901550293\n",
      "\n",
      "0: 480x640 3 plates, 7.0ms\n",
      "Speed: 1.0ms preprocess, 7.0ms inference, 1.2ms postprocess per image at shape (1, 3, 480, 640)\n",
      "[2025/04/23 16:56:03] ppocr DEBUG: dt_boxes num : 2, elapsed : 0.04505014419555664\n",
      "[2025/04/23 16:56:03] ppocr DEBUG: cls num  : 2, elapsed : 0.006507396697998047\n",
      "[2025/04/23 16:56:03] ppocr DEBUG: rec_res num  : 2, elapsed : 0.05310511589050293\n",
      "[2025/04/23 16:56:03] ppocr DEBUG: dt_boxes num : 0, elapsed : 0.037989139556884766\n",
      "[2025/04/23 16:56:03] ppocr DEBUG: cls num  : 0, elapsed : 0\n",
      "[2025/04/23 16:56:03] ppocr DEBUG: rec_res num  : 0, elapsed : 0.0\n",
      "[2025/04/23 16:56:03] ppocr DEBUG: dt_boxes num : 5, elapsed : 0.01904916763305664\n",
      "[2025/04/23 16:56:03] ppocr DEBUG: cls num  : 5, elapsed : 0.046126365661621094\n",
      "[2025/04/23 16:56:03] ppocr DEBUG: rec_res num  : 5, elapsed : 0.16625475883483887\n",
      "\n",
      "0: 480x640 3 plates, 7.3ms\n",
      "Speed: 0.9ms preprocess, 7.3ms inference, 1.7ms postprocess per image at shape (1, 3, 480, 640)\n",
      "[2025/04/23 16:56:03] ppocr DEBUG: dt_boxes num : 2, elapsed : 0.01202535629272461\n",
      "[2025/04/23 16:56:03] ppocr DEBUG: cls num  : 2, elapsed : 0.026120424270629883\n",
      "[2025/04/23 16:56:03] ppocr DEBUG: rec_res num  : 2, elapsed : 0.08478260040283203\n",
      "[2025/04/23 16:56:03] ppocr DEBUG: dt_boxes num : 0, elapsed : 0.012529134750366211\n",
      "[2025/04/23 16:56:03] ppocr DEBUG: cls num  : 0, elapsed : 0\n",
      "[2025/04/23 16:56:03] ppocr DEBUG: rec_res num  : 0, elapsed : 0.0\n",
      "[2025/04/23 16:56:03] ppocr DEBUG: dt_boxes num : 5, elapsed : 0.020039796829223633\n",
      "[2025/04/23 16:56:03] ppocr DEBUG: cls num  : 5, elapsed : 0.01101827621459961\n",
      "[2025/04/23 16:56:04] ppocr DEBUG: rec_res num  : 5, elapsed : 0.12099766731262207\n",
      "\n",
      "0: 480x640 4 plates, 7.0ms\n",
      "Speed: 1.1ms preprocess, 7.0ms inference, 1.2ms postprocess per image at shape (1, 3, 480, 640)\n",
      "[2025/04/23 16:56:04] ppocr DEBUG: dt_boxes num : 2, elapsed : 0.011069059371948242\n",
      "[2025/04/23 16:56:04] ppocr DEBUG: cls num  : 2, elapsed : 0.007416486740112305\n",
      "[2025/04/23 16:56:04] ppocr DEBUG: rec_res num  : 2, elapsed : 0.049942731857299805\n",
      "[2025/04/23 16:56:04] ppocr DEBUG: dt_boxes num : 0, elapsed : 0.010021209716796875\n",
      "[2025/04/23 16:56:04] ppocr DEBUG: cls num  : 0, elapsed : 0\n",
      "[2025/04/23 16:56:04] ppocr DEBUG: rec_res num  : 0, elapsed : 0.0\n",
      "[2025/04/23 16:56:04] ppocr DEBUG: dt_boxes num : 5, elapsed : 0.022040128707885742\n",
      "[2025/04/23 16:56:04] ppocr DEBUG: cls num  : 5, elapsed : 0.010043621063232422\n",
      "[2025/04/23 16:56:04] ppocr DEBUG: rec_res num  : 5, elapsed : 0.11796331405639648\n",
      "[2025/04/23 16:56:04] ppocr DEBUG: dt_boxes num : 0, elapsed : 0.04436945915222168\n",
      "[2025/04/23 16:56:04] ppocr DEBUG: cls num  : 0, elapsed : 0\n",
      "[2025/04/23 16:56:04] ppocr DEBUG: rec_res num  : 0, elapsed : 0.0\n",
      "\n",
      "0: 480x640 3 plates, 7.2ms\n",
      "Speed: 1.1ms preprocess, 7.2ms inference, 2.4ms postprocess per image at shape (1, 3, 480, 640)\n",
      "[2025/04/23 16:56:04] ppocr DEBUG: dt_boxes num : 2, elapsed : 0.04433703422546387\n",
      "[2025/04/23 16:56:04] ppocr DEBUG: cls num  : 2, elapsed : 0.006000995635986328\n",
      "[2025/04/23 16:56:04] ppocr DEBUG: rec_res num  : 2, elapsed : 0.05008578300476074\n",
      "[2025/04/23 16:56:04] ppocr DEBUG: dt_boxes num : 0, elapsed : 0.01150965690612793\n",
      "[2025/04/23 16:56:04] ppocr DEBUG: cls num  : 0, elapsed : 0\n",
      "[2025/04/23 16:56:04] ppocr DEBUG: rec_res num  : 0, elapsed : 0.0\n",
      "[2025/04/23 16:56:04] ppocr DEBUG: dt_boxes num : 4, elapsed : 0.0524439811706543\n",
      "[2025/04/23 16:56:04] ppocr DEBUG: cls num  : 4, elapsed : 0.02856159210205078\n",
      "[2025/04/23 16:56:04] ppocr DEBUG: rec_res num  : 4, elapsed : 0.13954854011535645\n",
      "\n",
      "0: 480x640 4 plates, 7.4ms\n",
      "Speed: 1.3ms preprocess, 7.4ms inference, 1.6ms postprocess per image at shape (1, 3, 480, 640)\n",
      "[2025/04/23 16:56:04] ppocr DEBUG: dt_boxes num : 2, elapsed : 0.010632991790771484\n",
      "[2025/04/23 16:56:04] ppocr DEBUG: cls num  : 2, elapsed : 0.0045146942138671875\n",
      "[2025/04/23 16:56:04] ppocr DEBUG: rec_res num  : 2, elapsed : 0.05313563346862793\n",
      "[2025/04/23 16:56:04] ppocr DEBUG: dt_boxes num : 0, elapsed : 0.015177488327026367\n",
      "[2025/04/23 16:56:04] ppocr DEBUG: cls num  : 0, elapsed : 0\n",
      "[2025/04/23 16:56:04] ppocr DEBUG: rec_res num  : 0, elapsed : 0.0\n",
      "[2025/04/23 16:56:04] ppocr DEBUG: dt_boxes num : 6, elapsed : 0.023044109344482422\n",
      "[2025/04/23 16:56:04] ppocr DEBUG: cls num  : 6, elapsed : 0.04043221473693848\n",
      "[2025/04/23 16:56:05] ppocr DEBUG: rec_res num  : 6, elapsed : 0.1947636604309082\n",
      "[2025/04/23 16:56:05] ppocr DEBUG: dt_boxes num : 0, elapsed : 0.03726959228515625\n",
      "[2025/04/23 16:56:05] ppocr DEBUG: cls num  : 0, elapsed : 0\n",
      "[2025/04/23 16:56:05] ppocr DEBUG: rec_res num  : 0, elapsed : 0.0\n",
      "\n",
      "0: 480x640 4 plates, 8.9ms\n",
      "Speed: 1.4ms preprocess, 8.9ms inference, 1.6ms postprocess per image at shape (1, 3, 480, 640)\n",
      "[2025/04/23 16:56:05] ppocr DEBUG: dt_boxes num : 2, elapsed : 0.010523319244384766\n",
      "[2025/04/23 16:56:05] ppocr DEBUG: cls num  : 2, elapsed : 0.027820110321044922\n",
      "[2025/04/23 16:56:05] ppocr DEBUG: rec_res num  : 2, elapsed : 0.09126567840576172\n",
      "[2025/04/23 16:56:05] ppocr DEBUG: dt_boxes num : 0, elapsed : 0.04266476631164551\n",
      "[2025/04/23 16:56:05] ppocr DEBUG: cls num  : 0, elapsed : 0\n",
      "[2025/04/23 16:56:05] ppocr DEBUG: rec_res num  : 0, elapsed : 0.0\n",
      "[2025/04/23 16:56:05] ppocr DEBUG: dt_boxes num : 5, elapsed : 0.01725935935974121\n",
      "[2025/04/23 16:56:05] ppocr DEBUG: cls num  : 5, elapsed : 0.03269076347351074\n",
      "[2025/04/23 16:56:05] ppocr DEBUG: rec_res num  : 5, elapsed : 0.16663146018981934\n",
      "[2025/04/23 16:56:05] ppocr DEBUG: dt_boxes num : 0, elapsed : 0.007513523101806641\n",
      "[2025/04/23 16:56:05] ppocr DEBUG: cls num  : 0, elapsed : 0\n",
      "[2025/04/23 16:56:05] ppocr DEBUG: rec_res num  : 0, elapsed : 0.0\n",
      "\n",
      "0: 480x640 3 plates, 7.4ms\n",
      "Speed: 0.9ms preprocess, 7.4ms inference, 1.5ms postprocess per image at shape (1, 3, 480, 640)\n",
      "[2025/04/23 16:56:05] ppocr DEBUG: dt_boxes num : 2, elapsed : 0.03696155548095703\n",
      "[2025/04/23 16:56:05] ppocr DEBUG: cls num  : 2, elapsed : 0.004508018493652344\n",
      "[2025/04/23 16:56:05] ppocr DEBUG: rec_res num  : 2, elapsed : 0.05128931999206543\n",
      "[2025/04/23 16:56:05] ppocr DEBUG: dt_boxes num : 0, elapsed : 0.012023210525512695\n",
      "[2025/04/23 16:56:05] ppocr DEBUG: cls num  : 0, elapsed : 0\n",
      "[2025/04/23 16:56:05] ppocr DEBUG: rec_res num  : 0, elapsed : 0.0\n",
      "[2025/04/23 16:56:05] ppocr DEBUG: dt_boxes num : 5, elapsed : 0.05473613739013672\n",
      "[2025/04/23 16:56:05] ppocr DEBUG: cls num  : 5, elapsed : 0.007935047149658203\n",
      "[2025/04/23 16:56:05] ppocr DEBUG: rec_res num  : 5, elapsed : 0.12653303146362305\n",
      "\n",
      "0: 480x640 3 plates, 7.6ms\n",
      "Speed: 1.0ms preprocess, 7.6ms inference, 1.8ms postprocess per image at shape (1, 3, 480, 640)\n",
      "[2025/04/23 16:56:05] ppocr DEBUG: dt_boxes num : 2, elapsed : 0.01059865951538086\n",
      "[2025/04/23 16:56:06] ppocr DEBUG: cls num  : 2, elapsed : 0.006003856658935547\n",
      "[2025/04/23 16:56:06] ppocr DEBUG: rec_res num  : 2, elapsed : 0.05061841011047363\n",
      "[2025/04/23 16:56:06] ppocr DEBUG: dt_boxes num : 0, elapsed : 0.010019063949584961\n",
      "[2025/04/23 16:56:06] ppocr DEBUG: cls num  : 0, elapsed : 0\n",
      "[2025/04/23 16:56:06] ppocr DEBUG: rec_res num  : 0, elapsed : 0.0\n",
      "[2025/04/23 16:56:06] ppocr DEBUG: dt_boxes num : 6, elapsed : 0.022228002548217773\n",
      "[2025/04/23 16:56:06] ppocr DEBUG: cls num  : 6, elapsed : 0.009581327438354492\n",
      "[2025/04/23 16:56:06] ppocr DEBUG: rec_res num  : 6, elapsed : 0.15675830841064453\n",
      "\n",
      "0: 480x640 3 plates, 7.1ms\n",
      "Speed: 0.9ms preprocess, 7.1ms inference, 1.5ms postprocess per image at shape (1, 3, 480, 640)\n",
      "[2025/04/23 16:56:06] ppocr DEBUG: dt_boxes num : 2, elapsed : 0.04659318923950195\n",
      "[2025/04/23 16:56:06] ppocr DEBUG: cls num  : 2, elapsed : 0.006506681442260742\n",
      "[2025/04/23 16:56:06] ppocr DEBUG: rec_res num  : 2, elapsed : 0.05364537239074707\n",
      "[2025/04/23 16:56:06] ppocr DEBUG: dt_boxes num : 0, elapsed : 0.010021448135375977\n",
      "[2025/04/23 16:56:06] ppocr DEBUG: cls num  : 0, elapsed : 0\n",
      "[2025/04/23 16:56:06] ppocr DEBUG: rec_res num  : 0, elapsed : 0.0\n",
      "[2025/04/23 16:56:06] ppocr DEBUG: dt_boxes num : 6, elapsed : 0.02003622055053711\n",
      "[2025/04/23 16:56:06] ppocr DEBUG: cls num  : 6, elapsed : 0.013089179992675781\n",
      "[2025/04/23 16:56:06] ppocr DEBUG: rec_res num  : 6, elapsed : 0.14911842346191406\n",
      "\n",
      "0: 480x640 3 plates, 6.8ms\n",
      "Speed: 1.2ms preprocess, 6.8ms inference, 1.1ms postprocess per image at shape (1, 3, 480, 640)\n",
      "[2025/04/23 16:56:06] ppocr DEBUG: dt_boxes num : 2, elapsed : 0.010074853897094727\n",
      "[2025/04/23 16:56:06] ppocr DEBUG: cls num  : 2, elapsed : 0.007200956344604492\n",
      "[2025/04/23 16:56:06] ppocr DEBUG: rec_res num  : 2, elapsed : 0.05753588676452637\n",
      "[2025/04/23 16:56:06] ppocr DEBUG: dt_boxes num : 0, elapsed : 0.0330348014831543\n",
      "[2025/04/23 16:56:06] ppocr DEBUG: cls num  : 0, elapsed : 0\n",
      "[2025/04/23 16:56:06] ppocr DEBUG: rec_res num  : 0, elapsed : 0.0\n",
      "[2025/04/23 16:56:06] ppocr DEBUG: dt_boxes num : 6, elapsed : 0.021040916442871094\n",
      "[2025/04/23 16:56:06] ppocr DEBUG: cls num  : 6, elapsed : 0.008514165878295898\n",
      "[2025/04/23 16:56:06] ppocr DEBUG: rec_res num  : 6, elapsed : 0.18812251091003418\n",
      "\n",
      "0: 480x640 3 plates, 6.1ms\n",
      "Speed: 1.2ms preprocess, 6.1ms inference, 1.0ms postprocess per image at shape (1, 3, 480, 640)\n",
      "[2025/04/23 16:56:07] ppocr DEBUG: dt_boxes num : 4, elapsed : 0.03803849220275879\n",
      "[2025/04/23 16:56:07] ppocr DEBUG: cls num  : 4, elapsed : 0.027438879013061523\n",
      "[2025/04/23 16:56:07] ppocr DEBUG: rec_res num  : 4, elapsed : 0.14653348922729492\n",
      "[2025/04/23 16:56:07] ppocr DEBUG: dt_boxes num : 0, elapsed : 0.04010653495788574\n",
      "[2025/04/23 16:56:07] ppocr DEBUG: cls num  : 0, elapsed : 0\n",
      "[2025/04/23 16:56:07] ppocr DEBUG: rec_res num  : 0, elapsed : 0.0\n",
      "[2025/04/23 16:56:07] ppocr DEBUG: dt_boxes num : 3, elapsed : 0.046631574630737305\n",
      "[2025/04/23 16:56:07] ppocr DEBUG: cls num  : 3, elapsed : 0.031058073043823242\n",
      "[2025/04/23 16:56:07] ppocr DEBUG: rec_res num  : 3, elapsed : 0.11491179466247559\n",
      "\n",
      "0: 480x640 3 plates, 8.7ms\n",
      "Speed: 1.1ms preprocess, 8.7ms inference, 1.4ms postprocess per image at shape (1, 3, 480, 640)\n",
      "[2025/04/23 16:56:07] ppocr DEBUG: dt_boxes num : 3, elapsed : 0.04529738426208496\n",
      "[2025/04/23 16:56:07] ppocr DEBUG: cls num  : 3, elapsed : 0.0065081119537353516\n",
      "[2025/04/23 16:56:07] ppocr DEBUG: rec_res num  : 3, elapsed : 0.08271169662475586\n",
      "[2025/04/23 16:56:07] ppocr DEBUG: dt_boxes num : 0, elapsed : 0.04359126091003418\n",
      "[2025/04/23 16:56:07] ppocr DEBUG: cls num  : 0, elapsed : 0\n",
      "[2025/04/23 16:56:07] ppocr DEBUG: rec_res num  : 0, elapsed : 0.0\n",
      "[2025/04/23 16:56:07] ppocr DEBUG: dt_boxes num : 5, elapsed : 0.0536046028137207\n",
      "[2025/04/23 16:56:07] ppocr DEBUG: cls num  : 5, elapsed : 0.0326230525970459\n",
      "[2025/04/23 16:56:07] ppocr DEBUG: rec_res num  : 5, elapsed : 0.17458820343017578\n",
      "\n",
      "0: 480x640 4 plates, 8.0ms\n",
      "Speed: 1.8ms preprocess, 8.0ms inference, 1.1ms postprocess per image at shape (1, 3, 480, 640)\n",
      "[2025/04/23 16:56:07] ppocr DEBUG: dt_boxes num : 2, elapsed : 0.011015653610229492\n",
      "[2025/04/23 16:56:08] ppocr DEBUG: cls num  : 2, elapsed : 0.02806544303894043\n",
      "[2025/04/23 16:56:08] ppocr DEBUG: rec_res num  : 2, elapsed : 0.09906125068664551\n",
      "[2025/04/23 16:56:08] ppocr DEBUG: dt_boxes num : 0, elapsed : 0.008803844451904297\n",
      "[2025/04/23 16:56:08] ppocr DEBUG: cls num  : 0, elapsed : 0\n",
      "[2025/04/23 16:56:08] ppocr DEBUG: rec_res num  : 0, elapsed : 0.0\n",
      "[2025/04/23 16:56:08] ppocr DEBUG: dt_boxes num : 5, elapsed : 0.021335363388061523\n",
      "[2025/04/23 16:56:08] ppocr DEBUG: cls num  : 5, elapsed : 0.007508993148803711\n",
      "[2025/04/23 16:56:08] ppocr DEBUG: rec_res num  : 5, elapsed : 0.1314256191253662\n",
      "[2025/04/23 16:56:08] ppocr DEBUG: dt_boxes num : 0, elapsed : 0.03329205513000488\n",
      "[2025/04/23 16:56:08] ppocr DEBUG: cls num  : 0, elapsed : 0\n",
      "[2025/04/23 16:56:08] ppocr DEBUG: rec_res num  : 0, elapsed : 0.0\n",
      "\n",
      "0: 480x640 3 plates, 6.3ms\n",
      "Speed: 1.2ms preprocess, 6.3ms inference, 1.1ms postprocess per image at shape (1, 3, 480, 640)\n",
      "[2025/04/23 16:56:08] ppocr DEBUG: dt_boxes num : 4, elapsed : 0.012317180633544922\n",
      "[2025/04/23 16:56:08] ppocr DEBUG: cls num  : 4, elapsed : 0.030163049697875977\n",
      "[2025/04/23 16:56:08] ppocr DEBUG: rec_res num  : 4, elapsed : 0.14701628684997559\n",
      "[2025/04/23 16:56:08] ppocr DEBUG: dt_boxes num : 0, elapsed : 0.008998632431030273\n",
      "[2025/04/23 16:56:08] ppocr DEBUG: cls num  : 0, elapsed : 0\n",
      "[2025/04/23 16:56:08] ppocr DEBUG: rec_res num  : 0, elapsed : 0.0\n",
      "[2025/04/23 16:56:08] ppocr DEBUG: dt_boxes num : 6, elapsed : 0.023051977157592773\n",
      "[2025/04/23 16:56:08] ppocr DEBUG: cls num  : 6, elapsed : 0.03457903861999512\n",
      "[2025/04/23 16:56:08] ppocr DEBUG: rec_res num  : 6, elapsed : 0.19338583946228027\n",
      "\n",
      "0: 480x640 3 plates, 7.7ms\n",
      "Speed: 1.3ms preprocess, 7.7ms inference, 1.0ms postprocess per image at shape (1, 3, 480, 640)\n",
      "[2025/04/23 16:56:08] ppocr DEBUG: dt_boxes num : 2, elapsed : 0.04478716850280762\n",
      "[2025/04/23 16:56:08] ppocr DEBUG: cls num  : 2, elapsed : 0.007512092590332031\n",
      "[2025/04/23 16:56:08] ppocr DEBUG: rec_res num  : 2, elapsed : 0.05614161491394043\n",
      "[2025/04/23 16:56:08] ppocr DEBUG: dt_boxes num : 0, elapsed : 0.0335536003112793\n",
      "[2025/04/23 16:56:08] ppocr DEBUG: cls num  : 0, elapsed : 0\n",
      "[2025/04/23 16:56:08] ppocr DEBUG: rec_res num  : 0, elapsed : 0.0\n",
      "[2025/04/23 16:56:09] ppocr DEBUG: dt_boxes num : 6, elapsed : 0.054184913635253906\n",
      "[2025/04/23 16:56:09] ppocr DEBUG: cls num  : 6, elapsed : 0.013605117797851562\n",
      "[2025/04/23 16:56:09] ppocr DEBUG: rec_res num  : 6, elapsed : 0.1579904556274414\n",
      "\n",
      "0: 480x640 3 plates, 6.8ms\n",
      "Speed: 0.9ms preprocess, 6.8ms inference, 1.1ms postprocess per image at shape (1, 3, 480, 640)\n",
      "[2025/04/23 16:56:09] ppocr DEBUG: dt_boxes num : 2, elapsed : 0.013537883758544922\n",
      "[2025/04/23 16:56:09] ppocr DEBUG: cls num  : 2, elapsed : 0.004998922348022461\n",
      "[2025/04/23 16:56:09] ppocr DEBUG: rec_res num  : 2, elapsed : 0.05614185333251953\n",
      "[2025/04/23 16:56:09] ppocr DEBUG: dt_boxes num : 0, elapsed : 0.01004338264465332\n",
      "[2025/04/23 16:56:09] ppocr DEBUG: cls num  : 0, elapsed : 0\n",
      "[2025/04/23 16:56:09] ppocr DEBUG: rec_res num  : 0, elapsed : 0.0\n",
      "[2025/04/23 16:56:09] ppocr DEBUG: dt_boxes num : 5, elapsed : 0.022063255310058594\n",
      "[2025/04/23 16:56:09] ppocr DEBUG: cls num  : 5, elapsed : 0.028360605239868164\n",
      "[2025/04/23 16:56:09] ppocr DEBUG: rec_res num  : 5, elapsed : 0.1668870449066162\n",
      "\n",
      "0: 480x640 3 plates, 8.7ms\n",
      "Speed: 1.0ms preprocess, 8.7ms inference, 1.3ms postprocess per image at shape (1, 3, 480, 640)\n",
      "[2025/04/23 16:56:09] ppocr DEBUG: dt_boxes num : 2, elapsed : 0.01324915885925293\n",
      "[2025/04/23 16:56:09] ppocr DEBUG: cls num  : 2, elapsed : 0.025547504425048828\n",
      "[2025/04/23 16:56:09] ppocr DEBUG: rec_res num  : 2, elapsed : 0.08735918998718262\n",
      "[2025/04/23 16:56:09] ppocr DEBUG: dt_boxes num : 0, elapsed : 0.011018037796020508\n",
      "[2025/04/23 16:56:09] ppocr DEBUG: cls num  : 0, elapsed : 0\n",
      "[2025/04/23 16:56:09] ppocr DEBUG: rec_res num  : 0, elapsed : 0.0\n",
      "[2025/04/23 16:56:09] ppocr DEBUG: dt_boxes num : 5, elapsed : 0.019567012786865234\n",
      "[2025/04/23 16:56:09] ppocr DEBUG: cls num  : 5, elapsed : 0.011166572570800781\n",
      "[2025/04/23 16:56:09] ppocr DEBUG: rec_res num  : 5, elapsed : 0.1340656280517578\n",
      "\n",
      "0: 480x640 3 plates, 6.5ms\n",
      "Speed: 1.1ms preprocess, 6.5ms inference, 1.5ms postprocess per image at shape (1, 3, 480, 640)\n",
      "[2025/04/23 16:56:09] ppocr DEBUG: dt_boxes num : 4, elapsed : 0.011022329330444336\n",
      "[2025/04/23 16:56:09] ppocr DEBUG: cls num  : 4, elapsed : 0.011530876159667969\n",
      "[2025/04/23 16:56:10] ppocr DEBUG: rec_res num  : 4, elapsed : 0.11457419395446777\n",
      "[2025/04/23 16:56:10] ppocr DEBUG: dt_boxes num : 0, elapsed : 0.011018514633178711\n",
      "[2025/04/23 16:56:10] ppocr DEBUG: cls num  : 0, elapsed : 0\n",
      "[2025/04/23 16:56:10] ppocr DEBUG: rec_res num  : 0, elapsed : 0.0\n",
      "[2025/04/23 16:56:10] ppocr DEBUG: dt_boxes num : 5, elapsed : 0.023560762405395508\n",
      "[2025/04/23 16:56:10] ppocr DEBUG: cls num  : 5, elapsed : 0.007079601287841797\n",
      "[2025/04/23 16:56:10] ppocr DEBUG: rec_res num  : 5, elapsed : 0.13499951362609863\n",
      "\n",
      "0: 480x640 3 plates, 6.7ms\n",
      "Speed: 1.0ms preprocess, 6.7ms inference, 1.2ms postprocess per image at shape (1, 3, 480, 640)\n",
      "[2025/04/23 16:56:10] ppocr DEBUG: dt_boxes num : 2, elapsed : 0.013021469116210938\n",
      "[2025/04/23 16:56:10] ppocr DEBUG: cls num  : 2, elapsed : 0.007018327713012695\n",
      "[2025/04/23 16:56:10] ppocr DEBUG: rec_res num  : 2, elapsed : 0.05924367904663086\n",
      "[2025/04/23 16:56:10] ppocr DEBUG: dt_boxes num : 0, elapsed : 0.013023138046264648\n",
      "[2025/04/23 16:56:10] ppocr DEBUG: cls num  : 0, elapsed : 0\n",
      "[2025/04/23 16:56:10] ppocr DEBUG: rec_res num  : 0, elapsed : 0.0\n",
      "[2025/04/23 16:56:10] ppocr DEBUG: dt_boxes num : 5, elapsed : 0.02611684799194336\n",
      "[2025/04/23 16:56:10] ppocr DEBUG: cls num  : 5, elapsed : 0.009004354476928711\n",
      "[2025/04/23 16:56:10] ppocr DEBUG: rec_res num  : 5, elapsed : 0.1378309726715088\n",
      "\n",
      "0: 480x640 3 plates, 7.9ms\n",
      "Speed: 1.3ms preprocess, 7.9ms inference, 1.2ms postprocess per image at shape (1, 3, 480, 640)\n",
      "[2025/04/23 16:56:10] ppocr DEBUG: dt_boxes num : 4, elapsed : 0.01405644416809082\n",
      "[2025/04/23 16:56:10] ppocr DEBUG: cls num  : 4, elapsed : 0.009021282196044922\n",
      "[2025/04/23 16:56:10] ppocr DEBUG: rec_res num  : 4, elapsed : 0.1098470687866211\n",
      "[2025/04/23 16:56:10] ppocr DEBUG: dt_boxes num : 0, elapsed : 0.04883623123168945\n",
      "[2025/04/23 16:56:10] ppocr DEBUG: cls num  : 0, elapsed : 0\n",
      "[2025/04/23 16:56:10] ppocr DEBUG: rec_res num  : 0, elapsed : 0.0\n",
      "[2025/04/23 16:56:10] ppocr DEBUG: dt_boxes num : 5, elapsed : 0.023553848266601562\n",
      "[2025/04/23 16:56:10] ppocr DEBUG: cls num  : 5, elapsed : 0.011028051376342773\n",
      "[2025/04/23 16:56:10] ppocr DEBUG: rec_res num  : 5, elapsed : 0.1365830898284912\n",
      "\n",
      "0: 480x640 3 plates, 7.2ms\n",
      "Speed: 1.6ms preprocess, 7.2ms inference, 1.7ms postprocess per image at shape (1, 3, 480, 640)\n",
      "[2025/04/23 16:56:11] ppocr DEBUG: dt_boxes num : 2, elapsed : 0.043167829513549805\n",
      "[2025/04/23 16:56:11] ppocr DEBUG: cls num  : 2, elapsed : 0.006008148193359375\n",
      "[2025/04/23 16:56:11] ppocr DEBUG: rec_res num  : 2, elapsed : 0.0576939582824707\n",
      "[2025/04/23 16:56:11] ppocr DEBUG: dt_boxes num : 0, elapsed : 0.04233694076538086\n",
      "[2025/04/23 16:56:11] ppocr DEBUG: cls num  : 0, elapsed : 0\n",
      "[2025/04/23 16:56:11] ppocr DEBUG: rec_res num  : 0, elapsed : 0.0\n",
      "[2025/04/23 16:56:11] ppocr DEBUG: dt_boxes num : 5, elapsed : 0.049330711364746094\n",
      "[2025/04/23 16:56:11] ppocr DEBUG: cls num  : 5, elapsed : 0.006500959396362305\n",
      "[2025/04/23 16:56:11] ppocr DEBUG: rec_res num  : 5, elapsed : 0.13213586807250977\n",
      "\n",
      "0: 480x640 4 plates, 6.1ms\n",
      "Speed: 1.0ms preprocess, 6.1ms inference, 1.0ms postprocess per image at shape (1, 3, 480, 640)\n",
      "[2025/04/23 16:56:11] ppocr DEBUG: dt_boxes num : 2, elapsed : 0.014023065567016602\n",
      "[2025/04/23 16:56:11] ppocr DEBUG: cls num  : 2, elapsed : 0.0060040950775146484\n",
      "[2025/04/23 16:56:11] ppocr DEBUG: rec_res num  : 2, elapsed : 0.057088375091552734\n",
      "[2025/04/23 16:56:11] ppocr DEBUG: dt_boxes num : 0, elapsed : 0.04437708854675293\n",
      "[2025/04/23 16:56:11] ppocr DEBUG: cls num  : 0, elapsed : 0\n",
      "[2025/04/23 16:56:11] ppocr DEBUG: rec_res num  : 0, elapsed : 0.0\n",
      "[2025/04/23 16:56:11] ppocr DEBUG: dt_boxes num : 6, elapsed : 0.0198824405670166\n",
      "[2025/04/23 16:56:11] ppocr DEBUG: cls num  : 6, elapsed : 0.03207135200500488\n",
      "[2025/04/23 16:56:11] ppocr DEBUG: rec_res num  : 6, elapsed : 0.20448756217956543\n",
      "[2025/04/23 16:56:11] ppocr DEBUG: dt_boxes num : 0, elapsed : 0.03314518928527832\n",
      "[2025/04/23 16:56:11] ppocr DEBUG: cls num  : 0, elapsed : 0\n",
      "[2025/04/23 16:56:11] ppocr DEBUG: rec_res num  : 0, elapsed : 0.0\n",
      "\n",
      "0: 480x640 2 plates, 8.2ms\n",
      "Speed: 1.2ms preprocess, 8.2ms inference, 1.7ms postprocess per image at shape (1, 3, 480, 640)\n",
      "[2025/04/23 16:56:11] ppocr DEBUG: dt_boxes num : 2, elapsed : 0.04639458656311035\n",
      "[2025/04/23 16:56:11] ppocr DEBUG: cls num  : 2, elapsed : 0.027559518814086914\n",
      "[2025/04/23 16:56:11] ppocr DEBUG: rec_res num  : 2, elapsed : 0.09131145477294922\n",
      "[2025/04/23 16:56:11] ppocr DEBUG: dt_boxes num : 0, elapsed : 0.0095977783203125\n",
      "[2025/04/23 16:56:11] ppocr DEBUG: cls num  : 0, elapsed : 0\n",
      "[2025/04/23 16:56:11] ppocr DEBUG: rec_res num  : 0, elapsed : 0.0\n",
      "\n",
      "0: 480x640 3 plates, 6.4ms\n",
      "Speed: 1.2ms preprocess, 6.4ms inference, 0.9ms postprocess per image at shape (1, 3, 480, 640)\n",
      "[2025/04/23 16:56:12] ppocr DEBUG: dt_boxes num : 2, elapsed : 0.008022785186767578\n",
      "[2025/04/23 16:56:12] ppocr DEBUG: cls num  : 2, elapsed : 0.009022712707519531\n",
      "[2025/04/23 16:56:12] ppocr DEBUG: rec_res num  : 2, elapsed : 0.057439327239990234\n",
      "[2025/04/23 16:56:12] ppocr DEBUG: dt_boxes num : 0, elapsed : 0.010712385177612305\n",
      "[2025/04/23 16:56:12] ppocr DEBUG: cls num  : 0, elapsed : 0\n",
      "[2025/04/23 16:56:12] ppocr DEBUG: rec_res num  : 0, elapsed : 0.0\n",
      "[2025/04/23 16:56:12] ppocr DEBUG: dt_boxes num : 0, elapsed : 0.009018898010253906\n",
      "[2025/04/23 16:56:12] ppocr DEBUG: cls num  : 0, elapsed : 0\n",
      "[2025/04/23 16:56:12] ppocr DEBUG: rec_res num  : 0, elapsed : 0.0\n",
      "\n",
      "0: 480x640 2 plates, 6.4ms\n",
      "Speed: 1.1ms preprocess, 6.4ms inference, 1.1ms postprocess per image at shape (1, 3, 480, 640)\n",
      "[2025/04/23 16:56:12] ppocr DEBUG: dt_boxes num : 2, elapsed : 0.011028528213500977\n",
      "[2025/04/23 16:56:12] ppocr DEBUG: cls num  : 2, elapsed : 0.005255222320556641\n",
      "[2025/04/23 16:56:12] ppocr DEBUG: rec_res num  : 2, elapsed : 0.052254676818847656\n",
      "[2025/04/23 16:56:12] ppocr DEBUG: dt_boxes num : 0, elapsed : 0.010942220687866211\n",
      "[2025/04/23 16:56:12] ppocr DEBUG: cls num  : 0, elapsed : 0\n",
      "[2025/04/23 16:56:12] ppocr DEBUG: rec_res num  : 0, elapsed : 0.0\n",
      "\n",
      "0: 480x640 2 plates, 6.7ms\n",
      "Speed: 1.2ms preprocess, 6.7ms inference, 1.6ms postprocess per image at shape (1, 3, 480, 640)\n",
      "[2025/04/23 16:56:12] ppocr DEBUG: dt_boxes num : 2, elapsed : 0.011006593704223633\n",
      "[2025/04/23 16:56:12] ppocr DEBUG: cls num  : 2, elapsed : 0.006508350372314453\n",
      "[2025/04/23 16:56:12] ppocr DEBUG: rec_res num  : 2, elapsed : 0.058242082595825195\n",
      "[2025/04/23 16:56:12] ppocr DEBUG: dt_boxes num : 0, elapsed : 0.009079456329345703\n",
      "[2025/04/23 16:56:12] ppocr DEBUG: cls num  : 0, elapsed : 0\n",
      "[2025/04/23 16:56:12] ppocr DEBUG: rec_res num  : 0, elapsed : 0.0\n",
      "\n",
      "0: 480x640 3 plates, 8.3ms\n",
      "Speed: 1.1ms preprocess, 8.3ms inference, 2.0ms postprocess per image at shape (1, 3, 480, 640)\n",
      "[2025/04/23 16:56:12] ppocr DEBUG: dt_boxes num : 2, elapsed : 0.01452183723449707\n",
      "[2025/04/23 16:56:12] ppocr DEBUG: cls num  : 2, elapsed : 0.007500648498535156\n",
      "[2025/04/23 16:56:12] ppocr DEBUG: rec_res num  : 2, elapsed : 0.06152462959289551\n",
      "[2025/04/23 16:56:12] ppocr DEBUG: dt_boxes num : 0, elapsed : 0.009860038757324219\n",
      "[2025/04/23 16:56:12] ppocr DEBUG: cls num  : 0, elapsed : 0\n",
      "[2025/04/23 16:56:12] ppocr DEBUG: rec_res num  : 0, elapsed : 0.0\n",
      "[2025/04/23 16:56:12] ppocr DEBUG: dt_boxes num : 0, elapsed : 0.006873369216918945\n",
      "[2025/04/23 16:56:12] ppocr DEBUG: cls num  : 0, elapsed : 0\n",
      "[2025/04/23 16:56:12] ppocr DEBUG: rec_res num  : 0, elapsed : 0.0\n",
      "\n",
      "0: 480x640 3 plates, 6.3ms\n",
      "Speed: 0.8ms preprocess, 6.3ms inference, 1.1ms postprocess per image at shape (1, 3, 480, 640)\n",
      "[2025/04/23 16:56:12] ppocr DEBUG: dt_boxes num : 2, elapsed : 0.009023427963256836\n",
      "[2025/04/23 16:56:12] ppocr DEBUG: cls num  : 2, elapsed : 0.007021903991699219\n",
      "[2025/04/23 16:56:12] ppocr DEBUG: rec_res num  : 2, elapsed : 0.05691957473754883\n",
      "[2025/04/23 16:56:12] ppocr DEBUG: dt_boxes num : 0, elapsed : 0.011023521423339844\n",
      "[2025/04/23 16:56:12] ppocr DEBUG: cls num  : 0, elapsed : 0\n",
      "[2025/04/23 16:56:12] ppocr DEBUG: rec_res num  : 0, elapsed : 0.0\n",
      "[2025/04/23 16:56:12] ppocr DEBUG: dt_boxes num : 0, elapsed : 0.00802159309387207\n",
      "[2025/04/23 16:56:12] ppocr DEBUG: cls num  : 0, elapsed : 0\n",
      "[2025/04/23 16:56:12] ppocr DEBUG: rec_res num  : 0, elapsed : 0.0\n",
      "\n",
      "0: 480x640 3 plates, 8.0ms\n",
      "Speed: 1.0ms preprocess, 8.0ms inference, 1.9ms postprocess per image at shape (1, 3, 480, 640)\n",
      "[2025/04/23 16:56:12] ppocr DEBUG: dt_boxes num : 2, elapsed : 0.009019136428833008\n",
      "[2025/04/23 16:56:12] ppocr DEBUG: cls num  : 2, elapsed : 0.007516384124755859\n",
      "[2025/04/23 16:56:12] ppocr DEBUG: rec_res num  : 2, elapsed : 0.05284404754638672\n",
      "[2025/04/23 16:56:12] ppocr DEBUG: dt_boxes num : 0, elapsed : 0.00907135009765625\n",
      "[2025/04/23 16:56:12] ppocr DEBUG: cls num  : 0, elapsed : 0\n",
      "[2025/04/23 16:56:12] ppocr DEBUG: rec_res num  : 0, elapsed : 0.0\n",
      "[2025/04/23 16:56:12] ppocr DEBUG: dt_boxes num : 0, elapsed : 0.04002213478088379\n",
      "[2025/04/23 16:56:12] ppocr DEBUG: cls num  : 0, elapsed : 0\n",
      "[2025/04/23 16:56:12] ppocr DEBUG: rec_res num  : 0, elapsed : 0.0\n",
      "\n",
      "0: 480x640 3 plates, 7.6ms\n",
      "Speed: 1.2ms preprocess, 7.6ms inference, 1.8ms postprocess per image at shape (1, 3, 480, 640)\n",
      "[2025/04/23 16:56:12] ppocr DEBUG: dt_boxes num : 2, elapsed : 0.012534379959106445\n",
      "[2025/04/23 16:56:12] ppocr DEBUG: cls num  : 2, elapsed : 0.005006313323974609\n",
      "[2025/04/23 16:56:12] ppocr DEBUG: rec_res num  : 2, elapsed : 0.05493640899658203\n",
      "[2025/04/23 16:56:12] ppocr DEBUG: dt_boxes num : 0, elapsed : 0.03205275535583496\n",
      "[2025/04/23 16:56:12] ppocr DEBUG: cls num  : 0, elapsed : 0\n",
      "[2025/04/23 16:56:12] ppocr DEBUG: rec_res num  : 0, elapsed : 0.0\n",
      "[2025/04/23 16:56:12] ppocr DEBUG: dt_boxes num : 0, elapsed : 0.00801992416381836\n",
      "[2025/04/23 16:56:12] ppocr DEBUG: cls num  : 0, elapsed : 0\n",
      "[2025/04/23 16:56:12] ppocr DEBUG: rec_res num  : 0, elapsed : 0.0\n",
      "\n",
      "0: 480x640 2 plates, 7.5ms\n",
      "Speed: 1.2ms preprocess, 7.5ms inference, 1.6ms postprocess per image at shape (1, 3, 480, 640)\n",
      "[2025/04/23 16:56:12] ppocr DEBUG: dt_boxes num : 2, elapsed : 0.012535333633422852\n",
      "[2025/04/23 16:56:12] ppocr DEBUG: cls num  : 2, elapsed : 0.009516239166259766\n",
      "[2025/04/23 16:56:13] ppocr DEBUG: rec_res num  : 2, elapsed : 0.05962252616882324\n",
      "[2025/04/23 16:56:13] ppocr DEBUG: dt_boxes num : 0, elapsed : 0.010039567947387695\n",
      "[2025/04/23 16:56:13] ppocr DEBUG: cls num  : 0, elapsed : 0\n",
      "[2025/04/23 16:56:13] ppocr DEBUG: rec_res num  : 0, elapsed : 0.0\n",
      "\n",
      "0: 480x640 2 plates, 5.9ms\n",
      "Speed: 1.1ms preprocess, 5.9ms inference, 0.9ms postprocess per image at shape (1, 3, 480, 640)\n",
      "[2025/04/23 16:56:13] ppocr DEBUG: dt_boxes num : 2, elapsed : 0.01401972770690918\n",
      "[2025/04/23 16:56:13] ppocr DEBUG: cls num  : 2, elapsed : 0.00802159309387207\n",
      "[2025/04/23 16:56:13] ppocr DEBUG: rec_res num  : 2, elapsed : 0.056741952896118164\n",
      "[2025/04/23 16:56:13] ppocr DEBUG: dt_boxes num : 0, elapsed : 0.04407787322998047\n",
      "[2025/04/23 16:56:13] ppocr DEBUG: cls num  : 0, elapsed : 0\n",
      "[2025/04/23 16:56:13] ppocr DEBUG: rec_res num  : 0, elapsed : 0.0\n",
      "\n",
      "0: 480x640 3 plates, 7.1ms\n",
      "Speed: 0.8ms preprocess, 7.1ms inference, 1.1ms postprocess per image at shape (1, 3, 480, 640)\n",
      "[2025/04/23 16:56:13] ppocr DEBUG: dt_boxes num : 2, elapsed : 0.009102582931518555\n",
      "[2025/04/23 16:56:13] ppocr DEBUG: cls num  : 2, elapsed : 0.008888483047485352\n",
      "[2025/04/23 16:56:13] ppocr DEBUG: rec_res num  : 2, elapsed : 0.056168556213378906\n",
      "[2025/04/23 16:56:13] ppocr DEBUG: dt_boxes num : 0, elapsed : 0.013745784759521484\n",
      "[2025/04/23 16:56:13] ppocr DEBUG: cls num  : 0, elapsed : 0\n",
      "[2025/04/23 16:56:13] ppocr DEBUG: rec_res num  : 0, elapsed : 0.0\n",
      "[2025/04/23 16:56:13] ppocr DEBUG: dt_boxes num : 6, elapsed : 0.05162668228149414\n",
      "[2025/04/23 16:56:13] ppocr DEBUG: cls num  : 6, elapsed : 0.012090921401977539\n",
      "[2025/04/23 16:56:13] ppocr DEBUG: rec_res num  : 6, elapsed : 0.15181350708007812\n",
      "\n",
      "0: 480x640 3 plates, 6.0ms\n",
      "Speed: 0.9ms preprocess, 6.0ms inference, 1.4ms postprocess per image at shape (1, 3, 480, 640)\n",
      "[2025/04/23 16:56:13] ppocr DEBUG: dt_boxes num : 2, elapsed : 0.007999181747436523\n",
      "[2025/04/23 16:56:13] ppocr DEBUG: cls num  : 2, elapsed : 0.007997274398803711\n",
      "[2025/04/23 16:56:13] ppocr DEBUG: rec_res num  : 2, elapsed : 0.059091806411743164\n",
      "[2025/04/23 16:56:13] ppocr DEBUG: dt_boxes num : 0, elapsed : 0.013531684875488281\n",
      "[2025/04/23 16:56:13] ppocr DEBUG: cls num  : 0, elapsed : 0\n",
      "[2025/04/23 16:56:13] ppocr DEBUG: rec_res num  : 0, elapsed : 0.0\n",
      "[2025/04/23 16:56:13] ppocr DEBUG: dt_boxes num : 7, elapsed : 0.021531343460083008\n",
      "[2025/04/23 16:56:13] ppocr DEBUG: cls num  : 7, elapsed : 0.03406786918640137\n",
      "[2025/04/23 16:56:13] ppocr DEBUG: rec_res num  : 7, elapsed : 0.2650265693664551\n",
      "\n",
      "0: 480x640 3 plates, 6.4ms\n",
      "Speed: 1.2ms preprocess, 6.4ms inference, 1.1ms postprocess per image at shape (1, 3, 480, 640)\n",
      "[2025/04/23 16:56:14] ppocr DEBUG: dt_boxes num : 2, elapsed : 0.04836678504943848\n",
      "[2025/04/23 16:56:14] ppocr DEBUG: cls num  : 2, elapsed : 0.025051116943359375\n",
      "[2025/04/23 16:56:14] ppocr DEBUG: rec_res num  : 2, elapsed : 0.08689355850219727\n",
      "[2025/04/23 16:56:14] ppocr DEBUG: dt_boxes num : 0, elapsed : 0.013730764389038086\n",
      "[2025/04/23 16:56:14] ppocr DEBUG: cls num  : 0, elapsed : 0\n",
      "[2025/04/23 16:56:14] ppocr DEBUG: rec_res num  : 0, elapsed : 0.0\n",
      "[2025/04/23 16:56:14] ppocr DEBUG: dt_boxes num : 6, elapsed : 0.021018028259277344\n",
      "[2025/04/23 16:56:14] ppocr DEBUG: cls num  : 6, elapsed : 0.011671781539916992\n",
      "[2025/04/23 16:56:14] ppocr DEBUG: rec_res num  : 6, elapsed : 0.14432358741760254\n",
      "\n",
      "0: 480x640 3 plates, 7.4ms\n",
      "Speed: 1.2ms preprocess, 7.4ms inference, 1.0ms postprocess per image at shape (1, 3, 480, 640)\n",
      "[2025/04/23 16:56:14] ppocr DEBUG: dt_boxes num : 2, elapsed : 0.01002192497253418\n",
      "[2025/04/23 16:56:14] ppocr DEBUG: cls num  : 2, elapsed : 0.00500035285949707\n",
      "[2025/04/23 16:56:14] ppocr DEBUG: rec_res num  : 2, elapsed : 0.05244255065917969\n",
      "[2025/04/23 16:56:14] ppocr DEBUG: dt_boxes num : 0, elapsed : 0.014022588729858398\n",
      "[2025/04/23 16:56:14] ppocr DEBUG: cls num  : 0, elapsed : 0\n",
      "[2025/04/23 16:56:14] ppocr DEBUG: rec_res num  : 0, elapsed : 0.0\n",
      "[2025/04/23 16:56:14] ppocr DEBUG: dt_boxes num : 6, elapsed : 0.021547794342041016\n",
      "[2025/04/23 16:56:14] ppocr DEBUG: cls num  : 6, elapsed : 0.01001596450805664\n",
      "[2025/04/23 16:56:14] ppocr DEBUG: rec_res num  : 6, elapsed : 0.15334796905517578\n",
      "\n",
      "0: 480x640 2 plates, 7.0ms\n",
      "Speed: 1.3ms preprocess, 7.0ms inference, 1.2ms postprocess per image at shape (1, 3, 480, 640)\n",
      "[2025/04/23 16:56:14] ppocr DEBUG: dt_boxes num : 2, elapsed : 0.03729128837585449\n",
      "[2025/04/23 16:56:14] ppocr DEBUG: cls num  : 2, elapsed : 0.0055577754974365234\n",
      "[2025/04/23 16:56:14] ppocr DEBUG: rec_res num  : 2, elapsed : 0.05218839645385742\n",
      "[2025/04/23 16:56:14] ppocr DEBUG: dt_boxes num : 0, elapsed : 0.04457902908325195\n",
      "[2025/04/23 16:56:14] ppocr DEBUG: cls num  : 0, elapsed : 0\n",
      "[2025/04/23 16:56:14] ppocr DEBUG: rec_res num  : 0, elapsed : 0.0\n",
      "\n",
      "0: 480x640 3 plates, 6.4ms\n",
      "Speed: 1.1ms preprocess, 6.4ms inference, 1.1ms postprocess per image at shape (1, 3, 480, 640)\n",
      "[2025/04/23 16:56:14] ppocr DEBUG: dt_boxes num : 2, elapsed : 0.039383888244628906\n",
      "[2025/04/23 16:56:14] ppocr DEBUG: cls num  : 2, elapsed : 0.00551152229309082\n",
      "[2025/04/23 16:56:14] ppocr DEBUG: rec_res num  : 2, elapsed : 0.05094337463378906\n",
      "[2025/04/23 16:56:15] ppocr DEBUG: dt_boxes num : 0, elapsed : 0.047817230224609375\n",
      "[2025/04/23 16:56:15] ppocr DEBUG: cls num  : 0, elapsed : 0\n",
      "[2025/04/23 16:56:15] ppocr DEBUG: rec_res num  : 0, elapsed : 0.0\n",
      "[2025/04/23 16:56:15] ppocr DEBUG: dt_boxes num : 7, elapsed : 0.06661224365234375\n",
      "[2025/04/23 16:56:15] ppocr DEBUG: cls num  : 7, elapsed : 0.05815410614013672\n",
      "[2025/04/23 16:56:15] ppocr DEBUG: rec_res num  : 7, elapsed : 0.25586438179016113\n",
      "\n",
      "0: 480x640 3 plates, 6.0ms\n",
      "Speed: 0.9ms preprocess, 6.0ms inference, 1.0ms postprocess per image at shape (1, 3, 480, 640)\n",
      "[2025/04/23 16:56:15] ppocr DEBUG: dt_boxes num : 3, elapsed : 0.008622407913208008\n",
      "[2025/04/23 16:56:15] ppocr DEBUG: cls num  : 3, elapsed : 0.032067060470581055\n",
      "[2025/04/23 16:56:15] ppocr DEBUG: rec_res num  : 3, elapsed : 0.12153339385986328\n",
      "[2025/04/23 16:56:15] ppocr DEBUG: dt_boxes num : 0, elapsed : 0.012525320053100586\n",
      "[2025/04/23 16:56:15] ppocr DEBUG: cls num  : 0, elapsed : 0\n",
      "[2025/04/23 16:56:15] ppocr DEBUG: rec_res num  : 0, elapsed : 0.0\n",
      "[2025/04/23 16:56:15] ppocr DEBUG: dt_boxes num : 7, elapsed : 0.02103710174560547\n",
      "[2025/04/23 16:56:15] ppocr DEBUG: cls num  : 7, elapsed : 0.014147043228149414\n",
      "[2025/04/23 16:56:15] ppocr DEBUG: rec_res num  : 7, elapsed : 0.2230224609375\n",
      "\n",
      "0: 480x640 2 plates, 7.7ms\n",
      "Speed: 1.5ms preprocess, 7.7ms inference, 1.1ms postprocess per image at shape (1, 3, 480, 640)\n",
      "[2025/04/23 16:56:15] ppocr DEBUG: dt_boxes num : 3, elapsed : 0.03907489776611328\n",
      "[2025/04/23 16:56:15] ppocr DEBUG: cls num  : 3, elapsed : 0.006508827209472656\n",
      "[2025/04/23 16:56:16] ppocr DEBUG: rec_res num  : 3, elapsed : 0.0714879035949707\n",
      "[2025/04/23 16:56:16] ppocr DEBUG: dt_boxes num : 0, elapsed : 0.013027191162109375\n",
      "[2025/04/23 16:56:16] ppocr DEBUG: cls num  : 0, elapsed : 0\n",
      "[2025/04/23 16:56:16] ppocr DEBUG: rec_res num  : 0, elapsed : 0.0\n",
      "\n",
      "0: 480x640 2 plates, 7.2ms\n",
      "Speed: 1.1ms preprocess, 7.2ms inference, 1.1ms postprocess per image at shape (1, 3, 480, 640)\n",
      "[2025/04/23 16:56:16] ppocr DEBUG: dt_boxes num : 3, elapsed : 0.008151531219482422\n",
      "[2025/04/23 16:56:16] ppocr DEBUG: cls num  : 3, elapsed : 0.007021903991699219\n",
      "[2025/04/23 16:56:16] ppocr DEBUG: rec_res num  : 3, elapsed : 0.07774233818054199\n",
      "[2025/04/23 16:56:16] ppocr DEBUG: dt_boxes num : 0, elapsed : 0.041329145431518555\n",
      "[2025/04/23 16:56:16] ppocr DEBUG: cls num  : 0, elapsed : 0\n",
      "[2025/04/23 16:56:16] ppocr DEBUG: rec_res num  : 0, elapsed : 0.0\n",
      "\n",
      "0: 480x640 2 plates, 7.1ms\n",
      "Speed: 1.7ms preprocess, 7.1ms inference, 1.1ms postprocess per image at shape (1, 3, 480, 640)\n",
      "[2025/04/23 16:56:16] ppocr DEBUG: dt_boxes num : 3, elapsed : 0.008022308349609375\n",
      "[2025/04/23 16:56:16] ppocr DEBUG: cls num  : 3, elapsed : 0.005509614944458008\n",
      "[2025/04/23 16:56:16] ppocr DEBUG: rec_res num  : 3, elapsed : 0.08572840690612793\n",
      "[2025/04/23 16:56:16] ppocr DEBUG: dt_boxes num : 0, elapsed : 0.009012222290039062\n",
      "[2025/04/23 16:56:16] ppocr DEBUG: cls num  : 0, elapsed : 0\n",
      "[2025/04/23 16:56:16] ppocr DEBUG: rec_res num  : 0, elapsed : 0.0\n",
      "\n",
      "0: 480x640 2 plates, 6.7ms\n",
      "Speed: 1.0ms preprocess, 6.7ms inference, 0.9ms postprocess per image at shape (1, 3, 480, 640)\n",
      "[2025/04/23 16:56:16] ppocr DEBUG: dt_boxes num : 3, elapsed : 0.008170127868652344\n",
      "[2025/04/23 16:56:16] ppocr DEBUG: cls num  : 3, elapsed : 0.0060079097747802734\n",
      "[2025/04/23 16:56:16] ppocr DEBUG: rec_res num  : 3, elapsed : 0.07633614540100098\n",
      "[2025/04/23 16:56:16] ppocr DEBUG: dt_boxes num : 0, elapsed : 0.04409050941467285\n",
      "[2025/04/23 16:56:16] ppocr DEBUG: cls num  : 0, elapsed : 0\n",
      "[2025/04/23 16:56:16] ppocr DEBUG: rec_res num  : 0, elapsed : 0.0\n",
      "\n",
      "0: 480x640 2 plates, 6.5ms\n",
      "Speed: 0.8ms preprocess, 6.5ms inference, 1.4ms postprocess per image at shape (1, 3, 480, 640)\n",
      "[2025/04/23 16:56:16] ppocr DEBUG: dt_boxes num : 2, elapsed : 0.008139371871948242\n",
      "[2025/04/23 16:56:16] ppocr DEBUG: cls num  : 2, elapsed : 0.028565406799316406\n",
      "[2025/04/23 16:56:16] ppocr DEBUG: rec_res num  : 2, elapsed : 0.0900118350982666\n",
      "[2025/04/23 16:56:16] ppocr DEBUG: dt_boxes num : 0, elapsed : 0.010017871856689453\n",
      "[2025/04/23 16:56:16] ppocr DEBUG: cls num  : 0, elapsed : 0\n",
      "[2025/04/23 16:56:16] ppocr DEBUG: rec_res num  : 0, elapsed : 0.0\n",
      "\n",
      "0: 480x640 2 plates, 8.0ms\n",
      "Speed: 1.0ms preprocess, 8.0ms inference, 2.1ms postprocess per image at shape (1, 3, 480, 640)\n",
      "[2025/04/23 16:56:16] ppocr DEBUG: dt_boxes num : 3, elapsed : 0.006508350372314453\n",
      "[2025/04/23 16:56:16] ppocr DEBUG: cls num  : 3, elapsed : 0.00751185417175293\n",
      "[2025/04/23 16:56:16] ppocr DEBUG: rec_res num  : 3, elapsed : 0.0735321044921875\n",
      "[2025/04/23 16:56:16] ppocr DEBUG: dt_boxes num : 0, elapsed : 0.01451873779296875\n",
      "[2025/04/23 16:56:16] ppocr DEBUG: cls num  : 0, elapsed : 0\n",
      "[2025/04/23 16:56:16] ppocr DEBUG: rec_res num  : 0, elapsed : 0.0\n",
      "\n",
      "0: 480x640 2 plates, 9.4ms\n",
      "Speed: 0.8ms preprocess, 9.4ms inference, 1.2ms postprocess per image at shape (1, 3, 480, 640)\n",
      "[2025/04/23 16:56:16] ppocr DEBUG: dt_boxes num : 3, elapsed : 0.008868932723999023\n",
      "[2025/04/23 16:56:16] ppocr DEBUG: cls num  : 3, elapsed : 0.009010553359985352\n",
      "[2025/04/23 16:56:16] ppocr DEBUG: rec_res num  : 3, elapsed : 0.07959747314453125\n",
      "[2025/04/23 16:56:16] ppocr DEBUG: dt_boxes num : 0, elapsed : 0.009009361267089844\n",
      "[2025/04/23 16:56:16] ppocr DEBUG: cls num  : 0, elapsed : 0\n",
      "[2025/04/23 16:56:16] ppocr DEBUG: rec_res num  : 0, elapsed : 0.0\n",
      "\n",
      "0: 480x640 2 plates, 7.8ms\n",
      "Speed: 1.5ms preprocess, 7.8ms inference, 1.5ms postprocess per image at shape (1, 3, 480, 640)\n",
      "[2025/04/23 16:56:17] ppocr DEBUG: dt_boxes num : 3, elapsed : 0.008021354675292969\n",
      "[2025/04/23 16:56:17] ppocr DEBUG: cls num  : 3, elapsed : 0.007017850875854492\n",
      "[2025/04/23 16:56:17] ppocr DEBUG: rec_res num  : 3, elapsed : 0.08317780494689941\n",
      "[2025/04/23 16:56:17] ppocr DEBUG: dt_boxes num : 0, elapsed : 0.014165878295898438\n",
      "[2025/04/23 16:56:17] ppocr DEBUG: cls num  : 0, elapsed : 0\n",
      "[2025/04/23 16:56:17] ppocr DEBUG: rec_res num  : 0, elapsed : 0.0\n",
      "\n",
      "0: 480x640 2 plates, 9.7ms\n",
      "Speed: 1.1ms preprocess, 9.7ms inference, 1.2ms postprocess per image at shape (1, 3, 480, 640)\n",
      "[2025/04/23 16:56:17] ppocr DEBUG: dt_boxes num : 3, elapsed : 0.009569406509399414\n",
      "[2025/04/23 16:56:17] ppocr DEBUG: cls num  : 3, elapsed : 0.00761103630065918\n",
      "[2025/04/23 16:56:17] ppocr DEBUG: rec_res num  : 3, elapsed : 0.07456040382385254\n",
      "[2025/04/23 16:56:17] ppocr DEBUG: dt_boxes num : 0, elapsed : 0.011054277420043945\n",
      "[2025/04/23 16:56:17] ppocr DEBUG: cls num  : 0, elapsed : 0\n",
      "[2025/04/23 16:56:17] ppocr DEBUG: rec_res num  : 0, elapsed : 0.0\n",
      "\n",
      "0: 480x640 2 plates, 6.8ms\n",
      "Speed: 0.9ms preprocess, 6.8ms inference, 1.1ms postprocess per image at shape (1, 3, 480, 640)\n",
      "[2025/04/23 16:56:17] ppocr DEBUG: dt_boxes num : 3, elapsed : 0.008019447326660156\n",
      "[2025/04/23 16:56:17] ppocr DEBUG: cls num  : 3, elapsed : 0.006679058074951172\n",
      "[2025/04/23 16:56:17] ppocr DEBUG: rec_res num  : 3, elapsed : 0.07347297668457031\n",
      "[2025/04/23 16:56:17] ppocr DEBUG: dt_boxes num : 0, elapsed : 0.011526823043823242\n",
      "[2025/04/23 16:56:17] ppocr DEBUG: cls num  : 0, elapsed : 0\n",
      "[2025/04/23 16:56:17] ppocr DEBUG: rec_res num  : 0, elapsed : 0.0\n",
      "\n",
      "0: 480x640 2 plates, 7.3ms\n",
      "Speed: 1.2ms preprocess, 7.3ms inference, 1.1ms postprocess per image at shape (1, 3, 480, 640)\n",
      "[2025/04/23 16:56:17] ppocr DEBUG: dt_boxes num : 3, elapsed : 0.008133172988891602\n",
      "[2025/04/23 16:56:17] ppocr DEBUG: cls num  : 3, elapsed : 0.008105754852294922\n",
      "[2025/04/23 16:56:17] ppocr DEBUG: rec_res num  : 3, elapsed : 0.07642126083374023\n",
      "[2025/04/23 16:56:17] ppocr DEBUG: dt_boxes num : 0, elapsed : 0.008512735366821289\n",
      "[2025/04/23 16:56:17] ppocr DEBUG: cls num  : 0, elapsed : 0\n",
      "[2025/04/23 16:56:17] ppocr DEBUG: rec_res num  : 0, elapsed : 0.0\n",
      "\n",
      "0: 480x640 2 plates, 5.8ms\n",
      "Speed: 0.8ms preprocess, 5.8ms inference, 1.2ms postprocess per image at shape (1, 3, 480, 640)\n",
      "[2025/04/23 16:56:17] ppocr DEBUG: dt_boxes num : 3, elapsed : 0.008027315139770508\n",
      "[2025/04/23 16:56:17] ppocr DEBUG: cls num  : 3, elapsed : 0.007999420166015625\n",
      "[2025/04/23 16:56:17] ppocr DEBUG: rec_res num  : 3, elapsed : 0.08154916763305664\n",
      "[2025/04/23 16:56:17] ppocr DEBUG: dt_boxes num : 0, elapsed : 0.009345769882202148\n",
      "[2025/04/23 16:56:17] ppocr DEBUG: cls num  : 0, elapsed : 0\n",
      "[2025/04/23 16:56:17] ppocr DEBUG: rec_res num  : 0, elapsed : 0.0\n",
      "\n",
      "0: 480x640 3 plates, 8.7ms\n",
      "Speed: 1.6ms preprocess, 8.7ms inference, 1.6ms postprocess per image at shape (1, 3, 480, 640)\n",
      "[2025/04/23 16:56:17] ppocr DEBUG: dt_boxes num : 2, elapsed : 0.045769691467285156\n",
      "[2025/04/23 16:56:17] ppocr DEBUG: cls num  : 2, elapsed : 0.007017850875854492\n",
      "[2025/04/23 16:56:17] ppocr DEBUG: rec_res num  : 2, elapsed : 0.05663752555847168\n",
      "[2025/04/23 16:56:17] ppocr DEBUG: dt_boxes num : 0, elapsed : 0.03753089904785156\n",
      "[2025/04/23 16:56:17] ppocr DEBUG: cls num  : 0, elapsed : 0\n",
      "[2025/04/23 16:56:17] ppocr DEBUG: rec_res num  : 0, elapsed : 0.0\n",
      "[2025/04/23 16:56:17] ppocr DEBUG: dt_boxes num : 0, elapsed : 0.033066749572753906\n",
      "[2025/04/23 16:56:17] ppocr DEBUG: cls num  : 0, elapsed : 0\n",
      "[2025/04/23 16:56:17] ppocr DEBUG: rec_res num  : 0, elapsed : 0.0\n",
      "\n",
      "0: 480x640 2 plates, 7.3ms\n",
      "Speed: 1.0ms preprocess, 7.3ms inference, 1.0ms postprocess per image at shape (1, 3, 480, 640)\n",
      "[2025/04/23 16:56:17] ppocr DEBUG: dt_boxes num : 2, elapsed : 0.04224801063537598\n",
      "[2025/04/23 16:56:17] ppocr DEBUG: cls num  : 2, elapsed : 0.00461888313293457\n",
      "[2025/04/23 16:56:18] ppocr DEBUG: rec_res num  : 2, elapsed : 0.055556297302246094\n",
      "[2025/04/23 16:56:18] ppocr DEBUG: dt_boxes num : 0, elapsed : 0.039063453674316406\n",
      "[2025/04/23 16:56:18] ppocr DEBUG: cls num  : 0, elapsed : 0\n",
      "[2025/04/23 16:56:18] ppocr DEBUG: rec_res num  : 0, elapsed : 0.0\n",
      "\n",
      "0: 480x640 2 plates, 8.1ms\n",
      "Speed: 1.2ms preprocess, 8.1ms inference, 1.5ms postprocess per image at shape (1, 3, 480, 640)\n",
      "[2025/04/23 16:56:18] ppocr DEBUG: dt_boxes num : 2, elapsed : 0.008066892623901367\n",
      "[2025/04/23 16:56:18] ppocr DEBUG: cls num  : 2, elapsed : 0.011022567749023438\n",
      "[2025/04/23 16:56:18] ppocr DEBUG: rec_res num  : 2, elapsed : 0.056816816329956055\n",
      "[2025/04/23 16:56:18] ppocr DEBUG: dt_boxes num : 0, elapsed : 0.011936187744140625\n",
      "[2025/04/23 16:56:18] ppocr DEBUG: cls num  : 0, elapsed : 0\n",
      "[2025/04/23 16:56:18] ppocr DEBUG: rec_res num  : 0, elapsed : 0.0\n",
      "\n",
      "0: 480x640 2 plates, 6.7ms\n",
      "Speed: 0.9ms preprocess, 6.7ms inference, 1.5ms postprocess per image at shape (1, 3, 480, 640)\n",
      "[2025/04/23 16:56:18] ppocr DEBUG: dt_boxes num : 2, elapsed : 0.008020639419555664\n",
      "[2025/04/23 16:56:18] ppocr DEBUG: cls num  : 2, elapsed : 0.006021738052368164\n",
      "[2025/04/23 16:56:18] ppocr DEBUG: rec_res num  : 2, elapsed : 0.04909014701843262\n",
      "[2025/04/23 16:56:18] ppocr DEBUG: dt_boxes num : 0, elapsed : 0.010020732879638672\n",
      "[2025/04/23 16:56:18] ppocr DEBUG: cls num  : 0, elapsed : 0\n",
      "[2025/04/23 16:56:18] ppocr DEBUG: rec_res num  : 0, elapsed : 0.0\n",
      "\n",
      "0: 480x640 2 plates, 6.4ms\n",
      "Speed: 1.2ms preprocess, 6.4ms inference, 1.1ms postprocess per image at shape (1, 3, 480, 640)\n",
      "[2025/04/23 16:56:18] ppocr DEBUG: dt_boxes num : 2, elapsed : 0.009016990661621094\n",
      "[2025/04/23 16:56:18] ppocr DEBUG: cls num  : 2, elapsed : 0.009012222290039062\n",
      "[2025/04/23 16:56:18] ppocr DEBUG: rec_res num  : 2, elapsed : 0.06567883491516113\n",
      "[2025/04/23 16:56:18] ppocr DEBUG: dt_boxes num : 0, elapsed : 0.011165380477905273\n",
      "[2025/04/23 16:56:18] ppocr DEBUG: cls num  : 0, elapsed : 0\n",
      "[2025/04/23 16:56:18] ppocr DEBUG: rec_res num  : 0, elapsed : 0.0\n",
      "\n",
      "0: 480x640 2 plates, 5.6ms\n",
      "Speed: 0.9ms preprocess, 5.6ms inference, 1.0ms postprocess per image at shape (1, 3, 480, 640)\n",
      "[2025/04/23 16:56:18] ppocr DEBUG: dt_boxes num : 2, elapsed : 0.008000612258911133\n",
      "[2025/04/23 16:56:18] ppocr DEBUG: cls num  : 2, elapsed : 0.005511045455932617\n",
      "[2025/04/23 16:56:18] ppocr DEBUG: rec_res num  : 2, elapsed : 0.05718636512756348\n",
      "[2025/04/23 16:56:18] ppocr DEBUG: dt_boxes num : 0, elapsed : 0.009052753448486328\n",
      "[2025/04/23 16:56:18] ppocr DEBUG: cls num  : 0, elapsed : 0\n",
      "[2025/04/23 16:56:18] ppocr DEBUG: rec_res num  : 0, elapsed : 0.0\n",
      "\n",
      "0: 480x640 2 plates, 6.3ms\n",
      "Speed: 0.9ms preprocess, 6.3ms inference, 1.1ms postprocess per image at shape (1, 3, 480, 640)\n",
      "[2025/04/23 16:56:18] ppocr DEBUG: dt_boxes num : 2, elapsed : 0.009011268615722656\n",
      "[2025/04/23 16:56:18] ppocr DEBUG: cls num  : 2, elapsed : 0.00750732421875\n",
      "[2025/04/23 16:56:18] ppocr DEBUG: rec_res num  : 2, elapsed : 0.04960823059082031\n",
      "[2025/04/23 16:56:18] ppocr DEBUG: dt_boxes num : 0, elapsed : 0.012016773223876953\n",
      "[2025/04/23 16:56:18] ppocr DEBUG: cls num  : 0, elapsed : 0\n",
      "[2025/04/23 16:56:18] ppocr DEBUG: rec_res num  : 0, elapsed : 0.0\n",
      "\n",
      "0: 480x640 2 plates, 8.4ms\n",
      "Speed: 0.9ms preprocess, 8.4ms inference, 1.5ms postprocess per image at shape (1, 3, 480, 640)\n",
      "[2025/04/23 16:56:18] ppocr DEBUG: dt_boxes num : 2, elapsed : 0.00901484489440918\n",
      "[2025/04/23 16:56:18] ppocr DEBUG: cls num  : 2, elapsed : 0.007013082504272461\n",
      "[2025/04/23 16:56:18] ppocr DEBUG: rec_res num  : 2, elapsed : 0.05382132530212402\n",
      "[2025/04/23 16:56:18] ppocr DEBUG: dt_boxes num : 0, elapsed : 0.01102590560913086\n",
      "[2025/04/23 16:56:18] ppocr DEBUG: cls num  : 0, elapsed : 0\n",
      "[2025/04/23 16:56:18] ppocr DEBUG: rec_res num  : 0, elapsed : 0.0\n",
      "\n",
      "0: 480x640 2 plates, 8.4ms\n",
      "Speed: 0.8ms preprocess, 8.4ms inference, 1.6ms postprocess per image at shape (1, 3, 480, 640)\n",
      "[2025/04/23 16:56:18] ppocr DEBUG: dt_boxes num : 2, elapsed : 0.009020805358886719\n",
      "[2025/04/23 16:56:18] ppocr DEBUG: cls num  : 2, elapsed : 0.006016969680786133\n",
      "[2025/04/23 16:56:18] ppocr DEBUG: rec_res num  : 2, elapsed : 0.05660748481750488\n",
      "[2025/04/23 16:56:18] ppocr DEBUG: dt_boxes num : 0, elapsed : 0.014052867889404297\n",
      "[2025/04/23 16:56:18] ppocr DEBUG: cls num  : 0, elapsed : 0\n",
      "[2025/04/23 16:56:18] ppocr DEBUG: rec_res num  : 0, elapsed : 0.0\n",
      "\n",
      "0: 480x640 2 plates, 7.9ms\n",
      "Speed: 1.0ms preprocess, 7.9ms inference, 1.6ms postprocess per image at shape (1, 3, 480, 640)\n",
      "[2025/04/23 16:56:18] ppocr DEBUG: dt_boxes num : 2, elapsed : 0.008515357971191406\n",
      "[2025/04/23 16:56:18] ppocr DEBUG: cls num  : 2, elapsed : 0.005983114242553711\n",
      "[2025/04/23 16:56:18] ppocr DEBUG: rec_res num  : 2, elapsed : 0.05209779739379883\n",
      "[2025/04/23 16:56:18] ppocr DEBUG: dt_boxes num : 0, elapsed : 0.011516571044921875\n",
      "[2025/04/23 16:56:18] ppocr DEBUG: cls num  : 0, elapsed : 0\n",
      "[2025/04/23 16:56:18] ppocr DEBUG: rec_res num  : 0, elapsed : 0.0\n",
      "\n",
      "0: 480x640 2 plates, 7.1ms\n",
      "Speed: 1.7ms preprocess, 7.1ms inference, 1.3ms postprocess per image at shape (1, 3, 480, 640)\n",
      "[2025/04/23 16:56:19] ppocr DEBUG: dt_boxes num : 2, elapsed : 0.007009029388427734\n",
      "[2025/04/23 16:56:19] ppocr DEBUG: cls num  : 2, elapsed : 0.00803995132446289\n",
      "[2025/04/23 16:56:19] ppocr DEBUG: rec_res num  : 2, elapsed : 0.054625511169433594\n",
      "[2025/04/23 16:56:19] ppocr DEBUG: dt_boxes num : 0, elapsed : 0.046126604080200195\n",
      "[2025/04/23 16:56:19] ppocr DEBUG: cls num  : 0, elapsed : 0\n",
      "[2025/04/23 16:56:19] ppocr DEBUG: rec_res num  : 0, elapsed : 0.0\n",
      "\n",
      "0: 480x640 2 plates, 7.2ms\n",
      "Speed: 1.0ms preprocess, 7.2ms inference, 1.3ms postprocess per image at shape (1, 3, 480, 640)\n",
      "[2025/04/23 16:56:19] ppocr DEBUG: dt_boxes num : 2, elapsed : 0.010965585708618164\n",
      "[2025/04/23 16:56:19] ppocr DEBUG: cls num  : 2, elapsed : 0.005514621734619141\n",
      "[2025/04/23 16:56:19] ppocr DEBUG: rec_res num  : 2, elapsed : 0.05722522735595703\n",
      "[2025/04/23 16:56:19] ppocr DEBUG: dt_boxes num : 0, elapsed : 0.010015726089477539\n",
      "[2025/04/23 16:56:19] ppocr DEBUG: cls num  : 0, elapsed : 0\n",
      "[2025/04/23 16:56:19] ppocr DEBUG: rec_res num  : 0, elapsed : 0.0\n",
      "\n",
      "0: 480x640 2 plates, 6.4ms\n",
      "Speed: 1.1ms preprocess, 6.4ms inference, 0.9ms postprocess per image at shape (1, 3, 480, 640)\n",
      "[2025/04/23 16:56:19] ppocr DEBUG: dt_boxes num : 2, elapsed : 0.008041143417358398\n",
      "[2025/04/23 16:56:19] ppocr DEBUG: cls num  : 2, elapsed : 0.003998994827270508\n",
      "[2025/04/23 16:56:19] ppocr DEBUG: rec_res num  : 2, elapsed : 0.05811500549316406\n",
      "[2025/04/23 16:56:19] ppocr DEBUG: dt_boxes num : 0, elapsed : 0.011522054672241211\n",
      "[2025/04/23 16:56:19] ppocr DEBUG: cls num  : 0, elapsed : 0\n",
      "[2025/04/23 16:56:19] ppocr DEBUG: rec_res num  : 0, elapsed : 0.0\n",
      "\n",
      "0: 480x640 2 plates, 7.7ms\n",
      "Speed: 1.4ms preprocess, 7.7ms inference, 2.3ms postprocess per image at shape (1, 3, 480, 640)\n",
      "[2025/04/23 16:56:19] ppocr DEBUG: dt_boxes num : 2, elapsed : 0.01002192497253418\n",
      "[2025/04/23 16:56:19] ppocr DEBUG: cls num  : 2, elapsed : 0.006505012512207031\n",
      "[2025/04/23 16:56:19] ppocr DEBUG: rec_res num  : 2, elapsed : 0.05360674858093262\n",
      "[2025/04/23 16:56:19] ppocr DEBUG: dt_boxes num : 0, elapsed : 0.01201939582824707\n",
      "[2025/04/23 16:56:19] ppocr DEBUG: cls num  : 0, elapsed : 0\n",
      "[2025/04/23 16:56:19] ppocr DEBUG: rec_res num  : 0, elapsed : 0.0\n",
      "\n",
      "0: 480x640 2 plates, 6.4ms\n",
      "Speed: 1.2ms preprocess, 6.4ms inference, 1.0ms postprocess per image at shape (1, 3, 480, 640)\n",
      "[2025/04/23 16:56:19] ppocr DEBUG: dt_boxes num : 2, elapsed : 0.007004737854003906\n",
      "[2025/04/23 16:56:19] ppocr DEBUG: cls num  : 2, elapsed : 0.007748842239379883\n",
      "[2025/04/23 16:56:19] ppocr DEBUG: rec_res num  : 2, elapsed : 0.05634045600891113\n",
      "[2025/04/23 16:56:19] ppocr DEBUG: dt_boxes num : 0, elapsed : 0.01066446304321289\n",
      "[2025/04/23 16:56:19] ppocr DEBUG: cls num  : 0, elapsed : 0\n",
      "[2025/04/23 16:56:19] ppocr DEBUG: rec_res num  : 0, elapsed : 0.0\n",
      "\n",
      "0: 480x640 2 plates, 6.3ms\n",
      "Speed: 1.0ms preprocess, 6.3ms inference, 1.3ms postprocess per image at shape (1, 3, 480, 640)\n",
      "[2025/04/23 16:56:19] ppocr DEBUG: dt_boxes num : 2, elapsed : 0.0070188045501708984\n",
      "[2025/04/23 16:56:19] ppocr DEBUG: cls num  : 2, elapsed : 0.004504203796386719\n",
      "[2025/04/23 16:56:19] ppocr DEBUG: rec_res num  : 2, elapsed : 0.06025266647338867\n",
      "[2025/04/23 16:56:19] ppocr DEBUG: dt_boxes num : 0, elapsed : 0.009011983871459961\n",
      "[2025/04/23 16:56:19] ppocr DEBUG: cls num  : 0, elapsed : 0\n",
      "[2025/04/23 16:56:19] ppocr DEBUG: rec_res num  : 0, elapsed : 0.0\n",
      "\n",
      "0: 480x640 2 plates, 7.0ms\n",
      "Speed: 0.8ms preprocess, 7.0ms inference, 1.9ms postprocess per image at shape (1, 3, 480, 640)\n",
      "[2025/04/23 16:56:19] ppocr DEBUG: dt_boxes num : 2, elapsed : 0.008514404296875\n",
      "[2025/04/23 16:56:19] ppocr DEBUG: cls num  : 2, elapsed : 0.007509946823120117\n",
      "[2025/04/23 16:56:19] ppocr DEBUG: rec_res num  : 2, elapsed : 0.05397748947143555\n",
      "[2025/04/23 16:56:19] ppocr DEBUG: dt_boxes num : 0, elapsed : 0.013020992279052734\n",
      "[2025/04/23 16:56:19] ppocr DEBUG: cls num  : 0, elapsed : 0\n",
      "[2025/04/23 16:56:19] ppocr DEBUG: rec_res num  : 0, elapsed : 0.0\n",
      "\n",
      "0: 480x640 2 plates, 6.0ms\n",
      "Speed: 1.3ms preprocess, 6.0ms inference, 0.9ms postprocess per image at shape (1, 3, 480, 640)\n",
      "[2025/04/23 16:56:19] ppocr DEBUG: dt_boxes num : 2, elapsed : 0.008505821228027344\n",
      "[2025/04/23 16:56:19] ppocr DEBUG: cls num  : 2, elapsed : 0.006008625030517578\n",
      "[2025/04/23 16:56:19] ppocr DEBUG: rec_res num  : 2, elapsed : 0.06030440330505371\n",
      "[2025/04/23 16:56:19] ppocr DEBUG: dt_boxes num : 0, elapsed : 0.010519027709960938\n",
      "[2025/04/23 16:56:19] ppocr DEBUG: cls num  : 0, elapsed : 0\n",
      "[2025/04/23 16:56:19] ppocr DEBUG: rec_res num  : 0, elapsed : 0.0\n",
      "\n",
      "0: 480x640 2 plates, 6.5ms\n",
      "Speed: 0.8ms preprocess, 6.5ms inference, 1.6ms postprocess per image at shape (1, 3, 480, 640)\n",
      "[2025/04/23 16:56:20] ppocr DEBUG: dt_boxes num : 2, elapsed : 0.008300304412841797\n",
      "[2025/04/23 16:56:20] ppocr DEBUG: cls num  : 2, elapsed : 0.006508827209472656\n",
      "[2025/04/23 16:56:20] ppocr DEBUG: rec_res num  : 2, elapsed : 0.059621334075927734\n",
      "[2025/04/23 16:56:20] ppocr DEBUG: dt_boxes num : 0, elapsed : 0.013341188430786133\n",
      "[2025/04/23 16:56:20] ppocr DEBUG: cls num  : 0, elapsed : 0\n",
      "[2025/04/23 16:56:20] ppocr DEBUG: rec_res num  : 0, elapsed : 0.0\n",
      "\n",
      "0: 480x640 2 plates, 6.8ms\n",
      "Speed: 1.0ms preprocess, 6.8ms inference, 1.0ms postprocess per image at shape (1, 3, 480, 640)\n",
      "[2025/04/23 16:56:20] ppocr DEBUG: dt_boxes num : 2, elapsed : 0.006567478179931641\n",
      "[2025/04/23 16:56:20] ppocr DEBUG: cls num  : 2, elapsed : 0.0055084228515625\n",
      "[2025/04/23 16:56:20] ppocr DEBUG: rec_res num  : 2, elapsed : 0.05311274528503418\n",
      "[2025/04/23 16:56:20] ppocr DEBUG: dt_boxes num : 0, elapsed : 0.012047767639160156\n",
      "[2025/04/23 16:56:20] ppocr DEBUG: cls num  : 0, elapsed : 0\n",
      "[2025/04/23 16:56:20] ppocr DEBUG: rec_res num  : 0, elapsed : 0.0\n",
      "\n",
      "0: 480x640 2 plates, 7.0ms\n",
      "Speed: 0.9ms preprocess, 7.0ms inference, 1.6ms postprocess per image at shape (1, 3, 480, 640)\n",
      "[2025/04/23 16:56:20] ppocr DEBUG: dt_boxes num : 2, elapsed : 0.009019613265991211\n",
      "[2025/04/23 16:56:20] ppocr DEBUG: cls num  : 2, elapsed : 0.0062901973724365234\n",
      "[2025/04/23 16:56:20] ppocr DEBUG: rec_res num  : 2, elapsed : 0.05633854866027832\n",
      "[2025/04/23 16:56:20] ppocr DEBUG: dt_boxes num : 0, elapsed : 0.008512735366821289\n",
      "[2025/04/23 16:56:20] ppocr DEBUG: cls num  : 0, elapsed : 0\n",
      "[2025/04/23 16:56:20] ppocr DEBUG: rec_res num  : 0, elapsed : 0.0\n",
      "\n",
      "0: 480x640 2 plates, 6.2ms\n",
      "Speed: 0.9ms preprocess, 6.2ms inference, 1.7ms postprocess per image at shape (1, 3, 480, 640)\n",
      "[2025/04/23 16:56:20] ppocr DEBUG: dt_boxes num : 2, elapsed : 0.010020256042480469\n",
      "[2025/04/23 16:56:20] ppocr DEBUG: cls num  : 2, elapsed : 0.007011890411376953\n",
      "[2025/04/23 16:56:20] ppocr DEBUG: rec_res num  : 2, elapsed : 0.059021711349487305\n",
      "[2025/04/23 16:56:20] ppocr DEBUG: dt_boxes num : 0, elapsed : 0.013495206832885742\n",
      "[2025/04/23 16:56:20] ppocr DEBUG: cls num  : 0, elapsed : 0\n",
      "[2025/04/23 16:56:20] ppocr DEBUG: rec_res num  : 0, elapsed : 0.0\n",
      "\n",
      "0: 480x640 2 plates, 6.3ms\n",
      "Speed: 1.0ms preprocess, 6.3ms inference, 1.2ms postprocess per image at shape (1, 3, 480, 640)\n",
      "[2025/04/23 16:56:20] ppocr DEBUG: dt_boxes num : 2, elapsed : 0.0065081119537353516\n",
      "[2025/04/23 16:56:20] ppocr DEBUG: cls num  : 2, elapsed : 0.009055852890014648\n",
      "[2025/04/23 16:56:20] ppocr DEBUG: rec_res num  : 2, elapsed : 0.05327630043029785\n",
      "[2025/04/23 16:56:20] ppocr DEBUG: dt_boxes num : 0, elapsed : 0.011016368865966797\n",
      "[2025/04/23 16:56:20] ppocr DEBUG: cls num  : 0, elapsed : 0\n",
      "[2025/04/23 16:56:20] ppocr DEBUG: rec_res num  : 0, elapsed : 0.0\n",
      "\n",
      "0: 480x640 2 plates, 7.4ms\n",
      "Speed: 1.0ms preprocess, 7.4ms inference, 1.0ms postprocess per image at shape (1, 3, 480, 640)\n",
      "[2025/04/23 16:56:20] ppocr DEBUG: dt_boxes num : 2, elapsed : 0.01002192497253418\n",
      "[2025/04/23 16:56:20] ppocr DEBUG: cls num  : 2, elapsed : 0.0055065155029296875\n",
      "[2025/04/23 16:56:20] ppocr DEBUG: rec_res num  : 2, elapsed : 0.05263042449951172\n",
      "[2025/04/23 16:56:20] ppocr DEBUG: dt_boxes num : 0, elapsed : 0.011016368865966797\n",
      "[2025/04/23 16:56:20] ppocr DEBUG: cls num  : 0, elapsed : 0\n",
      "[2025/04/23 16:56:20] ppocr DEBUG: rec_res num  : 0, elapsed : 0.0\n",
      "\n",
      "0: 480x640 2 plates, 7.4ms\n",
      "Speed: 1.0ms preprocess, 7.4ms inference, 1.7ms postprocess per image at shape (1, 3, 480, 640)\n",
      "[2025/04/23 16:56:20] ppocr DEBUG: dt_boxes num : 2, elapsed : 0.007505655288696289\n",
      "[2025/04/23 16:56:20] ppocr DEBUG: cls num  : 2, elapsed : 0.006509304046630859\n",
      "[2025/04/23 16:56:20] ppocr DEBUG: rec_res num  : 2, elapsed : 0.054155588150024414\n",
      "[2025/04/23 16:56:20] ppocr DEBUG: dt_boxes num : 0, elapsed : 0.009018421173095703\n",
      "[2025/04/23 16:56:20] ppocr DEBUG: cls num  : 0, elapsed : 0\n",
      "[2025/04/23 16:56:20] ppocr DEBUG: rec_res num  : 0, elapsed : 0.0\n",
      "\n",
      "0: 480x640 2 plates, 7.0ms\n",
      "Speed: 1.2ms preprocess, 7.0ms inference, 1.1ms postprocess per image at shape (1, 3, 480, 640)\n",
      "[2025/04/23 16:56:20] ppocr DEBUG: dt_boxes num : 2, elapsed : 0.009580612182617188\n",
      "[2025/04/23 16:56:20] ppocr DEBUG: cls num  : 2, elapsed : 0.0050051212310791016\n",
      "[2025/04/23 16:56:20] ppocr DEBUG: rec_res num  : 2, elapsed : 0.05570197105407715\n",
      "[2025/04/23 16:56:20] ppocr DEBUG: dt_boxes num : 0, elapsed : 0.015017271041870117\n",
      "[2025/04/23 16:56:20] ppocr DEBUG: cls num  : 0, elapsed : 0\n",
      "[2025/04/23 16:56:20] ppocr DEBUG: rec_res num  : 0, elapsed : 0.0\n",
      "\n",
      "0: 480x640 2 plates, 8.0ms\n",
      "Speed: 1.3ms preprocess, 8.0ms inference, 1.3ms postprocess per image at shape (1, 3, 480, 640)\n",
      "[2025/04/23 16:56:20] ppocr DEBUG: dt_boxes num : 2, elapsed : 0.009999275207519531\n",
      "[2025/04/23 16:56:20] ppocr DEBUG: cls num  : 2, elapsed : 0.00522303581237793\n",
      "[2025/04/23 16:56:21] ppocr DEBUG: rec_res num  : 2, elapsed : 0.04892754554748535\n",
      "[2025/04/23 16:56:21] ppocr DEBUG: dt_boxes num : 0, elapsed : 0.011850595474243164\n",
      "[2025/04/23 16:56:21] ppocr DEBUG: cls num  : 0, elapsed : 0\n",
      "[2025/04/23 16:56:21] ppocr DEBUG: rec_res num  : 0, elapsed : 0.0\n",
      "\n",
      "0: 480x640 2 plates, 6.8ms\n",
      "Speed: 0.8ms preprocess, 6.8ms inference, 1.2ms postprocess per image at shape (1, 3, 480, 640)\n",
      "[2025/04/23 16:56:21] ppocr DEBUG: dt_boxes num : 2, elapsed : 0.009014129638671875\n",
      "[2025/04/23 16:56:21] ppocr DEBUG: cls num  : 2, elapsed : 0.004509449005126953\n",
      "[2025/04/23 16:56:21] ppocr DEBUG: rec_res num  : 2, elapsed : 0.060150146484375\n",
      "[2025/04/23 16:56:21] ppocr DEBUG: dt_boxes num : 0, elapsed : 0.009765625\n",
      "[2025/04/23 16:56:21] ppocr DEBUG: cls num  : 0, elapsed : 0\n",
      "[2025/04/23 16:56:21] ppocr DEBUG: rec_res num  : 0, elapsed : 0.0\n",
      "\n",
      "0: 480x640 2 plates, 6.0ms\n",
      "Speed: 0.9ms preprocess, 6.0ms inference, 1.1ms postprocess per image at shape (1, 3, 480, 640)\n",
      "[2025/04/23 16:56:21] ppocr DEBUG: dt_boxes num : 2, elapsed : 0.006726264953613281\n",
      "[2025/04/23 16:56:21] ppocr DEBUG: cls num  : 2, elapsed : 0.0071485042572021484\n",
      "[2025/04/23 16:56:21] ppocr DEBUG: rec_res num  : 2, elapsed : 0.0547795295715332\n",
      "[2025/04/23 16:56:21] ppocr DEBUG: dt_boxes num : 0, elapsed : 0.01158761978149414\n",
      "[2025/04/23 16:56:21] ppocr DEBUG: cls num  : 0, elapsed : 0\n",
      "[2025/04/23 16:56:21] ppocr DEBUG: rec_res num  : 0, elapsed : 0.0\n",
      "\n",
      "0: 480x640 2 plates, 7.8ms\n",
      "Speed: 0.9ms preprocess, 7.8ms inference, 1.1ms postprocess per image at shape (1, 3, 480, 640)\n",
      "[2025/04/23 16:56:21] ppocr DEBUG: dt_boxes num : 2, elapsed : 0.010531902313232422\n",
      "[2025/04/23 16:56:21] ppocr DEBUG: cls num  : 2, elapsed : 0.005506753921508789\n",
      "[2025/04/23 16:56:21] ppocr DEBUG: rec_res num  : 2, elapsed : 0.05327558517456055\n",
      "[2025/04/23 16:56:21] ppocr DEBUG: dt_boxes num : 0, elapsed : 0.009002685546875\n",
      "[2025/04/23 16:56:21] ppocr DEBUG: cls num  : 0, elapsed : 0\n",
      "[2025/04/23 16:56:21] ppocr DEBUG: rec_res num  : 0, elapsed : 0.0\n",
      "\n",
      "0: 480x640 2 plates, 7.9ms\n",
      "Speed: 1.0ms preprocess, 7.9ms inference, 1.0ms postprocess per image at shape (1, 3, 480, 640)\n",
      "[2025/04/23 16:56:21] ppocr DEBUG: dt_boxes num : 2, elapsed : 0.007506608963012695\n",
      "[2025/04/23 16:56:21] ppocr DEBUG: cls num  : 2, elapsed : 0.004509925842285156\n",
      "[2025/04/23 16:56:21] ppocr DEBUG: rec_res num  : 2, elapsed : 0.06614041328430176\n",
      "[2025/04/23 16:56:21] ppocr DEBUG: dt_boxes num : 0, elapsed : 0.012182235717773438\n",
      "[2025/04/23 16:56:21] ppocr DEBUG: cls num  : 0, elapsed : 0\n",
      "[2025/04/23 16:56:21] ppocr DEBUG: rec_res num  : 0, elapsed : 0.0\n",
      "\n",
      "0: 480x640 2 plates, 7.3ms\n",
      "Speed: 0.9ms preprocess, 7.3ms inference, 1.6ms postprocess per image at shape (1, 3, 480, 640)\n",
      "[2025/04/23 16:56:21] ppocr DEBUG: dt_boxes num : 2, elapsed : 0.008513450622558594\n",
      "[2025/04/23 16:56:21] ppocr DEBUG: cls num  : 2, elapsed : 0.008519649505615234\n",
      "[2025/04/23 16:56:21] ppocr DEBUG: rec_res num  : 2, elapsed : 0.05914902687072754\n",
      "[2025/04/23 16:56:21] ppocr DEBUG: dt_boxes num : 0, elapsed : 0.009022235870361328\n",
      "[2025/04/23 16:56:21] ppocr DEBUG: cls num  : 0, elapsed : 0\n",
      "[2025/04/23 16:56:21] ppocr DEBUG: rec_res num  : 0, elapsed : 0.0\n",
      "\n",
      "0: 480x640 2 plates, 6.6ms\n",
      "Speed: 0.9ms preprocess, 6.6ms inference, 1.0ms postprocess per image at shape (1, 3, 480, 640)\n",
      "[2025/04/23 16:56:21] ppocr DEBUG: dt_boxes num : 2, elapsed : 0.006511211395263672\n",
      "[2025/04/23 16:56:21] ppocr DEBUG: cls num  : 2, elapsed : 0.00701904296875\n",
      "[2025/04/23 16:56:21] ppocr DEBUG: rec_res num  : 2, elapsed : 0.05010056495666504\n",
      "[2025/04/23 16:56:21] ppocr DEBUG: dt_boxes num : 0, elapsed : 0.009140729904174805\n",
      "[2025/04/23 16:56:21] ppocr DEBUG: cls num  : 0, elapsed : 0\n",
      "[2025/04/23 16:56:21] ppocr DEBUG: rec_res num  : 0, elapsed : 0.0\n",
      "\n",
      "0: 480x640 3 plates, 5.9ms\n",
      "Speed: 0.9ms preprocess, 5.9ms inference, 0.9ms postprocess per image at shape (1, 3, 480, 640)\n",
      "[2025/04/23 16:56:21] ppocr DEBUG: dt_boxes num : 2, elapsed : 0.010019063949584961\n",
      "[2025/04/23 16:56:21] ppocr DEBUG: cls num  : 2, elapsed : 0.005056858062744141\n",
      "[2025/04/23 16:56:21] ppocr DEBUG: rec_res num  : 2, elapsed : 0.05384182929992676\n",
      "[2025/04/23 16:56:21] ppocr DEBUG: dt_boxes num : 0, elapsed : 0.009020566940307617\n",
      "[2025/04/23 16:56:21] ppocr DEBUG: cls num  : 0, elapsed : 0\n",
      "[2025/04/23 16:56:21] ppocr DEBUG: rec_res num  : 0, elapsed : 0.0\n",
      "[2025/04/23 16:56:21] ppocr DEBUG: dt_boxes num : 5, elapsed : 0.06252121925354004\n",
      "[2025/04/23 16:56:21] ppocr DEBUG: cls num  : 5, elapsed : 0.03090214729309082\n",
      "[2025/04/23 16:56:22] ppocr DEBUG: rec_res num  : 5, elapsed : 0.17911767959594727\n",
      "\n",
      "0: 480x640 2 plates, 6.6ms\n",
      "Speed: 1.5ms preprocess, 6.6ms inference, 1.0ms postprocess per image at shape (1, 3, 480, 640)\n",
      "[2025/04/23 16:56:22] ppocr DEBUG: dt_boxes num : 2, elapsed : 0.008006572723388672\n",
      "[2025/04/23 16:56:22] ppocr DEBUG: cls num  : 2, elapsed : 0.005000114440917969\n",
      "[2025/04/23 16:56:22] ppocr DEBUG: rec_res num  : 2, elapsed : 0.08568167686462402\n",
      "[2025/04/23 16:56:22] ppocr DEBUG: dt_boxes num : 0, elapsed : 0.03906655311584473\n",
      "[2025/04/23 16:56:22] ppocr DEBUG: cls num  : 0, elapsed : 0\n",
      "[2025/04/23 16:56:22] ppocr DEBUG: rec_res num  : 0, elapsed : 0.0\n",
      "\n",
      "0: 480x640 3 plates, 6.9ms\n",
      "Speed: 1.1ms preprocess, 6.9ms inference, 1.0ms postprocess per image at shape (1, 3, 480, 640)\n",
      "[2025/04/23 16:56:22] ppocr DEBUG: dt_boxes num : 2, elapsed : 0.007020711898803711\n",
      "[2025/04/23 16:56:22] ppocr DEBUG: cls num  : 2, elapsed : 0.004503965377807617\n",
      "[2025/04/23 16:56:22] ppocr DEBUG: rec_res num  : 2, elapsed : 0.05261492729187012\n",
      "[2025/04/23 16:56:22] ppocr DEBUG: dt_boxes num : 0, elapsed : 0.012310266494750977\n",
      "[2025/04/23 16:56:22] ppocr DEBUG: cls num  : 0, elapsed : 0\n",
      "[2025/04/23 16:56:22] ppocr DEBUG: rec_res num  : 0, elapsed : 0.0\n",
      "[2025/04/23 16:56:22] ppocr DEBUG: dt_boxes num : 7, elapsed : 0.06496858596801758\n",
      "[2025/04/23 16:56:22] ppocr DEBUG: cls num  : 7, elapsed : 0.05973458290100098\n",
      "[2025/04/23 16:56:22] ppocr DEBUG: rec_res num  : 7, elapsed : 0.26499199867248535\n"
     ]
    }
   ],
   "source": [
    "cap = cv2.VideoCapture(0)\n",
    "\n",
    "while True:\n",
    "    ret, frame = cap.read()\n",
    "    if not ret:\n",
    "        break\n",
    "\n",
    "    results = model(frame)\n",
    "\n",
    "    for r in results:\n",
    "        for box in r.boxes:\n",
    "            x1, y1, x2, y2 = map(int, box.xyxy[0])\n",
    "            plate_img = frame[y1:y2, x1:x2]\n",
    "\n",
    "            ocr_result = ocr.ocr(plate_img, cls=True)\n",
    "            raw_text = \"\"\n",
    "\n",
    "            if isinstance(ocr_result, list) and len(ocr_result) > 0:\n",
    "                first_result = ocr_result[0]\n",
    "                if isinstance(first_result, list) and len(first_result) > 0:\n",
    "                    raw_text = first_result[0][1][0].strip()\n",
    "\n",
    "            cv2.rectangle(frame, (x1, y1), (x2, y2), (0, 255, 0), 2)\n",
    "\n",
    "            if raw_text:\n",
    "                cv2.putText(frame, raw_text, (x1, y1 - 10),\n",
    "                            cv2.FONT_HERSHEY_SIMPLEX, 0.7, (0, 255, 255), 2)\n",
    "\n",
    "                normalized = normalize_plate(raw_text)\n",
    "                if normalized:\n",
    "                    plate_history.append(normalized)\n",
    "\n",
    "    if plate_history:\n",
    "        most_common_raw, count = Counter(plate_history).most_common(1)[0]\n",
    "        if count >= 5:\n",
    "            final_plate = most_common_raw\n",
    "\n",
    "    if final_plate:\n",
    "        cv2.putText(frame, f\"Detected: {final_plate}\",\n",
    "                    (10, frame.shape[0] - 10),\n",
    "                    cv2.FONT_HERSHEY_SIMPLEX, 0.8, (0, 255, 0), 2)\n",
    "\n",
    "    cv2.imshow(\"YOLOv8 + PaddleOCR + Voting\", frame)\n",
    "\n",
    "    if cv2.waitKey(1) & 0xFF == ord('q'):\n",
    "        break\n",
    "\n",
    "cap.release()\n",
    "cv2.destroyAllWindows()"
   ]
  },
  {
   "cell_type": "code",
   "execution_count": null,
   "id": "1c87af15",
   "metadata": {},
   "outputs": [],
   "source": []
  }
 ],
 "metadata": {
  "kernelspec": {
   "display_name": "anpr",
   "language": "python",
   "name": "python3"
  },
  "language_info": {
   "codemirror_mode": {
    "name": "ipython",
    "version": 3
   },
   "file_extension": ".py",
   "mimetype": "text/x-python",
   "name": "python",
   "nbconvert_exporter": "python",
   "pygments_lexer": "ipython3",
   "version": "3.9.21"
  }
 },
 "nbformat": 4,
 "nbformat_minor": 5
}
